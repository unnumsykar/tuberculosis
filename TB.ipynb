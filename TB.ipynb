{
  "nbformat": 4,
  "nbformat_minor": 0,
  "metadata": {
    "colab": {
      "provenance": []
    },
    "kernelspec": {
      "name": "python3",
      "display_name": "Python 3"
    },
    "language_info": {
      "name": "python"
    },
    "accelerator": "GPU"
  },
  "cells": [
    {
      "cell_type": "code",
      "execution_count": 1,
      "metadata": {
        "colab": {
          "base_uri": "https://localhost:8080/"
        },
        "id": "MqdpJTUjwHWG",
        "outputId": "9ade4593-f5ec-4a3c-b520-c765bb353341"
      },
      "outputs": [
        {
          "output_type": "stream",
          "name": "stdout",
          "text": [
            "Looking in indexes: https://pypi.org/simple, https://us-python.pkg.dev/colab-wheels/public/simple/\n",
            "Requirement already satisfied: kaggle in /usr/local/lib/python3.7/dist-packages (1.5.12)\n",
            "Requirement already satisfied: requests in /usr/local/lib/python3.7/dist-packages (from kaggle) (2.23.0)\n",
            "Requirement already satisfied: python-dateutil in /usr/local/lib/python3.7/dist-packages (from kaggle) (2.8.2)\n",
            "Requirement already satisfied: certifi in /usr/local/lib/python3.7/dist-packages (from kaggle) (2022.6.15)\n",
            "Requirement already satisfied: tqdm in /usr/local/lib/python3.7/dist-packages (from kaggle) (4.64.1)\n",
            "Requirement already satisfied: six>=1.10 in /usr/local/lib/python3.7/dist-packages (from kaggle) (1.15.0)\n",
            "Requirement already satisfied: python-slugify in /usr/local/lib/python3.7/dist-packages (from kaggle) (6.1.2)\n",
            "Requirement already satisfied: urllib3 in /usr/local/lib/python3.7/dist-packages (from kaggle) (1.24.3)\n",
            "Requirement already satisfied: text-unidecode>=1.3 in /usr/local/lib/python3.7/dist-packages (from python-slugify->kaggle) (1.3)\n",
            "Requirement already satisfied: chardet<4,>=3.0.2 in /usr/local/lib/python3.7/dist-packages (from requests->kaggle) (3.0.4)\n",
            "Requirement already satisfied: idna<3,>=2.5 in /usr/local/lib/python3.7/dist-packages (from requests->kaggle) (2.10)\n"
          ]
        }
      ],
      "source": [
        "! pip install kaggle"
      ]
    },
    {
      "cell_type": "code",
      "source": [
        "\n",
        "! mkdir ~/.kaggle\n"
      ],
      "metadata": {
        "id": "I7RQmX6dxASc"
      },
      "execution_count": 2,
      "outputs": []
    },
    {
      "cell_type": "code",
      "source": [
        "! cp kaggle.json ~/.kaggle/"
      ],
      "metadata": {
        "id": "xU6RA-fKxKgu"
      },
      "execution_count": 3,
      "outputs": []
    },
    {
      "cell_type": "code",
      "source": [
        "! chmod 600 ~/.kaggle/kaggle.json"
      ],
      "metadata": {
        "id": "DMyV19g3xNZL"
      },
      "execution_count": 4,
      "outputs": []
    },
    {
      "cell_type": "code",
      "source": [
        "! kaggle datasets download kmader/pulmonary-chest-xray-abnormalities"
      ],
      "metadata": {
        "colab": {
          "base_uri": "https://localhost:8080/"
        },
        "id": "CT9WXI2rxPgB",
        "outputId": "fb2d592e-4c3e-429d-80fe-e54a49d4f4df"
      },
      "execution_count": 6,
      "outputs": [
        {
          "output_type": "stream",
          "name": "stdout",
          "text": [
            "Downloading pulmonary-chest-xray-abnormalities.zip to /content\n",
            " 99% 4.06G/4.09G [01:37<00:00, 49.3MB/s]\n",
            "100% 4.09G/4.09G [01:37<00:00, 45.1MB/s]\n"
          ]
        }
      ]
    },
    {
      "cell_type": "code",
      "source": [
        "! unzip pulmonary-chest-xray-abnormalities"
      ],
      "metadata": {
        "colab": {
          "base_uri": "https://localhost:8080/"
        },
        "id": "R15pJwcwxeHv",
        "outputId": "34c33650-8897-4c59-fc5c-28ac8d85d5f4"
      },
      "execution_count": 8,
      "outputs": [
        {
          "output_type": "stream",
          "name": "stdout",
          "text": [
            "Archive:  pulmonary-chest-xray-abnormalities.zip\n",
            "  inflating: ChinaSet_AllFiles/ChinaSet_AllFiles/CXR_png/CHNCXR_0001_0.png  \n",
            "  inflating: ChinaSet_AllFiles/ChinaSet_AllFiles/CXR_png/CHNCXR_0002_0.png  \n",
            "  inflating: ChinaSet_AllFiles/ChinaSet_AllFiles/CXR_png/CHNCXR_0003_0.png  \n",
            "  inflating: ChinaSet_AllFiles/ChinaSet_AllFiles/CXR_png/CHNCXR_0004_0.png  \n",
            "  inflating: ChinaSet_AllFiles/ChinaSet_AllFiles/CXR_png/CHNCXR_0005_0.png  \n",
            "  inflating: ChinaSet_AllFiles/ChinaSet_AllFiles/CXR_png/CHNCXR_0006_0.png  \n",
            "  inflating: ChinaSet_AllFiles/ChinaSet_AllFiles/CXR_png/CHNCXR_0007_0.png  \n",
            "  inflating: ChinaSet_AllFiles/ChinaSet_AllFiles/CXR_png/CHNCXR_0008_0.png  \n",
            "  inflating: ChinaSet_AllFiles/ChinaSet_AllFiles/CXR_png/CHNCXR_0009_0.png  \n",
            "  inflating: ChinaSet_AllFiles/ChinaSet_AllFiles/CXR_png/CHNCXR_0010_0.png  \n",
            "  inflating: ChinaSet_AllFiles/ChinaSet_AllFiles/CXR_png/CHNCXR_0011_0.png  \n",
            "  inflating: ChinaSet_AllFiles/ChinaSet_AllFiles/CXR_png/CHNCXR_0012_0.png  \n",
            "  inflating: ChinaSet_AllFiles/ChinaSet_AllFiles/CXR_png/CHNCXR_0013_0.png  \n",
            "  inflating: ChinaSet_AllFiles/ChinaSet_AllFiles/CXR_png/CHNCXR_0014_0.png  \n",
            "  inflating: ChinaSet_AllFiles/ChinaSet_AllFiles/CXR_png/CHNCXR_0015_0.png  \n",
            "  inflating: ChinaSet_AllFiles/ChinaSet_AllFiles/CXR_png/CHNCXR_0016_0.png  \n",
            "  inflating: ChinaSet_AllFiles/ChinaSet_AllFiles/CXR_png/CHNCXR_0017_0.png  \n",
            "  inflating: ChinaSet_AllFiles/ChinaSet_AllFiles/CXR_png/CHNCXR_0018_0.png  \n",
            "  inflating: ChinaSet_AllFiles/ChinaSet_AllFiles/CXR_png/CHNCXR_0019_0.png  \n",
            "  inflating: ChinaSet_AllFiles/ChinaSet_AllFiles/CXR_png/CHNCXR_0020_0.png  \n",
            "  inflating: ChinaSet_AllFiles/ChinaSet_AllFiles/CXR_png/CHNCXR_0021_0.png  \n",
            "  inflating: ChinaSet_AllFiles/ChinaSet_AllFiles/CXR_png/CHNCXR_0022_0.png  \n",
            "  inflating: ChinaSet_AllFiles/ChinaSet_AllFiles/CXR_png/CHNCXR_0023_0.png  \n",
            "  inflating: ChinaSet_AllFiles/ChinaSet_AllFiles/CXR_png/CHNCXR_0024_0.png  \n",
            "  inflating: ChinaSet_AllFiles/ChinaSet_AllFiles/CXR_png/CHNCXR_0025_0.png  \n",
            "  inflating: ChinaSet_AllFiles/ChinaSet_AllFiles/CXR_png/CHNCXR_0026_0.png  \n",
            "  inflating: ChinaSet_AllFiles/ChinaSet_AllFiles/CXR_png/CHNCXR_0027_0.png  \n",
            "  inflating: ChinaSet_AllFiles/ChinaSet_AllFiles/CXR_png/CHNCXR_0028_0.png  \n",
            "  inflating: ChinaSet_AllFiles/ChinaSet_AllFiles/CXR_png/CHNCXR_0029_0.png  \n",
            "  inflating: ChinaSet_AllFiles/ChinaSet_AllFiles/CXR_png/CHNCXR_0030_0.png  \n",
            "  inflating: ChinaSet_AllFiles/ChinaSet_AllFiles/CXR_png/CHNCXR_0031_0.png  \n",
            "  inflating: ChinaSet_AllFiles/ChinaSet_AllFiles/CXR_png/CHNCXR_0032_0.png  \n",
            "  inflating: ChinaSet_AllFiles/ChinaSet_AllFiles/CXR_png/CHNCXR_0033_0.png  \n",
            "  inflating: ChinaSet_AllFiles/ChinaSet_AllFiles/CXR_png/CHNCXR_0034_0.png  \n",
            "  inflating: ChinaSet_AllFiles/ChinaSet_AllFiles/CXR_png/CHNCXR_0035_0.png  \n",
            "  inflating: ChinaSet_AllFiles/ChinaSet_AllFiles/CXR_png/CHNCXR_0036_0.png  \n",
            "  inflating: ChinaSet_AllFiles/ChinaSet_AllFiles/CXR_png/CHNCXR_0037_0.png  \n",
            "  inflating: ChinaSet_AllFiles/ChinaSet_AllFiles/CXR_png/CHNCXR_0038_0.png  \n",
            "  inflating: ChinaSet_AllFiles/ChinaSet_AllFiles/CXR_png/CHNCXR_0039_0.png  \n",
            "  inflating: ChinaSet_AllFiles/ChinaSet_AllFiles/CXR_png/CHNCXR_0040_0.png  \n",
            "  inflating: ChinaSet_AllFiles/ChinaSet_AllFiles/CXR_png/CHNCXR_0041_0.png  \n",
            "  inflating: ChinaSet_AllFiles/ChinaSet_AllFiles/CXR_png/CHNCXR_0042_0.png  \n",
            "  inflating: ChinaSet_AllFiles/ChinaSet_AllFiles/CXR_png/CHNCXR_0043_0.png  \n",
            "  inflating: ChinaSet_AllFiles/ChinaSet_AllFiles/CXR_png/CHNCXR_0044_0.png  \n",
            "  inflating: ChinaSet_AllFiles/ChinaSet_AllFiles/CXR_png/CHNCXR_0045_0.png  \n",
            "  inflating: ChinaSet_AllFiles/ChinaSet_AllFiles/CXR_png/CHNCXR_0046_0.png  \n",
            "  inflating: ChinaSet_AllFiles/ChinaSet_AllFiles/CXR_png/CHNCXR_0047_0.png  \n",
            "  inflating: ChinaSet_AllFiles/ChinaSet_AllFiles/CXR_png/CHNCXR_0048_0.png  \n",
            "  inflating: ChinaSet_AllFiles/ChinaSet_AllFiles/CXR_png/CHNCXR_0049_0.png  \n",
            "  inflating: ChinaSet_AllFiles/ChinaSet_AllFiles/CXR_png/CHNCXR_0050_0.png  \n",
            "  inflating: ChinaSet_AllFiles/ChinaSet_AllFiles/CXR_png/CHNCXR_0051_0.png  \n",
            "  inflating: ChinaSet_AllFiles/ChinaSet_AllFiles/CXR_png/CHNCXR_0052_0.png  \n",
            "  inflating: ChinaSet_AllFiles/ChinaSet_AllFiles/CXR_png/CHNCXR_0053_0.png  \n",
            "  inflating: ChinaSet_AllFiles/ChinaSet_AllFiles/CXR_png/CHNCXR_0054_0.png  \n",
            "  inflating: ChinaSet_AllFiles/ChinaSet_AllFiles/CXR_png/CHNCXR_0055_0.png  \n",
            "  inflating: ChinaSet_AllFiles/ChinaSet_AllFiles/CXR_png/CHNCXR_0056_0.png  \n",
            "  inflating: ChinaSet_AllFiles/ChinaSet_AllFiles/CXR_png/CHNCXR_0057_0.png  \n",
            "  inflating: ChinaSet_AllFiles/ChinaSet_AllFiles/CXR_png/CHNCXR_0058_0.png  \n",
            "  inflating: ChinaSet_AllFiles/ChinaSet_AllFiles/CXR_png/CHNCXR_0059_0.png  \n",
            "  inflating: ChinaSet_AllFiles/ChinaSet_AllFiles/CXR_png/CHNCXR_0060_0.png  \n",
            "  inflating: ChinaSet_AllFiles/ChinaSet_AllFiles/CXR_png/CHNCXR_0061_0.png  \n",
            "  inflating: ChinaSet_AllFiles/ChinaSet_AllFiles/CXR_png/CHNCXR_0062_0.png  \n",
            "  inflating: ChinaSet_AllFiles/ChinaSet_AllFiles/CXR_png/CHNCXR_0063_0.png  \n",
            "  inflating: ChinaSet_AllFiles/ChinaSet_AllFiles/CXR_png/CHNCXR_0064_0.png  \n",
            "  inflating: ChinaSet_AllFiles/ChinaSet_AllFiles/CXR_png/CHNCXR_0065_0.png  \n",
            "  inflating: ChinaSet_AllFiles/ChinaSet_AllFiles/CXR_png/CHNCXR_0066_0.png  \n",
            "  inflating: ChinaSet_AllFiles/ChinaSet_AllFiles/CXR_png/CHNCXR_0067_0.png  \n",
            "  inflating: ChinaSet_AllFiles/ChinaSet_AllFiles/CXR_png/CHNCXR_0068_0.png  \n",
            "  inflating: ChinaSet_AllFiles/ChinaSet_AllFiles/CXR_png/CHNCXR_0069_0.png  \n",
            "  inflating: ChinaSet_AllFiles/ChinaSet_AllFiles/CXR_png/CHNCXR_0070_0.png  \n",
            "  inflating: ChinaSet_AllFiles/ChinaSet_AllFiles/CXR_png/CHNCXR_0071_0.png  \n",
            "  inflating: ChinaSet_AllFiles/ChinaSet_AllFiles/CXR_png/CHNCXR_0072_0.png  \n",
            "  inflating: ChinaSet_AllFiles/ChinaSet_AllFiles/CXR_png/CHNCXR_0073_0.png  \n",
            "  inflating: ChinaSet_AllFiles/ChinaSet_AllFiles/CXR_png/CHNCXR_0074_0.png  \n",
            "  inflating: ChinaSet_AllFiles/ChinaSet_AllFiles/CXR_png/CHNCXR_0075_0.png  \n",
            "  inflating: ChinaSet_AllFiles/ChinaSet_AllFiles/CXR_png/CHNCXR_0076_0.png  \n",
            "  inflating: ChinaSet_AllFiles/ChinaSet_AllFiles/CXR_png/CHNCXR_0077_0.png  \n",
            "  inflating: ChinaSet_AllFiles/ChinaSet_AllFiles/CXR_png/CHNCXR_0078_0.png  \n",
            "  inflating: ChinaSet_AllFiles/ChinaSet_AllFiles/CXR_png/CHNCXR_0079_0.png  \n",
            "  inflating: ChinaSet_AllFiles/ChinaSet_AllFiles/CXR_png/CHNCXR_0080_0.png  \n",
            "  inflating: ChinaSet_AllFiles/ChinaSet_AllFiles/CXR_png/CHNCXR_0081_0.png  \n",
            "  inflating: ChinaSet_AllFiles/ChinaSet_AllFiles/CXR_png/CHNCXR_0082_0.png  \n",
            "  inflating: ChinaSet_AllFiles/ChinaSet_AllFiles/CXR_png/CHNCXR_0083_0.png  \n",
            "  inflating: ChinaSet_AllFiles/ChinaSet_AllFiles/CXR_png/CHNCXR_0084_0.png  \n",
            "  inflating: ChinaSet_AllFiles/ChinaSet_AllFiles/CXR_png/CHNCXR_0085_0.png  \n",
            "  inflating: ChinaSet_AllFiles/ChinaSet_AllFiles/CXR_png/CHNCXR_0086_0.png  \n",
            "  inflating: ChinaSet_AllFiles/ChinaSet_AllFiles/CXR_png/CHNCXR_0087_0.png  \n",
            "  inflating: ChinaSet_AllFiles/ChinaSet_AllFiles/CXR_png/CHNCXR_0088_0.png  \n",
            "  inflating: ChinaSet_AllFiles/ChinaSet_AllFiles/CXR_png/CHNCXR_0089_0.png  \n",
            "  inflating: ChinaSet_AllFiles/ChinaSet_AllFiles/CXR_png/CHNCXR_0090_0.png  \n",
            "  inflating: ChinaSet_AllFiles/ChinaSet_AllFiles/CXR_png/CHNCXR_0091_0.png  \n",
            "  inflating: ChinaSet_AllFiles/ChinaSet_AllFiles/CXR_png/CHNCXR_0092_0.png  \n",
            "  inflating: ChinaSet_AllFiles/ChinaSet_AllFiles/CXR_png/CHNCXR_0093_0.png  \n",
            "  inflating: ChinaSet_AllFiles/ChinaSet_AllFiles/CXR_png/CHNCXR_0094_0.png  \n",
            "  inflating: ChinaSet_AllFiles/ChinaSet_AllFiles/CXR_png/CHNCXR_0095_0.png  \n",
            "  inflating: ChinaSet_AllFiles/ChinaSet_AllFiles/CXR_png/CHNCXR_0096_0.png  \n",
            "  inflating: ChinaSet_AllFiles/ChinaSet_AllFiles/CXR_png/CHNCXR_0097_0.png  \n",
            "  inflating: ChinaSet_AllFiles/ChinaSet_AllFiles/CXR_png/CHNCXR_0098_0.png  \n",
            "  inflating: ChinaSet_AllFiles/ChinaSet_AllFiles/CXR_png/CHNCXR_0099_0.png  \n",
            "  inflating: ChinaSet_AllFiles/ChinaSet_AllFiles/CXR_png/CHNCXR_0100_0.png  \n",
            "  inflating: ChinaSet_AllFiles/ChinaSet_AllFiles/CXR_png/CHNCXR_0101_0.png  \n",
            "  inflating: ChinaSet_AllFiles/ChinaSet_AllFiles/CXR_png/CHNCXR_0102_0.png  \n",
            "  inflating: ChinaSet_AllFiles/ChinaSet_AllFiles/CXR_png/CHNCXR_0103_0.png  \n",
            "  inflating: ChinaSet_AllFiles/ChinaSet_AllFiles/CXR_png/CHNCXR_0104_0.png  \n",
            "  inflating: ChinaSet_AllFiles/ChinaSet_AllFiles/CXR_png/CHNCXR_0105_0.png  \n",
            "  inflating: ChinaSet_AllFiles/ChinaSet_AllFiles/CXR_png/CHNCXR_0106_0.png  \n",
            "  inflating: ChinaSet_AllFiles/ChinaSet_AllFiles/CXR_png/CHNCXR_0107_0.png  \n",
            "  inflating: ChinaSet_AllFiles/ChinaSet_AllFiles/CXR_png/CHNCXR_0108_0.png  \n",
            "  inflating: ChinaSet_AllFiles/ChinaSet_AllFiles/CXR_png/CHNCXR_0109_0.png  \n",
            "  inflating: ChinaSet_AllFiles/ChinaSet_AllFiles/CXR_png/CHNCXR_0110_0.png  \n",
            "  inflating: ChinaSet_AllFiles/ChinaSet_AllFiles/CXR_png/CHNCXR_0111_0.png  \n",
            "  inflating: ChinaSet_AllFiles/ChinaSet_AllFiles/CXR_png/CHNCXR_0112_0.png  \n",
            "  inflating: ChinaSet_AllFiles/ChinaSet_AllFiles/CXR_png/CHNCXR_0113_0.png  \n",
            "  inflating: ChinaSet_AllFiles/ChinaSet_AllFiles/CXR_png/CHNCXR_0114_0.png  \n",
            "  inflating: ChinaSet_AllFiles/ChinaSet_AllFiles/CXR_png/CHNCXR_0115_0.png  \n",
            "  inflating: ChinaSet_AllFiles/ChinaSet_AllFiles/CXR_png/CHNCXR_0116_0.png  \n",
            "  inflating: ChinaSet_AllFiles/ChinaSet_AllFiles/CXR_png/CHNCXR_0117_0.png  \n",
            "  inflating: ChinaSet_AllFiles/ChinaSet_AllFiles/CXR_png/CHNCXR_0118_0.png  \n",
            "  inflating: ChinaSet_AllFiles/ChinaSet_AllFiles/CXR_png/CHNCXR_0119_0.png  \n",
            "  inflating: ChinaSet_AllFiles/ChinaSet_AllFiles/CXR_png/CHNCXR_0120_0.png  \n",
            "  inflating: ChinaSet_AllFiles/ChinaSet_AllFiles/CXR_png/CHNCXR_0121_0.png  \n",
            "  inflating: ChinaSet_AllFiles/ChinaSet_AllFiles/CXR_png/CHNCXR_0122_0.png  \n",
            "  inflating: ChinaSet_AllFiles/ChinaSet_AllFiles/CXR_png/CHNCXR_0123_0.png  \n",
            "  inflating: ChinaSet_AllFiles/ChinaSet_AllFiles/CXR_png/CHNCXR_0124_0.png  \n",
            "  inflating: ChinaSet_AllFiles/ChinaSet_AllFiles/CXR_png/CHNCXR_0125_0.png  \n",
            "  inflating: ChinaSet_AllFiles/ChinaSet_AllFiles/CXR_png/CHNCXR_0126_0.png  \n",
            "  inflating: ChinaSet_AllFiles/ChinaSet_AllFiles/CXR_png/CHNCXR_0127_0.png  \n",
            "  inflating: ChinaSet_AllFiles/ChinaSet_AllFiles/CXR_png/CHNCXR_0128_0.png  \n",
            "  inflating: ChinaSet_AllFiles/ChinaSet_AllFiles/CXR_png/CHNCXR_0129_0.png  \n",
            "  inflating: ChinaSet_AllFiles/ChinaSet_AllFiles/CXR_png/CHNCXR_0130_0.png  \n",
            "  inflating: ChinaSet_AllFiles/ChinaSet_AllFiles/CXR_png/CHNCXR_0131_0.png  \n",
            "  inflating: ChinaSet_AllFiles/ChinaSet_AllFiles/CXR_png/CHNCXR_0132_0.png  \n",
            "  inflating: ChinaSet_AllFiles/ChinaSet_AllFiles/CXR_png/CHNCXR_0133_0.png  \n",
            "  inflating: ChinaSet_AllFiles/ChinaSet_AllFiles/CXR_png/CHNCXR_0134_0.png  \n",
            "  inflating: ChinaSet_AllFiles/ChinaSet_AllFiles/CXR_png/CHNCXR_0135_0.png  \n",
            "  inflating: ChinaSet_AllFiles/ChinaSet_AllFiles/CXR_png/CHNCXR_0136_0.png  \n",
            "  inflating: ChinaSet_AllFiles/ChinaSet_AllFiles/CXR_png/CHNCXR_0137_0.png  \n",
            "  inflating: ChinaSet_AllFiles/ChinaSet_AllFiles/CXR_png/CHNCXR_0138_0.png  \n",
            "  inflating: ChinaSet_AllFiles/ChinaSet_AllFiles/CXR_png/CHNCXR_0139_0.png  \n",
            "  inflating: ChinaSet_AllFiles/ChinaSet_AllFiles/CXR_png/CHNCXR_0140_0.png  \n",
            "  inflating: ChinaSet_AllFiles/ChinaSet_AllFiles/CXR_png/CHNCXR_0141_0.png  \n",
            "  inflating: ChinaSet_AllFiles/ChinaSet_AllFiles/CXR_png/CHNCXR_0142_0.png  \n",
            "  inflating: ChinaSet_AllFiles/ChinaSet_AllFiles/CXR_png/CHNCXR_0143_0.png  \n",
            "  inflating: ChinaSet_AllFiles/ChinaSet_AllFiles/CXR_png/CHNCXR_0144_0.png  \n",
            "  inflating: ChinaSet_AllFiles/ChinaSet_AllFiles/CXR_png/CHNCXR_0145_0.png  \n",
            "  inflating: ChinaSet_AllFiles/ChinaSet_AllFiles/CXR_png/CHNCXR_0146_0.png  \n",
            "  inflating: ChinaSet_AllFiles/ChinaSet_AllFiles/CXR_png/CHNCXR_0147_0.png  \n",
            "  inflating: ChinaSet_AllFiles/ChinaSet_AllFiles/CXR_png/CHNCXR_0148_0.png  \n",
            "  inflating: ChinaSet_AllFiles/ChinaSet_AllFiles/CXR_png/CHNCXR_0149_0.png  \n",
            "  inflating: ChinaSet_AllFiles/ChinaSet_AllFiles/CXR_png/CHNCXR_0150_0.png  \n",
            "  inflating: ChinaSet_AllFiles/ChinaSet_AllFiles/CXR_png/CHNCXR_0151_0.png  \n",
            "  inflating: ChinaSet_AllFiles/ChinaSet_AllFiles/CXR_png/CHNCXR_0152_0.png  \n",
            "  inflating: ChinaSet_AllFiles/ChinaSet_AllFiles/CXR_png/CHNCXR_0153_0.png  \n",
            "  inflating: ChinaSet_AllFiles/ChinaSet_AllFiles/CXR_png/CHNCXR_0154_0.png  \n",
            "  inflating: ChinaSet_AllFiles/ChinaSet_AllFiles/CXR_png/CHNCXR_0155_0.png  \n",
            "  inflating: ChinaSet_AllFiles/ChinaSet_AllFiles/CXR_png/CHNCXR_0156_0.png  \n",
            "  inflating: ChinaSet_AllFiles/ChinaSet_AllFiles/CXR_png/CHNCXR_0157_0.png  \n",
            "  inflating: ChinaSet_AllFiles/ChinaSet_AllFiles/CXR_png/CHNCXR_0158_0.png  \n",
            "  inflating: ChinaSet_AllFiles/ChinaSet_AllFiles/CXR_png/CHNCXR_0159_0.png  \n",
            "  inflating: ChinaSet_AllFiles/ChinaSet_AllFiles/CXR_png/CHNCXR_0160_0.png  \n",
            "  inflating: ChinaSet_AllFiles/ChinaSet_AllFiles/CXR_png/CHNCXR_0161_0.png  \n",
            "  inflating: ChinaSet_AllFiles/ChinaSet_AllFiles/CXR_png/CHNCXR_0162_0.png  \n",
            "  inflating: ChinaSet_AllFiles/ChinaSet_AllFiles/CXR_png/CHNCXR_0163_0.png  \n",
            "  inflating: ChinaSet_AllFiles/ChinaSet_AllFiles/CXR_png/CHNCXR_0164_0.png  \n",
            "  inflating: ChinaSet_AllFiles/ChinaSet_AllFiles/CXR_png/CHNCXR_0165_0.png  \n",
            "  inflating: ChinaSet_AllFiles/ChinaSet_AllFiles/CXR_png/CHNCXR_0166_0.png  \n",
            "  inflating: ChinaSet_AllFiles/ChinaSet_AllFiles/CXR_png/CHNCXR_0167_0.png  \n",
            "  inflating: ChinaSet_AllFiles/ChinaSet_AllFiles/CXR_png/CHNCXR_0168_0.png  \n",
            "  inflating: ChinaSet_AllFiles/ChinaSet_AllFiles/CXR_png/CHNCXR_0169_0.png  \n",
            "  inflating: ChinaSet_AllFiles/ChinaSet_AllFiles/CXR_png/CHNCXR_0170_0.png  \n",
            "  inflating: ChinaSet_AllFiles/ChinaSet_AllFiles/CXR_png/CHNCXR_0171_0.png  \n",
            "  inflating: ChinaSet_AllFiles/ChinaSet_AllFiles/CXR_png/CHNCXR_0172_0.png  \n",
            "  inflating: ChinaSet_AllFiles/ChinaSet_AllFiles/CXR_png/CHNCXR_0173_0.png  \n",
            "  inflating: ChinaSet_AllFiles/ChinaSet_AllFiles/CXR_png/CHNCXR_0174_0.png  \n",
            "  inflating: ChinaSet_AllFiles/ChinaSet_AllFiles/CXR_png/CHNCXR_0175_0.png  \n",
            "  inflating: ChinaSet_AllFiles/ChinaSet_AllFiles/CXR_png/CHNCXR_0176_0.png  \n",
            "  inflating: ChinaSet_AllFiles/ChinaSet_AllFiles/CXR_png/CHNCXR_0177_0.png  \n",
            "  inflating: ChinaSet_AllFiles/ChinaSet_AllFiles/CXR_png/CHNCXR_0178_0.png  \n",
            "  inflating: ChinaSet_AllFiles/ChinaSet_AllFiles/CXR_png/CHNCXR_0179_0.png  \n",
            "  inflating: ChinaSet_AllFiles/ChinaSet_AllFiles/CXR_png/CHNCXR_0180_0.png  \n",
            "  inflating: ChinaSet_AllFiles/ChinaSet_AllFiles/CXR_png/CHNCXR_0181_0.png  \n",
            "  inflating: ChinaSet_AllFiles/ChinaSet_AllFiles/CXR_png/CHNCXR_0182_0.png  \n",
            "  inflating: ChinaSet_AllFiles/ChinaSet_AllFiles/CXR_png/CHNCXR_0183_0.png  \n",
            "  inflating: ChinaSet_AllFiles/ChinaSet_AllFiles/CXR_png/CHNCXR_0184_0.png  \n",
            "  inflating: ChinaSet_AllFiles/ChinaSet_AllFiles/CXR_png/CHNCXR_0185_0.png  \n",
            "  inflating: ChinaSet_AllFiles/ChinaSet_AllFiles/CXR_png/CHNCXR_0186_0.png  \n",
            "  inflating: ChinaSet_AllFiles/ChinaSet_AllFiles/CXR_png/CHNCXR_0187_0.png  \n",
            "  inflating: ChinaSet_AllFiles/ChinaSet_AllFiles/CXR_png/CHNCXR_0188_0.png  \n",
            "  inflating: ChinaSet_AllFiles/ChinaSet_AllFiles/CXR_png/CHNCXR_0189_0.png  \n",
            "  inflating: ChinaSet_AllFiles/ChinaSet_AllFiles/CXR_png/CHNCXR_0190_0.png  \n",
            "  inflating: ChinaSet_AllFiles/ChinaSet_AllFiles/CXR_png/CHNCXR_0191_0.png  \n",
            "  inflating: ChinaSet_AllFiles/ChinaSet_AllFiles/CXR_png/CHNCXR_0192_0.png  \n",
            "  inflating: ChinaSet_AllFiles/ChinaSet_AllFiles/CXR_png/CHNCXR_0193_0.png  \n",
            "  inflating: ChinaSet_AllFiles/ChinaSet_AllFiles/CXR_png/CHNCXR_0194_0.png  \n",
            "  inflating: ChinaSet_AllFiles/ChinaSet_AllFiles/CXR_png/CHNCXR_0195_0.png  \n",
            "  inflating: ChinaSet_AllFiles/ChinaSet_AllFiles/CXR_png/CHNCXR_0196_0.png  \n",
            "  inflating: ChinaSet_AllFiles/ChinaSet_AllFiles/CXR_png/CHNCXR_0197_0.png  \n",
            "  inflating: ChinaSet_AllFiles/ChinaSet_AllFiles/CXR_png/CHNCXR_0198_0.png  \n",
            "  inflating: ChinaSet_AllFiles/ChinaSet_AllFiles/CXR_png/CHNCXR_0199_0.png  \n",
            "  inflating: ChinaSet_AllFiles/ChinaSet_AllFiles/CXR_png/CHNCXR_0200_0.png  \n",
            "  inflating: ChinaSet_AllFiles/ChinaSet_AllFiles/CXR_png/CHNCXR_0201_0.png  \n",
            "  inflating: ChinaSet_AllFiles/ChinaSet_AllFiles/CXR_png/CHNCXR_0202_0.png  \n",
            "  inflating: ChinaSet_AllFiles/ChinaSet_AllFiles/CXR_png/CHNCXR_0203_0.png  \n",
            "  inflating: ChinaSet_AllFiles/ChinaSet_AllFiles/CXR_png/CHNCXR_0204_0.png  \n",
            "  inflating: ChinaSet_AllFiles/ChinaSet_AllFiles/CXR_png/CHNCXR_0205_0.png  \n",
            "  inflating: ChinaSet_AllFiles/ChinaSet_AllFiles/CXR_png/CHNCXR_0206_0.png  \n",
            "  inflating: ChinaSet_AllFiles/ChinaSet_AllFiles/CXR_png/CHNCXR_0207_0.png  \n",
            "  inflating: ChinaSet_AllFiles/ChinaSet_AllFiles/CXR_png/CHNCXR_0208_0.png  \n",
            "  inflating: ChinaSet_AllFiles/ChinaSet_AllFiles/CXR_png/CHNCXR_0209_0.png  \n",
            "  inflating: ChinaSet_AllFiles/ChinaSet_AllFiles/CXR_png/CHNCXR_0210_0.png  \n",
            "  inflating: ChinaSet_AllFiles/ChinaSet_AllFiles/CXR_png/CHNCXR_0211_0.png  \n",
            "  inflating: ChinaSet_AllFiles/ChinaSet_AllFiles/CXR_png/CHNCXR_0212_0.png  \n",
            "  inflating: ChinaSet_AllFiles/ChinaSet_AllFiles/CXR_png/CHNCXR_0213_0.png  \n",
            "  inflating: ChinaSet_AllFiles/ChinaSet_AllFiles/CXR_png/CHNCXR_0214_0.png  \n",
            "  inflating: ChinaSet_AllFiles/ChinaSet_AllFiles/CXR_png/CHNCXR_0215_0.png  \n",
            "  inflating: ChinaSet_AllFiles/ChinaSet_AllFiles/CXR_png/CHNCXR_0216_0.png  \n",
            "  inflating: ChinaSet_AllFiles/ChinaSet_AllFiles/CXR_png/CHNCXR_0217_0.png  \n",
            "  inflating: ChinaSet_AllFiles/ChinaSet_AllFiles/CXR_png/CHNCXR_0218_0.png  \n",
            "  inflating: ChinaSet_AllFiles/ChinaSet_AllFiles/CXR_png/CHNCXR_0219_0.png  \n",
            "  inflating: ChinaSet_AllFiles/ChinaSet_AllFiles/CXR_png/CHNCXR_0220_0.png  \n",
            "  inflating: ChinaSet_AllFiles/ChinaSet_AllFiles/CXR_png/CHNCXR_0221_0.png  \n",
            "  inflating: ChinaSet_AllFiles/ChinaSet_AllFiles/CXR_png/CHNCXR_0222_0.png  \n",
            "  inflating: ChinaSet_AllFiles/ChinaSet_AllFiles/CXR_png/CHNCXR_0223_0.png  \n",
            "  inflating: ChinaSet_AllFiles/ChinaSet_AllFiles/CXR_png/CHNCXR_0224_0.png  \n",
            "  inflating: ChinaSet_AllFiles/ChinaSet_AllFiles/CXR_png/CHNCXR_0225_0.png  \n",
            "  inflating: ChinaSet_AllFiles/ChinaSet_AllFiles/CXR_png/CHNCXR_0226_0.png  \n",
            "  inflating: ChinaSet_AllFiles/ChinaSet_AllFiles/CXR_png/CHNCXR_0227_0.png  \n",
            "  inflating: ChinaSet_AllFiles/ChinaSet_AllFiles/CXR_png/CHNCXR_0228_0.png  \n",
            "  inflating: ChinaSet_AllFiles/ChinaSet_AllFiles/CXR_png/CHNCXR_0229_0.png  \n",
            "  inflating: ChinaSet_AllFiles/ChinaSet_AllFiles/CXR_png/CHNCXR_0230_0.png  \n",
            "  inflating: ChinaSet_AllFiles/ChinaSet_AllFiles/CXR_png/CHNCXR_0231_0.png  \n",
            "  inflating: ChinaSet_AllFiles/ChinaSet_AllFiles/CXR_png/CHNCXR_0232_0.png  \n",
            "  inflating: ChinaSet_AllFiles/ChinaSet_AllFiles/CXR_png/CHNCXR_0233_0.png  \n",
            "  inflating: ChinaSet_AllFiles/ChinaSet_AllFiles/CXR_png/CHNCXR_0234_0.png  \n",
            "  inflating: ChinaSet_AllFiles/ChinaSet_AllFiles/CXR_png/CHNCXR_0235_0.png  \n",
            "  inflating: ChinaSet_AllFiles/ChinaSet_AllFiles/CXR_png/CHNCXR_0236_0.png  \n",
            "  inflating: ChinaSet_AllFiles/ChinaSet_AllFiles/CXR_png/CHNCXR_0237_0.png  \n",
            "  inflating: ChinaSet_AllFiles/ChinaSet_AllFiles/CXR_png/CHNCXR_0238_0.png  \n",
            "  inflating: ChinaSet_AllFiles/ChinaSet_AllFiles/CXR_png/CHNCXR_0239_0.png  \n",
            "  inflating: ChinaSet_AllFiles/ChinaSet_AllFiles/CXR_png/CHNCXR_0240_0.png  \n",
            "  inflating: ChinaSet_AllFiles/ChinaSet_AllFiles/CXR_png/CHNCXR_0241_0.png  \n",
            "  inflating: ChinaSet_AllFiles/ChinaSet_AllFiles/CXR_png/CHNCXR_0242_0.png  \n",
            "  inflating: ChinaSet_AllFiles/ChinaSet_AllFiles/CXR_png/CHNCXR_0243_0.png  \n",
            "  inflating: ChinaSet_AllFiles/ChinaSet_AllFiles/CXR_png/CHNCXR_0244_0.png  \n",
            "  inflating: ChinaSet_AllFiles/ChinaSet_AllFiles/CXR_png/CHNCXR_0245_0.png  \n",
            "  inflating: ChinaSet_AllFiles/ChinaSet_AllFiles/CXR_png/CHNCXR_0246_0.png  \n",
            "  inflating: ChinaSet_AllFiles/ChinaSet_AllFiles/CXR_png/CHNCXR_0247_0.png  \n",
            "  inflating: ChinaSet_AllFiles/ChinaSet_AllFiles/CXR_png/CHNCXR_0248_0.png  \n",
            "  inflating: ChinaSet_AllFiles/ChinaSet_AllFiles/CXR_png/CHNCXR_0249_0.png  \n",
            "  inflating: ChinaSet_AllFiles/ChinaSet_AllFiles/CXR_png/CHNCXR_0250_0.png  \n",
            "  inflating: ChinaSet_AllFiles/ChinaSet_AllFiles/CXR_png/CHNCXR_0251_0.png  \n",
            "  inflating: ChinaSet_AllFiles/ChinaSet_AllFiles/CXR_png/CHNCXR_0252_0.png  \n",
            "  inflating: ChinaSet_AllFiles/ChinaSet_AllFiles/CXR_png/CHNCXR_0253_0.png  \n",
            "  inflating: ChinaSet_AllFiles/ChinaSet_AllFiles/CXR_png/CHNCXR_0254_0.png  \n",
            "  inflating: ChinaSet_AllFiles/ChinaSet_AllFiles/CXR_png/CHNCXR_0255_0.png  \n",
            "  inflating: ChinaSet_AllFiles/ChinaSet_AllFiles/CXR_png/CHNCXR_0256_0.png  \n",
            "  inflating: ChinaSet_AllFiles/ChinaSet_AllFiles/CXR_png/CHNCXR_0257_0.png  \n",
            "  inflating: ChinaSet_AllFiles/ChinaSet_AllFiles/CXR_png/CHNCXR_0258_0.png  \n",
            "  inflating: ChinaSet_AllFiles/ChinaSet_AllFiles/CXR_png/CHNCXR_0259_0.png  \n",
            "  inflating: ChinaSet_AllFiles/ChinaSet_AllFiles/CXR_png/CHNCXR_0260_0.png  \n",
            "  inflating: ChinaSet_AllFiles/ChinaSet_AllFiles/CXR_png/CHNCXR_0261_0.png  \n",
            "  inflating: ChinaSet_AllFiles/ChinaSet_AllFiles/CXR_png/CHNCXR_0262_0.png  \n",
            "  inflating: ChinaSet_AllFiles/ChinaSet_AllFiles/CXR_png/CHNCXR_0263_0.png  \n",
            "  inflating: ChinaSet_AllFiles/ChinaSet_AllFiles/CXR_png/CHNCXR_0264_0.png  \n",
            "  inflating: ChinaSet_AllFiles/ChinaSet_AllFiles/CXR_png/CHNCXR_0265_0.png  \n",
            "  inflating: ChinaSet_AllFiles/ChinaSet_AllFiles/CXR_png/CHNCXR_0266_0.png  \n",
            "  inflating: ChinaSet_AllFiles/ChinaSet_AllFiles/CXR_png/CHNCXR_0267_0.png  \n",
            "  inflating: ChinaSet_AllFiles/ChinaSet_AllFiles/CXR_png/CHNCXR_0268_0.png  \n",
            "  inflating: ChinaSet_AllFiles/ChinaSet_AllFiles/CXR_png/CHNCXR_0269_0.png  \n",
            "  inflating: ChinaSet_AllFiles/ChinaSet_AllFiles/CXR_png/CHNCXR_0270_0.png  \n",
            "  inflating: ChinaSet_AllFiles/ChinaSet_AllFiles/CXR_png/CHNCXR_0271_0.png  \n",
            "  inflating: ChinaSet_AllFiles/ChinaSet_AllFiles/CXR_png/CHNCXR_0272_0.png  \n",
            "  inflating: ChinaSet_AllFiles/ChinaSet_AllFiles/CXR_png/CHNCXR_0273_0.png  \n",
            "  inflating: ChinaSet_AllFiles/ChinaSet_AllFiles/CXR_png/CHNCXR_0274_0.png  \n",
            "  inflating: ChinaSet_AllFiles/ChinaSet_AllFiles/CXR_png/CHNCXR_0275_0.png  \n",
            "  inflating: ChinaSet_AllFiles/ChinaSet_AllFiles/CXR_png/CHNCXR_0276_0.png  \n",
            "  inflating: ChinaSet_AllFiles/ChinaSet_AllFiles/CXR_png/CHNCXR_0277_0.png  \n",
            "  inflating: ChinaSet_AllFiles/ChinaSet_AllFiles/CXR_png/CHNCXR_0278_0.png  \n",
            "  inflating: ChinaSet_AllFiles/ChinaSet_AllFiles/CXR_png/CHNCXR_0279_0.png  \n",
            "  inflating: ChinaSet_AllFiles/ChinaSet_AllFiles/CXR_png/CHNCXR_0280_0.png  \n",
            "  inflating: ChinaSet_AllFiles/ChinaSet_AllFiles/CXR_png/CHNCXR_0281_0.png  \n",
            "  inflating: ChinaSet_AllFiles/ChinaSet_AllFiles/CXR_png/CHNCXR_0282_0.png  \n",
            "  inflating: ChinaSet_AllFiles/ChinaSet_AllFiles/CXR_png/CHNCXR_0283_0.png  \n",
            "  inflating: ChinaSet_AllFiles/ChinaSet_AllFiles/CXR_png/CHNCXR_0284_0.png  \n",
            "  inflating: ChinaSet_AllFiles/ChinaSet_AllFiles/CXR_png/CHNCXR_0285_0.png  \n",
            "  inflating: ChinaSet_AllFiles/ChinaSet_AllFiles/CXR_png/CHNCXR_0286_0.png  \n",
            "  inflating: ChinaSet_AllFiles/ChinaSet_AllFiles/CXR_png/CHNCXR_0287_0.png  \n",
            "  inflating: ChinaSet_AllFiles/ChinaSet_AllFiles/CXR_png/CHNCXR_0288_0.png  \n",
            "  inflating: ChinaSet_AllFiles/ChinaSet_AllFiles/CXR_png/CHNCXR_0289_0.png  \n",
            "  inflating: ChinaSet_AllFiles/ChinaSet_AllFiles/CXR_png/CHNCXR_0290_0.png  \n",
            "  inflating: ChinaSet_AllFiles/ChinaSet_AllFiles/CXR_png/CHNCXR_0291_0.png  \n",
            "  inflating: ChinaSet_AllFiles/ChinaSet_AllFiles/CXR_png/CHNCXR_0292_0.png  \n",
            "  inflating: ChinaSet_AllFiles/ChinaSet_AllFiles/CXR_png/CHNCXR_0293_0.png  \n",
            "  inflating: ChinaSet_AllFiles/ChinaSet_AllFiles/CXR_png/CHNCXR_0294_0.png  \n",
            "  inflating: ChinaSet_AllFiles/ChinaSet_AllFiles/CXR_png/CHNCXR_0295_0.png  \n",
            "  inflating: ChinaSet_AllFiles/ChinaSet_AllFiles/CXR_png/CHNCXR_0296_0.png  \n",
            "  inflating: ChinaSet_AllFiles/ChinaSet_AllFiles/CXR_png/CHNCXR_0297_0.png  \n",
            "  inflating: ChinaSet_AllFiles/ChinaSet_AllFiles/CXR_png/CHNCXR_0298_0.png  \n",
            "  inflating: ChinaSet_AllFiles/ChinaSet_AllFiles/CXR_png/CHNCXR_0299_0.png  \n",
            "  inflating: ChinaSet_AllFiles/ChinaSet_AllFiles/CXR_png/CHNCXR_0300_0.png  \n",
            "  inflating: ChinaSet_AllFiles/ChinaSet_AllFiles/CXR_png/CHNCXR_0301_0.png  \n",
            "  inflating: ChinaSet_AllFiles/ChinaSet_AllFiles/CXR_png/CHNCXR_0302_0.png  \n",
            "  inflating: ChinaSet_AllFiles/ChinaSet_AllFiles/CXR_png/CHNCXR_0303_0.png  \n",
            "  inflating: ChinaSet_AllFiles/ChinaSet_AllFiles/CXR_png/CHNCXR_0304_0.png  \n",
            "  inflating: ChinaSet_AllFiles/ChinaSet_AllFiles/CXR_png/CHNCXR_0305_0.png  \n",
            "  inflating: ChinaSet_AllFiles/ChinaSet_AllFiles/CXR_png/CHNCXR_0306_0.png  \n",
            "  inflating: ChinaSet_AllFiles/ChinaSet_AllFiles/CXR_png/CHNCXR_0307_0.png  \n",
            "  inflating: ChinaSet_AllFiles/ChinaSet_AllFiles/CXR_png/CHNCXR_0308_0.png  \n",
            "  inflating: ChinaSet_AllFiles/ChinaSet_AllFiles/CXR_png/CHNCXR_0309_0.png  \n",
            "  inflating: ChinaSet_AllFiles/ChinaSet_AllFiles/CXR_png/CHNCXR_0310_0.png  \n",
            "  inflating: ChinaSet_AllFiles/ChinaSet_AllFiles/CXR_png/CHNCXR_0311_0.png  \n",
            "  inflating: ChinaSet_AllFiles/ChinaSet_AllFiles/CXR_png/CHNCXR_0312_0.png  \n",
            "  inflating: ChinaSet_AllFiles/ChinaSet_AllFiles/CXR_png/CHNCXR_0313_0.png  \n",
            "  inflating: ChinaSet_AllFiles/ChinaSet_AllFiles/CXR_png/CHNCXR_0314_0.png  \n",
            "  inflating: ChinaSet_AllFiles/ChinaSet_AllFiles/CXR_png/CHNCXR_0315_0.png  \n",
            "  inflating: ChinaSet_AllFiles/ChinaSet_AllFiles/CXR_png/CHNCXR_0316_0.png  \n",
            "  inflating: ChinaSet_AllFiles/ChinaSet_AllFiles/CXR_png/CHNCXR_0317_0.png  \n",
            "  inflating: ChinaSet_AllFiles/ChinaSet_AllFiles/CXR_png/CHNCXR_0318_0.png  \n",
            "  inflating: ChinaSet_AllFiles/ChinaSet_AllFiles/CXR_png/CHNCXR_0319_0.png  \n",
            "  inflating: ChinaSet_AllFiles/ChinaSet_AllFiles/CXR_png/CHNCXR_0320_0.png  \n",
            "  inflating: ChinaSet_AllFiles/ChinaSet_AllFiles/CXR_png/CHNCXR_0321_0.png  \n",
            "  inflating: ChinaSet_AllFiles/ChinaSet_AllFiles/CXR_png/CHNCXR_0322_0.png  \n",
            "  inflating: ChinaSet_AllFiles/ChinaSet_AllFiles/CXR_png/CHNCXR_0323_0.png  \n",
            "  inflating: ChinaSet_AllFiles/ChinaSet_AllFiles/CXR_png/CHNCXR_0324_0.png  \n",
            "  inflating: ChinaSet_AllFiles/ChinaSet_AllFiles/CXR_png/CHNCXR_0325_0.png  \n",
            "  inflating: ChinaSet_AllFiles/ChinaSet_AllFiles/CXR_png/CHNCXR_0326_0.png  \n",
            "  inflating: ChinaSet_AllFiles/ChinaSet_AllFiles/CXR_png/CHNCXR_0327_1.png  \n",
            "  inflating: ChinaSet_AllFiles/ChinaSet_AllFiles/CXR_png/CHNCXR_0328_1.png  \n",
            "  inflating: ChinaSet_AllFiles/ChinaSet_AllFiles/CXR_png/CHNCXR_0329_1.png  \n",
            "  inflating: ChinaSet_AllFiles/ChinaSet_AllFiles/CXR_png/CHNCXR_0330_1.png  \n",
            "  inflating: ChinaSet_AllFiles/ChinaSet_AllFiles/CXR_png/CHNCXR_0331_1.png  \n",
            "  inflating: ChinaSet_AllFiles/ChinaSet_AllFiles/CXR_png/CHNCXR_0332_1.png  \n",
            "  inflating: ChinaSet_AllFiles/ChinaSet_AllFiles/CXR_png/CHNCXR_0333_1.png  \n",
            "  inflating: ChinaSet_AllFiles/ChinaSet_AllFiles/CXR_png/CHNCXR_0334_1.png  \n",
            "  inflating: ChinaSet_AllFiles/ChinaSet_AllFiles/CXR_png/CHNCXR_0335_1.png  \n",
            "  inflating: ChinaSet_AllFiles/ChinaSet_AllFiles/CXR_png/CHNCXR_0336_1.png  \n",
            "  inflating: ChinaSet_AllFiles/ChinaSet_AllFiles/CXR_png/CHNCXR_0337_1.png  \n",
            "  inflating: ChinaSet_AllFiles/ChinaSet_AllFiles/CXR_png/CHNCXR_0338_1.png  \n",
            "  inflating: ChinaSet_AllFiles/ChinaSet_AllFiles/CXR_png/CHNCXR_0339_1.png  \n",
            "  inflating: ChinaSet_AllFiles/ChinaSet_AllFiles/CXR_png/CHNCXR_0340_1.png  \n",
            "  inflating: ChinaSet_AllFiles/ChinaSet_AllFiles/CXR_png/CHNCXR_0341_1.png  \n",
            "  inflating: ChinaSet_AllFiles/ChinaSet_AllFiles/CXR_png/CHNCXR_0342_1.png  \n",
            "  inflating: ChinaSet_AllFiles/ChinaSet_AllFiles/CXR_png/CHNCXR_0343_1.png  \n",
            "  inflating: ChinaSet_AllFiles/ChinaSet_AllFiles/CXR_png/CHNCXR_0344_1.png  \n",
            "  inflating: ChinaSet_AllFiles/ChinaSet_AllFiles/CXR_png/CHNCXR_0345_1.png  \n",
            "  inflating: ChinaSet_AllFiles/ChinaSet_AllFiles/CXR_png/CHNCXR_0346_1.png  \n",
            "  inflating: ChinaSet_AllFiles/ChinaSet_AllFiles/CXR_png/CHNCXR_0347_1.png  \n",
            "  inflating: ChinaSet_AllFiles/ChinaSet_AllFiles/CXR_png/CHNCXR_0348_1.png  \n",
            "  inflating: ChinaSet_AllFiles/ChinaSet_AllFiles/CXR_png/CHNCXR_0349_1.png  \n",
            "  inflating: ChinaSet_AllFiles/ChinaSet_AllFiles/CXR_png/CHNCXR_0350_1.png  \n",
            "  inflating: ChinaSet_AllFiles/ChinaSet_AllFiles/CXR_png/CHNCXR_0351_1.png  \n",
            "  inflating: ChinaSet_AllFiles/ChinaSet_AllFiles/CXR_png/CHNCXR_0352_1.png  \n",
            "  inflating: ChinaSet_AllFiles/ChinaSet_AllFiles/CXR_png/CHNCXR_0353_1.png  \n",
            "  inflating: ChinaSet_AllFiles/ChinaSet_AllFiles/CXR_png/CHNCXR_0354_1.png  \n",
            "  inflating: ChinaSet_AllFiles/ChinaSet_AllFiles/CXR_png/CHNCXR_0355_1.png  \n",
            "  inflating: ChinaSet_AllFiles/ChinaSet_AllFiles/CXR_png/CHNCXR_0356_1.png  \n",
            "  inflating: ChinaSet_AllFiles/ChinaSet_AllFiles/CXR_png/CHNCXR_0357_1.png  \n",
            "  inflating: ChinaSet_AllFiles/ChinaSet_AllFiles/CXR_png/CHNCXR_0358_1.png  \n",
            "  inflating: ChinaSet_AllFiles/ChinaSet_AllFiles/CXR_png/CHNCXR_0359_1.png  \n",
            "  inflating: ChinaSet_AllFiles/ChinaSet_AllFiles/CXR_png/CHNCXR_0360_1.png  \n",
            "  inflating: ChinaSet_AllFiles/ChinaSet_AllFiles/CXR_png/CHNCXR_0361_1.png  \n",
            "  inflating: ChinaSet_AllFiles/ChinaSet_AllFiles/CXR_png/CHNCXR_0362_1.png  \n",
            "  inflating: ChinaSet_AllFiles/ChinaSet_AllFiles/CXR_png/CHNCXR_0363_1.png  \n",
            "  inflating: ChinaSet_AllFiles/ChinaSet_AllFiles/CXR_png/CHNCXR_0364_1.png  \n",
            "  inflating: ChinaSet_AllFiles/ChinaSet_AllFiles/CXR_png/CHNCXR_0365_1.png  \n",
            "  inflating: ChinaSet_AllFiles/ChinaSet_AllFiles/CXR_png/CHNCXR_0366_1.png  \n",
            "  inflating: ChinaSet_AllFiles/ChinaSet_AllFiles/CXR_png/CHNCXR_0367_1.png  \n",
            "  inflating: ChinaSet_AllFiles/ChinaSet_AllFiles/CXR_png/CHNCXR_0368_1.png  \n",
            "  inflating: ChinaSet_AllFiles/ChinaSet_AllFiles/CXR_png/CHNCXR_0369_1.png  \n",
            "  inflating: ChinaSet_AllFiles/ChinaSet_AllFiles/CXR_png/CHNCXR_0370_1.png  \n",
            "  inflating: ChinaSet_AllFiles/ChinaSet_AllFiles/CXR_png/CHNCXR_0371_1.png  \n",
            "  inflating: ChinaSet_AllFiles/ChinaSet_AllFiles/CXR_png/CHNCXR_0372_1.png  \n",
            "  inflating: ChinaSet_AllFiles/ChinaSet_AllFiles/CXR_png/CHNCXR_0373_1.png  \n",
            "  inflating: ChinaSet_AllFiles/ChinaSet_AllFiles/CXR_png/CHNCXR_0374_1.png  \n",
            "  inflating: ChinaSet_AllFiles/ChinaSet_AllFiles/CXR_png/CHNCXR_0375_1.png  \n",
            "  inflating: ChinaSet_AllFiles/ChinaSet_AllFiles/CXR_png/CHNCXR_0376_1.png  \n",
            "  inflating: ChinaSet_AllFiles/ChinaSet_AllFiles/CXR_png/CHNCXR_0377_1.png  \n",
            "  inflating: ChinaSet_AllFiles/ChinaSet_AllFiles/CXR_png/CHNCXR_0378_1.png  \n",
            "  inflating: ChinaSet_AllFiles/ChinaSet_AllFiles/CXR_png/CHNCXR_0379_1.png  \n",
            "  inflating: ChinaSet_AllFiles/ChinaSet_AllFiles/CXR_png/CHNCXR_0380_1.png  \n",
            "  inflating: ChinaSet_AllFiles/ChinaSet_AllFiles/CXR_png/CHNCXR_0381_1.png  \n",
            "  inflating: ChinaSet_AllFiles/ChinaSet_AllFiles/CXR_png/CHNCXR_0382_1.png  \n",
            "  inflating: ChinaSet_AllFiles/ChinaSet_AllFiles/CXR_png/CHNCXR_0383_1.png  \n",
            "  inflating: ChinaSet_AllFiles/ChinaSet_AllFiles/CXR_png/CHNCXR_0384_1.png  \n",
            "  inflating: ChinaSet_AllFiles/ChinaSet_AllFiles/CXR_png/CHNCXR_0385_1.png  \n",
            "  inflating: ChinaSet_AllFiles/ChinaSet_AllFiles/CXR_png/CHNCXR_0386_1.png  \n",
            "  inflating: ChinaSet_AllFiles/ChinaSet_AllFiles/CXR_png/CHNCXR_0387_1.png  \n",
            "  inflating: ChinaSet_AllFiles/ChinaSet_AllFiles/CXR_png/CHNCXR_0388_1.png  \n",
            "  inflating: ChinaSet_AllFiles/ChinaSet_AllFiles/CXR_png/CHNCXR_0389_1.png  \n",
            "  inflating: ChinaSet_AllFiles/ChinaSet_AllFiles/CXR_png/CHNCXR_0390_1.png  \n",
            "  inflating: ChinaSet_AllFiles/ChinaSet_AllFiles/CXR_png/CHNCXR_0391_1.png  \n",
            "  inflating: ChinaSet_AllFiles/ChinaSet_AllFiles/CXR_png/CHNCXR_0392_1.png  \n",
            "  inflating: ChinaSet_AllFiles/ChinaSet_AllFiles/CXR_png/CHNCXR_0393_1.png  \n",
            "  inflating: ChinaSet_AllFiles/ChinaSet_AllFiles/CXR_png/CHNCXR_0394_1.png  \n",
            "  inflating: ChinaSet_AllFiles/ChinaSet_AllFiles/CXR_png/CHNCXR_0395_1.png  \n",
            "  inflating: ChinaSet_AllFiles/ChinaSet_AllFiles/CXR_png/CHNCXR_0396_1.png  \n",
            "  inflating: ChinaSet_AllFiles/ChinaSet_AllFiles/CXR_png/CHNCXR_0397_1.png  \n",
            "  inflating: ChinaSet_AllFiles/ChinaSet_AllFiles/CXR_png/CHNCXR_0398_1.png  \n",
            "  inflating: ChinaSet_AllFiles/ChinaSet_AllFiles/CXR_png/CHNCXR_0399_1.png  \n",
            "  inflating: ChinaSet_AllFiles/ChinaSet_AllFiles/CXR_png/CHNCXR_0400_1.png  \n",
            "  inflating: ChinaSet_AllFiles/ChinaSet_AllFiles/CXR_png/CHNCXR_0401_1.png  \n",
            "  inflating: ChinaSet_AllFiles/ChinaSet_AllFiles/CXR_png/CHNCXR_0402_1.png  \n",
            "  inflating: ChinaSet_AllFiles/ChinaSet_AllFiles/CXR_png/CHNCXR_0403_1.png  \n",
            "  inflating: ChinaSet_AllFiles/ChinaSet_AllFiles/CXR_png/CHNCXR_0404_1.png  \n",
            "  inflating: ChinaSet_AllFiles/ChinaSet_AllFiles/CXR_png/CHNCXR_0405_1.png  \n",
            "  inflating: ChinaSet_AllFiles/ChinaSet_AllFiles/CXR_png/CHNCXR_0406_1.png  \n",
            "  inflating: ChinaSet_AllFiles/ChinaSet_AllFiles/CXR_png/CHNCXR_0407_1.png  \n",
            "  inflating: ChinaSet_AllFiles/ChinaSet_AllFiles/CXR_png/CHNCXR_0408_1.png  \n",
            "  inflating: ChinaSet_AllFiles/ChinaSet_AllFiles/CXR_png/CHNCXR_0409_1.png  \n",
            "  inflating: ChinaSet_AllFiles/ChinaSet_AllFiles/CXR_png/CHNCXR_0410_1.png  \n",
            "  inflating: ChinaSet_AllFiles/ChinaSet_AllFiles/CXR_png/CHNCXR_0411_1.png  \n",
            "  inflating: ChinaSet_AllFiles/ChinaSet_AllFiles/CXR_png/CHNCXR_0412_1.png  \n",
            "  inflating: ChinaSet_AllFiles/ChinaSet_AllFiles/CXR_png/CHNCXR_0413_1.png  \n",
            "  inflating: ChinaSet_AllFiles/ChinaSet_AllFiles/CXR_png/CHNCXR_0414_1.png  \n",
            "  inflating: ChinaSet_AllFiles/ChinaSet_AllFiles/CXR_png/CHNCXR_0415_1.png  \n",
            "  inflating: ChinaSet_AllFiles/ChinaSet_AllFiles/CXR_png/CHNCXR_0416_1.png  \n",
            "  inflating: ChinaSet_AllFiles/ChinaSet_AllFiles/CXR_png/CHNCXR_0417_1.png  \n",
            "  inflating: ChinaSet_AllFiles/ChinaSet_AllFiles/CXR_png/CHNCXR_0418_1.png  \n",
            "  inflating: ChinaSet_AllFiles/ChinaSet_AllFiles/CXR_png/CHNCXR_0419_1.png  \n",
            "  inflating: ChinaSet_AllFiles/ChinaSet_AllFiles/CXR_png/CHNCXR_0420_1.png  \n",
            "  inflating: ChinaSet_AllFiles/ChinaSet_AllFiles/CXR_png/CHNCXR_0421_1.png  \n",
            "  inflating: ChinaSet_AllFiles/ChinaSet_AllFiles/CXR_png/CHNCXR_0422_1.png  \n",
            "  inflating: ChinaSet_AllFiles/ChinaSet_AllFiles/CXR_png/CHNCXR_0423_1.png  \n",
            "  inflating: ChinaSet_AllFiles/ChinaSet_AllFiles/CXR_png/CHNCXR_0424_1.png  \n",
            "  inflating: ChinaSet_AllFiles/ChinaSet_AllFiles/CXR_png/CHNCXR_0425_1.png  \n",
            "  inflating: ChinaSet_AllFiles/ChinaSet_AllFiles/CXR_png/CHNCXR_0426_1.png  \n",
            "  inflating: ChinaSet_AllFiles/ChinaSet_AllFiles/CXR_png/CHNCXR_0427_1.png  \n",
            "  inflating: ChinaSet_AllFiles/ChinaSet_AllFiles/CXR_png/CHNCXR_0428_1.png  \n",
            "  inflating: ChinaSet_AllFiles/ChinaSet_AllFiles/CXR_png/CHNCXR_0429_1.png  \n",
            "  inflating: ChinaSet_AllFiles/ChinaSet_AllFiles/CXR_png/CHNCXR_0430_1.png  \n",
            "  inflating: ChinaSet_AllFiles/ChinaSet_AllFiles/CXR_png/CHNCXR_0431_1.png  \n",
            "  inflating: ChinaSet_AllFiles/ChinaSet_AllFiles/CXR_png/CHNCXR_0432_1.png  \n",
            "  inflating: ChinaSet_AllFiles/ChinaSet_AllFiles/CXR_png/CHNCXR_0433_1.png  \n",
            "  inflating: ChinaSet_AllFiles/ChinaSet_AllFiles/CXR_png/CHNCXR_0434_1.png  \n",
            "  inflating: ChinaSet_AllFiles/ChinaSet_AllFiles/CXR_png/CHNCXR_0435_1.png  \n",
            "  inflating: ChinaSet_AllFiles/ChinaSet_AllFiles/CXR_png/CHNCXR_0436_1.png  \n",
            "  inflating: ChinaSet_AllFiles/ChinaSet_AllFiles/CXR_png/CHNCXR_0437_1.png  \n",
            "  inflating: ChinaSet_AllFiles/ChinaSet_AllFiles/CXR_png/CHNCXR_0438_1.png  \n",
            "  inflating: ChinaSet_AllFiles/ChinaSet_AllFiles/CXR_png/CHNCXR_0439_1.png  \n",
            "  inflating: ChinaSet_AllFiles/ChinaSet_AllFiles/CXR_png/CHNCXR_0440_1.png  \n",
            "  inflating: ChinaSet_AllFiles/ChinaSet_AllFiles/CXR_png/CHNCXR_0441_1.png  \n",
            "  inflating: ChinaSet_AllFiles/ChinaSet_AllFiles/CXR_png/CHNCXR_0442_1.png  \n",
            "  inflating: ChinaSet_AllFiles/ChinaSet_AllFiles/CXR_png/CHNCXR_0443_1.png  \n",
            "  inflating: ChinaSet_AllFiles/ChinaSet_AllFiles/CXR_png/CHNCXR_0444_1.png  \n",
            "  inflating: ChinaSet_AllFiles/ChinaSet_AllFiles/CXR_png/CHNCXR_0445_1.png  \n",
            "  inflating: ChinaSet_AllFiles/ChinaSet_AllFiles/CXR_png/CHNCXR_0446_1.png  \n",
            "  inflating: ChinaSet_AllFiles/ChinaSet_AllFiles/CXR_png/CHNCXR_0447_1.png  \n",
            "  inflating: ChinaSet_AllFiles/ChinaSet_AllFiles/CXR_png/CHNCXR_0448_1.png  \n",
            "  inflating: ChinaSet_AllFiles/ChinaSet_AllFiles/CXR_png/CHNCXR_0449_1.png  \n",
            "  inflating: ChinaSet_AllFiles/ChinaSet_AllFiles/CXR_png/CHNCXR_0450_1.png  \n",
            "  inflating: ChinaSet_AllFiles/ChinaSet_AllFiles/CXR_png/CHNCXR_0451_1.png  \n",
            "  inflating: ChinaSet_AllFiles/ChinaSet_AllFiles/CXR_png/CHNCXR_0452_1.png  \n",
            "  inflating: ChinaSet_AllFiles/ChinaSet_AllFiles/CXR_png/CHNCXR_0453_1.png  \n",
            "  inflating: ChinaSet_AllFiles/ChinaSet_AllFiles/CXR_png/CHNCXR_0454_1.png  \n",
            "  inflating: ChinaSet_AllFiles/ChinaSet_AllFiles/CXR_png/CHNCXR_0455_1.png  \n",
            "  inflating: ChinaSet_AllFiles/ChinaSet_AllFiles/CXR_png/CHNCXR_0456_1.png  \n",
            "  inflating: ChinaSet_AllFiles/ChinaSet_AllFiles/CXR_png/CHNCXR_0457_1.png  \n",
            "  inflating: ChinaSet_AllFiles/ChinaSet_AllFiles/CXR_png/CHNCXR_0458_1.png  \n",
            "  inflating: ChinaSet_AllFiles/ChinaSet_AllFiles/CXR_png/CHNCXR_0459_1.png  \n",
            "  inflating: ChinaSet_AllFiles/ChinaSet_AllFiles/CXR_png/CHNCXR_0460_1.png  \n",
            "  inflating: ChinaSet_AllFiles/ChinaSet_AllFiles/CXR_png/CHNCXR_0461_1.png  \n",
            "  inflating: ChinaSet_AllFiles/ChinaSet_AllFiles/CXR_png/CHNCXR_0462_1.png  \n",
            "  inflating: ChinaSet_AllFiles/ChinaSet_AllFiles/CXR_png/CHNCXR_0463_1.png  \n",
            "  inflating: ChinaSet_AllFiles/ChinaSet_AllFiles/CXR_png/CHNCXR_0464_1.png  \n",
            "  inflating: ChinaSet_AllFiles/ChinaSet_AllFiles/CXR_png/CHNCXR_0465_1.png  \n",
            "  inflating: ChinaSet_AllFiles/ChinaSet_AllFiles/CXR_png/CHNCXR_0466_1.png  \n",
            "  inflating: ChinaSet_AllFiles/ChinaSet_AllFiles/CXR_png/CHNCXR_0467_1.png  \n",
            "  inflating: ChinaSet_AllFiles/ChinaSet_AllFiles/CXR_png/CHNCXR_0468_1.png  \n",
            "  inflating: ChinaSet_AllFiles/ChinaSet_AllFiles/CXR_png/CHNCXR_0469_1.png  \n",
            "  inflating: ChinaSet_AllFiles/ChinaSet_AllFiles/CXR_png/CHNCXR_0470_1.png  \n",
            "  inflating: ChinaSet_AllFiles/ChinaSet_AllFiles/CXR_png/CHNCXR_0471_1.png  \n",
            "  inflating: ChinaSet_AllFiles/ChinaSet_AllFiles/CXR_png/CHNCXR_0472_1.png  \n",
            "  inflating: ChinaSet_AllFiles/ChinaSet_AllFiles/CXR_png/CHNCXR_0473_1.png  \n",
            "  inflating: ChinaSet_AllFiles/ChinaSet_AllFiles/CXR_png/CHNCXR_0474_1.png  \n",
            "  inflating: ChinaSet_AllFiles/ChinaSet_AllFiles/CXR_png/CHNCXR_0475_1.png  \n",
            "  inflating: ChinaSet_AllFiles/ChinaSet_AllFiles/CXR_png/CHNCXR_0476_1.png  \n",
            "  inflating: ChinaSet_AllFiles/ChinaSet_AllFiles/CXR_png/CHNCXR_0477_1.png  \n",
            "  inflating: ChinaSet_AllFiles/ChinaSet_AllFiles/CXR_png/CHNCXR_0478_1.png  \n",
            "  inflating: ChinaSet_AllFiles/ChinaSet_AllFiles/CXR_png/CHNCXR_0479_1.png  \n",
            "  inflating: ChinaSet_AllFiles/ChinaSet_AllFiles/CXR_png/CHNCXR_0480_1.png  \n",
            "  inflating: ChinaSet_AllFiles/ChinaSet_AllFiles/CXR_png/CHNCXR_0481_1.png  \n",
            "  inflating: ChinaSet_AllFiles/ChinaSet_AllFiles/CXR_png/CHNCXR_0482_1.png  \n",
            "  inflating: ChinaSet_AllFiles/ChinaSet_AllFiles/CXR_png/CHNCXR_0483_1.png  \n",
            "  inflating: ChinaSet_AllFiles/ChinaSet_AllFiles/CXR_png/CHNCXR_0484_1.png  \n",
            "  inflating: ChinaSet_AllFiles/ChinaSet_AllFiles/CXR_png/CHNCXR_0485_1.png  \n",
            "  inflating: ChinaSet_AllFiles/ChinaSet_AllFiles/CXR_png/CHNCXR_0486_1.png  \n",
            "  inflating: ChinaSet_AllFiles/ChinaSet_AllFiles/CXR_png/CHNCXR_0487_1.png  \n",
            "  inflating: ChinaSet_AllFiles/ChinaSet_AllFiles/CXR_png/CHNCXR_0488_1.png  \n",
            "  inflating: ChinaSet_AllFiles/ChinaSet_AllFiles/CXR_png/CHNCXR_0489_1.png  \n",
            "  inflating: ChinaSet_AllFiles/ChinaSet_AllFiles/CXR_png/CHNCXR_0490_1.png  \n",
            "  inflating: ChinaSet_AllFiles/ChinaSet_AllFiles/CXR_png/CHNCXR_0491_1.png  \n",
            "  inflating: ChinaSet_AllFiles/ChinaSet_AllFiles/CXR_png/CHNCXR_0492_1.png  \n",
            "  inflating: ChinaSet_AllFiles/ChinaSet_AllFiles/CXR_png/CHNCXR_0493_1.png  \n",
            "  inflating: ChinaSet_AllFiles/ChinaSet_AllFiles/CXR_png/CHNCXR_0494_1.png  \n",
            "  inflating: ChinaSet_AllFiles/ChinaSet_AllFiles/CXR_png/CHNCXR_0495_1.png  \n",
            "  inflating: ChinaSet_AllFiles/ChinaSet_AllFiles/CXR_png/CHNCXR_0496_1.png  \n",
            "  inflating: ChinaSet_AllFiles/ChinaSet_AllFiles/CXR_png/CHNCXR_0497_1.png  \n",
            "  inflating: ChinaSet_AllFiles/ChinaSet_AllFiles/CXR_png/CHNCXR_0498_1.png  \n",
            "  inflating: ChinaSet_AllFiles/ChinaSet_AllFiles/CXR_png/CHNCXR_0499_1.png  \n",
            "  inflating: ChinaSet_AllFiles/ChinaSet_AllFiles/CXR_png/CHNCXR_0500_1.png  \n",
            "  inflating: ChinaSet_AllFiles/ChinaSet_AllFiles/CXR_png/CHNCXR_0501_1.png  \n",
            "  inflating: ChinaSet_AllFiles/ChinaSet_AllFiles/CXR_png/CHNCXR_0502_1.png  \n",
            "  inflating: ChinaSet_AllFiles/ChinaSet_AllFiles/CXR_png/CHNCXR_0503_1.png  \n",
            "  inflating: ChinaSet_AllFiles/ChinaSet_AllFiles/CXR_png/CHNCXR_0504_1.png  \n",
            "  inflating: ChinaSet_AllFiles/ChinaSet_AllFiles/CXR_png/CHNCXR_0505_1.png  \n",
            "  inflating: ChinaSet_AllFiles/ChinaSet_AllFiles/CXR_png/CHNCXR_0506_1.png  \n",
            "  inflating: ChinaSet_AllFiles/ChinaSet_AllFiles/CXR_png/CHNCXR_0507_1.png  \n",
            "  inflating: ChinaSet_AllFiles/ChinaSet_AllFiles/CXR_png/CHNCXR_0508_1.png  \n",
            "  inflating: ChinaSet_AllFiles/ChinaSet_AllFiles/CXR_png/CHNCXR_0509_1.png  \n",
            "  inflating: ChinaSet_AllFiles/ChinaSet_AllFiles/CXR_png/CHNCXR_0510_1.png  \n",
            "  inflating: ChinaSet_AllFiles/ChinaSet_AllFiles/CXR_png/CHNCXR_0511_1.png  \n",
            "  inflating: ChinaSet_AllFiles/ChinaSet_AllFiles/CXR_png/CHNCXR_0512_1.png  \n",
            "  inflating: ChinaSet_AllFiles/ChinaSet_AllFiles/CXR_png/CHNCXR_0513_1.png  \n",
            "  inflating: ChinaSet_AllFiles/ChinaSet_AllFiles/CXR_png/CHNCXR_0514_1.png  \n",
            "  inflating: ChinaSet_AllFiles/ChinaSet_AllFiles/CXR_png/CHNCXR_0515_1.png  \n",
            "  inflating: ChinaSet_AllFiles/ChinaSet_AllFiles/CXR_png/CHNCXR_0516_1.png  \n",
            "  inflating: ChinaSet_AllFiles/ChinaSet_AllFiles/CXR_png/CHNCXR_0517_1.png  \n",
            "  inflating: ChinaSet_AllFiles/ChinaSet_AllFiles/CXR_png/CHNCXR_0518_1.png  \n",
            "  inflating: ChinaSet_AllFiles/ChinaSet_AllFiles/CXR_png/CHNCXR_0519_1.png  \n",
            "  inflating: ChinaSet_AllFiles/ChinaSet_AllFiles/CXR_png/CHNCXR_0520_1.png  \n",
            "  inflating: ChinaSet_AllFiles/ChinaSet_AllFiles/CXR_png/CHNCXR_0521_1.png  \n",
            "  inflating: ChinaSet_AllFiles/ChinaSet_AllFiles/CXR_png/CHNCXR_0522_1.png  \n",
            "  inflating: ChinaSet_AllFiles/ChinaSet_AllFiles/CXR_png/CHNCXR_0523_1.png  \n",
            "  inflating: ChinaSet_AllFiles/ChinaSet_AllFiles/CXR_png/CHNCXR_0524_1.png  \n",
            "  inflating: ChinaSet_AllFiles/ChinaSet_AllFiles/CXR_png/CHNCXR_0525_1.png  \n",
            "  inflating: ChinaSet_AllFiles/ChinaSet_AllFiles/CXR_png/CHNCXR_0526_1.png  \n",
            "  inflating: ChinaSet_AllFiles/ChinaSet_AllFiles/CXR_png/CHNCXR_0527_1.png  \n",
            "  inflating: ChinaSet_AllFiles/ChinaSet_AllFiles/CXR_png/CHNCXR_0528_1.png  \n",
            "  inflating: ChinaSet_AllFiles/ChinaSet_AllFiles/CXR_png/CHNCXR_0529_1.png  \n",
            "  inflating: ChinaSet_AllFiles/ChinaSet_AllFiles/CXR_png/CHNCXR_0530_1.png  \n",
            "  inflating: ChinaSet_AllFiles/ChinaSet_AllFiles/CXR_png/CHNCXR_0531_1.png  \n",
            "  inflating: ChinaSet_AllFiles/ChinaSet_AllFiles/CXR_png/CHNCXR_0532_1.png  \n",
            "  inflating: ChinaSet_AllFiles/ChinaSet_AllFiles/CXR_png/CHNCXR_0533_1.png  \n",
            "  inflating: ChinaSet_AllFiles/ChinaSet_AllFiles/CXR_png/CHNCXR_0534_1.png  \n",
            "  inflating: ChinaSet_AllFiles/ChinaSet_AllFiles/CXR_png/CHNCXR_0535_1.png  \n",
            "  inflating: ChinaSet_AllFiles/ChinaSet_AllFiles/CXR_png/CHNCXR_0536_1.png  \n",
            "  inflating: ChinaSet_AllFiles/ChinaSet_AllFiles/CXR_png/CHNCXR_0537_1.png  \n",
            "  inflating: ChinaSet_AllFiles/ChinaSet_AllFiles/CXR_png/CHNCXR_0538_1.png  \n",
            "  inflating: ChinaSet_AllFiles/ChinaSet_AllFiles/CXR_png/CHNCXR_0539_1.png  \n",
            "  inflating: ChinaSet_AllFiles/ChinaSet_AllFiles/CXR_png/CHNCXR_0540_1.png  \n",
            "  inflating: ChinaSet_AllFiles/ChinaSet_AllFiles/CXR_png/CHNCXR_0541_1.png  \n",
            "  inflating: ChinaSet_AllFiles/ChinaSet_AllFiles/CXR_png/CHNCXR_0542_1.png  \n",
            "  inflating: ChinaSet_AllFiles/ChinaSet_AllFiles/CXR_png/CHNCXR_0543_1.png  \n",
            "  inflating: ChinaSet_AllFiles/ChinaSet_AllFiles/CXR_png/CHNCXR_0544_1.png  \n",
            "  inflating: ChinaSet_AllFiles/ChinaSet_AllFiles/CXR_png/CHNCXR_0545_1.png  \n",
            "  inflating: ChinaSet_AllFiles/ChinaSet_AllFiles/CXR_png/CHNCXR_0546_1.png  \n",
            "  inflating: ChinaSet_AllFiles/ChinaSet_AllFiles/CXR_png/CHNCXR_0547_1.png  \n",
            "  inflating: ChinaSet_AllFiles/ChinaSet_AllFiles/CXR_png/CHNCXR_0548_1.png  \n",
            "  inflating: ChinaSet_AllFiles/ChinaSet_AllFiles/CXR_png/CHNCXR_0549_1.png  \n",
            "  inflating: ChinaSet_AllFiles/ChinaSet_AllFiles/CXR_png/CHNCXR_0550_1.png  \n",
            "  inflating: ChinaSet_AllFiles/ChinaSet_AllFiles/CXR_png/CHNCXR_0551_1.png  \n",
            "  inflating: ChinaSet_AllFiles/ChinaSet_AllFiles/CXR_png/CHNCXR_0552_1.png  \n",
            "  inflating: ChinaSet_AllFiles/ChinaSet_AllFiles/CXR_png/CHNCXR_0553_1.png  \n",
            "  inflating: ChinaSet_AllFiles/ChinaSet_AllFiles/CXR_png/CHNCXR_0554_1.png  \n",
            "  inflating: ChinaSet_AllFiles/ChinaSet_AllFiles/CXR_png/CHNCXR_0555_1.png  \n",
            "  inflating: ChinaSet_AllFiles/ChinaSet_AllFiles/CXR_png/CHNCXR_0556_1.png  \n",
            "  inflating: ChinaSet_AllFiles/ChinaSet_AllFiles/CXR_png/CHNCXR_0557_1.png  \n",
            "  inflating: ChinaSet_AllFiles/ChinaSet_AllFiles/CXR_png/CHNCXR_0558_1.png  \n",
            "  inflating: ChinaSet_AllFiles/ChinaSet_AllFiles/CXR_png/CHNCXR_0559_1.png  \n",
            "  inflating: ChinaSet_AllFiles/ChinaSet_AllFiles/CXR_png/CHNCXR_0560_1.png  \n",
            "  inflating: ChinaSet_AllFiles/ChinaSet_AllFiles/CXR_png/CHNCXR_0561_1.png  \n",
            "  inflating: ChinaSet_AllFiles/ChinaSet_AllFiles/CXR_png/CHNCXR_0562_1.png  \n",
            "  inflating: ChinaSet_AllFiles/ChinaSet_AllFiles/CXR_png/CHNCXR_0563_1.png  \n",
            "  inflating: ChinaSet_AllFiles/ChinaSet_AllFiles/CXR_png/CHNCXR_0564_1.png  \n",
            "  inflating: ChinaSet_AllFiles/ChinaSet_AllFiles/CXR_png/CHNCXR_0565_1.png  \n",
            "  inflating: ChinaSet_AllFiles/ChinaSet_AllFiles/CXR_png/CHNCXR_0566_1.png  \n",
            "  inflating: ChinaSet_AllFiles/ChinaSet_AllFiles/CXR_png/CHNCXR_0567_1.png  \n",
            "  inflating: ChinaSet_AllFiles/ChinaSet_AllFiles/CXR_png/CHNCXR_0568_1.png  \n",
            "  inflating: ChinaSet_AllFiles/ChinaSet_AllFiles/CXR_png/CHNCXR_0569_1.png  \n",
            "  inflating: ChinaSet_AllFiles/ChinaSet_AllFiles/CXR_png/CHNCXR_0570_1.png  \n",
            "  inflating: ChinaSet_AllFiles/ChinaSet_AllFiles/CXR_png/CHNCXR_0571_1.png  \n",
            "  inflating: ChinaSet_AllFiles/ChinaSet_AllFiles/CXR_png/CHNCXR_0572_1.png  \n",
            "  inflating: ChinaSet_AllFiles/ChinaSet_AllFiles/CXR_png/CHNCXR_0573_1.png  \n",
            "  inflating: ChinaSet_AllFiles/ChinaSet_AllFiles/CXR_png/CHNCXR_0574_1.png  \n",
            "  inflating: ChinaSet_AllFiles/ChinaSet_AllFiles/CXR_png/CHNCXR_0575_1.png  \n",
            "  inflating: ChinaSet_AllFiles/ChinaSet_AllFiles/CXR_png/CHNCXR_0576_1.png  \n",
            "  inflating: ChinaSet_AllFiles/ChinaSet_AllFiles/CXR_png/CHNCXR_0577_1.png  \n",
            "  inflating: ChinaSet_AllFiles/ChinaSet_AllFiles/CXR_png/CHNCXR_0578_1.png  \n",
            "  inflating: ChinaSet_AllFiles/ChinaSet_AllFiles/CXR_png/CHNCXR_0579_1.png  \n",
            "  inflating: ChinaSet_AllFiles/ChinaSet_AllFiles/CXR_png/CHNCXR_0580_1.png  \n",
            "  inflating: ChinaSet_AllFiles/ChinaSet_AllFiles/CXR_png/CHNCXR_0581_1.png  \n",
            "  inflating: ChinaSet_AllFiles/ChinaSet_AllFiles/CXR_png/CHNCXR_0582_1.png  \n",
            "  inflating: ChinaSet_AllFiles/ChinaSet_AllFiles/CXR_png/CHNCXR_0583_1.png  \n",
            "  inflating: ChinaSet_AllFiles/ChinaSet_AllFiles/CXR_png/CHNCXR_0584_1.png  \n",
            "  inflating: ChinaSet_AllFiles/ChinaSet_AllFiles/CXR_png/CHNCXR_0585_1.png  \n",
            "  inflating: ChinaSet_AllFiles/ChinaSet_AllFiles/CXR_png/CHNCXR_0586_1.png  \n",
            "  inflating: ChinaSet_AllFiles/ChinaSet_AllFiles/CXR_png/CHNCXR_0587_1.png  \n",
            "  inflating: ChinaSet_AllFiles/ChinaSet_AllFiles/CXR_png/CHNCXR_0588_1.png  \n",
            "  inflating: ChinaSet_AllFiles/ChinaSet_AllFiles/CXR_png/CHNCXR_0589_1.png  \n",
            "  inflating: ChinaSet_AllFiles/ChinaSet_AllFiles/CXR_png/CHNCXR_0590_1.png  \n",
            "  inflating: ChinaSet_AllFiles/ChinaSet_AllFiles/CXR_png/CHNCXR_0591_1.png  \n",
            "  inflating: ChinaSet_AllFiles/ChinaSet_AllFiles/CXR_png/CHNCXR_0592_1.png  \n",
            "  inflating: ChinaSet_AllFiles/ChinaSet_AllFiles/CXR_png/CHNCXR_0593_1.png  \n",
            "  inflating: ChinaSet_AllFiles/ChinaSet_AllFiles/CXR_png/CHNCXR_0594_1.png  \n",
            "  inflating: ChinaSet_AllFiles/ChinaSet_AllFiles/CXR_png/CHNCXR_0595_1.png  \n",
            "  inflating: ChinaSet_AllFiles/ChinaSet_AllFiles/CXR_png/CHNCXR_0596_1.png  \n",
            "  inflating: ChinaSet_AllFiles/ChinaSet_AllFiles/CXR_png/CHNCXR_0597_1.png  \n",
            "  inflating: ChinaSet_AllFiles/ChinaSet_AllFiles/CXR_png/CHNCXR_0598_1.png  \n",
            "  inflating: ChinaSet_AllFiles/ChinaSet_AllFiles/CXR_png/CHNCXR_0599_1.png  \n",
            "  inflating: ChinaSet_AllFiles/ChinaSet_AllFiles/CXR_png/CHNCXR_0600_1.png  \n",
            "  inflating: ChinaSet_AllFiles/ChinaSet_AllFiles/CXR_png/CHNCXR_0601_1.png  \n",
            "  inflating: ChinaSet_AllFiles/ChinaSet_AllFiles/CXR_png/CHNCXR_0602_1.png  \n",
            "  inflating: ChinaSet_AllFiles/ChinaSet_AllFiles/CXR_png/CHNCXR_0603_1.png  \n",
            "  inflating: ChinaSet_AllFiles/ChinaSet_AllFiles/CXR_png/CHNCXR_0604_1.png  \n",
            "  inflating: ChinaSet_AllFiles/ChinaSet_AllFiles/CXR_png/CHNCXR_0605_1.png  \n",
            "  inflating: ChinaSet_AllFiles/ChinaSet_AllFiles/CXR_png/CHNCXR_0606_1.png  \n",
            "  inflating: ChinaSet_AllFiles/ChinaSet_AllFiles/CXR_png/CHNCXR_0607_1.png  \n",
            "  inflating: ChinaSet_AllFiles/ChinaSet_AllFiles/CXR_png/CHNCXR_0608_1.png  \n",
            "  inflating: ChinaSet_AllFiles/ChinaSet_AllFiles/CXR_png/CHNCXR_0609_1.png  \n",
            "  inflating: ChinaSet_AllFiles/ChinaSet_AllFiles/CXR_png/CHNCXR_0610_1.png  \n",
            "  inflating: ChinaSet_AllFiles/ChinaSet_AllFiles/CXR_png/CHNCXR_0611_1.png  \n",
            "  inflating: ChinaSet_AllFiles/ChinaSet_AllFiles/CXR_png/CHNCXR_0612_1.png  \n",
            "  inflating: ChinaSet_AllFiles/ChinaSet_AllFiles/CXR_png/CHNCXR_0613_1.png  \n",
            "  inflating: ChinaSet_AllFiles/ChinaSet_AllFiles/CXR_png/CHNCXR_0614_1.png  \n",
            "  inflating: ChinaSet_AllFiles/ChinaSet_AllFiles/CXR_png/CHNCXR_0615_1.png  \n",
            "  inflating: ChinaSet_AllFiles/ChinaSet_AllFiles/CXR_png/CHNCXR_0616_1.png  \n",
            "  inflating: ChinaSet_AllFiles/ChinaSet_AllFiles/CXR_png/CHNCXR_0617_1.png  \n",
            "  inflating: ChinaSet_AllFiles/ChinaSet_AllFiles/CXR_png/CHNCXR_0618_1.png  \n",
            "  inflating: ChinaSet_AllFiles/ChinaSet_AllFiles/CXR_png/CHNCXR_0619_1.png  \n",
            "  inflating: ChinaSet_AllFiles/ChinaSet_AllFiles/CXR_png/CHNCXR_0620_1.png  \n",
            "  inflating: ChinaSet_AllFiles/ChinaSet_AllFiles/CXR_png/CHNCXR_0621_1.png  \n",
            "  inflating: ChinaSet_AllFiles/ChinaSet_AllFiles/CXR_png/CHNCXR_0622_1.png  \n",
            "  inflating: ChinaSet_AllFiles/ChinaSet_AllFiles/CXR_png/CHNCXR_0623_1.png  \n",
            "  inflating: ChinaSet_AllFiles/ChinaSet_AllFiles/CXR_png/CHNCXR_0624_1.png  \n",
            "  inflating: ChinaSet_AllFiles/ChinaSet_AllFiles/CXR_png/CHNCXR_0625_1.png  \n",
            "  inflating: ChinaSet_AllFiles/ChinaSet_AllFiles/CXR_png/CHNCXR_0626_1.png  \n",
            "  inflating: ChinaSet_AllFiles/ChinaSet_AllFiles/CXR_png/CHNCXR_0627_1.png  \n",
            "  inflating: ChinaSet_AllFiles/ChinaSet_AllFiles/CXR_png/CHNCXR_0628_1.png  \n",
            "  inflating: ChinaSet_AllFiles/ChinaSet_AllFiles/CXR_png/CHNCXR_0629_1.png  \n",
            "  inflating: ChinaSet_AllFiles/ChinaSet_AllFiles/CXR_png/CHNCXR_0630_1.png  \n",
            "  inflating: ChinaSet_AllFiles/ChinaSet_AllFiles/CXR_png/CHNCXR_0631_1.png  \n",
            "  inflating: ChinaSet_AllFiles/ChinaSet_AllFiles/CXR_png/CHNCXR_0632_1.png  \n",
            "  inflating: ChinaSet_AllFiles/ChinaSet_AllFiles/CXR_png/CHNCXR_0633_1.png  \n",
            "  inflating: ChinaSet_AllFiles/ChinaSet_AllFiles/CXR_png/CHNCXR_0634_1.png  \n",
            "  inflating: ChinaSet_AllFiles/ChinaSet_AllFiles/CXR_png/CHNCXR_0635_1.png  \n",
            "  inflating: ChinaSet_AllFiles/ChinaSet_AllFiles/CXR_png/CHNCXR_0636_1.png  \n",
            "  inflating: ChinaSet_AllFiles/ChinaSet_AllFiles/CXR_png/CHNCXR_0637_1.png  \n",
            "  inflating: ChinaSet_AllFiles/ChinaSet_AllFiles/CXR_png/CHNCXR_0638_1.png  \n",
            "  inflating: ChinaSet_AllFiles/ChinaSet_AllFiles/CXR_png/CHNCXR_0639_1.png  \n",
            "  inflating: ChinaSet_AllFiles/ChinaSet_AllFiles/CXR_png/CHNCXR_0640_1.png  \n",
            "  inflating: ChinaSet_AllFiles/ChinaSet_AllFiles/CXR_png/CHNCXR_0641_1.png  \n",
            "  inflating: ChinaSet_AllFiles/ChinaSet_AllFiles/CXR_png/CHNCXR_0642_1.png  \n",
            "  inflating: ChinaSet_AllFiles/ChinaSet_AllFiles/CXR_png/CHNCXR_0643_1.png  \n",
            "  inflating: ChinaSet_AllFiles/ChinaSet_AllFiles/CXR_png/CHNCXR_0644_1.png  \n",
            "  inflating: ChinaSet_AllFiles/ChinaSet_AllFiles/CXR_png/CHNCXR_0645_1.png  \n",
            "  inflating: ChinaSet_AllFiles/ChinaSet_AllFiles/CXR_png/CHNCXR_0646_1.png  \n",
            "  inflating: ChinaSet_AllFiles/ChinaSet_AllFiles/CXR_png/CHNCXR_0647_1.png  \n",
            "  inflating: ChinaSet_AllFiles/ChinaSet_AllFiles/CXR_png/CHNCXR_0648_1.png  \n",
            "  inflating: ChinaSet_AllFiles/ChinaSet_AllFiles/CXR_png/CHNCXR_0649_1.png  \n",
            "  inflating: ChinaSet_AllFiles/ChinaSet_AllFiles/CXR_png/CHNCXR_0650_1.png  \n",
            "  inflating: ChinaSet_AllFiles/ChinaSet_AllFiles/CXR_png/CHNCXR_0651_1.png  \n",
            "  inflating: ChinaSet_AllFiles/ChinaSet_AllFiles/CXR_png/CHNCXR_0652_1.png  \n",
            "  inflating: ChinaSet_AllFiles/ChinaSet_AllFiles/CXR_png/CHNCXR_0653_1.png  \n",
            "  inflating: ChinaSet_AllFiles/ChinaSet_AllFiles/CXR_png/CHNCXR_0654_1.png  \n",
            "  inflating: ChinaSet_AllFiles/ChinaSet_AllFiles/CXR_png/CHNCXR_0655_1.png  \n",
            "  inflating: ChinaSet_AllFiles/ChinaSet_AllFiles/CXR_png/CHNCXR_0656_1.png  \n",
            "  inflating: ChinaSet_AllFiles/ChinaSet_AllFiles/CXR_png/CHNCXR_0657_1.png  \n",
            "  inflating: ChinaSet_AllFiles/ChinaSet_AllFiles/CXR_png/CHNCXR_0658_1.png  \n",
            "  inflating: ChinaSet_AllFiles/ChinaSet_AllFiles/CXR_png/CHNCXR_0659_1.png  \n",
            "  inflating: ChinaSet_AllFiles/ChinaSet_AllFiles/CXR_png/CHNCXR_0660_1.png  \n",
            "  inflating: ChinaSet_AllFiles/ChinaSet_AllFiles/CXR_png/CHNCXR_0661_1.png  \n",
            "  inflating: ChinaSet_AllFiles/ChinaSet_AllFiles/CXR_png/CHNCXR_0662_1.png  \n",
            "  inflating: ChinaSet_AllFiles/ChinaSet_AllFiles/CXR_png/Thumbs.db  \n",
            "  inflating: ChinaSet_AllFiles/ChinaSet_AllFiles/ClinicalReadings/CHNCXR_0001_0.txt  \n",
            "  inflating: ChinaSet_AllFiles/ChinaSet_AllFiles/ClinicalReadings/CHNCXR_0002_0.txt  \n",
            "  inflating: ChinaSet_AllFiles/ChinaSet_AllFiles/ClinicalReadings/CHNCXR_0003_0.txt  \n",
            "  inflating: ChinaSet_AllFiles/ChinaSet_AllFiles/ClinicalReadings/CHNCXR_0004_0.txt  \n",
            "  inflating: ChinaSet_AllFiles/ChinaSet_AllFiles/ClinicalReadings/CHNCXR_0005_0.txt  \n",
            "  inflating: ChinaSet_AllFiles/ChinaSet_AllFiles/ClinicalReadings/CHNCXR_0006_0.txt  \n",
            "  inflating: ChinaSet_AllFiles/ChinaSet_AllFiles/ClinicalReadings/CHNCXR_0007_0.txt  \n",
            "  inflating: ChinaSet_AllFiles/ChinaSet_AllFiles/ClinicalReadings/CHNCXR_0008_0.txt  \n",
            "  inflating: ChinaSet_AllFiles/ChinaSet_AllFiles/ClinicalReadings/CHNCXR_0009_0.txt  \n",
            "  inflating: ChinaSet_AllFiles/ChinaSet_AllFiles/ClinicalReadings/CHNCXR_0010_0.txt  \n",
            "  inflating: ChinaSet_AllFiles/ChinaSet_AllFiles/ClinicalReadings/CHNCXR_0011_0.txt  \n",
            "  inflating: ChinaSet_AllFiles/ChinaSet_AllFiles/ClinicalReadings/CHNCXR_0012_0.txt  \n",
            "  inflating: ChinaSet_AllFiles/ChinaSet_AllFiles/ClinicalReadings/CHNCXR_0013_0.txt  \n",
            "  inflating: ChinaSet_AllFiles/ChinaSet_AllFiles/ClinicalReadings/CHNCXR_0014_0.txt  \n",
            "  inflating: ChinaSet_AllFiles/ChinaSet_AllFiles/ClinicalReadings/CHNCXR_0015_0.txt  \n",
            "  inflating: ChinaSet_AllFiles/ChinaSet_AllFiles/ClinicalReadings/CHNCXR_0016_0.txt  \n",
            "  inflating: ChinaSet_AllFiles/ChinaSet_AllFiles/ClinicalReadings/CHNCXR_0017_0.txt  \n",
            "  inflating: ChinaSet_AllFiles/ChinaSet_AllFiles/ClinicalReadings/CHNCXR_0018_0.txt  \n",
            "  inflating: ChinaSet_AllFiles/ChinaSet_AllFiles/ClinicalReadings/CHNCXR_0019_0.txt  \n",
            "  inflating: ChinaSet_AllFiles/ChinaSet_AllFiles/ClinicalReadings/CHNCXR_0020_0.txt  \n",
            "  inflating: ChinaSet_AllFiles/ChinaSet_AllFiles/ClinicalReadings/CHNCXR_0021_0.txt  \n",
            "  inflating: ChinaSet_AllFiles/ChinaSet_AllFiles/ClinicalReadings/CHNCXR_0022_0.txt  \n",
            "  inflating: ChinaSet_AllFiles/ChinaSet_AllFiles/ClinicalReadings/CHNCXR_0023_0.txt  \n",
            "  inflating: ChinaSet_AllFiles/ChinaSet_AllFiles/ClinicalReadings/CHNCXR_0024_0.txt  \n",
            "  inflating: ChinaSet_AllFiles/ChinaSet_AllFiles/ClinicalReadings/CHNCXR_0025_0.txt  \n",
            "  inflating: ChinaSet_AllFiles/ChinaSet_AllFiles/ClinicalReadings/CHNCXR_0026_0.txt  \n",
            "  inflating: ChinaSet_AllFiles/ChinaSet_AllFiles/ClinicalReadings/CHNCXR_0027_0.txt  \n",
            "  inflating: ChinaSet_AllFiles/ChinaSet_AllFiles/ClinicalReadings/CHNCXR_0028_0.txt  \n",
            "  inflating: ChinaSet_AllFiles/ChinaSet_AllFiles/ClinicalReadings/CHNCXR_0029_0.txt  \n",
            "  inflating: ChinaSet_AllFiles/ChinaSet_AllFiles/ClinicalReadings/CHNCXR_0030_0.txt  \n",
            "  inflating: ChinaSet_AllFiles/ChinaSet_AllFiles/ClinicalReadings/CHNCXR_0031_0.txt  \n",
            "  inflating: ChinaSet_AllFiles/ChinaSet_AllFiles/ClinicalReadings/CHNCXR_0032_0.txt  \n",
            "  inflating: ChinaSet_AllFiles/ChinaSet_AllFiles/ClinicalReadings/CHNCXR_0033_0.txt  \n",
            "  inflating: ChinaSet_AllFiles/ChinaSet_AllFiles/ClinicalReadings/CHNCXR_0034_0.txt  \n",
            "  inflating: ChinaSet_AllFiles/ChinaSet_AllFiles/ClinicalReadings/CHNCXR_0035_0.txt  \n",
            "  inflating: ChinaSet_AllFiles/ChinaSet_AllFiles/ClinicalReadings/CHNCXR_0036_0.txt  \n",
            "  inflating: ChinaSet_AllFiles/ChinaSet_AllFiles/ClinicalReadings/CHNCXR_0037_0.txt  \n",
            "  inflating: ChinaSet_AllFiles/ChinaSet_AllFiles/ClinicalReadings/CHNCXR_0038_0.txt  \n",
            "  inflating: ChinaSet_AllFiles/ChinaSet_AllFiles/ClinicalReadings/CHNCXR_0039_0.txt  \n",
            "  inflating: ChinaSet_AllFiles/ChinaSet_AllFiles/ClinicalReadings/CHNCXR_0040_0.txt  \n",
            "  inflating: ChinaSet_AllFiles/ChinaSet_AllFiles/ClinicalReadings/CHNCXR_0041_0.txt  \n",
            "  inflating: ChinaSet_AllFiles/ChinaSet_AllFiles/ClinicalReadings/CHNCXR_0042_0.txt  \n",
            "  inflating: ChinaSet_AllFiles/ChinaSet_AllFiles/ClinicalReadings/CHNCXR_0043_0.txt  \n",
            "  inflating: ChinaSet_AllFiles/ChinaSet_AllFiles/ClinicalReadings/CHNCXR_0044_0.txt  \n",
            "  inflating: ChinaSet_AllFiles/ChinaSet_AllFiles/ClinicalReadings/CHNCXR_0045_0.txt  \n",
            "  inflating: ChinaSet_AllFiles/ChinaSet_AllFiles/ClinicalReadings/CHNCXR_0046_0.txt  \n",
            "  inflating: ChinaSet_AllFiles/ChinaSet_AllFiles/ClinicalReadings/CHNCXR_0047_0.txt  \n",
            "  inflating: ChinaSet_AllFiles/ChinaSet_AllFiles/ClinicalReadings/CHNCXR_0048_0.txt  \n",
            "  inflating: ChinaSet_AllFiles/ChinaSet_AllFiles/ClinicalReadings/CHNCXR_0049_0.txt  \n",
            "  inflating: ChinaSet_AllFiles/ChinaSet_AllFiles/ClinicalReadings/CHNCXR_0050_0.txt  \n",
            "  inflating: ChinaSet_AllFiles/ChinaSet_AllFiles/ClinicalReadings/CHNCXR_0051_0.txt  \n",
            "  inflating: ChinaSet_AllFiles/ChinaSet_AllFiles/ClinicalReadings/CHNCXR_0052_0.txt  \n",
            "  inflating: ChinaSet_AllFiles/ChinaSet_AllFiles/ClinicalReadings/CHNCXR_0053_0.txt  \n",
            "  inflating: ChinaSet_AllFiles/ChinaSet_AllFiles/ClinicalReadings/CHNCXR_0054_0.txt  \n",
            "  inflating: ChinaSet_AllFiles/ChinaSet_AllFiles/ClinicalReadings/CHNCXR_0055_0.txt  \n",
            "  inflating: ChinaSet_AllFiles/ChinaSet_AllFiles/ClinicalReadings/CHNCXR_0056_0.txt  \n",
            "  inflating: ChinaSet_AllFiles/ChinaSet_AllFiles/ClinicalReadings/CHNCXR_0057_0.txt  \n",
            "  inflating: ChinaSet_AllFiles/ChinaSet_AllFiles/ClinicalReadings/CHNCXR_0058_0.txt  \n",
            "  inflating: ChinaSet_AllFiles/ChinaSet_AllFiles/ClinicalReadings/CHNCXR_0059_0.txt  \n",
            "  inflating: ChinaSet_AllFiles/ChinaSet_AllFiles/ClinicalReadings/CHNCXR_0060_0.txt  \n",
            "  inflating: ChinaSet_AllFiles/ChinaSet_AllFiles/ClinicalReadings/CHNCXR_0061_0.txt  \n",
            "  inflating: ChinaSet_AllFiles/ChinaSet_AllFiles/ClinicalReadings/CHNCXR_0062_0.txt  \n",
            "  inflating: ChinaSet_AllFiles/ChinaSet_AllFiles/ClinicalReadings/CHNCXR_0063_0.txt  \n",
            "  inflating: ChinaSet_AllFiles/ChinaSet_AllFiles/ClinicalReadings/CHNCXR_0064_0.txt  \n",
            "  inflating: ChinaSet_AllFiles/ChinaSet_AllFiles/ClinicalReadings/CHNCXR_0065_0.txt  \n",
            "  inflating: ChinaSet_AllFiles/ChinaSet_AllFiles/ClinicalReadings/CHNCXR_0066_0.txt  \n",
            "  inflating: ChinaSet_AllFiles/ChinaSet_AllFiles/ClinicalReadings/CHNCXR_0067_0.txt  \n",
            "  inflating: ChinaSet_AllFiles/ChinaSet_AllFiles/ClinicalReadings/CHNCXR_0068_0.txt  \n",
            "  inflating: ChinaSet_AllFiles/ChinaSet_AllFiles/ClinicalReadings/CHNCXR_0069_0.txt  \n",
            "  inflating: ChinaSet_AllFiles/ChinaSet_AllFiles/ClinicalReadings/CHNCXR_0070_0.txt  \n",
            "  inflating: ChinaSet_AllFiles/ChinaSet_AllFiles/ClinicalReadings/CHNCXR_0071_0.txt  \n",
            "  inflating: ChinaSet_AllFiles/ChinaSet_AllFiles/ClinicalReadings/CHNCXR_0072_0.txt  \n",
            "  inflating: ChinaSet_AllFiles/ChinaSet_AllFiles/ClinicalReadings/CHNCXR_0073_0.txt  \n",
            "  inflating: ChinaSet_AllFiles/ChinaSet_AllFiles/ClinicalReadings/CHNCXR_0074_0.txt  \n",
            "  inflating: ChinaSet_AllFiles/ChinaSet_AllFiles/ClinicalReadings/CHNCXR_0075_0.txt  \n",
            "  inflating: ChinaSet_AllFiles/ChinaSet_AllFiles/ClinicalReadings/CHNCXR_0076_0.txt  \n",
            "  inflating: ChinaSet_AllFiles/ChinaSet_AllFiles/ClinicalReadings/CHNCXR_0077_0.txt  \n",
            "  inflating: ChinaSet_AllFiles/ChinaSet_AllFiles/ClinicalReadings/CHNCXR_0078_0.txt  \n",
            "  inflating: ChinaSet_AllFiles/ChinaSet_AllFiles/ClinicalReadings/CHNCXR_0079_0.txt  \n",
            "  inflating: ChinaSet_AllFiles/ChinaSet_AllFiles/ClinicalReadings/CHNCXR_0080_0.txt  \n",
            "  inflating: ChinaSet_AllFiles/ChinaSet_AllFiles/ClinicalReadings/CHNCXR_0081_0.txt  \n",
            "  inflating: ChinaSet_AllFiles/ChinaSet_AllFiles/ClinicalReadings/CHNCXR_0082_0.txt  \n",
            "  inflating: ChinaSet_AllFiles/ChinaSet_AllFiles/ClinicalReadings/CHNCXR_0083_0.txt  \n",
            "  inflating: ChinaSet_AllFiles/ChinaSet_AllFiles/ClinicalReadings/CHNCXR_0084_0.txt  \n",
            "  inflating: ChinaSet_AllFiles/ChinaSet_AllFiles/ClinicalReadings/CHNCXR_0085_0.txt  \n",
            "  inflating: ChinaSet_AllFiles/ChinaSet_AllFiles/ClinicalReadings/CHNCXR_0086_0.txt  \n",
            "  inflating: ChinaSet_AllFiles/ChinaSet_AllFiles/ClinicalReadings/CHNCXR_0087_0.txt  \n",
            "  inflating: ChinaSet_AllFiles/ChinaSet_AllFiles/ClinicalReadings/CHNCXR_0088_0.txt  \n",
            "  inflating: ChinaSet_AllFiles/ChinaSet_AllFiles/ClinicalReadings/CHNCXR_0089_0.txt  \n",
            "  inflating: ChinaSet_AllFiles/ChinaSet_AllFiles/ClinicalReadings/CHNCXR_0090_0.txt  \n",
            "  inflating: ChinaSet_AllFiles/ChinaSet_AllFiles/ClinicalReadings/CHNCXR_0091_0.txt  \n",
            "  inflating: ChinaSet_AllFiles/ChinaSet_AllFiles/ClinicalReadings/CHNCXR_0092_0.txt  \n",
            "  inflating: ChinaSet_AllFiles/ChinaSet_AllFiles/ClinicalReadings/CHNCXR_0093_0.txt  \n",
            "  inflating: ChinaSet_AllFiles/ChinaSet_AllFiles/ClinicalReadings/CHNCXR_0094_0.txt  \n",
            "  inflating: ChinaSet_AllFiles/ChinaSet_AllFiles/ClinicalReadings/CHNCXR_0095_0.txt  \n",
            "  inflating: ChinaSet_AllFiles/ChinaSet_AllFiles/ClinicalReadings/CHNCXR_0096_0.txt  \n",
            "  inflating: ChinaSet_AllFiles/ChinaSet_AllFiles/ClinicalReadings/CHNCXR_0097_0.txt  \n",
            "  inflating: ChinaSet_AllFiles/ChinaSet_AllFiles/ClinicalReadings/CHNCXR_0098_0.txt  \n",
            "  inflating: ChinaSet_AllFiles/ChinaSet_AllFiles/ClinicalReadings/CHNCXR_0099_0.txt  \n",
            "  inflating: ChinaSet_AllFiles/ChinaSet_AllFiles/ClinicalReadings/CHNCXR_0100_0.txt  \n",
            "  inflating: ChinaSet_AllFiles/ChinaSet_AllFiles/ClinicalReadings/CHNCXR_0101_0.txt  \n",
            "  inflating: ChinaSet_AllFiles/ChinaSet_AllFiles/ClinicalReadings/CHNCXR_0102_0.txt  \n",
            "  inflating: ChinaSet_AllFiles/ChinaSet_AllFiles/ClinicalReadings/CHNCXR_0103_0.txt  \n",
            "  inflating: ChinaSet_AllFiles/ChinaSet_AllFiles/ClinicalReadings/CHNCXR_0104_0.txt  \n",
            "  inflating: ChinaSet_AllFiles/ChinaSet_AllFiles/ClinicalReadings/CHNCXR_0105_0.txt  \n",
            "  inflating: ChinaSet_AllFiles/ChinaSet_AllFiles/ClinicalReadings/CHNCXR_0106_0.txt  \n",
            "  inflating: ChinaSet_AllFiles/ChinaSet_AllFiles/ClinicalReadings/CHNCXR_0107_0.txt  \n",
            "  inflating: ChinaSet_AllFiles/ChinaSet_AllFiles/ClinicalReadings/CHNCXR_0108_0.txt  \n",
            "  inflating: ChinaSet_AllFiles/ChinaSet_AllFiles/ClinicalReadings/CHNCXR_0109_0.txt  \n",
            "  inflating: ChinaSet_AllFiles/ChinaSet_AllFiles/ClinicalReadings/CHNCXR_0110_0.txt  \n",
            "  inflating: ChinaSet_AllFiles/ChinaSet_AllFiles/ClinicalReadings/CHNCXR_0111_0.txt  \n",
            "  inflating: ChinaSet_AllFiles/ChinaSet_AllFiles/ClinicalReadings/CHNCXR_0112_0.txt  \n",
            "  inflating: ChinaSet_AllFiles/ChinaSet_AllFiles/ClinicalReadings/CHNCXR_0113_0.txt  \n",
            "  inflating: ChinaSet_AllFiles/ChinaSet_AllFiles/ClinicalReadings/CHNCXR_0114_0.txt  \n",
            "  inflating: ChinaSet_AllFiles/ChinaSet_AllFiles/ClinicalReadings/CHNCXR_0115_0.txt  \n",
            "  inflating: ChinaSet_AllFiles/ChinaSet_AllFiles/ClinicalReadings/CHNCXR_0116_0.txt  \n",
            "  inflating: ChinaSet_AllFiles/ChinaSet_AllFiles/ClinicalReadings/CHNCXR_0117_0.txt  \n",
            "  inflating: ChinaSet_AllFiles/ChinaSet_AllFiles/ClinicalReadings/CHNCXR_0118_0.txt  \n",
            "  inflating: ChinaSet_AllFiles/ChinaSet_AllFiles/ClinicalReadings/CHNCXR_0119_0.txt  \n",
            "  inflating: ChinaSet_AllFiles/ChinaSet_AllFiles/ClinicalReadings/CHNCXR_0120_0.txt  \n",
            "  inflating: ChinaSet_AllFiles/ChinaSet_AllFiles/ClinicalReadings/CHNCXR_0121_0.txt  \n",
            "  inflating: ChinaSet_AllFiles/ChinaSet_AllFiles/ClinicalReadings/CHNCXR_0122_0.txt  \n",
            "  inflating: ChinaSet_AllFiles/ChinaSet_AllFiles/ClinicalReadings/CHNCXR_0123_0.txt  \n",
            "  inflating: ChinaSet_AllFiles/ChinaSet_AllFiles/ClinicalReadings/CHNCXR_0124_0.txt  \n",
            "  inflating: ChinaSet_AllFiles/ChinaSet_AllFiles/ClinicalReadings/CHNCXR_0125_0.txt  \n",
            "  inflating: ChinaSet_AllFiles/ChinaSet_AllFiles/ClinicalReadings/CHNCXR_0126_0.txt  \n",
            "  inflating: ChinaSet_AllFiles/ChinaSet_AllFiles/ClinicalReadings/CHNCXR_0127_0.txt  \n",
            "  inflating: ChinaSet_AllFiles/ChinaSet_AllFiles/ClinicalReadings/CHNCXR_0128_0.txt  \n",
            "  inflating: ChinaSet_AllFiles/ChinaSet_AllFiles/ClinicalReadings/CHNCXR_0129_0.txt  \n",
            "  inflating: ChinaSet_AllFiles/ChinaSet_AllFiles/ClinicalReadings/CHNCXR_0130_0.txt  \n",
            "  inflating: ChinaSet_AllFiles/ChinaSet_AllFiles/ClinicalReadings/CHNCXR_0131_0.txt  \n",
            "  inflating: ChinaSet_AllFiles/ChinaSet_AllFiles/ClinicalReadings/CHNCXR_0132_0.txt  \n",
            "  inflating: ChinaSet_AllFiles/ChinaSet_AllFiles/ClinicalReadings/CHNCXR_0133_0.txt  \n",
            "  inflating: ChinaSet_AllFiles/ChinaSet_AllFiles/ClinicalReadings/CHNCXR_0134_0.txt  \n",
            "  inflating: ChinaSet_AllFiles/ChinaSet_AllFiles/ClinicalReadings/CHNCXR_0135_0.txt  \n",
            "  inflating: ChinaSet_AllFiles/ChinaSet_AllFiles/ClinicalReadings/CHNCXR_0136_0.txt  \n",
            "  inflating: ChinaSet_AllFiles/ChinaSet_AllFiles/ClinicalReadings/CHNCXR_0137_0.txt  \n",
            "  inflating: ChinaSet_AllFiles/ChinaSet_AllFiles/ClinicalReadings/CHNCXR_0138_0.txt  \n",
            "  inflating: ChinaSet_AllFiles/ChinaSet_AllFiles/ClinicalReadings/CHNCXR_0139_0.txt  \n",
            "  inflating: ChinaSet_AllFiles/ChinaSet_AllFiles/ClinicalReadings/CHNCXR_0140_0.txt  \n",
            "  inflating: ChinaSet_AllFiles/ChinaSet_AllFiles/ClinicalReadings/CHNCXR_0141_0.txt  \n",
            "  inflating: ChinaSet_AllFiles/ChinaSet_AllFiles/ClinicalReadings/CHNCXR_0142_0.txt  \n",
            "  inflating: ChinaSet_AllFiles/ChinaSet_AllFiles/ClinicalReadings/CHNCXR_0143_0.txt  \n",
            "  inflating: ChinaSet_AllFiles/ChinaSet_AllFiles/ClinicalReadings/CHNCXR_0144_0.txt  \n",
            "  inflating: ChinaSet_AllFiles/ChinaSet_AllFiles/ClinicalReadings/CHNCXR_0145_0.txt  \n",
            "  inflating: ChinaSet_AllFiles/ChinaSet_AllFiles/ClinicalReadings/CHNCXR_0146_0.txt  \n",
            "  inflating: ChinaSet_AllFiles/ChinaSet_AllFiles/ClinicalReadings/CHNCXR_0147_0.txt  \n",
            "  inflating: ChinaSet_AllFiles/ChinaSet_AllFiles/ClinicalReadings/CHNCXR_0148_0.txt  \n",
            "  inflating: ChinaSet_AllFiles/ChinaSet_AllFiles/ClinicalReadings/CHNCXR_0149_0.txt  \n",
            "  inflating: ChinaSet_AllFiles/ChinaSet_AllFiles/ClinicalReadings/CHNCXR_0150_0.txt  \n",
            "  inflating: ChinaSet_AllFiles/ChinaSet_AllFiles/ClinicalReadings/CHNCXR_0151_0.txt  \n",
            "  inflating: ChinaSet_AllFiles/ChinaSet_AllFiles/ClinicalReadings/CHNCXR_0152_0.txt  \n",
            "  inflating: ChinaSet_AllFiles/ChinaSet_AllFiles/ClinicalReadings/CHNCXR_0153_0.txt  \n",
            "  inflating: ChinaSet_AllFiles/ChinaSet_AllFiles/ClinicalReadings/CHNCXR_0154_0.txt  \n",
            "  inflating: ChinaSet_AllFiles/ChinaSet_AllFiles/ClinicalReadings/CHNCXR_0155_0.txt  \n",
            "  inflating: ChinaSet_AllFiles/ChinaSet_AllFiles/ClinicalReadings/CHNCXR_0156_0.txt  \n",
            "  inflating: ChinaSet_AllFiles/ChinaSet_AllFiles/ClinicalReadings/CHNCXR_0157_0.txt  \n",
            "  inflating: ChinaSet_AllFiles/ChinaSet_AllFiles/ClinicalReadings/CHNCXR_0158_0.txt  \n",
            "  inflating: ChinaSet_AllFiles/ChinaSet_AllFiles/ClinicalReadings/CHNCXR_0159_0.txt  \n",
            "  inflating: ChinaSet_AllFiles/ChinaSet_AllFiles/ClinicalReadings/CHNCXR_0160_0.txt  \n",
            "  inflating: ChinaSet_AllFiles/ChinaSet_AllFiles/ClinicalReadings/CHNCXR_0161_0.txt  \n",
            "  inflating: ChinaSet_AllFiles/ChinaSet_AllFiles/ClinicalReadings/CHNCXR_0162_0.txt  \n",
            "  inflating: ChinaSet_AllFiles/ChinaSet_AllFiles/ClinicalReadings/CHNCXR_0163_0.txt  \n",
            "  inflating: ChinaSet_AllFiles/ChinaSet_AllFiles/ClinicalReadings/CHNCXR_0164_0.txt  \n",
            "  inflating: ChinaSet_AllFiles/ChinaSet_AllFiles/ClinicalReadings/CHNCXR_0165_0.txt  \n",
            "  inflating: ChinaSet_AllFiles/ChinaSet_AllFiles/ClinicalReadings/CHNCXR_0166_0.txt  \n",
            "  inflating: ChinaSet_AllFiles/ChinaSet_AllFiles/ClinicalReadings/CHNCXR_0167_0.txt  \n",
            "  inflating: ChinaSet_AllFiles/ChinaSet_AllFiles/ClinicalReadings/CHNCXR_0168_0.txt  \n",
            "  inflating: ChinaSet_AllFiles/ChinaSet_AllFiles/ClinicalReadings/CHNCXR_0169_0.txt  \n",
            "  inflating: ChinaSet_AllFiles/ChinaSet_AllFiles/ClinicalReadings/CHNCXR_0170_0.txt  \n",
            "  inflating: ChinaSet_AllFiles/ChinaSet_AllFiles/ClinicalReadings/CHNCXR_0171_0.txt  \n",
            "  inflating: ChinaSet_AllFiles/ChinaSet_AllFiles/ClinicalReadings/CHNCXR_0172_0.txt  \n",
            "  inflating: ChinaSet_AllFiles/ChinaSet_AllFiles/ClinicalReadings/CHNCXR_0173_0.txt  \n",
            "  inflating: ChinaSet_AllFiles/ChinaSet_AllFiles/ClinicalReadings/CHNCXR_0174_0.txt  \n",
            "  inflating: ChinaSet_AllFiles/ChinaSet_AllFiles/ClinicalReadings/CHNCXR_0175_0.txt  \n",
            "  inflating: ChinaSet_AllFiles/ChinaSet_AllFiles/ClinicalReadings/CHNCXR_0176_0.txt  \n",
            "  inflating: ChinaSet_AllFiles/ChinaSet_AllFiles/ClinicalReadings/CHNCXR_0177_0.txt  \n",
            "  inflating: ChinaSet_AllFiles/ChinaSet_AllFiles/ClinicalReadings/CHNCXR_0178_0.txt  \n",
            "  inflating: ChinaSet_AllFiles/ChinaSet_AllFiles/ClinicalReadings/CHNCXR_0179_0.txt  \n",
            "  inflating: ChinaSet_AllFiles/ChinaSet_AllFiles/ClinicalReadings/CHNCXR_0180_0.txt  \n",
            "  inflating: ChinaSet_AllFiles/ChinaSet_AllFiles/ClinicalReadings/CHNCXR_0181_0.txt  \n",
            "  inflating: ChinaSet_AllFiles/ChinaSet_AllFiles/ClinicalReadings/CHNCXR_0182_0.txt  \n",
            "  inflating: ChinaSet_AllFiles/ChinaSet_AllFiles/ClinicalReadings/CHNCXR_0183_0.txt  \n",
            "  inflating: ChinaSet_AllFiles/ChinaSet_AllFiles/ClinicalReadings/CHNCXR_0184_0.txt  \n",
            "  inflating: ChinaSet_AllFiles/ChinaSet_AllFiles/ClinicalReadings/CHNCXR_0185_0.txt  \n",
            "  inflating: ChinaSet_AllFiles/ChinaSet_AllFiles/ClinicalReadings/CHNCXR_0186_0.txt  \n",
            "  inflating: ChinaSet_AllFiles/ChinaSet_AllFiles/ClinicalReadings/CHNCXR_0187_0.txt  \n",
            "  inflating: ChinaSet_AllFiles/ChinaSet_AllFiles/ClinicalReadings/CHNCXR_0188_0.txt  \n",
            "  inflating: ChinaSet_AllFiles/ChinaSet_AllFiles/ClinicalReadings/CHNCXR_0189_0.txt  \n",
            "  inflating: ChinaSet_AllFiles/ChinaSet_AllFiles/ClinicalReadings/CHNCXR_0190_0.txt  \n",
            "  inflating: ChinaSet_AllFiles/ChinaSet_AllFiles/ClinicalReadings/CHNCXR_0191_0.txt  \n",
            "  inflating: ChinaSet_AllFiles/ChinaSet_AllFiles/ClinicalReadings/CHNCXR_0192_0.txt  \n",
            "  inflating: ChinaSet_AllFiles/ChinaSet_AllFiles/ClinicalReadings/CHNCXR_0193_0.txt  \n",
            "  inflating: ChinaSet_AllFiles/ChinaSet_AllFiles/ClinicalReadings/CHNCXR_0194_0.txt  \n",
            "  inflating: ChinaSet_AllFiles/ChinaSet_AllFiles/ClinicalReadings/CHNCXR_0195_0.txt  \n",
            "  inflating: ChinaSet_AllFiles/ChinaSet_AllFiles/ClinicalReadings/CHNCXR_0196_0.txt  \n",
            "  inflating: ChinaSet_AllFiles/ChinaSet_AllFiles/ClinicalReadings/CHNCXR_0197_0.txt  \n",
            "  inflating: ChinaSet_AllFiles/ChinaSet_AllFiles/ClinicalReadings/CHNCXR_0198_0.txt  \n",
            "  inflating: ChinaSet_AllFiles/ChinaSet_AllFiles/ClinicalReadings/CHNCXR_0199_0.txt  \n",
            "  inflating: ChinaSet_AllFiles/ChinaSet_AllFiles/ClinicalReadings/CHNCXR_0200_0.txt  \n",
            "  inflating: ChinaSet_AllFiles/ChinaSet_AllFiles/ClinicalReadings/CHNCXR_0201_0.txt  \n",
            "  inflating: ChinaSet_AllFiles/ChinaSet_AllFiles/ClinicalReadings/CHNCXR_0202_0.txt  \n",
            "  inflating: ChinaSet_AllFiles/ChinaSet_AllFiles/ClinicalReadings/CHNCXR_0203_0.txt  \n",
            "  inflating: ChinaSet_AllFiles/ChinaSet_AllFiles/ClinicalReadings/CHNCXR_0204_0.txt  \n",
            "  inflating: ChinaSet_AllFiles/ChinaSet_AllFiles/ClinicalReadings/CHNCXR_0205_0.txt  \n",
            "  inflating: ChinaSet_AllFiles/ChinaSet_AllFiles/ClinicalReadings/CHNCXR_0206_0.txt  \n",
            "  inflating: ChinaSet_AllFiles/ChinaSet_AllFiles/ClinicalReadings/CHNCXR_0207_0.txt  \n",
            "  inflating: ChinaSet_AllFiles/ChinaSet_AllFiles/ClinicalReadings/CHNCXR_0208_0.txt  \n",
            "  inflating: ChinaSet_AllFiles/ChinaSet_AllFiles/ClinicalReadings/CHNCXR_0209_0.txt  \n",
            "  inflating: ChinaSet_AllFiles/ChinaSet_AllFiles/ClinicalReadings/CHNCXR_0210_0.txt  \n",
            "  inflating: ChinaSet_AllFiles/ChinaSet_AllFiles/ClinicalReadings/CHNCXR_0211_0.txt  \n",
            "  inflating: ChinaSet_AllFiles/ChinaSet_AllFiles/ClinicalReadings/CHNCXR_0212_0.txt  \n",
            "  inflating: ChinaSet_AllFiles/ChinaSet_AllFiles/ClinicalReadings/CHNCXR_0213_0.txt  \n",
            "  inflating: ChinaSet_AllFiles/ChinaSet_AllFiles/ClinicalReadings/CHNCXR_0214_0.txt  \n",
            "  inflating: ChinaSet_AllFiles/ChinaSet_AllFiles/ClinicalReadings/CHNCXR_0215_0.txt  \n",
            "  inflating: ChinaSet_AllFiles/ChinaSet_AllFiles/ClinicalReadings/CHNCXR_0216_0.txt  \n",
            "  inflating: ChinaSet_AllFiles/ChinaSet_AllFiles/ClinicalReadings/CHNCXR_0217_0.txt  \n",
            "  inflating: ChinaSet_AllFiles/ChinaSet_AllFiles/ClinicalReadings/CHNCXR_0218_0.txt  \n",
            "  inflating: ChinaSet_AllFiles/ChinaSet_AllFiles/ClinicalReadings/CHNCXR_0219_0.txt  \n",
            "  inflating: ChinaSet_AllFiles/ChinaSet_AllFiles/ClinicalReadings/CHNCXR_0220_0.txt  \n",
            "  inflating: ChinaSet_AllFiles/ChinaSet_AllFiles/ClinicalReadings/CHNCXR_0221_0.txt  \n",
            "  inflating: ChinaSet_AllFiles/ChinaSet_AllFiles/ClinicalReadings/CHNCXR_0222_0.txt  \n",
            "  inflating: ChinaSet_AllFiles/ChinaSet_AllFiles/ClinicalReadings/CHNCXR_0223_0.txt  \n",
            "  inflating: ChinaSet_AllFiles/ChinaSet_AllFiles/ClinicalReadings/CHNCXR_0224_0.txt  \n",
            "  inflating: ChinaSet_AllFiles/ChinaSet_AllFiles/ClinicalReadings/CHNCXR_0225_0.txt  \n",
            "  inflating: ChinaSet_AllFiles/ChinaSet_AllFiles/ClinicalReadings/CHNCXR_0226_0.txt  \n",
            "  inflating: ChinaSet_AllFiles/ChinaSet_AllFiles/ClinicalReadings/CHNCXR_0227_0.txt  \n",
            "  inflating: ChinaSet_AllFiles/ChinaSet_AllFiles/ClinicalReadings/CHNCXR_0228_0.txt  \n",
            "  inflating: ChinaSet_AllFiles/ChinaSet_AllFiles/ClinicalReadings/CHNCXR_0229_0.txt  \n",
            "  inflating: ChinaSet_AllFiles/ChinaSet_AllFiles/ClinicalReadings/CHNCXR_0230_0.txt  \n",
            "  inflating: ChinaSet_AllFiles/ChinaSet_AllFiles/ClinicalReadings/CHNCXR_0231_0.txt  \n",
            "  inflating: ChinaSet_AllFiles/ChinaSet_AllFiles/ClinicalReadings/CHNCXR_0232_0.txt  \n",
            "  inflating: ChinaSet_AllFiles/ChinaSet_AllFiles/ClinicalReadings/CHNCXR_0233_0.txt  \n",
            "  inflating: ChinaSet_AllFiles/ChinaSet_AllFiles/ClinicalReadings/CHNCXR_0234_0.txt  \n",
            "  inflating: ChinaSet_AllFiles/ChinaSet_AllFiles/ClinicalReadings/CHNCXR_0235_0.txt  \n",
            "  inflating: ChinaSet_AllFiles/ChinaSet_AllFiles/ClinicalReadings/CHNCXR_0236_0.txt  \n",
            "  inflating: ChinaSet_AllFiles/ChinaSet_AllFiles/ClinicalReadings/CHNCXR_0237_0.txt  \n",
            "  inflating: ChinaSet_AllFiles/ChinaSet_AllFiles/ClinicalReadings/CHNCXR_0238_0.txt  \n",
            "  inflating: ChinaSet_AllFiles/ChinaSet_AllFiles/ClinicalReadings/CHNCXR_0239_0.txt  \n",
            "  inflating: ChinaSet_AllFiles/ChinaSet_AllFiles/ClinicalReadings/CHNCXR_0240_0.txt  \n",
            "  inflating: ChinaSet_AllFiles/ChinaSet_AllFiles/ClinicalReadings/CHNCXR_0241_0.txt  \n",
            "  inflating: ChinaSet_AllFiles/ChinaSet_AllFiles/ClinicalReadings/CHNCXR_0242_0.txt  \n",
            "  inflating: ChinaSet_AllFiles/ChinaSet_AllFiles/ClinicalReadings/CHNCXR_0243_0.txt  \n",
            "  inflating: ChinaSet_AllFiles/ChinaSet_AllFiles/ClinicalReadings/CHNCXR_0244_0.txt  \n",
            "  inflating: ChinaSet_AllFiles/ChinaSet_AllFiles/ClinicalReadings/CHNCXR_0245_0.txt  \n",
            "  inflating: ChinaSet_AllFiles/ChinaSet_AllFiles/ClinicalReadings/CHNCXR_0246_0.txt  \n",
            "  inflating: ChinaSet_AllFiles/ChinaSet_AllFiles/ClinicalReadings/CHNCXR_0247_0.txt  \n",
            "  inflating: ChinaSet_AllFiles/ChinaSet_AllFiles/ClinicalReadings/CHNCXR_0248_0.txt  \n",
            "  inflating: ChinaSet_AllFiles/ChinaSet_AllFiles/ClinicalReadings/CHNCXR_0249_0.txt  \n",
            "  inflating: ChinaSet_AllFiles/ChinaSet_AllFiles/ClinicalReadings/CHNCXR_0250_0.txt  \n",
            "  inflating: ChinaSet_AllFiles/ChinaSet_AllFiles/ClinicalReadings/CHNCXR_0251_0.txt  \n",
            "  inflating: ChinaSet_AllFiles/ChinaSet_AllFiles/ClinicalReadings/CHNCXR_0252_0.txt  \n",
            "  inflating: ChinaSet_AllFiles/ChinaSet_AllFiles/ClinicalReadings/CHNCXR_0253_0.txt  \n",
            "  inflating: ChinaSet_AllFiles/ChinaSet_AllFiles/ClinicalReadings/CHNCXR_0254_0.txt  \n",
            "  inflating: ChinaSet_AllFiles/ChinaSet_AllFiles/ClinicalReadings/CHNCXR_0255_0.txt  \n",
            "  inflating: ChinaSet_AllFiles/ChinaSet_AllFiles/ClinicalReadings/CHNCXR_0256_0.txt  \n",
            "  inflating: ChinaSet_AllFiles/ChinaSet_AllFiles/ClinicalReadings/CHNCXR_0257_0.txt  \n",
            "  inflating: ChinaSet_AllFiles/ChinaSet_AllFiles/ClinicalReadings/CHNCXR_0258_0.txt  \n",
            "  inflating: ChinaSet_AllFiles/ChinaSet_AllFiles/ClinicalReadings/CHNCXR_0259_0.txt  \n",
            "  inflating: ChinaSet_AllFiles/ChinaSet_AllFiles/ClinicalReadings/CHNCXR_0260_0.txt  \n",
            "  inflating: ChinaSet_AllFiles/ChinaSet_AllFiles/ClinicalReadings/CHNCXR_0261_0.txt  \n",
            "  inflating: ChinaSet_AllFiles/ChinaSet_AllFiles/ClinicalReadings/CHNCXR_0262_0.txt  \n",
            "  inflating: ChinaSet_AllFiles/ChinaSet_AllFiles/ClinicalReadings/CHNCXR_0263_0.txt  \n",
            "  inflating: ChinaSet_AllFiles/ChinaSet_AllFiles/ClinicalReadings/CHNCXR_0264_0.txt  \n",
            "  inflating: ChinaSet_AllFiles/ChinaSet_AllFiles/ClinicalReadings/CHNCXR_0265_0.txt  \n",
            "  inflating: ChinaSet_AllFiles/ChinaSet_AllFiles/ClinicalReadings/CHNCXR_0266_0.txt  \n",
            "  inflating: ChinaSet_AllFiles/ChinaSet_AllFiles/ClinicalReadings/CHNCXR_0267_0.txt  \n",
            "  inflating: ChinaSet_AllFiles/ChinaSet_AllFiles/ClinicalReadings/CHNCXR_0268_0.txt  \n",
            "  inflating: ChinaSet_AllFiles/ChinaSet_AllFiles/ClinicalReadings/CHNCXR_0269_0.txt  \n",
            "  inflating: ChinaSet_AllFiles/ChinaSet_AllFiles/ClinicalReadings/CHNCXR_0270_0.txt  \n",
            "  inflating: ChinaSet_AllFiles/ChinaSet_AllFiles/ClinicalReadings/CHNCXR_0271_0.txt  \n",
            "  inflating: ChinaSet_AllFiles/ChinaSet_AllFiles/ClinicalReadings/CHNCXR_0272_0.txt  \n",
            "  inflating: ChinaSet_AllFiles/ChinaSet_AllFiles/ClinicalReadings/CHNCXR_0273_0.txt  \n",
            "  inflating: ChinaSet_AllFiles/ChinaSet_AllFiles/ClinicalReadings/CHNCXR_0274_0.txt  \n",
            "  inflating: ChinaSet_AllFiles/ChinaSet_AllFiles/ClinicalReadings/CHNCXR_0275_0.txt  \n",
            "  inflating: ChinaSet_AllFiles/ChinaSet_AllFiles/ClinicalReadings/CHNCXR_0276_0.txt  \n",
            "  inflating: ChinaSet_AllFiles/ChinaSet_AllFiles/ClinicalReadings/CHNCXR_0277_0.txt  \n",
            "  inflating: ChinaSet_AllFiles/ChinaSet_AllFiles/ClinicalReadings/CHNCXR_0278_0.txt  \n",
            "  inflating: ChinaSet_AllFiles/ChinaSet_AllFiles/ClinicalReadings/CHNCXR_0279_0.txt  \n",
            "  inflating: ChinaSet_AllFiles/ChinaSet_AllFiles/ClinicalReadings/CHNCXR_0280_0.txt  \n",
            "  inflating: ChinaSet_AllFiles/ChinaSet_AllFiles/ClinicalReadings/CHNCXR_0281_0.txt  \n",
            "  inflating: ChinaSet_AllFiles/ChinaSet_AllFiles/ClinicalReadings/CHNCXR_0282_0.txt  \n",
            "  inflating: ChinaSet_AllFiles/ChinaSet_AllFiles/ClinicalReadings/CHNCXR_0283_0.txt  \n",
            "  inflating: ChinaSet_AllFiles/ChinaSet_AllFiles/ClinicalReadings/CHNCXR_0284_0.txt  \n",
            "  inflating: ChinaSet_AllFiles/ChinaSet_AllFiles/ClinicalReadings/CHNCXR_0285_0.txt  \n",
            "  inflating: ChinaSet_AllFiles/ChinaSet_AllFiles/ClinicalReadings/CHNCXR_0286_0.txt  \n",
            "  inflating: ChinaSet_AllFiles/ChinaSet_AllFiles/ClinicalReadings/CHNCXR_0287_0.txt  \n",
            "  inflating: ChinaSet_AllFiles/ChinaSet_AllFiles/ClinicalReadings/CHNCXR_0288_0.txt  \n",
            "  inflating: ChinaSet_AllFiles/ChinaSet_AllFiles/ClinicalReadings/CHNCXR_0289_0.txt  \n",
            "  inflating: ChinaSet_AllFiles/ChinaSet_AllFiles/ClinicalReadings/CHNCXR_0290_0.txt  \n",
            "  inflating: ChinaSet_AllFiles/ChinaSet_AllFiles/ClinicalReadings/CHNCXR_0291_0.txt  \n",
            "  inflating: ChinaSet_AllFiles/ChinaSet_AllFiles/ClinicalReadings/CHNCXR_0292_0.txt  \n",
            "  inflating: ChinaSet_AllFiles/ChinaSet_AllFiles/ClinicalReadings/CHNCXR_0293_0.txt  \n",
            "  inflating: ChinaSet_AllFiles/ChinaSet_AllFiles/ClinicalReadings/CHNCXR_0294_0.txt  \n",
            "  inflating: ChinaSet_AllFiles/ChinaSet_AllFiles/ClinicalReadings/CHNCXR_0295_0.txt  \n",
            "  inflating: ChinaSet_AllFiles/ChinaSet_AllFiles/ClinicalReadings/CHNCXR_0296_0.txt  \n",
            "  inflating: ChinaSet_AllFiles/ChinaSet_AllFiles/ClinicalReadings/CHNCXR_0297_0.txt  \n",
            "  inflating: ChinaSet_AllFiles/ChinaSet_AllFiles/ClinicalReadings/CHNCXR_0298_0.txt  \n",
            "  inflating: ChinaSet_AllFiles/ChinaSet_AllFiles/ClinicalReadings/CHNCXR_0299_0.txt  \n",
            "  inflating: ChinaSet_AllFiles/ChinaSet_AllFiles/ClinicalReadings/CHNCXR_0300_0.txt  \n",
            "  inflating: ChinaSet_AllFiles/ChinaSet_AllFiles/ClinicalReadings/CHNCXR_0301_0.txt  \n",
            "  inflating: ChinaSet_AllFiles/ChinaSet_AllFiles/ClinicalReadings/CHNCXR_0302_0.txt  \n",
            "  inflating: ChinaSet_AllFiles/ChinaSet_AllFiles/ClinicalReadings/CHNCXR_0303_0.txt  \n",
            "  inflating: ChinaSet_AllFiles/ChinaSet_AllFiles/ClinicalReadings/CHNCXR_0304_0.txt  \n",
            "  inflating: ChinaSet_AllFiles/ChinaSet_AllFiles/ClinicalReadings/CHNCXR_0305_0.txt  \n",
            "  inflating: ChinaSet_AllFiles/ChinaSet_AllFiles/ClinicalReadings/CHNCXR_0306_0.txt  \n",
            "  inflating: ChinaSet_AllFiles/ChinaSet_AllFiles/ClinicalReadings/CHNCXR_0307_0.txt  \n",
            "  inflating: ChinaSet_AllFiles/ChinaSet_AllFiles/ClinicalReadings/CHNCXR_0308_0.txt  \n",
            "  inflating: ChinaSet_AllFiles/ChinaSet_AllFiles/ClinicalReadings/CHNCXR_0309_0.txt  \n",
            "  inflating: ChinaSet_AllFiles/ChinaSet_AllFiles/ClinicalReadings/CHNCXR_0310_0.txt  \n",
            "  inflating: ChinaSet_AllFiles/ChinaSet_AllFiles/ClinicalReadings/CHNCXR_0311_0.txt  \n",
            "  inflating: ChinaSet_AllFiles/ChinaSet_AllFiles/ClinicalReadings/CHNCXR_0312_0.txt  \n",
            "  inflating: ChinaSet_AllFiles/ChinaSet_AllFiles/ClinicalReadings/CHNCXR_0313_0.txt  \n",
            "  inflating: ChinaSet_AllFiles/ChinaSet_AllFiles/ClinicalReadings/CHNCXR_0314_0.txt  \n",
            "  inflating: ChinaSet_AllFiles/ChinaSet_AllFiles/ClinicalReadings/CHNCXR_0315_0.txt  \n",
            "  inflating: ChinaSet_AllFiles/ChinaSet_AllFiles/ClinicalReadings/CHNCXR_0316_0.txt  \n",
            "  inflating: ChinaSet_AllFiles/ChinaSet_AllFiles/ClinicalReadings/CHNCXR_0317_0.txt  \n",
            "  inflating: ChinaSet_AllFiles/ChinaSet_AllFiles/ClinicalReadings/CHNCXR_0318_0.txt  \n",
            "  inflating: ChinaSet_AllFiles/ChinaSet_AllFiles/ClinicalReadings/CHNCXR_0319_0.txt  \n",
            "  inflating: ChinaSet_AllFiles/ChinaSet_AllFiles/ClinicalReadings/CHNCXR_0320_0.txt  \n",
            "  inflating: ChinaSet_AllFiles/ChinaSet_AllFiles/ClinicalReadings/CHNCXR_0321_0.txt  \n",
            "  inflating: ChinaSet_AllFiles/ChinaSet_AllFiles/ClinicalReadings/CHNCXR_0322_0.txt  \n",
            "  inflating: ChinaSet_AllFiles/ChinaSet_AllFiles/ClinicalReadings/CHNCXR_0323_0.txt  \n",
            "  inflating: ChinaSet_AllFiles/ChinaSet_AllFiles/ClinicalReadings/CHNCXR_0324_0.txt  \n",
            "  inflating: ChinaSet_AllFiles/ChinaSet_AllFiles/ClinicalReadings/CHNCXR_0325_0.txt  \n",
            "  inflating: ChinaSet_AllFiles/ChinaSet_AllFiles/ClinicalReadings/CHNCXR_0326_0.txt  \n",
            "  inflating: ChinaSet_AllFiles/ChinaSet_AllFiles/ClinicalReadings/CHNCXR_0327_1.txt  \n",
            "  inflating: ChinaSet_AllFiles/ChinaSet_AllFiles/ClinicalReadings/CHNCXR_0328_1.txt  \n",
            "  inflating: ChinaSet_AllFiles/ChinaSet_AllFiles/ClinicalReadings/CHNCXR_0329_1.txt  \n",
            "  inflating: ChinaSet_AllFiles/ChinaSet_AllFiles/ClinicalReadings/CHNCXR_0330_1.txt  \n",
            "  inflating: ChinaSet_AllFiles/ChinaSet_AllFiles/ClinicalReadings/CHNCXR_0331_1.txt  \n",
            "  inflating: ChinaSet_AllFiles/ChinaSet_AllFiles/ClinicalReadings/CHNCXR_0332_1.txt  \n",
            "  inflating: ChinaSet_AllFiles/ChinaSet_AllFiles/ClinicalReadings/CHNCXR_0333_1.txt  \n",
            "  inflating: ChinaSet_AllFiles/ChinaSet_AllFiles/ClinicalReadings/CHNCXR_0334_1.txt  \n",
            "  inflating: ChinaSet_AllFiles/ChinaSet_AllFiles/ClinicalReadings/CHNCXR_0335_1.txt  \n",
            "  inflating: ChinaSet_AllFiles/ChinaSet_AllFiles/ClinicalReadings/CHNCXR_0336_1.txt  \n",
            "  inflating: ChinaSet_AllFiles/ChinaSet_AllFiles/ClinicalReadings/CHNCXR_0337_1.txt  \n",
            "  inflating: ChinaSet_AllFiles/ChinaSet_AllFiles/ClinicalReadings/CHNCXR_0338_1.txt  \n",
            "  inflating: ChinaSet_AllFiles/ChinaSet_AllFiles/ClinicalReadings/CHNCXR_0339_1.txt  \n",
            "  inflating: ChinaSet_AllFiles/ChinaSet_AllFiles/ClinicalReadings/CHNCXR_0340_1.txt  \n",
            "  inflating: ChinaSet_AllFiles/ChinaSet_AllFiles/ClinicalReadings/CHNCXR_0341_1.txt  \n",
            "  inflating: ChinaSet_AllFiles/ChinaSet_AllFiles/ClinicalReadings/CHNCXR_0342_1.txt  \n",
            "  inflating: ChinaSet_AllFiles/ChinaSet_AllFiles/ClinicalReadings/CHNCXR_0343_1.txt  \n",
            "  inflating: ChinaSet_AllFiles/ChinaSet_AllFiles/ClinicalReadings/CHNCXR_0344_1.txt  \n",
            "  inflating: ChinaSet_AllFiles/ChinaSet_AllFiles/ClinicalReadings/CHNCXR_0345_1.txt  \n",
            "  inflating: ChinaSet_AllFiles/ChinaSet_AllFiles/ClinicalReadings/CHNCXR_0346_1.txt  \n",
            "  inflating: ChinaSet_AllFiles/ChinaSet_AllFiles/ClinicalReadings/CHNCXR_0347_1.txt  \n",
            "  inflating: ChinaSet_AllFiles/ChinaSet_AllFiles/ClinicalReadings/CHNCXR_0348_1.txt  \n",
            "  inflating: ChinaSet_AllFiles/ChinaSet_AllFiles/ClinicalReadings/CHNCXR_0349_1.txt  \n",
            "  inflating: ChinaSet_AllFiles/ChinaSet_AllFiles/ClinicalReadings/CHNCXR_0350_1.txt  \n",
            "  inflating: ChinaSet_AllFiles/ChinaSet_AllFiles/ClinicalReadings/CHNCXR_0351_1.txt  \n",
            "  inflating: ChinaSet_AllFiles/ChinaSet_AllFiles/ClinicalReadings/CHNCXR_0352_1.txt  \n",
            "  inflating: ChinaSet_AllFiles/ChinaSet_AllFiles/ClinicalReadings/CHNCXR_0353_1.txt  \n",
            "  inflating: ChinaSet_AllFiles/ChinaSet_AllFiles/ClinicalReadings/CHNCXR_0354_1.txt  \n",
            "  inflating: ChinaSet_AllFiles/ChinaSet_AllFiles/ClinicalReadings/CHNCXR_0355_1.txt  \n",
            "  inflating: ChinaSet_AllFiles/ChinaSet_AllFiles/ClinicalReadings/CHNCXR_0356_1.txt  \n",
            "  inflating: ChinaSet_AllFiles/ChinaSet_AllFiles/ClinicalReadings/CHNCXR_0357_1.txt  \n",
            "  inflating: ChinaSet_AllFiles/ChinaSet_AllFiles/ClinicalReadings/CHNCXR_0358_1.txt  \n",
            "  inflating: ChinaSet_AllFiles/ChinaSet_AllFiles/ClinicalReadings/CHNCXR_0359_1.txt  \n",
            "  inflating: ChinaSet_AllFiles/ChinaSet_AllFiles/ClinicalReadings/CHNCXR_0360_1.txt  \n",
            "  inflating: ChinaSet_AllFiles/ChinaSet_AllFiles/ClinicalReadings/CHNCXR_0361_1.txt  \n",
            "  inflating: ChinaSet_AllFiles/ChinaSet_AllFiles/ClinicalReadings/CHNCXR_0362_1.txt  \n",
            "  inflating: ChinaSet_AllFiles/ChinaSet_AllFiles/ClinicalReadings/CHNCXR_0363_1.txt  \n",
            "  inflating: ChinaSet_AllFiles/ChinaSet_AllFiles/ClinicalReadings/CHNCXR_0364_1.txt  \n",
            "  inflating: ChinaSet_AllFiles/ChinaSet_AllFiles/ClinicalReadings/CHNCXR_0365_1.txt  \n",
            "  inflating: ChinaSet_AllFiles/ChinaSet_AllFiles/ClinicalReadings/CHNCXR_0366_1.txt  \n",
            "  inflating: ChinaSet_AllFiles/ChinaSet_AllFiles/ClinicalReadings/CHNCXR_0367_1.txt  \n",
            "  inflating: ChinaSet_AllFiles/ChinaSet_AllFiles/ClinicalReadings/CHNCXR_0368_1.txt  \n",
            "  inflating: ChinaSet_AllFiles/ChinaSet_AllFiles/ClinicalReadings/CHNCXR_0369_1.txt  \n",
            "  inflating: ChinaSet_AllFiles/ChinaSet_AllFiles/ClinicalReadings/CHNCXR_0370_1.txt  \n",
            "  inflating: ChinaSet_AllFiles/ChinaSet_AllFiles/ClinicalReadings/CHNCXR_0371_1.txt  \n",
            "  inflating: ChinaSet_AllFiles/ChinaSet_AllFiles/ClinicalReadings/CHNCXR_0372_1.txt  \n",
            "  inflating: ChinaSet_AllFiles/ChinaSet_AllFiles/ClinicalReadings/CHNCXR_0373_1.txt  \n",
            "  inflating: ChinaSet_AllFiles/ChinaSet_AllFiles/ClinicalReadings/CHNCXR_0374_1.txt  \n",
            "  inflating: ChinaSet_AllFiles/ChinaSet_AllFiles/ClinicalReadings/CHNCXR_0375_1.txt  \n",
            "  inflating: ChinaSet_AllFiles/ChinaSet_AllFiles/ClinicalReadings/CHNCXR_0376_1.txt  \n",
            "  inflating: ChinaSet_AllFiles/ChinaSet_AllFiles/ClinicalReadings/CHNCXR_0377_1.txt  \n",
            "  inflating: ChinaSet_AllFiles/ChinaSet_AllFiles/ClinicalReadings/CHNCXR_0378_1.txt  \n",
            "  inflating: ChinaSet_AllFiles/ChinaSet_AllFiles/ClinicalReadings/CHNCXR_0379_1.txt  \n",
            "  inflating: ChinaSet_AllFiles/ChinaSet_AllFiles/ClinicalReadings/CHNCXR_0380_1.txt  \n",
            "  inflating: ChinaSet_AllFiles/ChinaSet_AllFiles/ClinicalReadings/CHNCXR_0381_1.txt  \n",
            "  inflating: ChinaSet_AllFiles/ChinaSet_AllFiles/ClinicalReadings/CHNCXR_0382_1.txt  \n",
            "  inflating: ChinaSet_AllFiles/ChinaSet_AllFiles/ClinicalReadings/CHNCXR_0383_1.txt  \n",
            "  inflating: ChinaSet_AllFiles/ChinaSet_AllFiles/ClinicalReadings/CHNCXR_0384_1.txt  \n",
            "  inflating: ChinaSet_AllFiles/ChinaSet_AllFiles/ClinicalReadings/CHNCXR_0385_1.txt  \n",
            "  inflating: ChinaSet_AllFiles/ChinaSet_AllFiles/ClinicalReadings/CHNCXR_0386_1.txt  \n",
            "  inflating: ChinaSet_AllFiles/ChinaSet_AllFiles/ClinicalReadings/CHNCXR_0387_1.txt  \n",
            "  inflating: ChinaSet_AllFiles/ChinaSet_AllFiles/ClinicalReadings/CHNCXR_0388_1.txt  \n",
            "  inflating: ChinaSet_AllFiles/ChinaSet_AllFiles/ClinicalReadings/CHNCXR_0389_1.txt  \n",
            "  inflating: ChinaSet_AllFiles/ChinaSet_AllFiles/ClinicalReadings/CHNCXR_0390_1.txt  \n",
            "  inflating: ChinaSet_AllFiles/ChinaSet_AllFiles/ClinicalReadings/CHNCXR_0391_1.txt  \n",
            "  inflating: ChinaSet_AllFiles/ChinaSet_AllFiles/ClinicalReadings/CHNCXR_0392_1.txt  \n",
            "  inflating: ChinaSet_AllFiles/ChinaSet_AllFiles/ClinicalReadings/CHNCXR_0393_1.txt  \n",
            "  inflating: ChinaSet_AllFiles/ChinaSet_AllFiles/ClinicalReadings/CHNCXR_0394_1.txt  \n",
            "  inflating: ChinaSet_AllFiles/ChinaSet_AllFiles/ClinicalReadings/CHNCXR_0395_1.txt  \n",
            "  inflating: ChinaSet_AllFiles/ChinaSet_AllFiles/ClinicalReadings/CHNCXR_0396_1.txt  \n",
            "  inflating: ChinaSet_AllFiles/ChinaSet_AllFiles/ClinicalReadings/CHNCXR_0397_1.txt  \n",
            "  inflating: ChinaSet_AllFiles/ChinaSet_AllFiles/ClinicalReadings/CHNCXR_0398_1.txt  \n",
            "  inflating: ChinaSet_AllFiles/ChinaSet_AllFiles/ClinicalReadings/CHNCXR_0399_1.txt  \n",
            "  inflating: ChinaSet_AllFiles/ChinaSet_AllFiles/ClinicalReadings/CHNCXR_0400_1.txt  \n",
            "  inflating: ChinaSet_AllFiles/ChinaSet_AllFiles/ClinicalReadings/CHNCXR_0401_1.txt  \n",
            "  inflating: ChinaSet_AllFiles/ChinaSet_AllFiles/ClinicalReadings/CHNCXR_0402_1.txt  \n",
            "  inflating: ChinaSet_AllFiles/ChinaSet_AllFiles/ClinicalReadings/CHNCXR_0403_1.txt  \n",
            "  inflating: ChinaSet_AllFiles/ChinaSet_AllFiles/ClinicalReadings/CHNCXR_0404_1.txt  \n",
            "  inflating: ChinaSet_AllFiles/ChinaSet_AllFiles/ClinicalReadings/CHNCXR_0405_1.txt  \n",
            "  inflating: ChinaSet_AllFiles/ChinaSet_AllFiles/ClinicalReadings/CHNCXR_0406_1.txt  \n",
            "  inflating: ChinaSet_AllFiles/ChinaSet_AllFiles/ClinicalReadings/CHNCXR_0407_1.txt  \n",
            "  inflating: ChinaSet_AllFiles/ChinaSet_AllFiles/ClinicalReadings/CHNCXR_0408_1.txt  \n",
            "  inflating: ChinaSet_AllFiles/ChinaSet_AllFiles/ClinicalReadings/CHNCXR_0409_1.txt  \n",
            "  inflating: ChinaSet_AllFiles/ChinaSet_AllFiles/ClinicalReadings/CHNCXR_0410_1.txt  \n",
            "  inflating: ChinaSet_AllFiles/ChinaSet_AllFiles/ClinicalReadings/CHNCXR_0411_1.txt  \n",
            "  inflating: ChinaSet_AllFiles/ChinaSet_AllFiles/ClinicalReadings/CHNCXR_0412_1.txt  \n",
            "  inflating: ChinaSet_AllFiles/ChinaSet_AllFiles/ClinicalReadings/CHNCXR_0413_1.txt  \n",
            "  inflating: ChinaSet_AllFiles/ChinaSet_AllFiles/ClinicalReadings/CHNCXR_0414_1.txt  \n",
            "  inflating: ChinaSet_AllFiles/ChinaSet_AllFiles/ClinicalReadings/CHNCXR_0415_1.txt  \n",
            "  inflating: ChinaSet_AllFiles/ChinaSet_AllFiles/ClinicalReadings/CHNCXR_0416_1.txt  \n",
            "  inflating: ChinaSet_AllFiles/ChinaSet_AllFiles/ClinicalReadings/CHNCXR_0417_1.txt  \n",
            "  inflating: ChinaSet_AllFiles/ChinaSet_AllFiles/ClinicalReadings/CHNCXR_0418_1.txt  \n",
            "  inflating: ChinaSet_AllFiles/ChinaSet_AllFiles/ClinicalReadings/CHNCXR_0419_1.txt  \n",
            "  inflating: ChinaSet_AllFiles/ChinaSet_AllFiles/ClinicalReadings/CHNCXR_0420_1.txt  \n",
            "  inflating: ChinaSet_AllFiles/ChinaSet_AllFiles/ClinicalReadings/CHNCXR_0421_1.txt  \n",
            "  inflating: ChinaSet_AllFiles/ChinaSet_AllFiles/ClinicalReadings/CHNCXR_0422_1.txt  \n",
            "  inflating: ChinaSet_AllFiles/ChinaSet_AllFiles/ClinicalReadings/CHNCXR_0423_1.txt  \n",
            "  inflating: ChinaSet_AllFiles/ChinaSet_AllFiles/ClinicalReadings/CHNCXR_0424_1.txt  \n",
            "  inflating: ChinaSet_AllFiles/ChinaSet_AllFiles/ClinicalReadings/CHNCXR_0425_1.txt  \n",
            "  inflating: ChinaSet_AllFiles/ChinaSet_AllFiles/ClinicalReadings/CHNCXR_0426_1.txt  \n",
            "  inflating: ChinaSet_AllFiles/ChinaSet_AllFiles/ClinicalReadings/CHNCXR_0427_1.txt  \n",
            "  inflating: ChinaSet_AllFiles/ChinaSet_AllFiles/ClinicalReadings/CHNCXR_0428_1.txt  \n",
            "  inflating: ChinaSet_AllFiles/ChinaSet_AllFiles/ClinicalReadings/CHNCXR_0429_1.txt  \n",
            "  inflating: ChinaSet_AllFiles/ChinaSet_AllFiles/ClinicalReadings/CHNCXR_0430_1.txt  \n",
            "  inflating: ChinaSet_AllFiles/ChinaSet_AllFiles/ClinicalReadings/CHNCXR_0431_1.txt  \n",
            "  inflating: ChinaSet_AllFiles/ChinaSet_AllFiles/ClinicalReadings/CHNCXR_0432_1.txt  \n",
            "  inflating: ChinaSet_AllFiles/ChinaSet_AllFiles/ClinicalReadings/CHNCXR_0433_1.txt  \n",
            "  inflating: ChinaSet_AllFiles/ChinaSet_AllFiles/ClinicalReadings/CHNCXR_0434_1.txt  \n",
            "  inflating: ChinaSet_AllFiles/ChinaSet_AllFiles/ClinicalReadings/CHNCXR_0435_1.txt  \n",
            "  inflating: ChinaSet_AllFiles/ChinaSet_AllFiles/ClinicalReadings/CHNCXR_0436_1.txt  \n",
            "  inflating: ChinaSet_AllFiles/ChinaSet_AllFiles/ClinicalReadings/CHNCXR_0437_1.txt  \n",
            "  inflating: ChinaSet_AllFiles/ChinaSet_AllFiles/ClinicalReadings/CHNCXR_0438_1.txt  \n",
            "  inflating: ChinaSet_AllFiles/ChinaSet_AllFiles/ClinicalReadings/CHNCXR_0439_1.txt  \n",
            "  inflating: ChinaSet_AllFiles/ChinaSet_AllFiles/ClinicalReadings/CHNCXR_0440_1.txt  \n",
            "  inflating: ChinaSet_AllFiles/ChinaSet_AllFiles/ClinicalReadings/CHNCXR_0441_1.txt  \n",
            "  inflating: ChinaSet_AllFiles/ChinaSet_AllFiles/ClinicalReadings/CHNCXR_0442_1.txt  \n",
            "  inflating: ChinaSet_AllFiles/ChinaSet_AllFiles/ClinicalReadings/CHNCXR_0443_1.txt  \n",
            "  inflating: ChinaSet_AllFiles/ChinaSet_AllFiles/ClinicalReadings/CHNCXR_0444_1.txt  \n",
            "  inflating: ChinaSet_AllFiles/ChinaSet_AllFiles/ClinicalReadings/CHNCXR_0445_1.txt  \n",
            "  inflating: ChinaSet_AllFiles/ChinaSet_AllFiles/ClinicalReadings/CHNCXR_0446_1.txt  \n",
            "  inflating: ChinaSet_AllFiles/ChinaSet_AllFiles/ClinicalReadings/CHNCXR_0447_1.txt  \n",
            "  inflating: ChinaSet_AllFiles/ChinaSet_AllFiles/ClinicalReadings/CHNCXR_0448_1.txt  \n",
            "  inflating: ChinaSet_AllFiles/ChinaSet_AllFiles/ClinicalReadings/CHNCXR_0449_1.txt  \n",
            "  inflating: ChinaSet_AllFiles/ChinaSet_AllFiles/ClinicalReadings/CHNCXR_0450_1.txt  \n",
            "  inflating: ChinaSet_AllFiles/ChinaSet_AllFiles/ClinicalReadings/CHNCXR_0451_1.txt  \n",
            "  inflating: ChinaSet_AllFiles/ChinaSet_AllFiles/ClinicalReadings/CHNCXR_0452_1.txt  \n",
            "  inflating: ChinaSet_AllFiles/ChinaSet_AllFiles/ClinicalReadings/CHNCXR_0453_1.txt  \n",
            "  inflating: ChinaSet_AllFiles/ChinaSet_AllFiles/ClinicalReadings/CHNCXR_0454_1.txt  \n",
            "  inflating: ChinaSet_AllFiles/ChinaSet_AllFiles/ClinicalReadings/CHNCXR_0455_1.txt  \n",
            "  inflating: ChinaSet_AllFiles/ChinaSet_AllFiles/ClinicalReadings/CHNCXR_0456_1.txt  \n",
            "  inflating: ChinaSet_AllFiles/ChinaSet_AllFiles/ClinicalReadings/CHNCXR_0457_1.txt  \n",
            "  inflating: ChinaSet_AllFiles/ChinaSet_AllFiles/ClinicalReadings/CHNCXR_0458_1.txt  \n",
            "  inflating: ChinaSet_AllFiles/ChinaSet_AllFiles/ClinicalReadings/CHNCXR_0459_1.txt  \n",
            "  inflating: ChinaSet_AllFiles/ChinaSet_AllFiles/ClinicalReadings/CHNCXR_0460_1.txt  \n",
            "  inflating: ChinaSet_AllFiles/ChinaSet_AllFiles/ClinicalReadings/CHNCXR_0461_1.txt  \n",
            "  inflating: ChinaSet_AllFiles/ChinaSet_AllFiles/ClinicalReadings/CHNCXR_0462_1.txt  \n",
            "  inflating: ChinaSet_AllFiles/ChinaSet_AllFiles/ClinicalReadings/CHNCXR_0463_1.txt  \n",
            "  inflating: ChinaSet_AllFiles/ChinaSet_AllFiles/ClinicalReadings/CHNCXR_0464_1.txt  \n",
            "  inflating: ChinaSet_AllFiles/ChinaSet_AllFiles/ClinicalReadings/CHNCXR_0465_1.txt  \n",
            "  inflating: ChinaSet_AllFiles/ChinaSet_AllFiles/ClinicalReadings/CHNCXR_0466_1.txt  \n",
            "  inflating: ChinaSet_AllFiles/ChinaSet_AllFiles/ClinicalReadings/CHNCXR_0467_1.txt  \n",
            "  inflating: ChinaSet_AllFiles/ChinaSet_AllFiles/ClinicalReadings/CHNCXR_0468_1.txt  \n",
            "  inflating: ChinaSet_AllFiles/ChinaSet_AllFiles/ClinicalReadings/CHNCXR_0469_1.txt  \n",
            "  inflating: ChinaSet_AllFiles/ChinaSet_AllFiles/ClinicalReadings/CHNCXR_0470_1.txt  \n",
            "  inflating: ChinaSet_AllFiles/ChinaSet_AllFiles/ClinicalReadings/CHNCXR_0471_1.txt  \n",
            "  inflating: ChinaSet_AllFiles/ChinaSet_AllFiles/ClinicalReadings/CHNCXR_0472_1.txt  \n",
            "  inflating: ChinaSet_AllFiles/ChinaSet_AllFiles/ClinicalReadings/CHNCXR_0473_1.txt  \n",
            "  inflating: ChinaSet_AllFiles/ChinaSet_AllFiles/ClinicalReadings/CHNCXR_0474_1.txt  \n",
            "  inflating: ChinaSet_AllFiles/ChinaSet_AllFiles/ClinicalReadings/CHNCXR_0475_1.txt  \n",
            "  inflating: ChinaSet_AllFiles/ChinaSet_AllFiles/ClinicalReadings/CHNCXR_0476_1.txt  \n",
            "  inflating: ChinaSet_AllFiles/ChinaSet_AllFiles/ClinicalReadings/CHNCXR_0477_1.txt  \n",
            "  inflating: ChinaSet_AllFiles/ChinaSet_AllFiles/ClinicalReadings/CHNCXR_0478_1.txt  \n",
            "  inflating: ChinaSet_AllFiles/ChinaSet_AllFiles/ClinicalReadings/CHNCXR_0479_1.txt  \n",
            "  inflating: ChinaSet_AllFiles/ChinaSet_AllFiles/ClinicalReadings/CHNCXR_0480_1.txt  \n",
            "  inflating: ChinaSet_AllFiles/ChinaSet_AllFiles/ClinicalReadings/CHNCXR_0481_1.txt  \n",
            "  inflating: ChinaSet_AllFiles/ChinaSet_AllFiles/ClinicalReadings/CHNCXR_0482_1.txt  \n",
            "  inflating: ChinaSet_AllFiles/ChinaSet_AllFiles/ClinicalReadings/CHNCXR_0483_1.txt  \n",
            "  inflating: ChinaSet_AllFiles/ChinaSet_AllFiles/ClinicalReadings/CHNCXR_0484_1.txt  \n",
            "  inflating: ChinaSet_AllFiles/ChinaSet_AllFiles/ClinicalReadings/CHNCXR_0485_1.txt  \n",
            "  inflating: ChinaSet_AllFiles/ChinaSet_AllFiles/ClinicalReadings/CHNCXR_0486_1.txt  \n",
            "  inflating: ChinaSet_AllFiles/ChinaSet_AllFiles/ClinicalReadings/CHNCXR_0487_1.txt  \n",
            "  inflating: ChinaSet_AllFiles/ChinaSet_AllFiles/ClinicalReadings/CHNCXR_0488_1.txt  \n",
            "  inflating: ChinaSet_AllFiles/ChinaSet_AllFiles/ClinicalReadings/CHNCXR_0489_1.txt  \n",
            "  inflating: ChinaSet_AllFiles/ChinaSet_AllFiles/ClinicalReadings/CHNCXR_0490_1.txt  \n",
            "  inflating: ChinaSet_AllFiles/ChinaSet_AllFiles/ClinicalReadings/CHNCXR_0491_1.txt  \n",
            "  inflating: ChinaSet_AllFiles/ChinaSet_AllFiles/ClinicalReadings/CHNCXR_0492_1.txt  \n",
            "  inflating: ChinaSet_AllFiles/ChinaSet_AllFiles/ClinicalReadings/CHNCXR_0493_1.txt  \n",
            "  inflating: ChinaSet_AllFiles/ChinaSet_AllFiles/ClinicalReadings/CHNCXR_0494_1.txt  \n",
            "  inflating: ChinaSet_AllFiles/ChinaSet_AllFiles/ClinicalReadings/CHNCXR_0495_1.txt  \n",
            "  inflating: ChinaSet_AllFiles/ChinaSet_AllFiles/ClinicalReadings/CHNCXR_0496_1.txt  \n",
            "  inflating: ChinaSet_AllFiles/ChinaSet_AllFiles/ClinicalReadings/CHNCXR_0497_1.txt  \n",
            "  inflating: ChinaSet_AllFiles/ChinaSet_AllFiles/ClinicalReadings/CHNCXR_0498_1.txt  \n",
            "  inflating: ChinaSet_AllFiles/ChinaSet_AllFiles/ClinicalReadings/CHNCXR_0499_1.txt  \n",
            "  inflating: ChinaSet_AllFiles/ChinaSet_AllFiles/ClinicalReadings/CHNCXR_0500_1.txt  \n",
            "  inflating: ChinaSet_AllFiles/ChinaSet_AllFiles/ClinicalReadings/CHNCXR_0501_1.txt  \n",
            "  inflating: ChinaSet_AllFiles/ChinaSet_AllFiles/ClinicalReadings/CHNCXR_0502_1.txt  \n",
            "  inflating: ChinaSet_AllFiles/ChinaSet_AllFiles/ClinicalReadings/CHNCXR_0503_1.txt  \n",
            "  inflating: ChinaSet_AllFiles/ChinaSet_AllFiles/ClinicalReadings/CHNCXR_0504_1.txt  \n",
            "  inflating: ChinaSet_AllFiles/ChinaSet_AllFiles/ClinicalReadings/CHNCXR_0505_1.txt  \n",
            "  inflating: ChinaSet_AllFiles/ChinaSet_AllFiles/ClinicalReadings/CHNCXR_0506_1.txt  \n",
            "  inflating: ChinaSet_AllFiles/ChinaSet_AllFiles/ClinicalReadings/CHNCXR_0507_1.txt  \n",
            "  inflating: ChinaSet_AllFiles/ChinaSet_AllFiles/ClinicalReadings/CHNCXR_0508_1.txt  \n",
            "  inflating: ChinaSet_AllFiles/ChinaSet_AllFiles/ClinicalReadings/CHNCXR_0509_1.txt  \n",
            "  inflating: ChinaSet_AllFiles/ChinaSet_AllFiles/ClinicalReadings/CHNCXR_0510_1.txt  \n",
            "  inflating: ChinaSet_AllFiles/ChinaSet_AllFiles/ClinicalReadings/CHNCXR_0511_1.txt  \n",
            "  inflating: ChinaSet_AllFiles/ChinaSet_AllFiles/ClinicalReadings/CHNCXR_0512_1.txt  \n",
            "  inflating: ChinaSet_AllFiles/ChinaSet_AllFiles/ClinicalReadings/CHNCXR_0513_1.txt  \n",
            "  inflating: ChinaSet_AllFiles/ChinaSet_AllFiles/ClinicalReadings/CHNCXR_0514_1.txt  \n",
            "  inflating: ChinaSet_AllFiles/ChinaSet_AllFiles/ClinicalReadings/CHNCXR_0515_1.txt  \n",
            "  inflating: ChinaSet_AllFiles/ChinaSet_AllFiles/ClinicalReadings/CHNCXR_0516_1.txt  \n",
            "  inflating: ChinaSet_AllFiles/ChinaSet_AllFiles/ClinicalReadings/CHNCXR_0517_1.txt  \n",
            "  inflating: ChinaSet_AllFiles/ChinaSet_AllFiles/ClinicalReadings/CHNCXR_0518_1.txt  \n",
            "  inflating: ChinaSet_AllFiles/ChinaSet_AllFiles/ClinicalReadings/CHNCXR_0519_1.txt  \n",
            "  inflating: ChinaSet_AllFiles/ChinaSet_AllFiles/ClinicalReadings/CHNCXR_0520_1.txt  \n",
            "  inflating: ChinaSet_AllFiles/ChinaSet_AllFiles/ClinicalReadings/CHNCXR_0521_1.txt  \n",
            "  inflating: ChinaSet_AllFiles/ChinaSet_AllFiles/ClinicalReadings/CHNCXR_0522_1.txt  \n",
            "  inflating: ChinaSet_AllFiles/ChinaSet_AllFiles/ClinicalReadings/CHNCXR_0523_1.txt  \n",
            "  inflating: ChinaSet_AllFiles/ChinaSet_AllFiles/ClinicalReadings/CHNCXR_0524_1.txt  \n",
            "  inflating: ChinaSet_AllFiles/ChinaSet_AllFiles/ClinicalReadings/CHNCXR_0525_1.txt  \n",
            "  inflating: ChinaSet_AllFiles/ChinaSet_AllFiles/ClinicalReadings/CHNCXR_0526_1.txt  \n",
            "  inflating: ChinaSet_AllFiles/ChinaSet_AllFiles/ClinicalReadings/CHNCXR_0527_1.txt  \n",
            "  inflating: ChinaSet_AllFiles/ChinaSet_AllFiles/ClinicalReadings/CHNCXR_0528_1.txt  \n",
            "  inflating: ChinaSet_AllFiles/ChinaSet_AllFiles/ClinicalReadings/CHNCXR_0529_1.txt  \n",
            "  inflating: ChinaSet_AllFiles/ChinaSet_AllFiles/ClinicalReadings/CHNCXR_0530_1.txt  \n",
            "  inflating: ChinaSet_AllFiles/ChinaSet_AllFiles/ClinicalReadings/CHNCXR_0531_1.txt  \n",
            "  inflating: ChinaSet_AllFiles/ChinaSet_AllFiles/ClinicalReadings/CHNCXR_0532_1.txt  \n",
            "  inflating: ChinaSet_AllFiles/ChinaSet_AllFiles/ClinicalReadings/CHNCXR_0533_1.txt  \n",
            "  inflating: ChinaSet_AllFiles/ChinaSet_AllFiles/ClinicalReadings/CHNCXR_0534_1.txt  \n",
            "  inflating: ChinaSet_AllFiles/ChinaSet_AllFiles/ClinicalReadings/CHNCXR_0535_1.txt  \n",
            "  inflating: ChinaSet_AllFiles/ChinaSet_AllFiles/ClinicalReadings/CHNCXR_0536_1.txt  \n",
            "  inflating: ChinaSet_AllFiles/ChinaSet_AllFiles/ClinicalReadings/CHNCXR_0537_1.txt  \n",
            "  inflating: ChinaSet_AllFiles/ChinaSet_AllFiles/ClinicalReadings/CHNCXR_0538_1.txt  \n",
            "  inflating: ChinaSet_AllFiles/ChinaSet_AllFiles/ClinicalReadings/CHNCXR_0539_1.txt  \n",
            "  inflating: ChinaSet_AllFiles/ChinaSet_AllFiles/ClinicalReadings/CHNCXR_0540_1.txt  \n",
            "  inflating: ChinaSet_AllFiles/ChinaSet_AllFiles/ClinicalReadings/CHNCXR_0541_1.txt  \n",
            "  inflating: ChinaSet_AllFiles/ChinaSet_AllFiles/ClinicalReadings/CHNCXR_0542_1.txt  \n",
            "  inflating: ChinaSet_AllFiles/ChinaSet_AllFiles/ClinicalReadings/CHNCXR_0543_1.txt  \n",
            "  inflating: ChinaSet_AllFiles/ChinaSet_AllFiles/ClinicalReadings/CHNCXR_0544_1.txt  \n",
            "  inflating: ChinaSet_AllFiles/ChinaSet_AllFiles/ClinicalReadings/CHNCXR_0545_1.txt  \n",
            "  inflating: ChinaSet_AllFiles/ChinaSet_AllFiles/ClinicalReadings/CHNCXR_0546_1.txt  \n",
            "  inflating: ChinaSet_AllFiles/ChinaSet_AllFiles/ClinicalReadings/CHNCXR_0547_1.txt  \n",
            "  inflating: ChinaSet_AllFiles/ChinaSet_AllFiles/ClinicalReadings/CHNCXR_0548_1.txt  \n",
            "  inflating: ChinaSet_AllFiles/ChinaSet_AllFiles/ClinicalReadings/CHNCXR_0549_1.txt  \n",
            "  inflating: ChinaSet_AllFiles/ChinaSet_AllFiles/ClinicalReadings/CHNCXR_0550_1.txt  \n",
            "  inflating: ChinaSet_AllFiles/ChinaSet_AllFiles/ClinicalReadings/CHNCXR_0551_1.txt  \n",
            "  inflating: ChinaSet_AllFiles/ChinaSet_AllFiles/ClinicalReadings/CHNCXR_0552_1.txt  \n",
            "  inflating: ChinaSet_AllFiles/ChinaSet_AllFiles/ClinicalReadings/CHNCXR_0553_1.txt  \n",
            "  inflating: ChinaSet_AllFiles/ChinaSet_AllFiles/ClinicalReadings/CHNCXR_0554_1.txt  \n",
            "  inflating: ChinaSet_AllFiles/ChinaSet_AllFiles/ClinicalReadings/CHNCXR_0555_1.txt  \n",
            "  inflating: ChinaSet_AllFiles/ChinaSet_AllFiles/ClinicalReadings/CHNCXR_0556_1.txt  \n",
            "  inflating: ChinaSet_AllFiles/ChinaSet_AllFiles/ClinicalReadings/CHNCXR_0557_1.txt  \n",
            "  inflating: ChinaSet_AllFiles/ChinaSet_AllFiles/ClinicalReadings/CHNCXR_0558_1.txt  \n",
            "  inflating: ChinaSet_AllFiles/ChinaSet_AllFiles/ClinicalReadings/CHNCXR_0559_1.txt  \n",
            "  inflating: ChinaSet_AllFiles/ChinaSet_AllFiles/ClinicalReadings/CHNCXR_0560_1.txt  \n",
            "  inflating: ChinaSet_AllFiles/ChinaSet_AllFiles/ClinicalReadings/CHNCXR_0561_1.txt  \n",
            "  inflating: ChinaSet_AllFiles/ChinaSet_AllFiles/ClinicalReadings/CHNCXR_0562_1.txt  \n",
            "  inflating: ChinaSet_AllFiles/ChinaSet_AllFiles/ClinicalReadings/CHNCXR_0563_1.txt  \n",
            "  inflating: ChinaSet_AllFiles/ChinaSet_AllFiles/ClinicalReadings/CHNCXR_0564_1.txt  \n",
            "  inflating: ChinaSet_AllFiles/ChinaSet_AllFiles/ClinicalReadings/CHNCXR_0565_1.txt  \n",
            "  inflating: ChinaSet_AllFiles/ChinaSet_AllFiles/ClinicalReadings/CHNCXR_0566_1.txt  \n",
            "  inflating: ChinaSet_AllFiles/ChinaSet_AllFiles/ClinicalReadings/CHNCXR_0567_1.txt  \n",
            "  inflating: ChinaSet_AllFiles/ChinaSet_AllFiles/ClinicalReadings/CHNCXR_0568_1.txt  \n",
            "  inflating: ChinaSet_AllFiles/ChinaSet_AllFiles/ClinicalReadings/CHNCXR_0569_1.txt  \n",
            "  inflating: ChinaSet_AllFiles/ChinaSet_AllFiles/ClinicalReadings/CHNCXR_0570_1.txt  \n",
            "  inflating: ChinaSet_AllFiles/ChinaSet_AllFiles/ClinicalReadings/CHNCXR_0571_1.txt  \n",
            "  inflating: ChinaSet_AllFiles/ChinaSet_AllFiles/ClinicalReadings/CHNCXR_0572_1.txt  \n",
            "  inflating: ChinaSet_AllFiles/ChinaSet_AllFiles/ClinicalReadings/CHNCXR_0573_1.txt  \n",
            "  inflating: ChinaSet_AllFiles/ChinaSet_AllFiles/ClinicalReadings/CHNCXR_0574_1.txt  \n",
            "  inflating: ChinaSet_AllFiles/ChinaSet_AllFiles/ClinicalReadings/CHNCXR_0575_1.txt  \n",
            "  inflating: ChinaSet_AllFiles/ChinaSet_AllFiles/ClinicalReadings/CHNCXR_0576_1.txt  \n",
            "  inflating: ChinaSet_AllFiles/ChinaSet_AllFiles/ClinicalReadings/CHNCXR_0577_1.txt  \n",
            "  inflating: ChinaSet_AllFiles/ChinaSet_AllFiles/ClinicalReadings/CHNCXR_0578_1.txt  \n",
            "  inflating: ChinaSet_AllFiles/ChinaSet_AllFiles/ClinicalReadings/CHNCXR_0579_1.txt  \n",
            "  inflating: ChinaSet_AllFiles/ChinaSet_AllFiles/ClinicalReadings/CHNCXR_0580_1.txt  \n",
            "  inflating: ChinaSet_AllFiles/ChinaSet_AllFiles/ClinicalReadings/CHNCXR_0581_1.txt  \n",
            "  inflating: ChinaSet_AllFiles/ChinaSet_AllFiles/ClinicalReadings/CHNCXR_0582_1.txt  \n",
            "  inflating: ChinaSet_AllFiles/ChinaSet_AllFiles/ClinicalReadings/CHNCXR_0583_1.txt  \n",
            "  inflating: ChinaSet_AllFiles/ChinaSet_AllFiles/ClinicalReadings/CHNCXR_0584_1.txt  \n",
            "  inflating: ChinaSet_AllFiles/ChinaSet_AllFiles/ClinicalReadings/CHNCXR_0585_1.txt  \n",
            "  inflating: ChinaSet_AllFiles/ChinaSet_AllFiles/ClinicalReadings/CHNCXR_0586_1.txt  \n",
            "  inflating: ChinaSet_AllFiles/ChinaSet_AllFiles/ClinicalReadings/CHNCXR_0587_1.txt  \n",
            "  inflating: ChinaSet_AllFiles/ChinaSet_AllFiles/ClinicalReadings/CHNCXR_0588_1.txt  \n",
            "  inflating: ChinaSet_AllFiles/ChinaSet_AllFiles/ClinicalReadings/CHNCXR_0589_1.txt  \n",
            "  inflating: ChinaSet_AllFiles/ChinaSet_AllFiles/ClinicalReadings/CHNCXR_0590_1.txt  \n",
            "  inflating: ChinaSet_AllFiles/ChinaSet_AllFiles/ClinicalReadings/CHNCXR_0591_1.txt  \n",
            "  inflating: ChinaSet_AllFiles/ChinaSet_AllFiles/ClinicalReadings/CHNCXR_0592_1.txt  \n",
            "  inflating: ChinaSet_AllFiles/ChinaSet_AllFiles/ClinicalReadings/CHNCXR_0593_1.txt  \n",
            "  inflating: ChinaSet_AllFiles/ChinaSet_AllFiles/ClinicalReadings/CHNCXR_0594_1.txt  \n",
            "  inflating: ChinaSet_AllFiles/ChinaSet_AllFiles/ClinicalReadings/CHNCXR_0595_1.txt  \n",
            "  inflating: ChinaSet_AllFiles/ChinaSet_AllFiles/ClinicalReadings/CHNCXR_0596_1.txt  \n",
            "  inflating: ChinaSet_AllFiles/ChinaSet_AllFiles/ClinicalReadings/CHNCXR_0597_1.txt  \n",
            "  inflating: ChinaSet_AllFiles/ChinaSet_AllFiles/ClinicalReadings/CHNCXR_0598_1.txt  \n",
            "  inflating: ChinaSet_AllFiles/ChinaSet_AllFiles/ClinicalReadings/CHNCXR_0599_1.txt  \n",
            "  inflating: ChinaSet_AllFiles/ChinaSet_AllFiles/ClinicalReadings/CHNCXR_0600_1.txt  \n",
            "  inflating: ChinaSet_AllFiles/ChinaSet_AllFiles/ClinicalReadings/CHNCXR_0601_1.txt  \n",
            "  inflating: ChinaSet_AllFiles/ChinaSet_AllFiles/ClinicalReadings/CHNCXR_0602_1.txt  \n",
            "  inflating: ChinaSet_AllFiles/ChinaSet_AllFiles/ClinicalReadings/CHNCXR_0603_1.txt  \n",
            "  inflating: ChinaSet_AllFiles/ChinaSet_AllFiles/ClinicalReadings/CHNCXR_0604_1.txt  \n",
            "  inflating: ChinaSet_AllFiles/ChinaSet_AllFiles/ClinicalReadings/CHNCXR_0605_1.txt  \n",
            "  inflating: ChinaSet_AllFiles/ChinaSet_AllFiles/ClinicalReadings/CHNCXR_0606_1.txt  \n",
            "  inflating: ChinaSet_AllFiles/ChinaSet_AllFiles/ClinicalReadings/CHNCXR_0607_1.txt  \n",
            "  inflating: ChinaSet_AllFiles/ChinaSet_AllFiles/ClinicalReadings/CHNCXR_0608_1.txt  \n",
            "  inflating: ChinaSet_AllFiles/ChinaSet_AllFiles/ClinicalReadings/CHNCXR_0609_1.txt  \n",
            "  inflating: ChinaSet_AllFiles/ChinaSet_AllFiles/ClinicalReadings/CHNCXR_0610_1.txt  \n",
            "  inflating: ChinaSet_AllFiles/ChinaSet_AllFiles/ClinicalReadings/CHNCXR_0611_1.txt  \n",
            "  inflating: ChinaSet_AllFiles/ChinaSet_AllFiles/ClinicalReadings/CHNCXR_0612_1.txt  \n",
            "  inflating: ChinaSet_AllFiles/ChinaSet_AllFiles/ClinicalReadings/CHNCXR_0613_1.txt  \n",
            "  inflating: ChinaSet_AllFiles/ChinaSet_AllFiles/ClinicalReadings/CHNCXR_0614_1.txt  \n",
            "  inflating: ChinaSet_AllFiles/ChinaSet_AllFiles/ClinicalReadings/CHNCXR_0615_1.txt  \n",
            "  inflating: ChinaSet_AllFiles/ChinaSet_AllFiles/ClinicalReadings/CHNCXR_0616_1.txt  \n",
            "  inflating: ChinaSet_AllFiles/ChinaSet_AllFiles/ClinicalReadings/CHNCXR_0617_1.txt  \n",
            "  inflating: ChinaSet_AllFiles/ChinaSet_AllFiles/ClinicalReadings/CHNCXR_0618_1.txt  \n",
            "  inflating: ChinaSet_AllFiles/ChinaSet_AllFiles/ClinicalReadings/CHNCXR_0619_1.txt  \n",
            "  inflating: ChinaSet_AllFiles/ChinaSet_AllFiles/ClinicalReadings/CHNCXR_0620_1.txt  \n",
            "  inflating: ChinaSet_AllFiles/ChinaSet_AllFiles/ClinicalReadings/CHNCXR_0621_1.txt  \n",
            "  inflating: ChinaSet_AllFiles/ChinaSet_AllFiles/ClinicalReadings/CHNCXR_0622_1.txt  \n",
            "  inflating: ChinaSet_AllFiles/ChinaSet_AllFiles/ClinicalReadings/CHNCXR_0623_1.txt  \n",
            "  inflating: ChinaSet_AllFiles/ChinaSet_AllFiles/ClinicalReadings/CHNCXR_0624_1.txt  \n",
            "  inflating: ChinaSet_AllFiles/ChinaSet_AllFiles/ClinicalReadings/CHNCXR_0625_1.txt  \n",
            "  inflating: ChinaSet_AllFiles/ChinaSet_AllFiles/ClinicalReadings/CHNCXR_0626_1.txt  \n",
            "  inflating: ChinaSet_AllFiles/ChinaSet_AllFiles/ClinicalReadings/CHNCXR_0627_1.txt  \n",
            "  inflating: ChinaSet_AllFiles/ChinaSet_AllFiles/ClinicalReadings/CHNCXR_0628_1.txt  \n",
            "  inflating: ChinaSet_AllFiles/ChinaSet_AllFiles/ClinicalReadings/CHNCXR_0629_1.txt  \n",
            "  inflating: ChinaSet_AllFiles/ChinaSet_AllFiles/ClinicalReadings/CHNCXR_0630_1.txt  \n",
            "  inflating: ChinaSet_AllFiles/ChinaSet_AllFiles/ClinicalReadings/CHNCXR_0631_1.txt  \n",
            "  inflating: ChinaSet_AllFiles/ChinaSet_AllFiles/ClinicalReadings/CHNCXR_0632_1.txt  \n",
            "  inflating: ChinaSet_AllFiles/ChinaSet_AllFiles/ClinicalReadings/CHNCXR_0633_1.txt  \n",
            "  inflating: ChinaSet_AllFiles/ChinaSet_AllFiles/ClinicalReadings/CHNCXR_0634_1.txt  \n",
            "  inflating: ChinaSet_AllFiles/ChinaSet_AllFiles/ClinicalReadings/CHNCXR_0635_1.txt  \n",
            "  inflating: ChinaSet_AllFiles/ChinaSet_AllFiles/ClinicalReadings/CHNCXR_0636_1.txt  \n",
            "  inflating: ChinaSet_AllFiles/ChinaSet_AllFiles/ClinicalReadings/CHNCXR_0637_1.txt  \n",
            "  inflating: ChinaSet_AllFiles/ChinaSet_AllFiles/ClinicalReadings/CHNCXR_0638_1.txt  \n",
            "  inflating: ChinaSet_AllFiles/ChinaSet_AllFiles/ClinicalReadings/CHNCXR_0639_1.txt  \n",
            "  inflating: ChinaSet_AllFiles/ChinaSet_AllFiles/ClinicalReadings/CHNCXR_0640_1.txt  \n",
            "  inflating: ChinaSet_AllFiles/ChinaSet_AllFiles/ClinicalReadings/CHNCXR_0641_1.txt  \n",
            "  inflating: ChinaSet_AllFiles/ChinaSet_AllFiles/ClinicalReadings/CHNCXR_0642_1.txt  \n",
            "  inflating: ChinaSet_AllFiles/ChinaSet_AllFiles/ClinicalReadings/CHNCXR_0643_1.txt  \n",
            "  inflating: ChinaSet_AllFiles/ChinaSet_AllFiles/ClinicalReadings/CHNCXR_0644_1.txt  \n",
            "  inflating: ChinaSet_AllFiles/ChinaSet_AllFiles/ClinicalReadings/CHNCXR_0645_1.txt  \n",
            "  inflating: ChinaSet_AllFiles/ChinaSet_AllFiles/ClinicalReadings/CHNCXR_0646_1.txt  \n",
            "  inflating: ChinaSet_AllFiles/ChinaSet_AllFiles/ClinicalReadings/CHNCXR_0647_1.txt  \n",
            "  inflating: ChinaSet_AllFiles/ChinaSet_AllFiles/ClinicalReadings/CHNCXR_0648_1.txt  \n",
            "  inflating: ChinaSet_AllFiles/ChinaSet_AllFiles/ClinicalReadings/CHNCXR_0649_1.txt  \n",
            "  inflating: ChinaSet_AllFiles/ChinaSet_AllFiles/ClinicalReadings/CHNCXR_0650_1.txt  \n",
            "  inflating: ChinaSet_AllFiles/ChinaSet_AllFiles/ClinicalReadings/CHNCXR_0651_1.txt  \n",
            "  inflating: ChinaSet_AllFiles/ChinaSet_AllFiles/ClinicalReadings/CHNCXR_0652_1.txt  \n",
            "  inflating: ChinaSet_AllFiles/ChinaSet_AllFiles/ClinicalReadings/CHNCXR_0653_1.txt  \n",
            "  inflating: ChinaSet_AllFiles/ChinaSet_AllFiles/ClinicalReadings/CHNCXR_0654_1.txt  \n",
            "  inflating: ChinaSet_AllFiles/ChinaSet_AllFiles/ClinicalReadings/CHNCXR_0655_1.txt  \n",
            "  inflating: ChinaSet_AllFiles/ChinaSet_AllFiles/ClinicalReadings/CHNCXR_0656_1.txt  \n",
            "  inflating: ChinaSet_AllFiles/ChinaSet_AllFiles/ClinicalReadings/CHNCXR_0657_1.txt  \n",
            "  inflating: ChinaSet_AllFiles/ChinaSet_AllFiles/ClinicalReadings/CHNCXR_0658_1.txt  \n",
            "  inflating: ChinaSet_AllFiles/ChinaSet_AllFiles/ClinicalReadings/CHNCXR_0659_1.txt  \n",
            "  inflating: ChinaSet_AllFiles/ChinaSet_AllFiles/ClinicalReadings/CHNCXR_0660_1.txt  \n",
            "  inflating: ChinaSet_AllFiles/ChinaSet_AllFiles/ClinicalReadings/CHNCXR_0661_1.txt  \n",
            "  inflating: ChinaSet_AllFiles/ChinaSet_AllFiles/ClinicalReadings/CHNCXR_0662_1.txt  \n",
            "  inflating: ChinaSet_AllFiles/ChinaSet_AllFiles/NLM-ChinaCXRSet-ReadMe.docx  \n",
            "  inflating: Montgomery/MontgomerySet/.DS_Store  \n",
            "  inflating: Montgomery/MontgomerySet/CXR_png/MCUCXR_0001_0.png  \n",
            "  inflating: Montgomery/MontgomerySet/CXR_png/MCUCXR_0002_0.png  \n",
            "  inflating: Montgomery/MontgomerySet/CXR_png/MCUCXR_0003_0.png  \n",
            "  inflating: Montgomery/MontgomerySet/CXR_png/MCUCXR_0004_0.png  \n",
            "  inflating: Montgomery/MontgomerySet/CXR_png/MCUCXR_0005_0.png  \n",
            "  inflating: Montgomery/MontgomerySet/CXR_png/MCUCXR_0006_0.png  \n",
            "  inflating: Montgomery/MontgomerySet/CXR_png/MCUCXR_0008_0.png  \n",
            "  inflating: Montgomery/MontgomerySet/CXR_png/MCUCXR_0011_0.png  \n",
            "  inflating: Montgomery/MontgomerySet/CXR_png/MCUCXR_0013_0.png  \n",
            "  inflating: Montgomery/MontgomerySet/CXR_png/MCUCXR_0015_0.png  \n",
            "  inflating: Montgomery/MontgomerySet/CXR_png/MCUCXR_0016_0.png  \n",
            "  inflating: Montgomery/MontgomerySet/CXR_png/MCUCXR_0017_0.png  \n",
            "  inflating: Montgomery/MontgomerySet/CXR_png/MCUCXR_0019_0.png  \n",
            "  inflating: Montgomery/MontgomerySet/CXR_png/MCUCXR_0020_0.png  \n",
            "  inflating: Montgomery/MontgomerySet/CXR_png/MCUCXR_0021_0.png  \n",
            "  inflating: Montgomery/MontgomerySet/CXR_png/MCUCXR_0022_0.png  \n",
            "  inflating: Montgomery/MontgomerySet/CXR_png/MCUCXR_0023_0.png  \n",
            "  inflating: Montgomery/MontgomerySet/CXR_png/MCUCXR_0024_0.png  \n",
            "  inflating: Montgomery/MontgomerySet/CXR_png/MCUCXR_0026_0.png  \n",
            "  inflating: Montgomery/MontgomerySet/CXR_png/MCUCXR_0027_0.png  \n",
            "  inflating: Montgomery/MontgomerySet/CXR_png/MCUCXR_0028_0.png  \n",
            "  inflating: Montgomery/MontgomerySet/CXR_png/MCUCXR_0029_0.png  \n",
            "  inflating: Montgomery/MontgomerySet/CXR_png/MCUCXR_0030_0.png  \n",
            "  inflating: Montgomery/MontgomerySet/CXR_png/MCUCXR_0031_0.png  \n",
            "  inflating: Montgomery/MontgomerySet/CXR_png/MCUCXR_0035_0.png  \n",
            "  inflating: Montgomery/MontgomerySet/CXR_png/MCUCXR_0038_0.png  \n",
            "  inflating: Montgomery/MontgomerySet/CXR_png/MCUCXR_0040_0.png  \n",
            "  inflating: Montgomery/MontgomerySet/CXR_png/MCUCXR_0041_0.png  \n",
            "  inflating: Montgomery/MontgomerySet/CXR_png/MCUCXR_0042_0.png  \n",
            "  inflating: Montgomery/MontgomerySet/CXR_png/MCUCXR_0043_0.png  \n",
            "  inflating: Montgomery/MontgomerySet/CXR_png/MCUCXR_0044_0.png  \n",
            "  inflating: Montgomery/MontgomerySet/CXR_png/MCUCXR_0045_0.png  \n",
            "  inflating: Montgomery/MontgomerySet/CXR_png/MCUCXR_0046_0.png  \n",
            "  inflating: Montgomery/MontgomerySet/CXR_png/MCUCXR_0047_0.png  \n",
            "  inflating: Montgomery/MontgomerySet/CXR_png/MCUCXR_0048_0.png  \n",
            "  inflating: Montgomery/MontgomerySet/CXR_png/MCUCXR_0049_0.png  \n",
            "  inflating: Montgomery/MontgomerySet/CXR_png/MCUCXR_0051_0.png  \n",
            "  inflating: Montgomery/MontgomerySet/CXR_png/MCUCXR_0052_0.png  \n",
            "  inflating: Montgomery/MontgomerySet/CXR_png/MCUCXR_0053_0.png  \n",
            "  inflating: Montgomery/MontgomerySet/CXR_png/MCUCXR_0054_0.png  \n",
            "  inflating: Montgomery/MontgomerySet/CXR_png/MCUCXR_0055_0.png  \n",
            "  inflating: Montgomery/MontgomerySet/CXR_png/MCUCXR_0056_0.png  \n",
            "  inflating: Montgomery/MontgomerySet/CXR_png/MCUCXR_0057_0.png  \n",
            "  inflating: Montgomery/MontgomerySet/CXR_png/MCUCXR_0058_0.png  \n",
            "  inflating: Montgomery/MontgomerySet/CXR_png/MCUCXR_0059_0.png  \n",
            "  inflating: Montgomery/MontgomerySet/CXR_png/MCUCXR_0060_0.png  \n",
            "  inflating: Montgomery/MontgomerySet/CXR_png/MCUCXR_0061_0.png  \n",
            "  inflating: Montgomery/MontgomerySet/CXR_png/MCUCXR_0062_0.png  \n",
            "  inflating: Montgomery/MontgomerySet/CXR_png/MCUCXR_0063_0.png  \n",
            "  inflating: Montgomery/MontgomerySet/CXR_png/MCUCXR_0064_0.png  \n",
            "  inflating: Montgomery/MontgomerySet/CXR_png/MCUCXR_0068_0.png  \n",
            "  inflating: Montgomery/MontgomerySet/CXR_png/MCUCXR_0069_0.png  \n",
            "  inflating: Montgomery/MontgomerySet/CXR_png/MCUCXR_0070_0.png  \n",
            "  inflating: Montgomery/MontgomerySet/CXR_png/MCUCXR_0071_0.png  \n",
            "  inflating: Montgomery/MontgomerySet/CXR_png/MCUCXR_0072_0.png  \n",
            "  inflating: Montgomery/MontgomerySet/CXR_png/MCUCXR_0074_0.png  \n",
            "  inflating: Montgomery/MontgomerySet/CXR_png/MCUCXR_0075_0.png  \n",
            "  inflating: Montgomery/MontgomerySet/CXR_png/MCUCXR_0077_0.png  \n",
            "  inflating: Montgomery/MontgomerySet/CXR_png/MCUCXR_0079_0.png  \n",
            "  inflating: Montgomery/MontgomerySet/CXR_png/MCUCXR_0080_0.png  \n",
            "  inflating: Montgomery/MontgomerySet/CXR_png/MCUCXR_0081_0.png  \n",
            "  inflating: Montgomery/MontgomerySet/CXR_png/MCUCXR_0082_0.png  \n",
            "  inflating: Montgomery/MontgomerySet/CXR_png/MCUCXR_0083_0.png  \n",
            "  inflating: Montgomery/MontgomerySet/CXR_png/MCUCXR_0084_0.png  \n",
            "  inflating: Montgomery/MontgomerySet/CXR_png/MCUCXR_0085_0.png  \n",
            "  inflating: Montgomery/MontgomerySet/CXR_png/MCUCXR_0086_0.png  \n",
            "  inflating: Montgomery/MontgomerySet/CXR_png/MCUCXR_0087_0.png  \n",
            "  inflating: Montgomery/MontgomerySet/CXR_png/MCUCXR_0089_0.png  \n",
            "  inflating: Montgomery/MontgomerySet/CXR_png/MCUCXR_0090_0.png  \n",
            "  inflating: Montgomery/MontgomerySet/CXR_png/MCUCXR_0091_0.png  \n",
            "  inflating: Montgomery/MontgomerySet/CXR_png/MCUCXR_0092_0.png  \n",
            "  inflating: Montgomery/MontgomerySet/CXR_png/MCUCXR_0094_0.png  \n",
            "  inflating: Montgomery/MontgomerySet/CXR_png/MCUCXR_0095_0.png  \n",
            "  inflating: Montgomery/MontgomerySet/CXR_png/MCUCXR_0096_0.png  \n",
            "  inflating: Montgomery/MontgomerySet/CXR_png/MCUCXR_0097_0.png  \n",
            "  inflating: Montgomery/MontgomerySet/CXR_png/MCUCXR_0099_0.png  \n",
            "  inflating: Montgomery/MontgomerySet/CXR_png/MCUCXR_0100_0.png  \n",
            "  inflating: Montgomery/MontgomerySet/CXR_png/MCUCXR_0101_0.png  \n",
            "  inflating: Montgomery/MontgomerySet/CXR_png/MCUCXR_0102_0.png  \n",
            "  inflating: Montgomery/MontgomerySet/CXR_png/MCUCXR_0103_0.png  \n",
            "  inflating: Montgomery/MontgomerySet/CXR_png/MCUCXR_0104_1.png  \n",
            "  inflating: Montgomery/MontgomerySet/CXR_png/MCUCXR_0108_1.png  \n",
            "  inflating: Montgomery/MontgomerySet/CXR_png/MCUCXR_0113_1.png  \n",
            "  inflating: Montgomery/MontgomerySet/CXR_png/MCUCXR_0117_1.png  \n",
            "  inflating: Montgomery/MontgomerySet/CXR_png/MCUCXR_0126_1.png  \n",
            "  inflating: Montgomery/MontgomerySet/CXR_png/MCUCXR_0140_1.png  \n",
            "  inflating: Montgomery/MontgomerySet/CXR_png/MCUCXR_0141_1.png  \n",
            "  inflating: Montgomery/MontgomerySet/CXR_png/MCUCXR_0142_1.png  \n",
            "  inflating: Montgomery/MontgomerySet/CXR_png/MCUCXR_0144_1.png  \n",
            "  inflating: Montgomery/MontgomerySet/CXR_png/MCUCXR_0150_1.png  \n",
            "  inflating: Montgomery/MontgomerySet/CXR_png/MCUCXR_0162_1.png  \n",
            "  inflating: Montgomery/MontgomerySet/CXR_png/MCUCXR_0166_1.png  \n",
            "  inflating: Montgomery/MontgomerySet/CXR_png/MCUCXR_0170_1.png  \n",
            "  inflating: Montgomery/MontgomerySet/CXR_png/MCUCXR_0173_1.png  \n",
            "  inflating: Montgomery/MontgomerySet/CXR_png/MCUCXR_0182_1.png  \n",
            "  inflating: Montgomery/MontgomerySet/CXR_png/MCUCXR_0188_1.png  \n",
            "  inflating: Montgomery/MontgomerySet/CXR_png/MCUCXR_0194_1.png  \n",
            "  inflating: Montgomery/MontgomerySet/CXR_png/MCUCXR_0195_1.png  \n",
            "  inflating: Montgomery/MontgomerySet/CXR_png/MCUCXR_0196_1.png  \n",
            "  inflating: Montgomery/MontgomerySet/CXR_png/MCUCXR_0203_1.png  \n",
            "  inflating: Montgomery/MontgomerySet/CXR_png/MCUCXR_0213_1.png  \n",
            "  inflating: Montgomery/MontgomerySet/CXR_png/MCUCXR_0218_1.png  \n",
            "  inflating: Montgomery/MontgomerySet/CXR_png/MCUCXR_0223_1.png  \n",
            "  inflating: Montgomery/MontgomerySet/CXR_png/MCUCXR_0228_1.png  \n",
            "  inflating: Montgomery/MontgomerySet/CXR_png/MCUCXR_0243_1.png  \n",
            "  inflating: Montgomery/MontgomerySet/CXR_png/MCUCXR_0251_1.png  \n",
            "  inflating: Montgomery/MontgomerySet/CXR_png/MCUCXR_0253_1.png  \n",
            "  inflating: Montgomery/MontgomerySet/CXR_png/MCUCXR_0254_1.png  \n",
            "  inflating: Montgomery/MontgomerySet/CXR_png/MCUCXR_0255_1.png  \n",
            "  inflating: Montgomery/MontgomerySet/CXR_png/MCUCXR_0258_1.png  \n",
            "  inflating: Montgomery/MontgomerySet/CXR_png/MCUCXR_0264_1.png  \n",
            "  inflating: Montgomery/MontgomerySet/CXR_png/MCUCXR_0266_1.png  \n",
            "  inflating: Montgomery/MontgomerySet/CXR_png/MCUCXR_0275_1.png  \n",
            "  inflating: Montgomery/MontgomerySet/CXR_png/MCUCXR_0282_1.png  \n",
            "  inflating: Montgomery/MontgomerySet/CXR_png/MCUCXR_0289_1.png  \n",
            "  inflating: Montgomery/MontgomerySet/CXR_png/MCUCXR_0294_1.png  \n",
            "  inflating: Montgomery/MontgomerySet/CXR_png/MCUCXR_0301_1.png  \n",
            "  inflating: Montgomery/MontgomerySet/CXR_png/MCUCXR_0309_1.png  \n",
            "  inflating: Montgomery/MontgomerySet/CXR_png/MCUCXR_0311_1.png  \n",
            "  inflating: Montgomery/MontgomerySet/CXR_png/MCUCXR_0313_1.png  \n",
            "  inflating: Montgomery/MontgomerySet/CXR_png/MCUCXR_0316_1.png  \n",
            "  inflating: Montgomery/MontgomerySet/CXR_png/MCUCXR_0331_1.png  \n",
            "  inflating: Montgomery/MontgomerySet/CXR_png/MCUCXR_0334_1.png  \n",
            "  inflating: Montgomery/MontgomerySet/CXR_png/MCUCXR_0338_1.png  \n",
            "  inflating: Montgomery/MontgomerySet/CXR_png/MCUCXR_0348_1.png  \n",
            "  inflating: Montgomery/MontgomerySet/CXR_png/MCUCXR_0350_1.png  \n",
            "  inflating: Montgomery/MontgomerySet/CXR_png/MCUCXR_0352_1.png  \n",
            "  inflating: Montgomery/MontgomerySet/CXR_png/MCUCXR_0354_1.png  \n",
            "  inflating: Montgomery/MontgomerySet/CXR_png/MCUCXR_0362_1.png  \n",
            "  inflating: Montgomery/MontgomerySet/CXR_png/MCUCXR_0367_1.png  \n",
            "  inflating: Montgomery/MontgomerySet/CXR_png/MCUCXR_0369_1.png  \n",
            "  inflating: Montgomery/MontgomerySet/CXR_png/MCUCXR_0372_1.png  \n",
            "  inflating: Montgomery/MontgomerySet/CXR_png/MCUCXR_0375_1.png  \n",
            "  inflating: Montgomery/MontgomerySet/CXR_png/MCUCXR_0383_1.png  \n",
            "  inflating: Montgomery/MontgomerySet/CXR_png/MCUCXR_0387_1.png  \n",
            "  inflating: Montgomery/MontgomerySet/CXR_png/MCUCXR_0390_1.png  \n",
            "  inflating: Montgomery/MontgomerySet/CXR_png/MCUCXR_0393_1.png  \n",
            "  inflating: Montgomery/MontgomerySet/CXR_png/MCUCXR_0399_1.png  \n",
            "  inflating: Montgomery/MontgomerySet/CXR_png/Thumbs.db  \n",
            "  inflating: Montgomery/MontgomerySet/ClinicalReadings/MCUCXR_0001_0.txt  \n",
            "  inflating: Montgomery/MontgomerySet/ClinicalReadings/MCUCXR_0002_0.txt  \n",
            "  inflating: Montgomery/MontgomerySet/ClinicalReadings/MCUCXR_0003_0.txt  \n",
            "  inflating: Montgomery/MontgomerySet/ClinicalReadings/MCUCXR_0004_0.txt  \n",
            "  inflating: Montgomery/MontgomerySet/ClinicalReadings/MCUCXR_0005_0.txt  \n",
            "  inflating: Montgomery/MontgomerySet/ClinicalReadings/MCUCXR_0006_0.txt  \n",
            "  inflating: Montgomery/MontgomerySet/ClinicalReadings/MCUCXR_0008_0.txt  \n",
            "  inflating: Montgomery/MontgomerySet/ClinicalReadings/MCUCXR_0011_0.txt  \n",
            "  inflating: Montgomery/MontgomerySet/ClinicalReadings/MCUCXR_0013_0.txt  \n",
            "  inflating: Montgomery/MontgomerySet/ClinicalReadings/MCUCXR_0015_0.txt  \n",
            "  inflating: Montgomery/MontgomerySet/ClinicalReadings/MCUCXR_0016_0.txt  \n",
            "  inflating: Montgomery/MontgomerySet/ClinicalReadings/MCUCXR_0017_0.txt  \n",
            "  inflating: Montgomery/MontgomerySet/ClinicalReadings/MCUCXR_0019_0.txt  \n",
            "  inflating: Montgomery/MontgomerySet/ClinicalReadings/MCUCXR_0020_0.txt  \n",
            "  inflating: Montgomery/MontgomerySet/ClinicalReadings/MCUCXR_0021_0.txt  \n",
            "  inflating: Montgomery/MontgomerySet/ClinicalReadings/MCUCXR_0022_0.txt  \n",
            "  inflating: Montgomery/MontgomerySet/ClinicalReadings/MCUCXR_0023_0.txt  \n",
            "  inflating: Montgomery/MontgomerySet/ClinicalReadings/MCUCXR_0024_0.txt  \n",
            "  inflating: Montgomery/MontgomerySet/ClinicalReadings/MCUCXR_0026_0.txt  \n",
            "  inflating: Montgomery/MontgomerySet/ClinicalReadings/MCUCXR_0027_0.txt  \n",
            "  inflating: Montgomery/MontgomerySet/ClinicalReadings/MCUCXR_0028_0.txt  \n",
            "  inflating: Montgomery/MontgomerySet/ClinicalReadings/MCUCXR_0029_0.txt  \n",
            "  inflating: Montgomery/MontgomerySet/ClinicalReadings/MCUCXR_0030_0.txt  \n",
            "  inflating: Montgomery/MontgomerySet/ClinicalReadings/MCUCXR_0031_0.txt  \n",
            "  inflating: Montgomery/MontgomerySet/ClinicalReadings/MCUCXR_0035_0.txt  \n",
            "  inflating: Montgomery/MontgomerySet/ClinicalReadings/MCUCXR_0038_0.txt  \n",
            "  inflating: Montgomery/MontgomerySet/ClinicalReadings/MCUCXR_0040_0.txt  \n",
            "  inflating: Montgomery/MontgomerySet/ClinicalReadings/MCUCXR_0041_0.txt  \n",
            "  inflating: Montgomery/MontgomerySet/ClinicalReadings/MCUCXR_0042_0.txt  \n",
            "  inflating: Montgomery/MontgomerySet/ClinicalReadings/MCUCXR_0043_0.txt  \n",
            "  inflating: Montgomery/MontgomerySet/ClinicalReadings/MCUCXR_0044_0.txt  \n",
            "  inflating: Montgomery/MontgomerySet/ClinicalReadings/MCUCXR_0045_0.txt  \n",
            "  inflating: Montgomery/MontgomerySet/ClinicalReadings/MCUCXR_0046_0.txt  \n",
            "  inflating: Montgomery/MontgomerySet/ClinicalReadings/MCUCXR_0047_0.txt  \n",
            "  inflating: Montgomery/MontgomerySet/ClinicalReadings/MCUCXR_0048_0.txt  \n",
            "  inflating: Montgomery/MontgomerySet/ClinicalReadings/MCUCXR_0049_0.txt  \n",
            "  inflating: Montgomery/MontgomerySet/ClinicalReadings/MCUCXR_0051_0.txt  \n",
            "  inflating: Montgomery/MontgomerySet/ClinicalReadings/MCUCXR_0052_0.txt  \n",
            "  inflating: Montgomery/MontgomerySet/ClinicalReadings/MCUCXR_0053_0.txt  \n",
            "  inflating: Montgomery/MontgomerySet/ClinicalReadings/MCUCXR_0054_0.txt  \n",
            "  inflating: Montgomery/MontgomerySet/ClinicalReadings/MCUCXR_0055_0.txt  \n",
            "  inflating: Montgomery/MontgomerySet/ClinicalReadings/MCUCXR_0056_0.txt  \n",
            "  inflating: Montgomery/MontgomerySet/ClinicalReadings/MCUCXR_0057_0.txt  \n",
            "  inflating: Montgomery/MontgomerySet/ClinicalReadings/MCUCXR_0058_0.txt  \n",
            "  inflating: Montgomery/MontgomerySet/ClinicalReadings/MCUCXR_0059_0.txt  \n",
            "  inflating: Montgomery/MontgomerySet/ClinicalReadings/MCUCXR_0060_0.txt  \n",
            "  inflating: Montgomery/MontgomerySet/ClinicalReadings/MCUCXR_0061_0.txt  \n",
            "  inflating: Montgomery/MontgomerySet/ClinicalReadings/MCUCXR_0062_0.txt  \n",
            "  inflating: Montgomery/MontgomerySet/ClinicalReadings/MCUCXR_0063_0.txt  \n",
            "  inflating: Montgomery/MontgomerySet/ClinicalReadings/MCUCXR_0064_0.txt  \n",
            "  inflating: Montgomery/MontgomerySet/ClinicalReadings/MCUCXR_0068_0.txt  \n",
            "  inflating: Montgomery/MontgomerySet/ClinicalReadings/MCUCXR_0069_0.txt  \n",
            "  inflating: Montgomery/MontgomerySet/ClinicalReadings/MCUCXR_0070_0.txt  \n",
            "  inflating: Montgomery/MontgomerySet/ClinicalReadings/MCUCXR_0071_0.txt  \n",
            "  inflating: Montgomery/MontgomerySet/ClinicalReadings/MCUCXR_0072_0.txt  \n",
            "  inflating: Montgomery/MontgomerySet/ClinicalReadings/MCUCXR_0074_0.txt  \n",
            "  inflating: Montgomery/MontgomerySet/ClinicalReadings/MCUCXR_0075_0.txt  \n",
            "  inflating: Montgomery/MontgomerySet/ClinicalReadings/MCUCXR_0077_0.txt  \n",
            "  inflating: Montgomery/MontgomerySet/ClinicalReadings/MCUCXR_0079_0.txt  \n",
            "  inflating: Montgomery/MontgomerySet/ClinicalReadings/MCUCXR_0080_0.txt  \n",
            "  inflating: Montgomery/MontgomerySet/ClinicalReadings/MCUCXR_0081_0.txt  \n",
            "  inflating: Montgomery/MontgomerySet/ClinicalReadings/MCUCXR_0082_0.txt  \n",
            "  inflating: Montgomery/MontgomerySet/ClinicalReadings/MCUCXR_0083_0.txt  \n",
            "  inflating: Montgomery/MontgomerySet/ClinicalReadings/MCUCXR_0084_0.txt  \n",
            "  inflating: Montgomery/MontgomerySet/ClinicalReadings/MCUCXR_0085_0.txt  \n",
            "  inflating: Montgomery/MontgomerySet/ClinicalReadings/MCUCXR_0086_0.txt  \n",
            "  inflating: Montgomery/MontgomerySet/ClinicalReadings/MCUCXR_0087_0.txt  \n",
            "  inflating: Montgomery/MontgomerySet/ClinicalReadings/MCUCXR_0089_0.txt  \n",
            "  inflating: Montgomery/MontgomerySet/ClinicalReadings/MCUCXR_0090_0.txt  \n",
            "  inflating: Montgomery/MontgomerySet/ClinicalReadings/MCUCXR_0091_0.txt  \n",
            "  inflating: Montgomery/MontgomerySet/ClinicalReadings/MCUCXR_0092_0.txt  \n",
            "  inflating: Montgomery/MontgomerySet/ClinicalReadings/MCUCXR_0094_0.txt  \n",
            "  inflating: Montgomery/MontgomerySet/ClinicalReadings/MCUCXR_0095_0.txt  \n",
            "  inflating: Montgomery/MontgomerySet/ClinicalReadings/MCUCXR_0096_0.txt  \n",
            "  inflating: Montgomery/MontgomerySet/ClinicalReadings/MCUCXR_0097_0.txt  \n",
            "  inflating: Montgomery/MontgomerySet/ClinicalReadings/MCUCXR_0099_0.txt  \n",
            "  inflating: Montgomery/MontgomerySet/ClinicalReadings/MCUCXR_0100_0.txt  \n",
            "  inflating: Montgomery/MontgomerySet/ClinicalReadings/MCUCXR_0101_0.txt  \n",
            "  inflating: Montgomery/MontgomerySet/ClinicalReadings/MCUCXR_0102_0.txt  \n",
            "  inflating: Montgomery/MontgomerySet/ClinicalReadings/MCUCXR_0103_0.txt  \n",
            "  inflating: Montgomery/MontgomerySet/ClinicalReadings/MCUCXR_0104_1.txt  \n",
            "  inflating: Montgomery/MontgomerySet/ClinicalReadings/MCUCXR_0108_1.txt  \n",
            "  inflating: Montgomery/MontgomerySet/ClinicalReadings/MCUCXR_0113_1.txt  \n",
            "  inflating: Montgomery/MontgomerySet/ClinicalReadings/MCUCXR_0117_1.txt  \n",
            "  inflating: Montgomery/MontgomerySet/ClinicalReadings/MCUCXR_0126_1.txt  \n",
            "  inflating: Montgomery/MontgomerySet/ClinicalReadings/MCUCXR_0140_1.txt  \n",
            "  inflating: Montgomery/MontgomerySet/ClinicalReadings/MCUCXR_0141_1.txt  \n",
            "  inflating: Montgomery/MontgomerySet/ClinicalReadings/MCUCXR_0142_1.txt  \n",
            "  inflating: Montgomery/MontgomerySet/ClinicalReadings/MCUCXR_0144_1.txt  \n",
            "  inflating: Montgomery/MontgomerySet/ClinicalReadings/MCUCXR_0150_1.txt  \n",
            "  inflating: Montgomery/MontgomerySet/ClinicalReadings/MCUCXR_0162_1.txt  \n",
            "  inflating: Montgomery/MontgomerySet/ClinicalReadings/MCUCXR_0166_1.txt  \n",
            "  inflating: Montgomery/MontgomerySet/ClinicalReadings/MCUCXR_0170_1.txt  \n",
            "  inflating: Montgomery/MontgomerySet/ClinicalReadings/MCUCXR_0173_1.txt  \n",
            "  inflating: Montgomery/MontgomerySet/ClinicalReadings/MCUCXR_0182_1.txt  \n",
            "  inflating: Montgomery/MontgomerySet/ClinicalReadings/MCUCXR_0188_1.txt  \n",
            "  inflating: Montgomery/MontgomerySet/ClinicalReadings/MCUCXR_0194_1.txt  \n",
            "  inflating: Montgomery/MontgomerySet/ClinicalReadings/MCUCXR_0195_1.txt  \n",
            "  inflating: Montgomery/MontgomerySet/ClinicalReadings/MCUCXR_0196_1.txt  \n",
            "  inflating: Montgomery/MontgomerySet/ClinicalReadings/MCUCXR_0203_1.txt  \n",
            "  inflating: Montgomery/MontgomerySet/ClinicalReadings/MCUCXR_0213_1.txt  \n",
            "  inflating: Montgomery/MontgomerySet/ClinicalReadings/MCUCXR_0218_1.txt  \n",
            "  inflating: Montgomery/MontgomerySet/ClinicalReadings/MCUCXR_0223_1.txt  \n",
            "  inflating: Montgomery/MontgomerySet/ClinicalReadings/MCUCXR_0228_1.txt  \n",
            "  inflating: Montgomery/MontgomerySet/ClinicalReadings/MCUCXR_0243_1.txt  \n",
            "  inflating: Montgomery/MontgomerySet/ClinicalReadings/MCUCXR_0251_1.txt  \n",
            "  inflating: Montgomery/MontgomerySet/ClinicalReadings/MCUCXR_0253_1.txt  \n",
            "  inflating: Montgomery/MontgomerySet/ClinicalReadings/MCUCXR_0254_1.txt  \n",
            "  inflating: Montgomery/MontgomerySet/ClinicalReadings/MCUCXR_0255_1.txt  \n",
            "  inflating: Montgomery/MontgomerySet/ClinicalReadings/MCUCXR_0258_1.txt  \n",
            "  inflating: Montgomery/MontgomerySet/ClinicalReadings/MCUCXR_0264_1.txt  \n",
            "  inflating: Montgomery/MontgomerySet/ClinicalReadings/MCUCXR_0266_1.txt  \n",
            "  inflating: Montgomery/MontgomerySet/ClinicalReadings/MCUCXR_0275_1.txt  \n",
            "  inflating: Montgomery/MontgomerySet/ClinicalReadings/MCUCXR_0282_1.txt  \n",
            "  inflating: Montgomery/MontgomerySet/ClinicalReadings/MCUCXR_0289_1.txt  \n",
            "  inflating: Montgomery/MontgomerySet/ClinicalReadings/MCUCXR_0294_1.txt  \n",
            "  inflating: Montgomery/MontgomerySet/ClinicalReadings/MCUCXR_0301_1.txt  \n",
            "  inflating: Montgomery/MontgomerySet/ClinicalReadings/MCUCXR_0309_1.txt  \n",
            "  inflating: Montgomery/MontgomerySet/ClinicalReadings/MCUCXR_0311_1.txt  \n",
            "  inflating: Montgomery/MontgomerySet/ClinicalReadings/MCUCXR_0313_1.txt  \n",
            "  inflating: Montgomery/MontgomerySet/ClinicalReadings/MCUCXR_0316_1.txt  \n",
            "  inflating: Montgomery/MontgomerySet/ClinicalReadings/MCUCXR_0331_1.txt  \n",
            "  inflating: Montgomery/MontgomerySet/ClinicalReadings/MCUCXR_0334_1.txt  \n",
            "  inflating: Montgomery/MontgomerySet/ClinicalReadings/MCUCXR_0338_1.txt  \n",
            "  inflating: Montgomery/MontgomerySet/ClinicalReadings/MCUCXR_0348_1.txt  \n",
            "  inflating: Montgomery/MontgomerySet/ClinicalReadings/MCUCXR_0350_1.txt  \n",
            "  inflating: Montgomery/MontgomerySet/ClinicalReadings/MCUCXR_0352_1.txt  \n",
            "  inflating: Montgomery/MontgomerySet/ClinicalReadings/MCUCXR_0354_1.txt  \n",
            "  inflating: Montgomery/MontgomerySet/ClinicalReadings/MCUCXR_0362_1.txt  \n",
            "  inflating: Montgomery/MontgomerySet/ClinicalReadings/MCUCXR_0367_1.txt  \n",
            "  inflating: Montgomery/MontgomerySet/ClinicalReadings/MCUCXR_0369_1.txt  \n",
            "  inflating: Montgomery/MontgomerySet/ClinicalReadings/MCUCXR_0372_1.txt  \n",
            "  inflating: Montgomery/MontgomerySet/ClinicalReadings/MCUCXR_0375_1.txt  \n",
            "  inflating: Montgomery/MontgomerySet/ClinicalReadings/MCUCXR_0383_1.txt  \n",
            "  inflating: Montgomery/MontgomerySet/ClinicalReadings/MCUCXR_0387_1.txt  \n",
            "  inflating: Montgomery/MontgomerySet/ClinicalReadings/MCUCXR_0390_1.txt  \n",
            "  inflating: Montgomery/MontgomerySet/ClinicalReadings/MCUCXR_0393_1.txt  \n",
            "  inflating: Montgomery/MontgomerySet/ClinicalReadings/MCUCXR_0399_1.txt  \n",
            "  inflating: Montgomery/MontgomerySet/ManualMask/.DS_Store  \n",
            "  inflating: Montgomery/MontgomerySet/ManualMask/leftMask/MCUCXR_0001_0.png  \n",
            "  inflating: Montgomery/MontgomerySet/ManualMask/leftMask/MCUCXR_0002_0.png  \n",
            "  inflating: Montgomery/MontgomerySet/ManualMask/leftMask/MCUCXR_0003_0.png  \n",
            "  inflating: Montgomery/MontgomerySet/ManualMask/leftMask/MCUCXR_0004_0.png  \n",
            "  inflating: Montgomery/MontgomerySet/ManualMask/leftMask/MCUCXR_0005_0.png  \n",
            "  inflating: Montgomery/MontgomerySet/ManualMask/leftMask/MCUCXR_0006_0.png  \n",
            "  inflating: Montgomery/MontgomerySet/ManualMask/leftMask/MCUCXR_0008_0.png  \n",
            "  inflating: Montgomery/MontgomerySet/ManualMask/leftMask/MCUCXR_0011_0.png  \n",
            "  inflating: Montgomery/MontgomerySet/ManualMask/leftMask/MCUCXR_0013_0.png  \n",
            "  inflating: Montgomery/MontgomerySet/ManualMask/leftMask/MCUCXR_0015_0.png  \n",
            "  inflating: Montgomery/MontgomerySet/ManualMask/leftMask/MCUCXR_0016_0.png  \n",
            "  inflating: Montgomery/MontgomerySet/ManualMask/leftMask/MCUCXR_0017_0.png  \n",
            "  inflating: Montgomery/MontgomerySet/ManualMask/leftMask/MCUCXR_0019_0.png  \n",
            "  inflating: Montgomery/MontgomerySet/ManualMask/leftMask/MCUCXR_0020_0.png  \n",
            "  inflating: Montgomery/MontgomerySet/ManualMask/leftMask/MCUCXR_0021_0.png  \n",
            "  inflating: Montgomery/MontgomerySet/ManualMask/leftMask/MCUCXR_0022_0.png  \n",
            "  inflating: Montgomery/MontgomerySet/ManualMask/leftMask/MCUCXR_0023_0.png  \n",
            "  inflating: Montgomery/MontgomerySet/ManualMask/leftMask/MCUCXR_0024_0.png  \n",
            "  inflating: Montgomery/MontgomerySet/ManualMask/leftMask/MCUCXR_0026_0.png  \n",
            "  inflating: Montgomery/MontgomerySet/ManualMask/leftMask/MCUCXR_0027_0.png  \n",
            "  inflating: Montgomery/MontgomerySet/ManualMask/leftMask/MCUCXR_0028_0.png  \n",
            "  inflating: Montgomery/MontgomerySet/ManualMask/leftMask/MCUCXR_0029_0.png  \n",
            "  inflating: Montgomery/MontgomerySet/ManualMask/leftMask/MCUCXR_0030_0.png  \n",
            "  inflating: Montgomery/MontgomerySet/ManualMask/leftMask/MCUCXR_0031_0.png  \n",
            "  inflating: Montgomery/MontgomerySet/ManualMask/leftMask/MCUCXR_0035_0.png  \n",
            "  inflating: Montgomery/MontgomerySet/ManualMask/leftMask/MCUCXR_0038_0.png  \n",
            "  inflating: Montgomery/MontgomerySet/ManualMask/leftMask/MCUCXR_0040_0.png  \n",
            "  inflating: Montgomery/MontgomerySet/ManualMask/leftMask/MCUCXR_0041_0.png  \n",
            "  inflating: Montgomery/MontgomerySet/ManualMask/leftMask/MCUCXR_0042_0.png  \n",
            "  inflating: Montgomery/MontgomerySet/ManualMask/leftMask/MCUCXR_0043_0.png  \n",
            "  inflating: Montgomery/MontgomerySet/ManualMask/leftMask/MCUCXR_0044_0.png  \n",
            "  inflating: Montgomery/MontgomerySet/ManualMask/leftMask/MCUCXR_0045_0.png  \n",
            "  inflating: Montgomery/MontgomerySet/ManualMask/leftMask/MCUCXR_0046_0.png  \n",
            "  inflating: Montgomery/MontgomerySet/ManualMask/leftMask/MCUCXR_0047_0.png  \n",
            "  inflating: Montgomery/MontgomerySet/ManualMask/leftMask/MCUCXR_0048_0.png  \n",
            "  inflating: Montgomery/MontgomerySet/ManualMask/leftMask/MCUCXR_0049_0.png  \n",
            "  inflating: Montgomery/MontgomerySet/ManualMask/leftMask/MCUCXR_0051_0.png  \n",
            "  inflating: Montgomery/MontgomerySet/ManualMask/leftMask/MCUCXR_0052_0.png  \n",
            "  inflating: Montgomery/MontgomerySet/ManualMask/leftMask/MCUCXR_0053_0.png  \n",
            "  inflating: Montgomery/MontgomerySet/ManualMask/leftMask/MCUCXR_0054_0.png  \n",
            "  inflating: Montgomery/MontgomerySet/ManualMask/leftMask/MCUCXR_0055_0.png  \n",
            "  inflating: Montgomery/MontgomerySet/ManualMask/leftMask/MCUCXR_0056_0.png  \n",
            "  inflating: Montgomery/MontgomerySet/ManualMask/leftMask/MCUCXR_0057_0.png  \n",
            "  inflating: Montgomery/MontgomerySet/ManualMask/leftMask/MCUCXR_0058_0.png  \n",
            "  inflating: Montgomery/MontgomerySet/ManualMask/leftMask/MCUCXR_0059_0.png  \n",
            "  inflating: Montgomery/MontgomerySet/ManualMask/leftMask/MCUCXR_0060_0.png  \n",
            "  inflating: Montgomery/MontgomerySet/ManualMask/leftMask/MCUCXR_0061_0.png  \n",
            "  inflating: Montgomery/MontgomerySet/ManualMask/leftMask/MCUCXR_0062_0.png  \n",
            "  inflating: Montgomery/MontgomerySet/ManualMask/leftMask/MCUCXR_0063_0.png  \n",
            "  inflating: Montgomery/MontgomerySet/ManualMask/leftMask/MCUCXR_0064_0.png  \n",
            "  inflating: Montgomery/MontgomerySet/ManualMask/leftMask/MCUCXR_0068_0.png  \n",
            "  inflating: Montgomery/MontgomerySet/ManualMask/leftMask/MCUCXR_0069_0.png  \n",
            "  inflating: Montgomery/MontgomerySet/ManualMask/leftMask/MCUCXR_0070_0.png  \n",
            "  inflating: Montgomery/MontgomerySet/ManualMask/leftMask/MCUCXR_0071_0.png  \n",
            "  inflating: Montgomery/MontgomerySet/ManualMask/leftMask/MCUCXR_0072_0.png  \n",
            "  inflating: Montgomery/MontgomerySet/ManualMask/leftMask/MCUCXR_0074_0.png  \n",
            "  inflating: Montgomery/MontgomerySet/ManualMask/leftMask/MCUCXR_0075_0.png  \n",
            "  inflating: Montgomery/MontgomerySet/ManualMask/leftMask/MCUCXR_0077_0.png  \n",
            "  inflating: Montgomery/MontgomerySet/ManualMask/leftMask/MCUCXR_0079_0.png  \n",
            "  inflating: Montgomery/MontgomerySet/ManualMask/leftMask/MCUCXR_0080_0.png  \n",
            "  inflating: Montgomery/MontgomerySet/ManualMask/leftMask/MCUCXR_0081_0.png  \n",
            "  inflating: Montgomery/MontgomerySet/ManualMask/leftMask/MCUCXR_0082_0.png  \n",
            "  inflating: Montgomery/MontgomerySet/ManualMask/leftMask/MCUCXR_0083_0.png  \n",
            "  inflating: Montgomery/MontgomerySet/ManualMask/leftMask/MCUCXR_0084_0.png  \n",
            "  inflating: Montgomery/MontgomerySet/ManualMask/leftMask/MCUCXR_0085_0.png  \n",
            "  inflating: Montgomery/MontgomerySet/ManualMask/leftMask/MCUCXR_0086_0.png  \n",
            "  inflating: Montgomery/MontgomerySet/ManualMask/leftMask/MCUCXR_0087_0.png  \n",
            "  inflating: Montgomery/MontgomerySet/ManualMask/leftMask/MCUCXR_0089_0.png  \n",
            "  inflating: Montgomery/MontgomerySet/ManualMask/leftMask/MCUCXR_0090_0.png  \n",
            "  inflating: Montgomery/MontgomerySet/ManualMask/leftMask/MCUCXR_0091_0.png  \n",
            "  inflating: Montgomery/MontgomerySet/ManualMask/leftMask/MCUCXR_0092_0.png  \n",
            "  inflating: Montgomery/MontgomerySet/ManualMask/leftMask/MCUCXR_0094_0.png  \n",
            "  inflating: Montgomery/MontgomerySet/ManualMask/leftMask/MCUCXR_0095_0.png  \n",
            "  inflating: Montgomery/MontgomerySet/ManualMask/leftMask/MCUCXR_0096_0.png  \n",
            "  inflating: Montgomery/MontgomerySet/ManualMask/leftMask/MCUCXR_0097_0.png  \n",
            "  inflating: Montgomery/MontgomerySet/ManualMask/leftMask/MCUCXR_0099_0.png  \n",
            "  inflating: Montgomery/MontgomerySet/ManualMask/leftMask/MCUCXR_0100_0.png  \n",
            "  inflating: Montgomery/MontgomerySet/ManualMask/leftMask/MCUCXR_0101_0.png  \n",
            "  inflating: Montgomery/MontgomerySet/ManualMask/leftMask/MCUCXR_0102_0.png  \n",
            "  inflating: Montgomery/MontgomerySet/ManualMask/leftMask/MCUCXR_0103_0.png  \n",
            "  inflating: Montgomery/MontgomerySet/ManualMask/leftMask/MCUCXR_0104_1.png  \n",
            "  inflating: Montgomery/MontgomerySet/ManualMask/leftMask/MCUCXR_0108_1.png  \n",
            "  inflating: Montgomery/MontgomerySet/ManualMask/leftMask/MCUCXR_0113_1.png  \n",
            "  inflating: Montgomery/MontgomerySet/ManualMask/leftMask/MCUCXR_0117_1.png  \n",
            "  inflating: Montgomery/MontgomerySet/ManualMask/leftMask/MCUCXR_0126_1.png  \n",
            "  inflating: Montgomery/MontgomerySet/ManualMask/leftMask/MCUCXR_0140_1.png  \n",
            "  inflating: Montgomery/MontgomerySet/ManualMask/leftMask/MCUCXR_0141_1.png  \n",
            "  inflating: Montgomery/MontgomerySet/ManualMask/leftMask/MCUCXR_0142_1.png  \n",
            "  inflating: Montgomery/MontgomerySet/ManualMask/leftMask/MCUCXR_0144_1.png  \n",
            "  inflating: Montgomery/MontgomerySet/ManualMask/leftMask/MCUCXR_0150_1.png  \n",
            "  inflating: Montgomery/MontgomerySet/ManualMask/leftMask/MCUCXR_0162_1.png  \n",
            "  inflating: Montgomery/MontgomerySet/ManualMask/leftMask/MCUCXR_0166_1.png  \n",
            "  inflating: Montgomery/MontgomerySet/ManualMask/leftMask/MCUCXR_0170_1.png  \n",
            "  inflating: Montgomery/MontgomerySet/ManualMask/leftMask/MCUCXR_0173_1.png  \n",
            "  inflating: Montgomery/MontgomerySet/ManualMask/leftMask/MCUCXR_0182_1.png  \n",
            "  inflating: Montgomery/MontgomerySet/ManualMask/leftMask/MCUCXR_0188_1.png  \n",
            "  inflating: Montgomery/MontgomerySet/ManualMask/leftMask/MCUCXR_0194_1.png  \n",
            "  inflating: Montgomery/MontgomerySet/ManualMask/leftMask/MCUCXR_0195_1.png  \n",
            "  inflating: Montgomery/MontgomerySet/ManualMask/leftMask/MCUCXR_0196_1.png  \n",
            "  inflating: Montgomery/MontgomerySet/ManualMask/leftMask/MCUCXR_0203_1.png  \n",
            "  inflating: Montgomery/MontgomerySet/ManualMask/leftMask/MCUCXR_0213_1.png  \n",
            "  inflating: Montgomery/MontgomerySet/ManualMask/leftMask/MCUCXR_0218_1.png  \n",
            "  inflating: Montgomery/MontgomerySet/ManualMask/leftMask/MCUCXR_0223_1.png  \n",
            "  inflating: Montgomery/MontgomerySet/ManualMask/leftMask/MCUCXR_0228_1.png  \n",
            "  inflating: Montgomery/MontgomerySet/ManualMask/leftMask/MCUCXR_0243_1.png  \n",
            "  inflating: Montgomery/MontgomerySet/ManualMask/leftMask/MCUCXR_0251_1.png  \n",
            "  inflating: Montgomery/MontgomerySet/ManualMask/leftMask/MCUCXR_0253_1.png  \n",
            "  inflating: Montgomery/MontgomerySet/ManualMask/leftMask/MCUCXR_0254_1.png  \n",
            "  inflating: Montgomery/MontgomerySet/ManualMask/leftMask/MCUCXR_0255_1.png  \n",
            "  inflating: Montgomery/MontgomerySet/ManualMask/leftMask/MCUCXR_0258_1.png  \n",
            "  inflating: Montgomery/MontgomerySet/ManualMask/leftMask/MCUCXR_0264_1.png  \n",
            "  inflating: Montgomery/MontgomerySet/ManualMask/leftMask/MCUCXR_0266_1.png  \n",
            "  inflating: Montgomery/MontgomerySet/ManualMask/leftMask/MCUCXR_0275_1.png  \n",
            "  inflating: Montgomery/MontgomerySet/ManualMask/leftMask/MCUCXR_0282_1.png  \n",
            "  inflating: Montgomery/MontgomerySet/ManualMask/leftMask/MCUCXR_0289_1.png  \n",
            "  inflating: Montgomery/MontgomerySet/ManualMask/leftMask/MCUCXR_0294_1.png  \n",
            "  inflating: Montgomery/MontgomerySet/ManualMask/leftMask/MCUCXR_0301_1.png  \n",
            "  inflating: Montgomery/MontgomerySet/ManualMask/leftMask/MCUCXR_0309_1.png  \n",
            "  inflating: Montgomery/MontgomerySet/ManualMask/leftMask/MCUCXR_0311_1.png  \n",
            "  inflating: Montgomery/MontgomerySet/ManualMask/leftMask/MCUCXR_0313_1.png  \n",
            "  inflating: Montgomery/MontgomerySet/ManualMask/leftMask/MCUCXR_0316_1.png  \n",
            "  inflating: Montgomery/MontgomerySet/ManualMask/leftMask/MCUCXR_0331_1.png  \n",
            "  inflating: Montgomery/MontgomerySet/ManualMask/leftMask/MCUCXR_0334_1.png  \n",
            "  inflating: Montgomery/MontgomerySet/ManualMask/leftMask/MCUCXR_0338_1.png  \n",
            "  inflating: Montgomery/MontgomerySet/ManualMask/leftMask/MCUCXR_0348_1.png  \n",
            "  inflating: Montgomery/MontgomerySet/ManualMask/leftMask/MCUCXR_0350_1.png  \n",
            "  inflating: Montgomery/MontgomerySet/ManualMask/leftMask/MCUCXR_0352_1.png  \n",
            "  inflating: Montgomery/MontgomerySet/ManualMask/leftMask/MCUCXR_0354_1.png  \n",
            "  inflating: Montgomery/MontgomerySet/ManualMask/leftMask/MCUCXR_0362_1.png  \n",
            "  inflating: Montgomery/MontgomerySet/ManualMask/leftMask/MCUCXR_0367_1.png  \n",
            "  inflating: Montgomery/MontgomerySet/ManualMask/leftMask/MCUCXR_0369_1.png  \n",
            "  inflating: Montgomery/MontgomerySet/ManualMask/leftMask/MCUCXR_0372_1.png  \n",
            "  inflating: Montgomery/MontgomerySet/ManualMask/leftMask/MCUCXR_0375_1.png  \n",
            "  inflating: Montgomery/MontgomerySet/ManualMask/leftMask/MCUCXR_0383_1.png  \n",
            "  inflating: Montgomery/MontgomerySet/ManualMask/leftMask/MCUCXR_0387_1.png  \n",
            "  inflating: Montgomery/MontgomerySet/ManualMask/leftMask/MCUCXR_0390_1.png  \n",
            "  inflating: Montgomery/MontgomerySet/ManualMask/leftMask/MCUCXR_0393_1.png  \n",
            "  inflating: Montgomery/MontgomerySet/ManualMask/leftMask/MCUCXR_0399_1.png  \n",
            "  inflating: Montgomery/MontgomerySet/ManualMask/leftMask/Thumbs.db  \n",
            "  inflating: Montgomery/MontgomerySet/ManualMask/rightMask/MCUCXR_0001_0.png  \n",
            "  inflating: Montgomery/MontgomerySet/ManualMask/rightMask/MCUCXR_0002_0.png  \n",
            "  inflating: Montgomery/MontgomerySet/ManualMask/rightMask/MCUCXR_0003_0.png  \n",
            "  inflating: Montgomery/MontgomerySet/ManualMask/rightMask/MCUCXR_0004_0.png  \n",
            "  inflating: Montgomery/MontgomerySet/ManualMask/rightMask/MCUCXR_0005_0.png  \n",
            "  inflating: Montgomery/MontgomerySet/ManualMask/rightMask/MCUCXR_0006_0.png  \n",
            "  inflating: Montgomery/MontgomerySet/ManualMask/rightMask/MCUCXR_0008_0.png  \n",
            "  inflating: Montgomery/MontgomerySet/ManualMask/rightMask/MCUCXR_0011_0.png  \n",
            "  inflating: Montgomery/MontgomerySet/ManualMask/rightMask/MCUCXR_0013_0.png  \n",
            "  inflating: Montgomery/MontgomerySet/ManualMask/rightMask/MCUCXR_0015_0.png  \n",
            "  inflating: Montgomery/MontgomerySet/ManualMask/rightMask/MCUCXR_0016_0.png  \n",
            "  inflating: Montgomery/MontgomerySet/ManualMask/rightMask/MCUCXR_0017_0.png  \n",
            "  inflating: Montgomery/MontgomerySet/ManualMask/rightMask/MCUCXR_0019_0.png  \n",
            "  inflating: Montgomery/MontgomerySet/ManualMask/rightMask/MCUCXR_0020_0.png  \n",
            "  inflating: Montgomery/MontgomerySet/ManualMask/rightMask/MCUCXR_0021_0.png  \n",
            "  inflating: Montgomery/MontgomerySet/ManualMask/rightMask/MCUCXR_0022_0.png  \n",
            "  inflating: Montgomery/MontgomerySet/ManualMask/rightMask/MCUCXR_0023_0.png  \n",
            "  inflating: Montgomery/MontgomerySet/ManualMask/rightMask/MCUCXR_0024_0.png  \n",
            "  inflating: Montgomery/MontgomerySet/ManualMask/rightMask/MCUCXR_0026_0.png  \n",
            "  inflating: Montgomery/MontgomerySet/ManualMask/rightMask/MCUCXR_0027_0.png  \n",
            "  inflating: Montgomery/MontgomerySet/ManualMask/rightMask/MCUCXR_0028_0.png  \n",
            "  inflating: Montgomery/MontgomerySet/ManualMask/rightMask/MCUCXR_0029_0.png  \n",
            "  inflating: Montgomery/MontgomerySet/ManualMask/rightMask/MCUCXR_0030_0.png  \n",
            "  inflating: Montgomery/MontgomerySet/ManualMask/rightMask/MCUCXR_0031_0.png  \n",
            "  inflating: Montgomery/MontgomerySet/ManualMask/rightMask/MCUCXR_0035_0.png  \n",
            "  inflating: Montgomery/MontgomerySet/ManualMask/rightMask/MCUCXR_0038_0.png  \n",
            "  inflating: Montgomery/MontgomerySet/ManualMask/rightMask/MCUCXR_0040_0.png  \n",
            "  inflating: Montgomery/MontgomerySet/ManualMask/rightMask/MCUCXR_0041_0.png  \n",
            "  inflating: Montgomery/MontgomerySet/ManualMask/rightMask/MCUCXR_0042_0.png  \n",
            "  inflating: Montgomery/MontgomerySet/ManualMask/rightMask/MCUCXR_0043_0.png  \n",
            "  inflating: Montgomery/MontgomerySet/ManualMask/rightMask/MCUCXR_0044_0.png  \n",
            "  inflating: Montgomery/MontgomerySet/ManualMask/rightMask/MCUCXR_0045_0.png  \n",
            "  inflating: Montgomery/MontgomerySet/ManualMask/rightMask/MCUCXR_0046_0.png  \n",
            "  inflating: Montgomery/MontgomerySet/ManualMask/rightMask/MCUCXR_0047_0.png  \n",
            "  inflating: Montgomery/MontgomerySet/ManualMask/rightMask/MCUCXR_0048_0.png  \n",
            "  inflating: Montgomery/MontgomerySet/ManualMask/rightMask/MCUCXR_0049_0.png  \n",
            "  inflating: Montgomery/MontgomerySet/ManualMask/rightMask/MCUCXR_0051_0.png  \n",
            "  inflating: Montgomery/MontgomerySet/ManualMask/rightMask/MCUCXR_0052_0.png  \n",
            "  inflating: Montgomery/MontgomerySet/ManualMask/rightMask/MCUCXR_0053_0.png  \n",
            "  inflating: Montgomery/MontgomerySet/ManualMask/rightMask/MCUCXR_0054_0.png  \n",
            "  inflating: Montgomery/MontgomerySet/ManualMask/rightMask/MCUCXR_0055_0.png  \n",
            "  inflating: Montgomery/MontgomerySet/ManualMask/rightMask/MCUCXR_0056_0.png  \n",
            "  inflating: Montgomery/MontgomerySet/ManualMask/rightMask/MCUCXR_0057_0.png  \n",
            "  inflating: Montgomery/MontgomerySet/ManualMask/rightMask/MCUCXR_0058_0.png  \n",
            "  inflating: Montgomery/MontgomerySet/ManualMask/rightMask/MCUCXR_0059_0.png  \n",
            "  inflating: Montgomery/MontgomerySet/ManualMask/rightMask/MCUCXR_0060_0.png  \n",
            "  inflating: Montgomery/MontgomerySet/ManualMask/rightMask/MCUCXR_0061_0.png  \n",
            "  inflating: Montgomery/MontgomerySet/ManualMask/rightMask/MCUCXR_0062_0.png  \n",
            "  inflating: Montgomery/MontgomerySet/ManualMask/rightMask/MCUCXR_0063_0.png  \n",
            "  inflating: Montgomery/MontgomerySet/ManualMask/rightMask/MCUCXR_0064_0.png  \n",
            "  inflating: Montgomery/MontgomerySet/ManualMask/rightMask/MCUCXR_0068_0.png  \n",
            "  inflating: Montgomery/MontgomerySet/ManualMask/rightMask/MCUCXR_0069_0.png  \n",
            "  inflating: Montgomery/MontgomerySet/ManualMask/rightMask/MCUCXR_0070_0.png  \n",
            "  inflating: Montgomery/MontgomerySet/ManualMask/rightMask/MCUCXR_0071_0.png  \n",
            "  inflating: Montgomery/MontgomerySet/ManualMask/rightMask/MCUCXR_0072_0.png  \n",
            "  inflating: Montgomery/MontgomerySet/ManualMask/rightMask/MCUCXR_0074_0.png  \n",
            "  inflating: Montgomery/MontgomerySet/ManualMask/rightMask/MCUCXR_0075_0.png  \n",
            "  inflating: Montgomery/MontgomerySet/ManualMask/rightMask/MCUCXR_0077_0.png  \n",
            "  inflating: Montgomery/MontgomerySet/ManualMask/rightMask/MCUCXR_0079_0.png  \n",
            "  inflating: Montgomery/MontgomerySet/ManualMask/rightMask/MCUCXR_0080_0.png  \n",
            "  inflating: Montgomery/MontgomerySet/ManualMask/rightMask/MCUCXR_0081_0.png  \n",
            "  inflating: Montgomery/MontgomerySet/ManualMask/rightMask/MCUCXR_0082_0.png  \n",
            "  inflating: Montgomery/MontgomerySet/ManualMask/rightMask/MCUCXR_0083_0.png  \n",
            "  inflating: Montgomery/MontgomerySet/ManualMask/rightMask/MCUCXR_0084_0.png  \n",
            "  inflating: Montgomery/MontgomerySet/ManualMask/rightMask/MCUCXR_0085_0.png  \n",
            "  inflating: Montgomery/MontgomerySet/ManualMask/rightMask/MCUCXR_0086_0.png  \n",
            "  inflating: Montgomery/MontgomerySet/ManualMask/rightMask/MCUCXR_0087_0.png  \n",
            "  inflating: Montgomery/MontgomerySet/ManualMask/rightMask/MCUCXR_0089_0.png  \n",
            "  inflating: Montgomery/MontgomerySet/ManualMask/rightMask/MCUCXR_0090_0.png  \n",
            "  inflating: Montgomery/MontgomerySet/ManualMask/rightMask/MCUCXR_0091_0.png  \n",
            "  inflating: Montgomery/MontgomerySet/ManualMask/rightMask/MCUCXR_0092_0.png  \n",
            "  inflating: Montgomery/MontgomerySet/ManualMask/rightMask/MCUCXR_0094_0.png  \n",
            "  inflating: Montgomery/MontgomerySet/ManualMask/rightMask/MCUCXR_0095_0.png  \n",
            "  inflating: Montgomery/MontgomerySet/ManualMask/rightMask/MCUCXR_0096_0.png  \n",
            "  inflating: Montgomery/MontgomerySet/ManualMask/rightMask/MCUCXR_0097_0.png  \n",
            "  inflating: Montgomery/MontgomerySet/ManualMask/rightMask/MCUCXR_0099_0.png  \n",
            "  inflating: Montgomery/MontgomerySet/ManualMask/rightMask/MCUCXR_0100_0.png  \n",
            "  inflating: Montgomery/MontgomerySet/ManualMask/rightMask/MCUCXR_0101_0.png  \n",
            "  inflating: Montgomery/MontgomerySet/ManualMask/rightMask/MCUCXR_0102_0.png  \n",
            "  inflating: Montgomery/MontgomerySet/ManualMask/rightMask/MCUCXR_0103_0.png  \n",
            "  inflating: Montgomery/MontgomerySet/ManualMask/rightMask/MCUCXR_0104_1.png  \n",
            "  inflating: Montgomery/MontgomerySet/ManualMask/rightMask/MCUCXR_0108_1.png  \n",
            "  inflating: Montgomery/MontgomerySet/ManualMask/rightMask/MCUCXR_0113_1.png  \n",
            "  inflating: Montgomery/MontgomerySet/ManualMask/rightMask/MCUCXR_0117_1.png  \n",
            "  inflating: Montgomery/MontgomerySet/ManualMask/rightMask/MCUCXR_0126_1.png  \n",
            "  inflating: Montgomery/MontgomerySet/ManualMask/rightMask/MCUCXR_0140_1.png  \n",
            "  inflating: Montgomery/MontgomerySet/ManualMask/rightMask/MCUCXR_0141_1.png  \n",
            "  inflating: Montgomery/MontgomerySet/ManualMask/rightMask/MCUCXR_0142_1.png  \n",
            "  inflating: Montgomery/MontgomerySet/ManualMask/rightMask/MCUCXR_0144_1.png  \n",
            "  inflating: Montgomery/MontgomerySet/ManualMask/rightMask/MCUCXR_0150_1.png  \n",
            "  inflating: Montgomery/MontgomerySet/ManualMask/rightMask/MCUCXR_0162_1.png  \n",
            "  inflating: Montgomery/MontgomerySet/ManualMask/rightMask/MCUCXR_0166_1.png  \n",
            "  inflating: Montgomery/MontgomerySet/ManualMask/rightMask/MCUCXR_0170_1.png  \n",
            "  inflating: Montgomery/MontgomerySet/ManualMask/rightMask/MCUCXR_0173_1.png  \n",
            "  inflating: Montgomery/MontgomerySet/ManualMask/rightMask/MCUCXR_0182_1.png  \n",
            "  inflating: Montgomery/MontgomerySet/ManualMask/rightMask/MCUCXR_0188_1.png  \n",
            "  inflating: Montgomery/MontgomerySet/ManualMask/rightMask/MCUCXR_0194_1.png  \n",
            "  inflating: Montgomery/MontgomerySet/ManualMask/rightMask/MCUCXR_0195_1.png  \n",
            "  inflating: Montgomery/MontgomerySet/ManualMask/rightMask/MCUCXR_0196_1.png  \n",
            "  inflating: Montgomery/MontgomerySet/ManualMask/rightMask/MCUCXR_0203_1.png  \n",
            "  inflating: Montgomery/MontgomerySet/ManualMask/rightMask/MCUCXR_0213_1.png  \n",
            "  inflating: Montgomery/MontgomerySet/ManualMask/rightMask/MCUCXR_0218_1.png  \n",
            "  inflating: Montgomery/MontgomerySet/ManualMask/rightMask/MCUCXR_0223_1.png  \n",
            "  inflating: Montgomery/MontgomerySet/ManualMask/rightMask/MCUCXR_0228_1.png  \n",
            "  inflating: Montgomery/MontgomerySet/ManualMask/rightMask/MCUCXR_0243_1.png  \n",
            "  inflating: Montgomery/MontgomerySet/ManualMask/rightMask/MCUCXR_0251_1.png  \n",
            "  inflating: Montgomery/MontgomerySet/ManualMask/rightMask/MCUCXR_0253_1.png  \n",
            "  inflating: Montgomery/MontgomerySet/ManualMask/rightMask/MCUCXR_0254_1.png  \n",
            "  inflating: Montgomery/MontgomerySet/ManualMask/rightMask/MCUCXR_0255_1.png  \n",
            "  inflating: Montgomery/MontgomerySet/ManualMask/rightMask/MCUCXR_0258_1.png  \n",
            "  inflating: Montgomery/MontgomerySet/ManualMask/rightMask/MCUCXR_0264_1.png  \n",
            "  inflating: Montgomery/MontgomerySet/ManualMask/rightMask/MCUCXR_0266_1.png  \n",
            "  inflating: Montgomery/MontgomerySet/ManualMask/rightMask/MCUCXR_0275_1.png  \n",
            "  inflating: Montgomery/MontgomerySet/ManualMask/rightMask/MCUCXR_0282_1.png  \n",
            "  inflating: Montgomery/MontgomerySet/ManualMask/rightMask/MCUCXR_0289_1.png  \n",
            "  inflating: Montgomery/MontgomerySet/ManualMask/rightMask/MCUCXR_0294_1.png  \n",
            "  inflating: Montgomery/MontgomerySet/ManualMask/rightMask/MCUCXR_0301_1.png  \n",
            "  inflating: Montgomery/MontgomerySet/ManualMask/rightMask/MCUCXR_0309_1.png  \n",
            "  inflating: Montgomery/MontgomerySet/ManualMask/rightMask/MCUCXR_0311_1.png  \n",
            "  inflating: Montgomery/MontgomerySet/ManualMask/rightMask/MCUCXR_0313_1.png  \n",
            "  inflating: Montgomery/MontgomerySet/ManualMask/rightMask/MCUCXR_0316_1.png  \n",
            "  inflating: Montgomery/MontgomerySet/ManualMask/rightMask/MCUCXR_0331_1.png  \n",
            "  inflating: Montgomery/MontgomerySet/ManualMask/rightMask/MCUCXR_0334_1.png  \n",
            "  inflating: Montgomery/MontgomerySet/ManualMask/rightMask/MCUCXR_0338_1.png  \n",
            "  inflating: Montgomery/MontgomerySet/ManualMask/rightMask/MCUCXR_0348_1.png  \n",
            "  inflating: Montgomery/MontgomerySet/ManualMask/rightMask/MCUCXR_0350_1.png  \n",
            "  inflating: Montgomery/MontgomerySet/ManualMask/rightMask/MCUCXR_0352_1.png  \n",
            "  inflating: Montgomery/MontgomerySet/ManualMask/rightMask/MCUCXR_0354_1.png  \n",
            "  inflating: Montgomery/MontgomerySet/ManualMask/rightMask/MCUCXR_0362_1.png  \n",
            "  inflating: Montgomery/MontgomerySet/ManualMask/rightMask/MCUCXR_0367_1.png  \n",
            "  inflating: Montgomery/MontgomerySet/ManualMask/rightMask/MCUCXR_0369_1.png  \n",
            "  inflating: Montgomery/MontgomerySet/ManualMask/rightMask/MCUCXR_0372_1.png  \n",
            "  inflating: Montgomery/MontgomerySet/ManualMask/rightMask/MCUCXR_0375_1.png  \n",
            "  inflating: Montgomery/MontgomerySet/ManualMask/rightMask/MCUCXR_0383_1.png  \n",
            "  inflating: Montgomery/MontgomerySet/ManualMask/rightMask/MCUCXR_0387_1.png  \n",
            "  inflating: Montgomery/MontgomerySet/ManualMask/rightMask/MCUCXR_0390_1.png  \n",
            "  inflating: Montgomery/MontgomerySet/ManualMask/rightMask/MCUCXR_0393_1.png  \n",
            "  inflating: Montgomery/MontgomerySet/ManualMask/rightMask/MCUCXR_0399_1.png  \n",
            "  inflating: Montgomery/MontgomerySet/NLM-MontgomeryCXRSet-ReadMe.pdf  \n",
            "  inflating: Montgomery/__MACOSX/MontgomerySet/._.DS_Store  \n",
            "  inflating: Montgomery/__MACOSX/MontgomerySet/._NLM-MontgomeryCXRSet-ReadMe.pdf  \n",
            "  inflating: Montgomery/__MACOSX/MontgomerySet/CXR_png/._Thumbs.db  \n",
            "  inflating: Montgomery/__MACOSX/MontgomerySet/ManualMask/._.DS_Store  \n",
            "  inflating: Montgomery/__MACOSX/MontgomerySet/ManualMask/leftMask/._Thumbs.db  \n"
          ]
        }
      ]
    },
    {
      "cell_type": "code",
      "source": [
        "from numpy.random import seed\n",
        "seed(101)\n",
        "from tensorflow.random import set_seed \n",
        "\n",
        "\n",
        "import pandas as pd\n",
        "import numpy as np\n",
        "\n",
        "import tensorflow\n",
        "\n",
        "from tensorflow.keras.models import Sequential\n",
        "from tensorflow.keras.layers import Dense, Dropout, Conv2D, MaxPooling2D, Flatten\n",
        "from tensorflow.keras.optimizers import Adam\n",
        "from tensorflow.keras.metrics import categorical_crossentropy\n",
        "from tensorflow.keras.preprocessing.image import ImageDataGenerator\n",
        "from tensorflow.keras.models import Model\n",
        "from tensorflow.keras.callbacks import EarlyStopping, ReduceLROnPlateau, ModelCheckpoint\n",
        "from tensorflow.keras.metrics import binary_accuracy\n",
        "\n",
        "import os\n",
        "import cv2\n",
        "\n",
        "import imageio\n",
        "import skimage\n",
        "import skimage.io\n",
        "import skimage.transform\n",
        "\n",
        "from sklearn.utils import shuffle\n",
        "from sklearn.metrics import confusion_matrix\n",
        "from sklearn.model_selection import train_test_split\n",
        "import itertools\n",
        "import shutil\n",
        "import matplotlib.pyplot as plt\n",
        "%matplotlib inline"
      ],
      "metadata": {
        "id": "9NZch1LAyY8h"
      },
      "execution_count": 11,
      "outputs": []
    },
    {
      "cell_type": "code",
      "source": [
        "NUM_AUG_IMAGES_WANTED = 1000 \n",
        "\n",
        "# We will resize the images\n",
        "IMAGE_HEIGHT = 96\n",
        "IMAGE_WIDTH = 96"
      ],
      "metadata": {
        "id": "8X_q3gSN1Twb"
      },
      "execution_count": 12,
      "outputs": []
    },
    {
      "cell_type": "code",
      "source": [
        "print(len(os.listdir('ChinaSet_AllFiles/ChinaSet_AllFiles/CXR_png')))\n",
        "print(len(os.listdir('Montgomery/MontgomerySet/CXR_png')))"
      ],
      "metadata": {
        "colab": {
          "base_uri": "https://localhost:8080/"
        },
        "id": "JVNNXzhH1w1V",
        "outputId": "f08ca5ec-5ac9-4f60-c491-c2131e6df49f"
      },
      "execution_count": 16,
      "outputs": [
        {
          "output_type": "stream",
          "name": "stdout",
          "text": [
            "663\n",
            "139\n"
          ]
        }
      ]
    },
    {
      "cell_type": "code",
      "source": [
        "shen_image_list = os.listdir('ChinaSet_AllFiles/ChinaSet_AllFiles/CXR_png')\n",
        "mont_image_list = os.listdir('Montgomery/MontgomerySet/CXR_png')"
      ],
      "metadata": {
        "id": "9ZQnsWHh1__s"
      },
      "execution_count": 17,
      "outputs": []
    },
    {
      "cell_type": "code",
      "source": [
        "# put the images into dataframes\n",
        "df_shen = pd.DataFrame(shen_image_list, columns=['image_id'])\n",
        "df_mont = pd.DataFrame(mont_image_list, columns=['image_id'])\n",
        "\n",
        "# remove the 'Thunbs.db' line\n",
        "df_shen = df_shen[df_shen['image_id'] != 'Thumbs.db']\n",
        "df_mont = df_mont[df_mont['image_id'] != 'Thumbs.db']\n",
        "\n",
        "# Reset the index or this will cause an error later\n",
        "df_shen.reset_index(inplace=True, drop=True)\n",
        "df_mont.reset_index(inplace=True, drop=True)\n",
        "\n",
        "print(df_shen.shape)\n",
        "print(df_mont.shape)"
      ],
      "metadata": {
        "colab": {
          "base_uri": "https://localhost:8080/"
        },
        "id": "bGV0YNqW2Pc3",
        "outputId": "aee34a6c-53a1-4063-93c6-3e0a968c5e4d"
      },
      "execution_count": 18,
      "outputs": [
        {
          "output_type": "stream",
          "name": "stdout",
          "text": [
            "(662, 1)\n",
            "(138, 1)\n"
          ]
        }
      ]
    },
    {
      "cell_type": "code",
      "source": [
        "df_shen.head()"
      ],
      "metadata": {
        "colab": {
          "base_uri": "https://localhost:8080/",
          "height": 206
        },
        "id": "-nP0OFX_2SQf",
        "outputId": "fc00c439-e872-4041-85a8-5931bcf93ff0"
      },
      "execution_count": 19,
      "outputs": [
        {
          "output_type": "execute_result",
          "data": {
            "text/plain": [
              "            image_id\n",
              "0  CHNCXR_0148_0.png\n",
              "1  CHNCXR_0505_1.png\n",
              "2  CHNCXR_0069_0.png\n",
              "3  CHNCXR_0204_0.png\n",
              "4  CHNCXR_0336_1.png"
            ],
            "text/html": [
              "\n",
              "  <div id=\"df-24e82537-4515-4b69-865d-7318687079ca\">\n",
              "    <div class=\"colab-df-container\">\n",
              "      <div>\n",
              "<style scoped>\n",
              "    .dataframe tbody tr th:only-of-type {\n",
              "        vertical-align: middle;\n",
              "    }\n",
              "\n",
              "    .dataframe tbody tr th {\n",
              "        vertical-align: top;\n",
              "    }\n",
              "\n",
              "    .dataframe thead th {\n",
              "        text-align: right;\n",
              "    }\n",
              "</style>\n",
              "<table border=\"1\" class=\"dataframe\">\n",
              "  <thead>\n",
              "    <tr style=\"text-align: right;\">\n",
              "      <th></th>\n",
              "      <th>image_id</th>\n",
              "    </tr>\n",
              "  </thead>\n",
              "  <tbody>\n",
              "    <tr>\n",
              "      <th>0</th>\n",
              "      <td>CHNCXR_0148_0.png</td>\n",
              "    </tr>\n",
              "    <tr>\n",
              "      <th>1</th>\n",
              "      <td>CHNCXR_0505_1.png</td>\n",
              "    </tr>\n",
              "    <tr>\n",
              "      <th>2</th>\n",
              "      <td>CHNCXR_0069_0.png</td>\n",
              "    </tr>\n",
              "    <tr>\n",
              "      <th>3</th>\n",
              "      <td>CHNCXR_0204_0.png</td>\n",
              "    </tr>\n",
              "    <tr>\n",
              "      <th>4</th>\n",
              "      <td>CHNCXR_0336_1.png</td>\n",
              "    </tr>\n",
              "  </tbody>\n",
              "</table>\n",
              "</div>\n",
              "      <button class=\"colab-df-convert\" onclick=\"convertToInteractive('df-24e82537-4515-4b69-865d-7318687079ca')\"\n",
              "              title=\"Convert this dataframe to an interactive table.\"\n",
              "              style=\"display:none;\">\n",
              "        \n",
              "  <svg xmlns=\"http://www.w3.org/2000/svg\" height=\"24px\"viewBox=\"0 0 24 24\"\n",
              "       width=\"24px\">\n",
              "    <path d=\"M0 0h24v24H0V0z\" fill=\"none\"/>\n",
              "    <path d=\"M18.56 5.44l.94 2.06.94-2.06 2.06-.94-2.06-.94-.94-2.06-.94 2.06-2.06.94zm-11 1L8.5 8.5l.94-2.06 2.06-.94-2.06-.94L8.5 2.5l-.94 2.06-2.06.94zm10 10l.94 2.06.94-2.06 2.06-.94-2.06-.94-.94-2.06-.94 2.06-2.06.94z\"/><path d=\"M17.41 7.96l-1.37-1.37c-.4-.4-.92-.59-1.43-.59-.52 0-1.04.2-1.43.59L10.3 9.45l-7.72 7.72c-.78.78-.78 2.05 0 2.83L4 21.41c.39.39.9.59 1.41.59.51 0 1.02-.2 1.41-.59l7.78-7.78 2.81-2.81c.8-.78.8-2.07 0-2.86zM5.41 20L4 18.59l7.72-7.72 1.47 1.35L5.41 20z\"/>\n",
              "  </svg>\n",
              "      </button>\n",
              "      \n",
              "  <style>\n",
              "    .colab-df-container {\n",
              "      display:flex;\n",
              "      flex-wrap:wrap;\n",
              "      gap: 12px;\n",
              "    }\n",
              "\n",
              "    .colab-df-convert {\n",
              "      background-color: #E8F0FE;\n",
              "      border: none;\n",
              "      border-radius: 50%;\n",
              "      cursor: pointer;\n",
              "      display: none;\n",
              "      fill: #1967D2;\n",
              "      height: 32px;\n",
              "      padding: 0 0 0 0;\n",
              "      width: 32px;\n",
              "    }\n",
              "\n",
              "    .colab-df-convert:hover {\n",
              "      background-color: #E2EBFA;\n",
              "      box-shadow: 0px 1px 2px rgba(60, 64, 67, 0.3), 0px 1px 3px 1px rgba(60, 64, 67, 0.15);\n",
              "      fill: #174EA6;\n",
              "    }\n",
              "\n",
              "    [theme=dark] .colab-df-convert {\n",
              "      background-color: #3B4455;\n",
              "      fill: #D2E3FC;\n",
              "    }\n",
              "\n",
              "    [theme=dark] .colab-df-convert:hover {\n",
              "      background-color: #434B5C;\n",
              "      box-shadow: 0px 1px 3px 1px rgba(0, 0, 0, 0.15);\n",
              "      filter: drop-shadow(0px 1px 2px rgba(0, 0, 0, 0.3));\n",
              "      fill: #FFFFFF;\n",
              "    }\n",
              "  </style>\n",
              "\n",
              "      <script>\n",
              "        const buttonEl =\n",
              "          document.querySelector('#df-24e82537-4515-4b69-865d-7318687079ca button.colab-df-convert');\n",
              "        buttonEl.style.display =\n",
              "          google.colab.kernel.accessAllowed ? 'block' : 'none';\n",
              "\n",
              "        async function convertToInteractive(key) {\n",
              "          const element = document.querySelector('#df-24e82537-4515-4b69-865d-7318687079ca');\n",
              "          const dataTable =\n",
              "            await google.colab.kernel.invokeFunction('convertToInteractive',\n",
              "                                                     [key], {});\n",
              "          if (!dataTable) return;\n",
              "\n",
              "          const docLinkHtml = 'Like what you see? Visit the ' +\n",
              "            '<a target=\"_blank\" href=https://colab.research.google.com/notebooks/data_table.ipynb>data table notebook</a>'\n",
              "            + ' to learn more about interactive tables.';\n",
              "          element.innerHTML = '';\n",
              "          dataTable['output_type'] = 'display_data';\n",
              "          await google.colab.output.renderOutput(dataTable, element);\n",
              "          const docLink = document.createElement('div');\n",
              "          docLink.innerHTML = docLinkHtml;\n",
              "          element.appendChild(docLink);\n",
              "        }\n",
              "      </script>\n",
              "    </div>\n",
              "  </div>\n",
              "  "
            ]
          },
          "metadata": {},
          "execution_count": 19
        }
      ]
    },
    {
      "cell_type": "code",
      "source": [
        "df_mont.head()"
      ],
      "metadata": {
        "colab": {
          "base_uri": "https://localhost:8080/",
          "height": 206
        },
        "id": "eCxdALEy2UkX",
        "outputId": "619788e7-33c7-4966-827e-319a7a9b039b"
      },
      "execution_count": 20,
      "outputs": [
        {
          "output_type": "execute_result",
          "data": {
            "text/plain": [
              "            image_id\n",
              "0  MCUCXR_0348_1.png\n",
              "1  MCUCXR_0042_0.png\n",
              "2  MCUCXR_0091_0.png\n",
              "3  MCUCXR_0062_0.png\n",
              "4  MCUCXR_0041_0.png"
            ],
            "text/html": [
              "\n",
              "  <div id=\"df-03e86384-2847-4571-ac71-39b55bf2badd\">\n",
              "    <div class=\"colab-df-container\">\n",
              "      <div>\n",
              "<style scoped>\n",
              "    .dataframe tbody tr th:only-of-type {\n",
              "        vertical-align: middle;\n",
              "    }\n",
              "\n",
              "    .dataframe tbody tr th {\n",
              "        vertical-align: top;\n",
              "    }\n",
              "\n",
              "    .dataframe thead th {\n",
              "        text-align: right;\n",
              "    }\n",
              "</style>\n",
              "<table border=\"1\" class=\"dataframe\">\n",
              "  <thead>\n",
              "    <tr style=\"text-align: right;\">\n",
              "      <th></th>\n",
              "      <th>image_id</th>\n",
              "    </tr>\n",
              "  </thead>\n",
              "  <tbody>\n",
              "    <tr>\n",
              "      <th>0</th>\n",
              "      <td>MCUCXR_0348_1.png</td>\n",
              "    </tr>\n",
              "    <tr>\n",
              "      <th>1</th>\n",
              "      <td>MCUCXR_0042_0.png</td>\n",
              "    </tr>\n",
              "    <tr>\n",
              "      <th>2</th>\n",
              "      <td>MCUCXR_0091_0.png</td>\n",
              "    </tr>\n",
              "    <tr>\n",
              "      <th>3</th>\n",
              "      <td>MCUCXR_0062_0.png</td>\n",
              "    </tr>\n",
              "    <tr>\n",
              "      <th>4</th>\n",
              "      <td>MCUCXR_0041_0.png</td>\n",
              "    </tr>\n",
              "  </tbody>\n",
              "</table>\n",
              "</div>\n",
              "      <button class=\"colab-df-convert\" onclick=\"convertToInteractive('df-03e86384-2847-4571-ac71-39b55bf2badd')\"\n",
              "              title=\"Convert this dataframe to an interactive table.\"\n",
              "              style=\"display:none;\">\n",
              "        \n",
              "  <svg xmlns=\"http://www.w3.org/2000/svg\" height=\"24px\"viewBox=\"0 0 24 24\"\n",
              "       width=\"24px\">\n",
              "    <path d=\"M0 0h24v24H0V0z\" fill=\"none\"/>\n",
              "    <path d=\"M18.56 5.44l.94 2.06.94-2.06 2.06-.94-2.06-.94-.94-2.06-.94 2.06-2.06.94zm-11 1L8.5 8.5l.94-2.06 2.06-.94-2.06-.94L8.5 2.5l-.94 2.06-2.06.94zm10 10l.94 2.06.94-2.06 2.06-.94-2.06-.94-.94-2.06-.94 2.06-2.06.94z\"/><path d=\"M17.41 7.96l-1.37-1.37c-.4-.4-.92-.59-1.43-.59-.52 0-1.04.2-1.43.59L10.3 9.45l-7.72 7.72c-.78.78-.78 2.05 0 2.83L4 21.41c.39.39.9.59 1.41.59.51 0 1.02-.2 1.41-.59l7.78-7.78 2.81-2.81c.8-.78.8-2.07 0-2.86zM5.41 20L4 18.59l7.72-7.72 1.47 1.35L5.41 20z\"/>\n",
              "  </svg>\n",
              "      </button>\n",
              "      \n",
              "  <style>\n",
              "    .colab-df-container {\n",
              "      display:flex;\n",
              "      flex-wrap:wrap;\n",
              "      gap: 12px;\n",
              "    }\n",
              "\n",
              "    .colab-df-convert {\n",
              "      background-color: #E8F0FE;\n",
              "      border: none;\n",
              "      border-radius: 50%;\n",
              "      cursor: pointer;\n",
              "      display: none;\n",
              "      fill: #1967D2;\n",
              "      height: 32px;\n",
              "      padding: 0 0 0 0;\n",
              "      width: 32px;\n",
              "    }\n",
              "\n",
              "    .colab-df-convert:hover {\n",
              "      background-color: #E2EBFA;\n",
              "      box-shadow: 0px 1px 2px rgba(60, 64, 67, 0.3), 0px 1px 3px 1px rgba(60, 64, 67, 0.15);\n",
              "      fill: #174EA6;\n",
              "    }\n",
              "\n",
              "    [theme=dark] .colab-df-convert {\n",
              "      background-color: #3B4455;\n",
              "      fill: #D2E3FC;\n",
              "    }\n",
              "\n",
              "    [theme=dark] .colab-df-convert:hover {\n",
              "      background-color: #434B5C;\n",
              "      box-shadow: 0px 1px 3px 1px rgba(0, 0, 0, 0.15);\n",
              "      filter: drop-shadow(0px 1px 2px rgba(0, 0, 0, 0.3));\n",
              "      fill: #FFFFFF;\n",
              "    }\n",
              "  </style>\n",
              "\n",
              "      <script>\n",
              "        const buttonEl =\n",
              "          document.querySelector('#df-03e86384-2847-4571-ac71-39b55bf2badd button.colab-df-convert');\n",
              "        buttonEl.style.display =\n",
              "          google.colab.kernel.accessAllowed ? 'block' : 'none';\n",
              "\n",
              "        async function convertToInteractive(key) {\n",
              "          const element = document.querySelector('#df-03e86384-2847-4571-ac71-39b55bf2badd');\n",
              "          const dataTable =\n",
              "            await google.colab.kernel.invokeFunction('convertToInteractive',\n",
              "                                                     [key], {});\n",
              "          if (!dataTable) return;\n",
              "\n",
              "          const docLinkHtml = 'Like what you see? Visit the ' +\n",
              "            '<a target=\"_blank\" href=https://colab.research.google.com/notebooks/data_table.ipynb>data table notebook</a>'\n",
              "            + ' to learn more about interactive tables.';\n",
              "          element.innerHTML = '';\n",
              "          dataTable['output_type'] = 'display_data';\n",
              "          await google.colab.output.renderOutput(dataTable, element);\n",
              "          const docLink = document.createElement('div');\n",
              "          docLink.innerHTML = docLinkHtml;\n",
              "          element.appendChild(docLink);\n",
              "        }\n",
              "      </script>\n",
              "    </div>\n",
              "  </div>\n",
              "  "
            ]
          },
          "metadata": {},
          "execution_count": 20
        }
      ]
    },
    {
      "cell_type": "code",
      "source": [
        "def extract_target(x):\n",
        "    target = int(x[-5])\n",
        "    if target == 0:\n",
        "        return 'Normal'\n",
        "    if target == 1:\n",
        "        return 'Tuberculosis'"
      ],
      "metadata": {
        "id": "YkWFsRLD2Wa-"
      },
      "execution_count": 21,
      "outputs": []
    },
    {
      "cell_type": "code",
      "source": [
        "df_shen['target'] = df_shen['image_id'].apply(extract_target)\n",
        "\n",
        "df_mont['target'] = df_mont['image_id'].apply(extract_target)"
      ],
      "metadata": {
        "id": "136mOebU2Y71"
      },
      "execution_count": 22,
      "outputs": []
    },
    {
      "cell_type": "code",
      "source": [
        "df_shen['target'].value_counts()"
      ],
      "metadata": {
        "colab": {
          "base_uri": "https://localhost:8080/"
        },
        "id": "DvcKDCxW2a_7",
        "outputId": "80335d43-132c-4246-e495-97a669bf0f6d"
      },
      "execution_count": 23,
      "outputs": [
        {
          "output_type": "execute_result",
          "data": {
            "text/plain": [
              "Tuberculosis    336\n",
              "Normal          326\n",
              "Name: target, dtype: int64"
            ]
          },
          "metadata": {},
          "execution_count": 23
        }
      ]
    },
    {
      "cell_type": "code",
      "source": [
        "df_mont['target'].value_counts()"
      ],
      "metadata": {
        "colab": {
          "base_uri": "https://localhost:8080/"
        },
        "id": "tjiESOl72csq",
        "outputId": "cddac0c3-8318-4d44-c1ec-d9f782d45cf1"
      },
      "execution_count": 24,
      "outputs": [
        {
          "output_type": "execute_result",
          "data": {
            "text/plain": [
              "Normal          80\n",
              "Tuberculosis    58\n",
              "Name: target, dtype: int64"
            ]
          },
          "metadata": {},
          "execution_count": 24
        }
      ]
    },
    {
      "cell_type": "code",
      "source": [
        "df_mont['target'].value_counts()"
      ],
      "metadata": {
        "colab": {
          "base_uri": "https://localhost:8080/"
        },
        "id": "JOe11JCa83oZ",
        "outputId": "112c071b-af12-4a0e-99e3-e82fee39c471"
      },
      "execution_count": 32,
      "outputs": [
        {
          "output_type": "execute_result",
          "data": {
            "text/plain": [
              "Normal          80\n",
              "Tuberculosis    58\n",
              "Name: target, dtype: int64"
            ]
          },
          "metadata": {},
          "execution_count": 32
        }
      ]
    },
    {
      "cell_type": "code",
      "source": [
        "df_data = pd.concat([df_shen, df_mont], axis=0).reset_index(drop=True)\n",
        "\n",
        "df_data = shuffle(df_data)\n",
        "\n",
        "\n",
        "df_data.shape"
      ],
      "metadata": {
        "colab": {
          "base_uri": "https://localhost:8080/"
        },
        "id": "QSj2Iqe189gv",
        "outputId": "c18a06d6-bc7a-4d11-dbee-5dae8d744915"
      },
      "execution_count": 33,
      "outputs": [
        {
          "output_type": "execute_result",
          "data": {
            "text/plain": [
              "(800, 2)"
            ]
          },
          "metadata": {},
          "execution_count": 33
        }
      ]
    },
    {
      "cell_type": "code",
      "source": [
        "df_data['labels'] = df_data['target'].map({'Normal':0, 'Tuberculosis':1})"
      ],
      "metadata": {
        "id": "qEmMJ1WY9Abh"
      },
      "execution_count": 34,
      "outputs": []
    },
    {
      "cell_type": "code",
      "source": [
        "df_data.head()"
      ],
      "metadata": {
        "colab": {
          "base_uri": "https://localhost:8080/",
          "height": 206
        },
        "id": "RNiIiFJJ9DJg",
        "outputId": "bc15d67e-78a6-4c7c-e841-ace3f0a9d3be"
      },
      "execution_count": 35,
      "outputs": [
        {
          "output_type": "execute_result",
          "data": {
            "text/plain": [
              "              image_id        target  labels\n",
              "127  CHNCXR_0540_1.png  Tuberculosis       1\n",
              "684  MCUCXR_0372_1.png  Tuberculosis       1\n",
              "288  CHNCXR_0037_0.png        Normal       0\n",
              "458  CHNCXR_0346_1.png  Tuberculosis       1\n",
              "530  CHNCXR_0629_1.png  Tuberculosis       1"
            ],
            "text/html": [
              "\n",
              "  <div id=\"df-0ac3ff56-8d91-4c40-87ba-0b5702d89f77\">\n",
              "    <div class=\"colab-df-container\">\n",
              "      <div>\n",
              "<style scoped>\n",
              "    .dataframe tbody tr th:only-of-type {\n",
              "        vertical-align: middle;\n",
              "    }\n",
              "\n",
              "    .dataframe tbody tr th {\n",
              "        vertical-align: top;\n",
              "    }\n",
              "\n",
              "    .dataframe thead th {\n",
              "        text-align: right;\n",
              "    }\n",
              "</style>\n",
              "<table border=\"1\" class=\"dataframe\">\n",
              "  <thead>\n",
              "    <tr style=\"text-align: right;\">\n",
              "      <th></th>\n",
              "      <th>image_id</th>\n",
              "      <th>target</th>\n",
              "      <th>labels</th>\n",
              "    </tr>\n",
              "  </thead>\n",
              "  <tbody>\n",
              "    <tr>\n",
              "      <th>127</th>\n",
              "      <td>CHNCXR_0540_1.png</td>\n",
              "      <td>Tuberculosis</td>\n",
              "      <td>1</td>\n",
              "    </tr>\n",
              "    <tr>\n",
              "      <th>684</th>\n",
              "      <td>MCUCXR_0372_1.png</td>\n",
              "      <td>Tuberculosis</td>\n",
              "      <td>1</td>\n",
              "    </tr>\n",
              "    <tr>\n",
              "      <th>288</th>\n",
              "      <td>CHNCXR_0037_0.png</td>\n",
              "      <td>Normal</td>\n",
              "      <td>0</td>\n",
              "    </tr>\n",
              "    <tr>\n",
              "      <th>458</th>\n",
              "      <td>CHNCXR_0346_1.png</td>\n",
              "      <td>Tuberculosis</td>\n",
              "      <td>1</td>\n",
              "    </tr>\n",
              "    <tr>\n",
              "      <th>530</th>\n",
              "      <td>CHNCXR_0629_1.png</td>\n",
              "      <td>Tuberculosis</td>\n",
              "      <td>1</td>\n",
              "    </tr>\n",
              "  </tbody>\n",
              "</table>\n",
              "</div>\n",
              "      <button class=\"colab-df-convert\" onclick=\"convertToInteractive('df-0ac3ff56-8d91-4c40-87ba-0b5702d89f77')\"\n",
              "              title=\"Convert this dataframe to an interactive table.\"\n",
              "              style=\"display:none;\">\n",
              "        \n",
              "  <svg xmlns=\"http://www.w3.org/2000/svg\" height=\"24px\"viewBox=\"0 0 24 24\"\n",
              "       width=\"24px\">\n",
              "    <path d=\"M0 0h24v24H0V0z\" fill=\"none\"/>\n",
              "    <path d=\"M18.56 5.44l.94 2.06.94-2.06 2.06-.94-2.06-.94-.94-2.06-.94 2.06-2.06.94zm-11 1L8.5 8.5l.94-2.06 2.06-.94-2.06-.94L8.5 2.5l-.94 2.06-2.06.94zm10 10l.94 2.06.94-2.06 2.06-.94-2.06-.94-.94-2.06-.94 2.06-2.06.94z\"/><path d=\"M17.41 7.96l-1.37-1.37c-.4-.4-.92-.59-1.43-.59-.52 0-1.04.2-1.43.59L10.3 9.45l-7.72 7.72c-.78.78-.78 2.05 0 2.83L4 21.41c.39.39.9.59 1.41.59.51 0 1.02-.2 1.41-.59l7.78-7.78 2.81-2.81c.8-.78.8-2.07 0-2.86zM5.41 20L4 18.59l7.72-7.72 1.47 1.35L5.41 20z\"/>\n",
              "  </svg>\n",
              "      </button>\n",
              "      \n",
              "  <style>\n",
              "    .colab-df-container {\n",
              "      display:flex;\n",
              "      flex-wrap:wrap;\n",
              "      gap: 12px;\n",
              "    }\n",
              "\n",
              "    .colab-df-convert {\n",
              "      background-color: #E8F0FE;\n",
              "      border: none;\n",
              "      border-radius: 50%;\n",
              "      cursor: pointer;\n",
              "      display: none;\n",
              "      fill: #1967D2;\n",
              "      height: 32px;\n",
              "      padding: 0 0 0 0;\n",
              "      width: 32px;\n",
              "    }\n",
              "\n",
              "    .colab-df-convert:hover {\n",
              "      background-color: #E2EBFA;\n",
              "      box-shadow: 0px 1px 2px rgba(60, 64, 67, 0.3), 0px 1px 3px 1px rgba(60, 64, 67, 0.15);\n",
              "      fill: #174EA6;\n",
              "    }\n",
              "\n",
              "    [theme=dark] .colab-df-convert {\n",
              "      background-color: #3B4455;\n",
              "      fill: #D2E3FC;\n",
              "    }\n",
              "\n",
              "    [theme=dark] .colab-df-convert:hover {\n",
              "      background-color: #434B5C;\n",
              "      box-shadow: 0px 1px 3px 1px rgba(0, 0, 0, 0.15);\n",
              "      filter: drop-shadow(0px 1px 2px rgba(0, 0, 0, 0.3));\n",
              "      fill: #FFFFFF;\n",
              "    }\n",
              "  </style>\n",
              "\n",
              "      <script>\n",
              "        const buttonEl =\n",
              "          document.querySelector('#df-0ac3ff56-8d91-4c40-87ba-0b5702d89f77 button.colab-df-convert');\n",
              "        buttonEl.style.display =\n",
              "          google.colab.kernel.accessAllowed ? 'block' : 'none';\n",
              "\n",
              "        async function convertToInteractive(key) {\n",
              "          const element = document.querySelector('#df-0ac3ff56-8d91-4c40-87ba-0b5702d89f77');\n",
              "          const dataTable =\n",
              "            await google.colab.kernel.invokeFunction('convertToInteractive',\n",
              "                                                     [key], {});\n",
              "          if (!dataTable) return;\n",
              "\n",
              "          const docLinkHtml = 'Like what you see? Visit the ' +\n",
              "            '<a target=\"_blank\" href=https://colab.research.google.com/notebooks/data_table.ipynb>data table notebook</a>'\n",
              "            + ' to learn more about interactive tables.';\n",
              "          element.innerHTML = '';\n",
              "          dataTable['output_type'] = 'display_data';\n",
              "          await google.colab.output.renderOutput(dataTable, element);\n",
              "          const docLink = document.createElement('div');\n",
              "          docLink.innerHTML = docLinkHtml;\n",
              "          element.appendChild(docLink);\n",
              "        }\n",
              "      </script>\n",
              "    </div>\n",
              "  </div>\n",
              "  "
            ]
          },
          "metadata": {},
          "execution_count": 35
        }
      ]
    },
    {
      "cell_type": "code",
      "source": [
        "y = df_data['labels']\n",
        "\n",
        "df_train, df_val = train_test_split(df_data, test_size=0.15, random_state=101, stratify=y)\n",
        "\n",
        "print(df_train.shape)\n",
        "print(df_val.shape)"
      ],
      "metadata": {
        "colab": {
          "base_uri": "https://localhost:8080/"
        },
        "id": "78oG-oHv9EzJ",
        "outputId": "287a60f7-b3ce-4a12-e5f2-fe544290181f"
      },
      "execution_count": 36,
      "outputs": [
        {
          "output_type": "stream",
          "name": "stdout",
          "text": [
            "(680, 3)\n",
            "(120, 3)\n"
          ]
        }
      ]
    },
    {
      "cell_type": "code",
      "source": [
        "df_train['target'].value_counts()"
      ],
      "metadata": {
        "colab": {
          "base_uri": "https://localhost:8080/"
        },
        "id": "li971CsS9HPy",
        "outputId": "136d103f-921a-4d0e-c4e1-afda2c972dcf"
      },
      "execution_count": 37,
      "outputs": [
        {
          "output_type": "execute_result",
          "data": {
            "text/plain": [
              "Normal          345\n",
              "Tuberculosis    335\n",
              "Name: target, dtype: int64"
            ]
          },
          "metadata": {},
          "execution_count": 37
        }
      ]
    },
    {
      "cell_type": "code",
      "source": [
        "df_val['target'].value_counts()"
      ],
      "metadata": {
        "colab": {
          "base_uri": "https://localhost:8080/"
        },
        "id": "o6o0po1-9JhW",
        "outputId": "2f49443c-e57d-4adf-f90e-5beafaa967ab"
      },
      "execution_count": 38,
      "outputs": [
        {
          "output_type": "execute_result",
          "data": {
            "text/plain": [
              "Normal          61\n",
              "Tuberculosis    59\n",
              "Name: target, dtype: int64"
            ]
          },
          "metadata": {},
          "execution_count": 38
        }
      ]
    },
    {
      "cell_type": "code",
      "source": [
        "base_dir = 'base_dir'\n",
        "os.mkdir(base_dir)\n",
        "\n",
        "\n",
        "#[CREATE FOLDERS INSIDE THE BASE DIRECTORY]\n",
        "\n",
        "# now we create 2 folders inside 'base_dir':\n",
        "\n",
        "# train\n",
        "    # Normal\n",
        "    # Tuberculosis\n",
        "\n",
        "# val\n",
        "    # Normal\n",
        "    # Tuberculosis\n",
        "\n",
        "\n",
        "# create a path to 'base_dir' to which we will join the names of the new folders\n",
        "# train_dir\n",
        "train_dir = os.path.join(base_dir, 'train_dir')\n",
        "os.mkdir(train_dir)\n",
        "\n",
        "# val_dir\n",
        "val_dir = os.path.join(base_dir, 'val_dir')\n",
        "os.mkdir(val_dir)\n",
        "\n",
        "\n",
        "# [CREATE FOLDERS INSIDE THE TRAIN AND VALIDATION FOLDERS]\n",
        "# Inside each folder we create seperate folders for each class\n",
        "\n",
        "# create new folders inside train_dir\n",
        "Normal = os.path.join(train_dir, 'Normal')\n",
        "os.mkdir(Normal)\n",
        "Tuberculosis = os.path.join(train_dir, 'Tuberculosis')\n",
        "os.mkdir(Tuberculosis)\n",
        "\n",
        "\n",
        "# create new folders inside val_dir\n",
        "Normal = os.path.join(val_dir, 'Normal')\n",
        "os.mkdir(Normal)\n",
        "Tuberculosis = os.path.join(val_dir, 'Tuberculosis')\n",
        "os.mkdir(Tuberculosis)"
      ],
      "metadata": {
        "id": "dXus_LQD9LqG"
      },
      "execution_count": 39,
      "outputs": []
    },
    {
      "cell_type": "code",
      "source": [
        "df_data.set_index('image_id', inplace=True)"
      ],
      "metadata": {
        "id": "SlRCyrfS9Pne"
      },
      "execution_count": 40,
      "outputs": []
    },
    {
      "cell_type": "code",
      "source": [
        "folder_1 = os.listdir('ChinaSet_AllFiles/ChinaSet_AllFiles/CXR_png')\n",
        "folder_2 = os.listdir('Montgomery/MontgomerySet/CXR_png')\n",
        "\n",
        "# Get a list of train and val images\n",
        "train_list = list(df_train['image_id'])\n",
        "val_list = list(df_val['image_id'])\n",
        "\n",
        "\n",
        "\n",
        "# Transfer the train images\n",
        "\n",
        "for image in train_list:\n",
        "    \n",
        "    fname = image\n",
        "    label = df_data.loc[image,'target']\n",
        "    \n",
        "    if fname in folder_1:\n",
        "        # source path to image\n",
        "        src = os.path.join('ChinaSet_AllFiles/ChinaSet_AllFiles/CXR_png', fname)\n",
        "        # destination path to image\n",
        "        dst = os.path.join(train_dir, label, fname)\n",
        "        \n",
        "        image = cv2.imread(src)\n",
        "        image = cv2.resize(image, (IMAGE_HEIGHT, IMAGE_WIDTH))\n",
        "        # save the image at the destination\n",
        "        cv2.imwrite(dst, image)\n",
        "        #shutil.copyfile(src, dst)\n",
        "\n",
        "    if fname in folder_2:\n",
        "        # source path to image\n",
        "        src = os.path.join('Montgomery/MontgomerySet/CXR_png', fname)\n",
        "        # destination path to image\n",
        "        dst = os.path.join(train_dir, label, fname)\n",
        "        \n",
        "        image = cv2.imread(src)\n",
        "        image = cv2.resize(image, (IMAGE_HEIGHT, IMAGE_WIDTH))\n",
        "        # save the image at the destination\n",
        "        cv2.imwrite(dst, image)\n",
        "        \n",
        "        # copy the image from the source to the destination\n",
        "        #shutil.copyfile(src, dst)\n",
        "\n",
        "\n",
        "# Transfer the val images\n",
        "\n",
        "for image in val_list:\n",
        "    \n",
        "    fname = image\n",
        "    label = df_data.loc[image,'target']\n",
        "    \n",
        "    if fname in folder_1:\n",
        "        # source path to image\n",
        "        src = os.path.join('ChinaSet_AllFiles/ChinaSet_AllFiles/CXR_png', fname)\n",
        "        # destination path to image\n",
        "        dst = os.path.join(val_dir, label, fname)\n",
        "        \n",
        "        image = cv2.imread(src)\n",
        "        image = cv2.resize(image, (IMAGE_HEIGHT, IMAGE_WIDTH))\n",
        "        # save the image at the destination\n",
        "        cv2.imwrite(dst, image)\n",
        "        \n",
        "        # copy the image from the source to the destination\n",
        "        #shutil.copyfile(src, dst)\n",
        "\n",
        "    if fname in folder_2:\n",
        "        # source path to image\n",
        "        src = os.path.join('Montgomery/MontgomerySet/CXR_png', fname)\n",
        "        # destination path to image\n",
        "        dst = os.path.join(val_dir, label, fname)\n",
        "        \n",
        "        image = cv2.imread(src)\n",
        "        image = cv2.resize(image, (IMAGE_HEIGHT, IMAGE_WIDTH))\n",
        "        # save the image at the destination\n",
        "        cv2.imwrite(dst, image)\n",
        "        \n",
        "        # copy the image from the source to the destination\n",
        "        #shutil.copyfile(src, dst)"
      ],
      "metadata": {
        "id": "8aKcjO-E9YoY"
      },
      "execution_count": 42,
      "outputs": []
    },
    {
      "cell_type": "code",
      "source": [
        "print(len(os.listdir('base_dir/train_dir/Normal')))\n",
        "print(len(os.listdir('base_dir/train_dir/Tuberculosis')))"
      ],
      "metadata": {
        "colab": {
          "base_uri": "https://localhost:8080/"
        },
        "id": "WaiIwnsL9eZ-",
        "outputId": "fab8d2aa-1a68-4ff2-a6f6-0ad5c6285f5e"
      },
      "execution_count": 43,
      "outputs": [
        {
          "output_type": "stream",
          "name": "stdout",
          "text": [
            "345\n",
            "335\n"
          ]
        }
      ]
    },
    {
      "cell_type": "code",
      "source": [
        "print(len(os.listdir('base_dir/val_dir/Normal')))\n",
        "print(len(os.listdir('base_dir/val_dir/Tuberculosis')))"
      ],
      "metadata": {
        "colab": {
          "base_uri": "https://localhost:8080/"
        },
        "id": "FrmK16fN99_q",
        "outputId": "2297c435-5897-4c4d-d0d4-53839fd7cf59"
      },
      "execution_count": 44,
      "outputs": [
        {
          "output_type": "stream",
          "name": "stdout",
          "text": [
            "61\n",
            "59\n"
          ]
        }
      ]
    },
    {
      "cell_type": "code",
      "source": [
        "class_list = ['Normal','Tuberculosis']\n",
        "\n",
        "for item in class_list:\n",
        "    \n",
        "    # We are creating temporary directories here because we delete these directories later.\n",
        "    # create a base dir\n",
        "    aug_dir = 'aug_dir'\n",
        "    os.mkdir(aug_dir)\n",
        "    # create a dir within the base dir to store images of the same class\n",
        "    img_dir = os.path.join(aug_dir, 'img_dir')\n",
        "    os.mkdir(img_dir)\n",
        "\n",
        "    # Choose a class\n",
        "    img_class = item\n",
        "\n",
        "    # list all images in that directory\n",
        "    img_list = os.listdir('base_dir/train_dir/' + img_class)\n",
        "\n",
        "    # Copy images from the class train dir to the img_dir e.g. class 'Normal'\n",
        "    for fname in img_list:\n",
        "            # source path to image\n",
        "            src = os.path.join('base_dir/train_dir/' + img_class, fname)\n",
        "            # destination path to image\n",
        "            dst = os.path.join(img_dir, fname)\n",
        "            # copy the image from the source to the destination\n",
        "            shutil.copyfile(src, dst)\n",
        "\n",
        "\n",
        "    # point to a dir containing the images and not to the images themselves\n",
        "    path = aug_dir\n",
        "    save_path = 'base_dir/train_dir/' + img_class\n",
        "\n",
        "    # Create a data generator\n",
        "    datagen = ImageDataGenerator(\n",
        "        rotation_range=10,\n",
        "        width_shift_range=0.1,\n",
        "        height_shift_range=0.1,\n",
        "        zoom_range=0.1,\n",
        "        horizontal_flip=True,\n",
        "        fill_mode='nearest')\n",
        "\n",
        "    batch_size = 50\n",
        "\n",
        "    aug_datagen = datagen.flow_from_directory(path,\n",
        "                                           save_to_dir=save_path,\n",
        "                                           save_format='png',\n",
        "                                                    target_size=(IMAGE_HEIGHT,IMAGE_WIDTH),\n",
        "                                                    batch_size=batch_size)\n",
        "    \n",
        "    \n",
        "    # Generate the augmented images and add them to the training folders\n",
        "    \n",
        "    \n",
        "    num_files = len(os.listdir(img_dir))\n",
        "    \n",
        "    # this creates a similar amount of images for each class\n",
        "    num_batches = int(np.ceil((NUM_AUG_IMAGES_WANTED-num_files)/batch_size))\n",
        "\n",
        "    # run the generator and create augmented images\n",
        "    for i in range(0,num_batches):\n",
        "\n",
        "        imgs, labels = next(aug_datagen)\n",
        "        \n",
        "    # delete temporary directory with the raw image files\n",
        "    shutil.rmtree('aug_dir')"
      ],
      "metadata": {
        "colab": {
          "base_uri": "https://localhost:8080/"
        },
        "id": "KDpLZ6zf-AOc",
        "outputId": "6e806a32-5cb5-4fe0-f119-17e54a9d5cc5"
      },
      "execution_count": 45,
      "outputs": [
        {
          "output_type": "stream",
          "name": "stdout",
          "text": [
            "Found 345 images belonging to 1 classes.\n",
            "Found 335 images belonging to 1 classes.\n"
          ]
        }
      ]
    },
    {
      "cell_type": "code",
      "source": [
        "print(len(os.listdir('base_dir/train_dir/Normal')))\n",
        "print(len(os.listdir('base_dir/train_dir/Tuberculosis')))"
      ],
      "metadata": {
        "colab": {
          "base_uri": "https://localhost:8080/"
        },
        "id": "4uudCg7E-FQE",
        "outputId": "b90fff06-534b-43d5-862a-971a0c317744"
      },
      "execution_count": 46,
      "outputs": [
        {
          "output_type": "stream",
          "name": "stdout",
          "text": [
            "1035\n",
            "1005\n"
          ]
        }
      ]
    },
    {
      "cell_type": "code",
      "source": [
        "print(len(os.listdir('base_dir/val_dir/Normal')))\n",
        "print(len(os.listdir('base_dir/val_dir/Tuberculosis')))"
      ],
      "metadata": {
        "colab": {
          "base_uri": "https://localhost:8080/"
        },
        "id": "jLxowZOT-V5k",
        "outputId": "716b24df-d984-47fb-e164-5c957aa2c4d4"
      },
      "execution_count": 47,
      "outputs": [
        {
          "output_type": "stream",
          "name": "stdout",
          "text": [
            "61\n",
            "59\n"
          ]
        }
      ]
    },
    {
      "cell_type": "code",
      "source": [
        "train_path = 'base_dir/train_dir'\n",
        "valid_path = 'base_dir/val_dir'\n",
        "\n",
        "num_train_samples = len(df_train)\n",
        "num_val_samples = len(df_val)\n",
        "train_batch_size = 10\n",
        "val_batch_size = 10\n",
        "\n",
        "\n",
        "train_steps = np.ceil(num_train_samples / train_batch_size)\n",
        "val_steps = np.ceil(num_val_samples / val_batch_size)"
      ],
      "metadata": {
        "id": "RvI3E5bh-aqg"
      },
      "execution_count": 51,
      "outputs": []
    },
    {
      "cell_type": "code",
      "source": [
        "datagen = ImageDataGenerator(rescale=1.0/255)\n",
        "\n",
        "train_gen = datagen.flow_from_directory(train_path,\n",
        "                                        target_size=(IMAGE_HEIGHT,IMAGE_WIDTH),\n",
        "                                        batch_size=train_batch_size,\n",
        "                                        class_mode='categorical')\n",
        "\n",
        "val_gen = datagen.flow_from_directory(valid_path,\n",
        "                                        target_size=(IMAGE_HEIGHT,IMAGE_WIDTH),\n",
        "                                        batch_size=val_batch_size,\n",
        "                                        class_mode='categorical')\n",
        "\n",
        "# Note: shuffle=False causes the test dataset to not be shuffled\n",
        "test_gen = datagen.flow_from_directory(valid_path,\n",
        "                                        target_size=(IMAGE_HEIGHT,IMAGE_WIDTH),\n",
        "                                        batch_size=val_batch_size,\n",
        "                                        class_mode='categorical',\n",
        "                                        shuffle=False)"
      ],
      "metadata": {
        "colab": {
          "base_uri": "https://localhost:8080/"
        },
        "id": "EmdbpsTx-yPt",
        "outputId": "33e59fe3-d624-4f9b-89a9-b1efd2683a0d"
      },
      "execution_count": 52,
      "outputs": [
        {
          "output_type": "stream",
          "name": "stdout",
          "text": [
            "Found 2040 images belonging to 2 classes.\n",
            "Found 120 images belonging to 2 classes.\n",
            "Found 120 images belonging to 2 classes.\n"
          ]
        }
      ]
    },
    {
      "cell_type": "code",
      "source": [
        "kernel_size = (3,3)\n",
        "pool_size= (2,2)\n",
        "first_filters = 32\n",
        "second_filters = 64\n",
        "third_filters = 128\n",
        "\n",
        "dropout_conv = 0.3\n",
        "dropout_dense = 0.3\n",
        "\n",
        "\n",
        "model = Sequential()\n",
        "model.add(Conv2D(first_filters, kernel_size, activation = 'relu', \n",
        "                 input_shape = (IMAGE_HEIGHT, IMAGE_WIDTH, 3)))\n",
        "model.add(Conv2D(first_filters, kernel_size, activation = 'relu'))\n",
        "model.add(Conv2D(first_filters, kernel_size, activation = 'relu'))\n",
        "model.add(MaxPooling2D(pool_size = pool_size)) \n",
        "model.add(Dropout(dropout_conv))\n",
        "\n",
        "model.add(Conv2D(second_filters, kernel_size, activation ='relu'))\n",
        "model.add(Conv2D(second_filters, kernel_size, activation ='relu'))\n",
        "model.add(Conv2D(second_filters, kernel_size, activation ='relu'))\n",
        "model.add(MaxPooling2D(pool_size = pool_size))\n",
        "model.add(Dropout(dropout_conv))\n",
        "\n",
        "model.add(Conv2D(third_filters, kernel_size, activation ='relu'))\n",
        "model.add(Conv2D(third_filters, kernel_size, activation ='relu'))\n",
        "model.add(Conv2D(third_filters, kernel_size, activation ='relu'))\n",
        "model.add(MaxPooling2D(pool_size = pool_size))\n",
        "model.add(Dropout(dropout_conv))\n",
        "\n",
        "model.add(Flatten())\n",
        "model.add(Dense(256, activation = \"relu\"))\n",
        "model.add(Dropout(dropout_dense))\n",
        "model.add(Dense(2, activation = \"softmax\"))\n",
        "\n",
        "model.summary()"
      ],
      "metadata": {
        "colab": {
          "base_uri": "https://localhost:8080/"
        },
        "id": "Fqqm_EE_-0-P",
        "outputId": "e30300dd-e27a-4a42-9d9a-144372a15143"
      },
      "execution_count": 53,
      "outputs": [
        {
          "output_type": "stream",
          "name": "stdout",
          "text": [
            "Model: \"sequential\"\n",
            "_________________________________________________________________\n",
            " Layer (type)                Output Shape              Param #   \n",
            "=================================================================\n",
            " conv2d (Conv2D)             (None, 94, 94, 32)        896       \n",
            "                                                                 \n",
            " conv2d_1 (Conv2D)           (None, 92, 92, 32)        9248      \n",
            "                                                                 \n",
            " conv2d_2 (Conv2D)           (None, 90, 90, 32)        9248      \n",
            "                                                                 \n",
            " max_pooling2d (MaxPooling2D  (None, 45, 45, 32)       0         \n",
            " )                                                               \n",
            "                                                                 \n",
            " dropout (Dropout)           (None, 45, 45, 32)        0         \n",
            "                                                                 \n",
            " conv2d_3 (Conv2D)           (None, 43, 43, 64)        18496     \n",
            "                                                                 \n",
            " conv2d_4 (Conv2D)           (None, 41, 41, 64)        36928     \n",
            "                                                                 \n",
            " conv2d_5 (Conv2D)           (None, 39, 39, 64)        36928     \n",
            "                                                                 \n",
            " max_pooling2d_1 (MaxPooling  (None, 19, 19, 64)       0         \n",
            " 2D)                                                             \n",
            "                                                                 \n",
            " dropout_1 (Dropout)         (None, 19, 19, 64)        0         \n",
            "                                                                 \n",
            " conv2d_6 (Conv2D)           (None, 17, 17, 128)       73856     \n",
            "                                                                 \n",
            " conv2d_7 (Conv2D)           (None, 15, 15, 128)       147584    \n",
            "                                                                 \n",
            " conv2d_8 (Conv2D)           (None, 13, 13, 128)       147584    \n",
            "                                                                 \n",
            " max_pooling2d_2 (MaxPooling  (None, 6, 6, 128)        0         \n",
            " 2D)                                                             \n",
            "                                                                 \n",
            " dropout_2 (Dropout)         (None, 6, 6, 128)         0         \n",
            "                                                                 \n",
            " flatten (Flatten)           (None, 4608)              0         \n",
            "                                                                 \n",
            " dense (Dense)               (None, 256)               1179904   \n",
            "                                                                 \n",
            " dropout_3 (Dropout)         (None, 256)               0         \n",
            "                                                                 \n",
            " dense_1 (Dense)             (None, 2)                 514       \n",
            "                                                                 \n",
            "=================================================================\n",
            "Total params: 1,661,186\n",
            "Trainable params: 1,661,186\n",
            "Non-trainable params: 0\n",
            "_________________________________________________________________\n"
          ]
        }
      ]
    },
    {
      "cell_type": "code",
      "source": [
        "model.compile(Adam(lr=0.0001), loss='binary_crossentropy', \n",
        "              metrics=['accuracy'])"
      ],
      "metadata": {
        "colab": {
          "base_uri": "https://localhost:8080/"
        },
        "id": "DAGq3r5X-5JC",
        "outputId": "e1a77bd6-8661-40e5-dafc-9117110992a6"
      },
      "execution_count": 58,
      "outputs": [
        {
          "output_type": "stream",
          "name": "stderr",
          "text": [
            "/usr/local/lib/python3.7/dist-packages/keras/optimizer_v2/adam.py:105: UserWarning: The `lr` argument is deprecated, use `learning_rate` instead.\n",
            "  super(Adam, self).__init__(name, **kwargs)\n"
          ]
        }
      ]
    },
    {
      "cell_type": "code",
      "source": [
        "filepath = \"model.h5\"\n",
        "checkpoint = ModelCheckpoint(filepath, monitor='val_acc', verbose=1, \n",
        "                             save_best_only=True, mode='max')\n",
        "\n",
        "reduce_lr = ReduceLROnPlateau(monitor='val_acc', factor=0.5, patience=2, \n",
        "                                   verbose=1, mode='max', min_lr=0.00001)\n",
        "                              \n",
        "                              \n",
        "callbacks_list = [checkpoint, reduce_lr]\n",
        "\n",
        "history = model.fit_generator(train_gen, steps_per_epoch=train_steps, \n",
        "                            validation_data=val_gen,\n",
        "                            validation_steps=val_steps,\n",
        "                            epochs=100, verbose=1,\n",
        "                           callbacks=callbacks_list)"
      ],
      "metadata": {
        "colab": {
          "base_uri": "https://localhost:8080/"
        },
        "id": "Q139EP8X-_5E",
        "outputId": "7f22a56c-b110-461c-b795-1439f9d26d02"
      },
      "execution_count": 60,
      "outputs": [
        {
          "output_type": "stream",
          "name": "stdout",
          "text": [
            "Epoch 1/100\n"
          ]
        },
        {
          "output_type": "stream",
          "name": "stderr",
          "text": [
            "/usr/local/lib/python3.7/dist-packages/ipykernel_launcher.py:15: UserWarning: `Model.fit_generator` is deprecated and will be removed in a future version. Please use `Model.fit`, which supports generators.\n",
            "  from ipykernel import kernelapp as app\n"
          ]
        },
        {
          "output_type": "stream",
          "name": "stdout",
          "text": [
            "65/68 [===========================>..] - ETA: 0s - loss: 0.3875 - accuracy: 0.8246"
          ]
        },
        {
          "output_type": "stream",
          "name": "stderr",
          "text": [
            "WARNING:tensorflow:Can save best model only with val_acc available, skipping.\n",
            "WARNING:tensorflow:Learning rate reduction is conditioned on metric `val_acc` which is not available. Available metrics are: loss,accuracy,val_loss,val_accuracy,lr\n"
          ]
        },
        {
          "output_type": "stream",
          "name": "stdout",
          "text": [
            "\b\b\b\b\b\b\b\b\b\b\b\b\b\b\b\b\b\b\b\b\b\b\b\b\b\b\b\b\b\b\b\b\b\b\b\b\b\b\b\b\b\b\b\b\b\b\b\b\b\b\b\b\b\b\b\b\b\b\b\b\b\b\b\b\b\b\b\b\b\b\b\b\b\b\b\b\b\b\b\b\b\b\r68/68 [==============================] - 2s 20ms/step - loss: 0.3883 - accuracy: 0.8250 - val_loss: 0.3910 - val_accuracy: 0.8417 - lr: 1.0000e-04\n",
            "Epoch 2/100\n",
            "67/68 [============================>.] - ETA: 0s - loss: 0.3541 - accuracy: 0.8418"
          ]
        },
        {
          "output_type": "stream",
          "name": "stderr",
          "text": [
            "WARNING:tensorflow:Can save best model only with val_acc available, skipping.\n",
            "WARNING:tensorflow:Learning rate reduction is conditioned on metric `val_acc` which is not available. Available metrics are: loss,accuracy,val_loss,val_accuracy,lr\n"
          ]
        },
        {
          "output_type": "stream",
          "name": "stdout",
          "text": [
            "\b\b\b\b\b\b\b\b\b\b\b\b\b\b\b\b\b\b\b\b\b\b\b\b\b\b\b\b\b\b\b\b\b\b\b\b\b\b\b\b\b\b\b\b\b\b\b\b\b\b\b\b\b\b\b\b\b\b\b\b\b\b\b\b\b\b\b\b\b\b\b\b\b\b\b\b\b\b\b\b\b\b\r68/68 [==============================] - 1s 17ms/step - loss: 0.3514 - accuracy: 0.8426 - val_loss: 0.3822 - val_accuracy: 0.8083 - lr: 1.0000e-04\n",
            "Epoch 3/100\n",
            "66/68 [============================>.] - ETA: 0s - loss: 0.3689 - accuracy: 0.8379"
          ]
        },
        {
          "output_type": "stream",
          "name": "stderr",
          "text": [
            "WARNING:tensorflow:Can save best model only with val_acc available, skipping.\n",
            "WARNING:tensorflow:Learning rate reduction is conditioned on metric `val_acc` which is not available. Available metrics are: loss,accuracy,val_loss,val_accuracy,lr\n"
          ]
        },
        {
          "output_type": "stream",
          "name": "stdout",
          "text": [
            "\b\b\b\b\b\b\b\b\b\b\b\b\b\b\b\b\b\b\b\b\b\b\b\b\b\b\b\b\b\b\b\b\b\b\b\b\b\b\b\b\b\b\b\b\b\b\b\b\b\b\b\b\b\b\b\b\b\b\b\b\b\b\b\b\b\b\b\b\b\b\b\b\b\b\b\b\b\b\b\b\b\b\r68/68 [==============================] - 1s 17ms/step - loss: 0.3637 - accuracy: 0.8412 - val_loss: 0.4115 - val_accuracy: 0.7833 - lr: 1.0000e-04\n",
            "Epoch 4/100\n",
            "65/68 [===========================>..] - ETA: 0s - loss: 0.3411 - accuracy: 0.8415"
          ]
        },
        {
          "output_type": "stream",
          "name": "stderr",
          "text": [
            "WARNING:tensorflow:Can save best model only with val_acc available, skipping.\n",
            "WARNING:tensorflow:Learning rate reduction is conditioned on metric `val_acc` which is not available. Available metrics are: loss,accuracy,val_loss,val_accuracy,lr\n"
          ]
        },
        {
          "output_type": "stream",
          "name": "stdout",
          "text": [
            "\b\b\b\b\b\b\b\b\b\b\b\b\b\b\b\b\b\b\b\b\b\b\b\b\b\b\b\b\b\b\b\b\b\b\b\b\b\b\b\b\b\b\b\b\b\b\b\b\b\b\b\b\b\b\b\b\b\b\b\b\b\b\b\b\b\b\b\b\b\b\b\b\b\b\b\b\b\b\b\b\b\b\r68/68 [==============================] - 1s 17ms/step - loss: 0.3396 - accuracy: 0.8441 - val_loss: 0.4143 - val_accuracy: 0.7917 - lr: 1.0000e-04\n",
            "Epoch 5/100\n",
            "68/68 [==============================] - ETA: 0s - loss: 0.3691 - accuracy: 0.8456"
          ]
        },
        {
          "output_type": "stream",
          "name": "stderr",
          "text": [
            "WARNING:tensorflow:Can save best model only with val_acc available, skipping.\n",
            "WARNING:tensorflow:Learning rate reduction is conditioned on metric `val_acc` which is not available. Available metrics are: loss,accuracy,val_loss,val_accuracy,lr\n"
          ]
        },
        {
          "output_type": "stream",
          "name": "stdout",
          "text": [
            "\b\b\b\b\b\b\b\b\b\b\b\b\b\b\b\b\b\b\b\b\b\b\b\b\b\b\b\b\b\b\b\b\b\b\b\b\b\b\b\b\b\b\b\b\b\b\b\b\b\b\b\b\b\b\b\b\b\b\b\b\b\b\b\b\b\b\b\b\b\b\b\b\b\b\b\b\b\b\b\b\b\b\r68/68 [==============================] - 1s 17ms/step - loss: 0.3691 - accuracy: 0.8456 - val_loss: 0.4215 - val_accuracy: 0.7833 - lr: 1.0000e-04\n",
            "Epoch 6/100\n",
            "65/68 [===========================>..] - ETA: 0s - loss: 0.3333 - accuracy: 0.8385"
          ]
        },
        {
          "output_type": "stream",
          "name": "stderr",
          "text": [
            "WARNING:tensorflow:Can save best model only with val_acc available, skipping.\n",
            "WARNING:tensorflow:Learning rate reduction is conditioned on metric `val_acc` which is not available. Available metrics are: loss,accuracy,val_loss,val_accuracy,lr\n"
          ]
        },
        {
          "output_type": "stream",
          "name": "stdout",
          "text": [
            "\b\b\b\b\b\b\b\b\b\b\b\b\b\b\b\b\b\b\b\b\b\b\b\b\b\b\b\b\b\b\b\b\b\b\b\b\b\b\b\b\b\b\b\b\b\b\b\b\b\b\b\b\b\b\b\b\b\b\b\b\b\b\b\b\b\b\b\b\b\b\b\b\b\b\b\b\b\b\b\b\b\b\r68/68 [==============================] - 1s 17ms/step - loss: 0.3312 - accuracy: 0.8412 - val_loss: 0.4587 - val_accuracy: 0.7500 - lr: 1.0000e-04\n",
            "Epoch 7/100\n",
            "66/68 [============================>.] - ETA: 0s - loss: 0.3382 - accuracy: 0.8515"
          ]
        },
        {
          "output_type": "stream",
          "name": "stderr",
          "text": [
            "WARNING:tensorflow:Can save best model only with val_acc available, skipping.\n",
            "WARNING:tensorflow:Learning rate reduction is conditioned on metric `val_acc` which is not available. Available metrics are: loss,accuracy,val_loss,val_accuracy,lr\n"
          ]
        },
        {
          "output_type": "stream",
          "name": "stdout",
          "text": [
            "\b\b\b\b\b\b\b\b\b\b\b\b\b\b\b\b\b\b\b\b\b\b\b\b\b\b\b\b\b\b\b\b\b\b\b\b\b\b\b\b\b\b\b\b\b\b\b\b\b\b\b\b\b\b\b\b\b\b\b\b\b\b\b\b\b\b\b\b\b\b\b\b\b\b\b\b\b\b\b\b\b\b\r68/68 [==============================] - 1s 17ms/step - loss: 0.3361 - accuracy: 0.8529 - val_loss: 0.4311 - val_accuracy: 0.7833 - lr: 1.0000e-04\n",
            "Epoch 8/100\n",
            "65/68 [===========================>..] - ETA: 0s - loss: 0.3442 - accuracy: 0.8400"
          ]
        },
        {
          "output_type": "stream",
          "name": "stderr",
          "text": [
            "WARNING:tensorflow:Can save best model only with val_acc available, skipping.\n",
            "WARNING:tensorflow:Learning rate reduction is conditioned on metric `val_acc` which is not available. Available metrics are: loss,accuracy,val_loss,val_accuracy,lr\n"
          ]
        },
        {
          "output_type": "stream",
          "name": "stdout",
          "text": [
            "\b\b\b\b\b\b\b\b\b\b\b\b\b\b\b\b\b\b\b\b\b\b\b\b\b\b\b\b\b\b\b\b\b\b\b\b\b\b\b\b\b\b\b\b\b\b\b\b\b\b\b\b\b\b\b\b\b\b\b\b\b\b\b\b\b\b\b\b\b\b\b\b\b\b\b\b\b\b\b\b\b\b\r68/68 [==============================] - 1s 16ms/step - loss: 0.3474 - accuracy: 0.8397 - val_loss: 0.4101 - val_accuracy: 0.8167 - lr: 1.0000e-04\n",
            "Epoch 9/100\n",
            "67/68 [============================>.] - ETA: 0s - loss: 0.3259 - accuracy: 0.8552"
          ]
        },
        {
          "output_type": "stream",
          "name": "stderr",
          "text": [
            "WARNING:tensorflow:Can save best model only with val_acc available, skipping.\n",
            "WARNING:tensorflow:Learning rate reduction is conditioned on metric `val_acc` which is not available. Available metrics are: loss,accuracy,val_loss,val_accuracy,lr\n"
          ]
        },
        {
          "output_type": "stream",
          "name": "stdout",
          "text": [
            "\b\b\b\b\b\b\b\b\b\b\b\b\b\b\b\b\b\b\b\b\b\b\b\b\b\b\b\b\b\b\b\b\b\b\b\b\b\b\b\b\b\b\b\b\b\b\b\b\b\b\b\b\b\b\b\b\b\b\b\b\b\b\b\b\b\b\b\b\b\b\b\b\b\b\b\b\b\b\b\b\b\b\r68/68 [==============================] - 1s 17ms/step - loss: 0.3243 - accuracy: 0.8574 - val_loss: 0.4008 - val_accuracy: 0.7917 - lr: 1.0000e-04\n",
            "Epoch 10/100\n",
            "67/68 [============================>.] - ETA: 0s - loss: 0.3060 - accuracy: 0.8731"
          ]
        },
        {
          "output_type": "stream",
          "name": "stderr",
          "text": [
            "WARNING:tensorflow:Can save best model only with val_acc available, skipping.\n",
            "WARNING:tensorflow:Learning rate reduction is conditioned on metric `val_acc` which is not available. Available metrics are: loss,accuracy,val_loss,val_accuracy,lr\n"
          ]
        },
        {
          "output_type": "stream",
          "name": "stdout",
          "text": [
            "\b\b\b\b\b\b\b\b\b\b\b\b\b\b\b\b\b\b\b\b\b\b\b\b\b\b\b\b\b\b\b\b\b\b\b\b\b\b\b\b\b\b\b\b\b\b\b\b\b\b\b\b\b\b\b\b\b\b\b\b\b\b\b\b\b\b\b\b\b\b\b\b\b\b\b\b\b\b\b\b\b\b\r68/68 [==============================] - 1s 17ms/step - loss: 0.3053 - accuracy: 0.8735 - val_loss: 0.3809 - val_accuracy: 0.8250 - lr: 1.0000e-04\n",
            "Epoch 11/100\n",
            "67/68 [============================>.] - ETA: 0s - loss: 0.3579 - accuracy: 0.8343"
          ]
        },
        {
          "output_type": "stream",
          "name": "stderr",
          "text": [
            "WARNING:tensorflow:Can save best model only with val_acc available, skipping.\n",
            "WARNING:tensorflow:Learning rate reduction is conditioned on metric `val_acc` which is not available. Available metrics are: loss,accuracy,val_loss,val_accuracy,lr\n"
          ]
        },
        {
          "output_type": "stream",
          "name": "stdout",
          "text": [
            "\b\b\b\b\b\b\b\b\b\b\b\b\b\b\b\b\b\b\b\b\b\b\b\b\b\b\b\b\b\b\b\b\b\b\b\b\b\b\b\b\b\b\b\b\b\b\b\b\b\b\b\b\b\b\b\b\b\b\b\b\b\b\b\b\b\b\b\b\b\b\b\b\b\b\b\b\b\b\b\b\b\b\r68/68 [==============================] - 1s 17ms/step - loss: 0.3577 - accuracy: 0.8353 - val_loss: 0.4349 - val_accuracy: 0.7917 - lr: 1.0000e-04\n",
            "Epoch 12/100\n",
            "68/68 [==============================] - ETA: 0s - loss: 0.3112 - accuracy: 0.8721"
          ]
        },
        {
          "output_type": "stream",
          "name": "stderr",
          "text": [
            "WARNING:tensorflow:Can save best model only with val_acc available, skipping.\n",
            "WARNING:tensorflow:Learning rate reduction is conditioned on metric `val_acc` which is not available. Available metrics are: loss,accuracy,val_loss,val_accuracy,lr\n"
          ]
        },
        {
          "output_type": "stream",
          "name": "stdout",
          "text": [
            "\b\b\b\b\b\b\b\b\b\b\b\b\b\b\b\b\b\b\b\b\b\b\b\b\b\b\b\b\b\b\b\b\b\b\b\b\b\b\b\b\b\b\b\b\b\b\b\b\b\b\b\b\b\b\b\b\b\b\b\b\b\b\b\b\b\b\b\b\b\b\b\b\b\b\b\b\b\b\b\b\b\b\r68/68 [==============================] - 1s 17ms/step - loss: 0.3112 - accuracy: 0.8721 - val_loss: 0.4312 - val_accuracy: 0.7833 - lr: 1.0000e-04\n",
            "Epoch 13/100\n",
            "67/68 [============================>.] - ETA: 0s - loss: 0.3492 - accuracy: 0.8463"
          ]
        },
        {
          "output_type": "stream",
          "name": "stderr",
          "text": [
            "WARNING:tensorflow:Can save best model only with val_acc available, skipping.\n",
            "WARNING:tensorflow:Learning rate reduction is conditioned on metric `val_acc` which is not available. Available metrics are: loss,accuracy,val_loss,val_accuracy,lr\n"
          ]
        },
        {
          "output_type": "stream",
          "name": "stdout",
          "text": [
            "\b\b\b\b\b\b\b\b\b\b\b\b\b\b\b\b\b\b\b\b\b\b\b\b\b\b\b\b\b\b\b\b\b\b\b\b\b\b\b\b\b\b\b\b\b\b\b\b\b\b\b\b\b\b\b\b\b\b\b\b\b\b\b\b\b\b\b\b\b\b\b\b\b\b\b\b\b\b\b\b\b\b\r68/68 [==============================] - 1s 17ms/step - loss: 0.3483 - accuracy: 0.8471 - val_loss: 0.4223 - val_accuracy: 0.8167 - lr: 1.0000e-04\n",
            "Epoch 14/100\n",
            "68/68 [==============================] - ETA: 0s - loss: 0.3269 - accuracy: 0.8618"
          ]
        },
        {
          "output_type": "stream",
          "name": "stderr",
          "text": [
            "WARNING:tensorflow:Can save best model only with val_acc available, skipping.\n",
            "WARNING:tensorflow:Learning rate reduction is conditioned on metric `val_acc` which is not available. Available metrics are: loss,accuracy,val_loss,val_accuracy,lr\n"
          ]
        },
        {
          "output_type": "stream",
          "name": "stdout",
          "text": [
            "\b\b\b\b\b\b\b\b\b\b\b\b\b\b\b\b\b\b\b\b\b\b\b\b\b\b\b\b\b\b\b\b\b\b\b\b\b\b\b\b\b\b\b\b\b\b\b\b\b\b\b\b\b\b\b\b\b\b\b\b\b\b\b\b\b\b\b\b\b\b\b\b\b\b\b\b\b\b\b\b\b\b\r68/68 [==============================] - 1s 17ms/step - loss: 0.3269 - accuracy: 0.8618 - val_loss: 0.4498 - val_accuracy: 0.7750 - lr: 1.0000e-04\n",
            "Epoch 15/100\n",
            "68/68 [==============================] - ETA: 0s - loss: 0.3171 - accuracy: 0.8500"
          ]
        },
        {
          "output_type": "stream",
          "name": "stderr",
          "text": [
            "WARNING:tensorflow:Can save best model only with val_acc available, skipping.\n",
            "WARNING:tensorflow:Learning rate reduction is conditioned on metric `val_acc` which is not available. Available metrics are: loss,accuracy,val_loss,val_accuracy,lr\n"
          ]
        },
        {
          "output_type": "stream",
          "name": "stdout",
          "text": [
            "\b\b\b\b\b\b\b\b\b\b\b\b\b\b\b\b\b\b\b\b\b\b\b\b\b\b\b\b\b\b\b\b\b\b\b\b\b\b\b\b\b\b\b\b\b\b\b\b\b\b\b\b\b\b\b\b\b\b\b\b\b\b\b\b\b\b\b\b\b\b\b\b\b\b\b\b\b\b\b\b\b\b\r68/68 [==============================] - 1s 17ms/step - loss: 0.3171 - accuracy: 0.8500 - val_loss: 0.4187 - val_accuracy: 0.7917 - lr: 1.0000e-04\n",
            "Epoch 16/100\n",
            "68/68 [==============================] - ETA: 0s - loss: 0.3089 - accuracy: 0.8544"
          ]
        },
        {
          "output_type": "stream",
          "name": "stderr",
          "text": [
            "WARNING:tensorflow:Can save best model only with val_acc available, skipping.\n",
            "WARNING:tensorflow:Learning rate reduction is conditioned on metric `val_acc` which is not available. Available metrics are: loss,accuracy,val_loss,val_accuracy,lr\n"
          ]
        },
        {
          "output_type": "stream",
          "name": "stdout",
          "text": [
            "\b\b\b\b\b\b\b\b\b\b\b\b\b\b\b\b\b\b\b\b\b\b\b\b\b\b\b\b\b\b\b\b\b\b\b\b\b\b\b\b\b\b\b\b\b\b\b\b\b\b\b\b\b\b\b\b\b\b\b\b\b\b\b\b\b\b\b\b\b\b\b\b\b\b\b\b\b\b\b\b\b\b\r68/68 [==============================] - 1s 17ms/step - loss: 0.3089 - accuracy: 0.8544 - val_loss: 0.4192 - val_accuracy: 0.8083 - lr: 1.0000e-04\n",
            "Epoch 17/100\n",
            "66/68 [============================>.] - ETA: 0s - loss: 0.2969 - accuracy: 0.8682"
          ]
        },
        {
          "output_type": "stream",
          "name": "stderr",
          "text": [
            "WARNING:tensorflow:Can save best model only with val_acc available, skipping.\n",
            "WARNING:tensorflow:Learning rate reduction is conditioned on metric `val_acc` which is not available. Available metrics are: loss,accuracy,val_loss,val_accuracy,lr\n"
          ]
        },
        {
          "output_type": "stream",
          "name": "stdout",
          "text": [
            "\b\b\b\b\b\b\b\b\b\b\b\b\b\b\b\b\b\b\b\b\b\b\b\b\b\b\b\b\b\b\b\b\b\b\b\b\b\b\b\b\b\b\b\b\b\b\b\b\b\b\b\b\b\b\b\b\b\b\b\b\b\b\b\b\b\b\b\b\b\b\b\b\b\b\b\b\b\b\b\b\b\b\r68/68 [==============================] - 1s 17ms/step - loss: 0.3014 - accuracy: 0.8662 - val_loss: 0.4159 - val_accuracy: 0.8083 - lr: 1.0000e-04\n",
            "Epoch 18/100\n",
            "67/68 [============================>.] - ETA: 0s - loss: 0.3346 - accuracy: 0.8478"
          ]
        },
        {
          "output_type": "stream",
          "name": "stderr",
          "text": [
            "WARNING:tensorflow:Can save best model only with val_acc available, skipping.\n",
            "WARNING:tensorflow:Learning rate reduction is conditioned on metric `val_acc` which is not available. Available metrics are: loss,accuracy,val_loss,val_accuracy,lr\n"
          ]
        },
        {
          "output_type": "stream",
          "name": "stdout",
          "text": [
            "\b\b\b\b\b\b\b\b\b\b\b\b\b\b\b\b\b\b\b\b\b\b\b\b\b\b\b\b\b\b\b\b\b\b\b\b\b\b\b\b\b\b\b\b\b\b\b\b\b\b\b\b\b\b\b\b\b\b\b\b\b\b\b\b\b\b\b\b\b\b\b\b\b\b\b\b\b\b\b\b\b\b\r68/68 [==============================] - 1s 17ms/step - loss: 0.3336 - accuracy: 0.8485 - val_loss: 0.4679 - val_accuracy: 0.8083 - lr: 1.0000e-04\n",
            "Epoch 19/100\n",
            "68/68 [==============================] - ETA: 0s - loss: 0.2876 - accuracy: 0.8765"
          ]
        },
        {
          "output_type": "stream",
          "name": "stderr",
          "text": [
            "WARNING:tensorflow:Can save best model only with val_acc available, skipping.\n",
            "WARNING:tensorflow:Learning rate reduction is conditioned on metric `val_acc` which is not available. Available metrics are: loss,accuracy,val_loss,val_accuracy,lr\n"
          ]
        },
        {
          "output_type": "stream",
          "name": "stdout",
          "text": [
            "\b\b\b\b\b\b\b\b\b\b\b\b\b\b\b\b\b\b\b\b\b\b\b\b\b\b\b\b\b\b\b\b\b\b\b\b\b\b\b\b\b\b\b\b\b\b\b\b\b\b\b\b\b\b\b\b\b\b\b\b\b\b\b\b\b\b\b\b\b\b\b\b\b\b\b\b\b\b\b\b\b\b\r68/68 [==============================] - 1s 17ms/step - loss: 0.2876 - accuracy: 0.8765 - val_loss: 0.4553 - val_accuracy: 0.7917 - lr: 1.0000e-04\n",
            "Epoch 20/100\n",
            "67/68 [============================>.] - ETA: 0s - loss: 0.2963 - accuracy: 0.8776"
          ]
        },
        {
          "output_type": "stream",
          "name": "stderr",
          "text": [
            "WARNING:tensorflow:Can save best model only with val_acc available, skipping.\n",
            "WARNING:tensorflow:Learning rate reduction is conditioned on metric `val_acc` which is not available. Available metrics are: loss,accuracy,val_loss,val_accuracy,lr\n"
          ]
        },
        {
          "output_type": "stream",
          "name": "stdout",
          "text": [
            "\b\b\b\b\b\b\b\b\b\b\b\b\b\b\b\b\b\b\b\b\b\b\b\b\b\b\b\b\b\b\b\b\b\b\b\b\b\b\b\b\b\b\b\b\b\b\b\b\b\b\b\b\b\b\b\b\b\b\b\b\b\b\b\b\b\b\b\b\b\b\b\b\b\b\b\b\b\b\b\b\b\b\r68/68 [==============================] - 1s 17ms/step - loss: 0.2977 - accuracy: 0.8765 - val_loss: 0.3936 - val_accuracy: 0.7917 - lr: 1.0000e-04\n",
            "Epoch 21/100\n",
            "66/68 [============================>.] - ETA: 0s - loss: 0.3332 - accuracy: 0.8545"
          ]
        },
        {
          "output_type": "stream",
          "name": "stderr",
          "text": [
            "WARNING:tensorflow:Can save best model only with val_acc available, skipping.\n",
            "WARNING:tensorflow:Learning rate reduction is conditioned on metric `val_acc` which is not available. Available metrics are: loss,accuracy,val_loss,val_accuracy,lr\n"
          ]
        },
        {
          "output_type": "stream",
          "name": "stdout",
          "text": [
            "\b\b\b\b\b\b\b\b\b\b\b\b\b\b\b\b\b\b\b\b\b\b\b\b\b\b\b\b\b\b\b\b\b\b\b\b\b\b\b\b\b\b\b\b\b\b\b\b\b\b\b\b\b\b\b\b\b\b\b\b\b\b\b\b\b\b\b\b\b\b\b\b\b\b\b\b\b\b\b\b\b\b\r68/68 [==============================] - 1s 17ms/step - loss: 0.3322 - accuracy: 0.8559 - val_loss: 0.4029 - val_accuracy: 0.8000 - lr: 1.0000e-04\n",
            "Epoch 22/100\n",
            "65/68 [===========================>..] - ETA: 0s - loss: 0.3275 - accuracy: 0.8585"
          ]
        },
        {
          "output_type": "stream",
          "name": "stderr",
          "text": [
            "WARNING:tensorflow:Can save best model only with val_acc available, skipping.\n",
            "WARNING:tensorflow:Learning rate reduction is conditioned on metric `val_acc` which is not available. Available metrics are: loss,accuracy,val_loss,val_accuracy,lr\n"
          ]
        },
        {
          "output_type": "stream",
          "name": "stdout",
          "text": [
            "\b\b\b\b\b\b\b\b\b\b\b\b\b\b\b\b\b\b\b\b\b\b\b\b\b\b\b\b\b\b\b\b\b\b\b\b\b\b\b\b\b\b\b\b\b\b\b\b\b\b\b\b\b\b\b\b\b\b\b\b\b\b\b\b\b\b\b\b\b\b\b\b\b\b\b\b\b\b\b\b\b\b\r68/68 [==============================] - 1s 17ms/step - loss: 0.3247 - accuracy: 0.8588 - val_loss: 0.4343 - val_accuracy: 0.8167 - lr: 1.0000e-04\n",
            "Epoch 23/100\n",
            "68/68 [==============================] - ETA: 0s - loss: 0.2789 - accuracy: 0.8735"
          ]
        },
        {
          "output_type": "stream",
          "name": "stderr",
          "text": [
            "WARNING:tensorflow:Can save best model only with val_acc available, skipping.\n",
            "WARNING:tensorflow:Learning rate reduction is conditioned on metric `val_acc` which is not available. Available metrics are: loss,accuracy,val_loss,val_accuracy,lr\n"
          ]
        },
        {
          "output_type": "stream",
          "name": "stdout",
          "text": [
            "\b\b\b\b\b\b\b\b\b\b\b\b\b\b\b\b\b\b\b\b\b\b\b\b\b\b\b\b\b\b\b\b\b\b\b\b\b\b\b\b\b\b\b\b\b\b\b\b\b\b\b\b\b\b\b\b\b\b\b\b\b\b\b\b\b\b\b\b\b\b\b\b\b\b\b\b\b\b\b\b\b\b\r68/68 [==============================] - 1s 17ms/step - loss: 0.2789 - accuracy: 0.8735 - val_loss: 0.4288 - val_accuracy: 0.8083 - lr: 1.0000e-04\n",
            "Epoch 24/100\n",
            "67/68 [============================>.] - ETA: 0s - loss: 0.3358 - accuracy: 0.8507"
          ]
        },
        {
          "output_type": "stream",
          "name": "stderr",
          "text": [
            "WARNING:tensorflow:Can save best model only with val_acc available, skipping.\n",
            "WARNING:tensorflow:Learning rate reduction is conditioned on metric `val_acc` which is not available. Available metrics are: loss,accuracy,val_loss,val_accuracy,lr\n"
          ]
        },
        {
          "output_type": "stream",
          "name": "stdout",
          "text": [
            "\b\b\b\b\b\b\b\b\b\b\b\b\b\b\b\b\b\b\b\b\b\b\b\b\b\b\b\b\b\b\b\b\b\b\b\b\b\b\b\b\b\b\b\b\b\b\b\b\b\b\b\b\b\b\b\b\b\b\b\b\b\b\b\b\b\b\b\b\b\b\b\b\b\b\b\b\b\b\b\b\b\b\r68/68 [==============================] - 1s 17ms/step - loss: 0.3335 - accuracy: 0.8515 - val_loss: 0.4345 - val_accuracy: 0.8000 - lr: 1.0000e-04\n",
            "Epoch 25/100\n",
            "67/68 [============================>.] - ETA: 0s - loss: 0.3183 - accuracy: 0.8642"
          ]
        },
        {
          "output_type": "stream",
          "name": "stderr",
          "text": [
            "WARNING:tensorflow:Can save best model only with val_acc available, skipping.\n",
            "WARNING:tensorflow:Learning rate reduction is conditioned on metric `val_acc` which is not available. Available metrics are: loss,accuracy,val_loss,val_accuracy,lr\n"
          ]
        },
        {
          "output_type": "stream",
          "name": "stdout",
          "text": [
            "\b\b\b\b\b\b\b\b\b\b\b\b\b\b\b\b\b\b\b\b\b\b\b\b\b\b\b\b\b\b\b\b\b\b\b\b\b\b\b\b\b\b\b\b\b\b\b\b\b\b\b\b\b\b\b\b\b\b\b\b\b\b\b\b\b\b\b\b\b\b\b\b\b\b\b\b\b\b\b\b\b\b\r68/68 [==============================] - 1s 18ms/step - loss: 0.3174 - accuracy: 0.8647 - val_loss: 0.4206 - val_accuracy: 0.8167 - lr: 1.0000e-04\n",
            "Epoch 26/100\n",
            "68/68 [==============================] - ETA: 0s - loss: 0.3102 - accuracy: 0.8588"
          ]
        },
        {
          "output_type": "stream",
          "name": "stderr",
          "text": [
            "WARNING:tensorflow:Can save best model only with val_acc available, skipping.\n",
            "WARNING:tensorflow:Learning rate reduction is conditioned on metric `val_acc` which is not available. Available metrics are: loss,accuracy,val_loss,val_accuracy,lr\n"
          ]
        },
        {
          "output_type": "stream",
          "name": "stdout",
          "text": [
            "\b\b\b\b\b\b\b\b\b\b\b\b\b\b\b\b\b\b\b\b\b\b\b\b\b\b\b\b\b\b\b\b\b\b\b\b\b\b\b\b\b\b\b\b\b\b\b\b\b\b\b\b\b\b\b\b\b\b\b\b\b\b\b\b\b\b\b\b\b\b\b\b\b\b\b\b\b\b\b\b\b\b\r68/68 [==============================] - 1s 17ms/step - loss: 0.3102 - accuracy: 0.8588 - val_loss: 0.4044 - val_accuracy: 0.8167 - lr: 1.0000e-04\n",
            "Epoch 27/100\n",
            "68/68 [==============================] - ETA: 0s - loss: 0.2822 - accuracy: 0.8706"
          ]
        },
        {
          "output_type": "stream",
          "name": "stderr",
          "text": [
            "WARNING:tensorflow:Can save best model only with val_acc available, skipping.\n",
            "WARNING:tensorflow:Learning rate reduction is conditioned on metric `val_acc` which is not available. Available metrics are: loss,accuracy,val_loss,val_accuracy,lr\n"
          ]
        },
        {
          "output_type": "stream",
          "name": "stdout",
          "text": [
            "\b\b\b\b\b\b\b\b\b\b\b\b\b\b\b\b\b\b\b\b\b\b\b\b\b\b\b\b\b\b\b\b\b\b\b\b\b\b\b\b\b\b\b\b\b\b\b\b\b\b\b\b\b\b\b\b\b\b\b\b\b\b\b\b\b\b\b\b\b\b\b\b\b\b\b\b\b\b\b\b\b\b\r68/68 [==============================] - 1s 17ms/step - loss: 0.2822 - accuracy: 0.8706 - val_loss: 0.4385 - val_accuracy: 0.8250 - lr: 1.0000e-04\n",
            "Epoch 28/100\n",
            "67/68 [============================>.] - ETA: 0s - loss: 0.2945 - accuracy: 0.8657"
          ]
        },
        {
          "output_type": "stream",
          "name": "stderr",
          "text": [
            "WARNING:tensorflow:Can save best model only with val_acc available, skipping.\n",
            "WARNING:tensorflow:Learning rate reduction is conditioned on metric `val_acc` which is not available. Available metrics are: loss,accuracy,val_loss,val_accuracy,lr\n"
          ]
        },
        {
          "output_type": "stream",
          "name": "stdout",
          "text": [
            "\b\b\b\b\b\b\b\b\b\b\b\b\b\b\b\b\b\b\b\b\b\b\b\b\b\b\b\b\b\b\b\b\b\b\b\b\b\b\b\b\b\b\b\b\b\b\b\b\b\b\b\b\b\b\b\b\b\b\b\b\b\b\b\b\b\b\b\b\b\b\b\b\b\b\b\b\b\b\b\b\b\b\r68/68 [==============================] - 1s 17ms/step - loss: 0.2950 - accuracy: 0.8647 - val_loss: 0.4501 - val_accuracy: 0.7750 - lr: 1.0000e-04\n",
            "Epoch 29/100\n",
            "67/68 [============================>.] - ETA: 0s - loss: 0.2852 - accuracy: 0.8612"
          ]
        },
        {
          "output_type": "stream",
          "name": "stderr",
          "text": [
            "WARNING:tensorflow:Can save best model only with val_acc available, skipping.\n",
            "WARNING:tensorflow:Learning rate reduction is conditioned on metric `val_acc` which is not available. Available metrics are: loss,accuracy,val_loss,val_accuracy,lr\n"
          ]
        },
        {
          "output_type": "stream",
          "name": "stdout",
          "text": [
            "\b\b\b\b\b\b\b\b\b\b\b\b\b\b\b\b\b\b\b\b\b\b\b\b\b\b\b\b\b\b\b\b\b\b\b\b\b\b\b\b\b\b\b\b\b\b\b\b\b\b\b\b\b\b\b\b\b\b\b\b\b\b\b\b\b\b\b\b\b\b\b\b\b\b\b\b\b\b\b\b\b\b\r68/68 [==============================] - 1s 17ms/step - loss: 0.2851 - accuracy: 0.8618 - val_loss: 0.4910 - val_accuracy: 0.8000 - lr: 1.0000e-04\n",
            "Epoch 30/100\n",
            "66/68 [============================>.] - ETA: 0s - loss: 0.2756 - accuracy: 0.8773"
          ]
        },
        {
          "output_type": "stream",
          "name": "stderr",
          "text": [
            "WARNING:tensorflow:Can save best model only with val_acc available, skipping.\n",
            "WARNING:tensorflow:Learning rate reduction is conditioned on metric `val_acc` which is not available. Available metrics are: loss,accuracy,val_loss,val_accuracy,lr\n"
          ]
        },
        {
          "output_type": "stream",
          "name": "stdout",
          "text": [
            "\b\b\b\b\b\b\b\b\b\b\b\b\b\b\b\b\b\b\b\b\b\b\b\b\b\b\b\b\b\b\b\b\b\b\b\b\b\b\b\b\b\b\b\b\b\b\b\b\b\b\b\b\b\b\b\b\b\b\b\b\b\b\b\b\b\b\b\b\b\b\b\b\b\b\b\b\b\b\b\b\b\b\r68/68 [==============================] - 1s 17ms/step - loss: 0.2736 - accuracy: 0.8779 - val_loss: 0.4770 - val_accuracy: 0.7917 - lr: 1.0000e-04\n",
            "Epoch 31/100\n",
            "65/68 [===========================>..] - ETA: 0s - loss: 0.2976 - accuracy: 0.8554"
          ]
        },
        {
          "output_type": "stream",
          "name": "stderr",
          "text": [
            "WARNING:tensorflow:Can save best model only with val_acc available, skipping.\n",
            "WARNING:tensorflow:Learning rate reduction is conditioned on metric `val_acc` which is not available. Available metrics are: loss,accuracy,val_loss,val_accuracy,lr\n"
          ]
        },
        {
          "output_type": "stream",
          "name": "stdout",
          "text": [
            "\b\b\b\b\b\b\b\b\b\b\b\b\b\b\b\b\b\b\b\b\b\b\b\b\b\b\b\b\b\b\b\b\b\b\b\b\b\b\b\b\b\b\b\b\b\b\b\b\b\b\b\b\b\b\b\b\b\b\b\b\b\b\b\b\b\b\b\b\b\b\b\b\b\b\b\b\b\b\b\b\b\b\r68/68 [==============================] - 1s 17ms/step - loss: 0.2937 - accuracy: 0.8574 - val_loss: 0.4513 - val_accuracy: 0.8250 - lr: 1.0000e-04\n",
            "Epoch 32/100\n",
            "67/68 [============================>.] - ETA: 0s - loss: 0.2588 - accuracy: 0.8806"
          ]
        },
        {
          "output_type": "stream",
          "name": "stderr",
          "text": [
            "WARNING:tensorflow:Can save best model only with val_acc available, skipping.\n",
            "WARNING:tensorflow:Learning rate reduction is conditioned on metric `val_acc` which is not available. Available metrics are: loss,accuracy,val_loss,val_accuracy,lr\n"
          ]
        },
        {
          "output_type": "stream",
          "name": "stdout",
          "text": [
            "\b\b\b\b\b\b\b\b\b\b\b\b\b\b\b\b\b\b\b\b\b\b\b\b\b\b\b\b\b\b\b\b\b\b\b\b\b\b\b\b\b\b\b\b\b\b\b\b\b\b\b\b\b\b\b\b\b\b\b\b\b\b\b\b\b\b\b\b\b\b\b\b\b\b\b\b\b\b\b\b\b\b\r68/68 [==============================] - 1s 17ms/step - loss: 0.2593 - accuracy: 0.8794 - val_loss: 0.4434 - val_accuracy: 0.8083 - lr: 1.0000e-04\n",
            "Epoch 33/100\n",
            "65/68 [===========================>..] - ETA: 0s - loss: 0.2494 - accuracy: 0.8892"
          ]
        },
        {
          "output_type": "stream",
          "name": "stderr",
          "text": [
            "WARNING:tensorflow:Can save best model only with val_acc available, skipping.\n",
            "WARNING:tensorflow:Learning rate reduction is conditioned on metric `val_acc` which is not available. Available metrics are: loss,accuracy,val_loss,val_accuracy,lr\n"
          ]
        },
        {
          "output_type": "stream",
          "name": "stdout",
          "text": [
            "\b\b\b\b\b\b\b\b\b\b\b\b\b\b\b\b\b\b\b\b\b\b\b\b\b\b\b\b\b\b\b\b\b\b\b\b\b\b\b\b\b\b\b\b\b\b\b\b\b\b\b\b\b\b\b\b\b\b\b\b\b\b\b\b\b\b\b\b\b\b\b\b\b\b\b\b\b\b\b\b\b\b\r68/68 [==============================] - 1s 17ms/step - loss: 0.2489 - accuracy: 0.8882 - val_loss: 0.3900 - val_accuracy: 0.8250 - lr: 1.0000e-04\n",
            "Epoch 34/100\n",
            "66/68 [============================>.] - ETA: 0s - loss: 0.2881 - accuracy: 0.8727"
          ]
        },
        {
          "output_type": "stream",
          "name": "stderr",
          "text": [
            "WARNING:tensorflow:Can save best model only with val_acc available, skipping.\n",
            "WARNING:tensorflow:Learning rate reduction is conditioned on metric `val_acc` which is not available. Available metrics are: loss,accuracy,val_loss,val_accuracy,lr\n"
          ]
        },
        {
          "output_type": "stream",
          "name": "stdout",
          "text": [
            "\b\b\b\b\b\b\b\b\b\b\b\b\b\b\b\b\b\b\b\b\b\b\b\b\b\b\b\b\b\b\b\b\b\b\b\b\b\b\b\b\b\b\b\b\b\b\b\b\b\b\b\b\b\b\b\b\b\b\b\b\b\b\b\b\b\b\b\b\b\b\b\b\b\b\b\b\b\b\b\b\b\b\r68/68 [==============================] - 1s 18ms/step - loss: 0.2856 - accuracy: 0.8750 - val_loss: 0.4896 - val_accuracy: 0.7833 - lr: 1.0000e-04\n",
            "Epoch 35/100\n",
            "65/68 [===========================>..] - ETA: 0s - loss: 0.3158 - accuracy: 0.8585"
          ]
        },
        {
          "output_type": "stream",
          "name": "stderr",
          "text": [
            "WARNING:tensorflow:Can save best model only with val_acc available, skipping.\n",
            "WARNING:tensorflow:Learning rate reduction is conditioned on metric `val_acc` which is not available. Available metrics are: loss,accuracy,val_loss,val_accuracy,lr\n"
          ]
        },
        {
          "output_type": "stream",
          "name": "stdout",
          "text": [
            "\b\b\b\b\b\b\b\b\b\b\b\b\b\b\b\b\b\b\b\b\b\b\b\b\b\b\b\b\b\b\b\b\b\b\b\b\b\b\b\b\b\b\b\b\b\b\b\b\b\b\b\b\b\b\b\b\b\b\b\b\b\b\b\b\b\b\b\b\b\b\b\b\b\b\b\b\b\b\b\b\b\b\r68/68 [==============================] - 1s 17ms/step - loss: 0.3115 - accuracy: 0.8603 - val_loss: 0.4021 - val_accuracy: 0.8417 - lr: 1.0000e-04\n",
            "Epoch 36/100\n",
            "68/68 [==============================] - ETA: 0s - loss: 0.2578 - accuracy: 0.8882"
          ]
        },
        {
          "output_type": "stream",
          "name": "stderr",
          "text": [
            "WARNING:tensorflow:Can save best model only with val_acc available, skipping.\n",
            "WARNING:tensorflow:Learning rate reduction is conditioned on metric `val_acc` which is not available. Available metrics are: loss,accuracy,val_loss,val_accuracy,lr\n"
          ]
        },
        {
          "output_type": "stream",
          "name": "stdout",
          "text": [
            "\b\b\b\b\b\b\b\b\b\b\b\b\b\b\b\b\b\b\b\b\b\b\b\b\b\b\b\b\b\b\b\b\b\b\b\b\b\b\b\b\b\b\b\b\b\b\b\b\b\b\b\b\b\b\b\b\b\b\b\b\b\b\b\b\b\b\b\b\b\b\b\b\b\b\b\b\b\b\b\b\b\b\r68/68 [==============================] - 1s 17ms/step - loss: 0.2578 - accuracy: 0.8882 - val_loss: 0.4666 - val_accuracy: 0.8083 - lr: 1.0000e-04\n",
            "Epoch 37/100\n",
            "68/68 [==============================] - ETA: 0s - loss: 0.2509 - accuracy: 0.8912"
          ]
        },
        {
          "output_type": "stream",
          "name": "stderr",
          "text": [
            "WARNING:tensorflow:Can save best model only with val_acc available, skipping.\n",
            "WARNING:tensorflow:Learning rate reduction is conditioned on metric `val_acc` which is not available. Available metrics are: loss,accuracy,val_loss,val_accuracy,lr\n"
          ]
        },
        {
          "output_type": "stream",
          "name": "stdout",
          "text": [
            "\b\b\b\b\b\b\b\b\b\b\b\b\b\b\b\b\b\b\b\b\b\b\b\b\b\b\b\b\b\b\b\b\b\b\b\b\b\b\b\b\b\b\b\b\b\b\b\b\b\b\b\b\b\b\b\b\b\b\b\b\b\b\b\b\b\b\b\b\b\b\b\b\b\b\b\b\b\b\b\b\b\b\r68/68 [==============================] - 1s 17ms/step - loss: 0.2509 - accuracy: 0.8912 - val_loss: 0.4533 - val_accuracy: 0.7833 - lr: 1.0000e-04\n",
            "Epoch 38/100\n",
            "68/68 [==============================] - ETA: 0s - loss: 0.2897 - accuracy: 0.8809"
          ]
        },
        {
          "output_type": "stream",
          "name": "stderr",
          "text": [
            "WARNING:tensorflow:Can save best model only with val_acc available, skipping.\n",
            "WARNING:tensorflow:Learning rate reduction is conditioned on metric `val_acc` which is not available. Available metrics are: loss,accuracy,val_loss,val_accuracy,lr\n"
          ]
        },
        {
          "output_type": "stream",
          "name": "stdout",
          "text": [
            "\b\b\b\b\b\b\b\b\b\b\b\b\b\b\b\b\b\b\b\b\b\b\b\b\b\b\b\b\b\b\b\b\b\b\b\b\b\b\b\b\b\b\b\b\b\b\b\b\b\b\b\b\b\b\b\b\b\b\b\b\b\b\b\b\b\b\b\b\b\b\b\b\b\b\b\b\b\b\b\b\b\b\r68/68 [==============================] - 1s 17ms/step - loss: 0.2897 - accuracy: 0.8809 - val_loss: 0.4739 - val_accuracy: 0.8083 - lr: 1.0000e-04\n",
            "Epoch 39/100\n",
            "67/68 [============================>.] - ETA: 0s - loss: 0.2937 - accuracy: 0.8687"
          ]
        },
        {
          "output_type": "stream",
          "name": "stderr",
          "text": [
            "WARNING:tensorflow:Can save best model only with val_acc available, skipping.\n",
            "WARNING:tensorflow:Learning rate reduction is conditioned on metric `val_acc` which is not available. Available metrics are: loss,accuracy,val_loss,val_accuracy,lr\n"
          ]
        },
        {
          "output_type": "stream",
          "name": "stdout",
          "text": [
            "\b\b\b\b\b\b\b\b\b\b\b\b\b\b\b\b\b\b\b\b\b\b\b\b\b\b\b\b\b\b\b\b\b\b\b\b\b\b\b\b\b\b\b\b\b\b\b\b\b\b\b\b\b\b\b\b\b\b\b\b\b\b\b\b\b\b\b\b\b\b\b\b\b\b\b\b\b\b\b\b\b\b\r68/68 [==============================] - 1s 17ms/step - loss: 0.2936 - accuracy: 0.8691 - val_loss: 0.4110 - val_accuracy: 0.7667 - lr: 1.0000e-04\n",
            "Epoch 40/100\n",
            "68/68 [==============================] - ETA: 0s - loss: 0.2715 - accuracy: 0.8765"
          ]
        },
        {
          "output_type": "stream",
          "name": "stderr",
          "text": [
            "WARNING:tensorflow:Can save best model only with val_acc available, skipping.\n",
            "WARNING:tensorflow:Learning rate reduction is conditioned on metric `val_acc` which is not available. Available metrics are: loss,accuracy,val_loss,val_accuracy,lr\n"
          ]
        },
        {
          "output_type": "stream",
          "name": "stdout",
          "text": [
            "\b\b\b\b\b\b\b\b\b\b\b\b\b\b\b\b\b\b\b\b\b\b\b\b\b\b\b\b\b\b\b\b\b\b\b\b\b\b\b\b\b\b\b\b\b\b\b\b\b\b\b\b\b\b\b\b\b\b\b\b\b\b\b\b\b\b\b\b\b\b\b\b\b\b\b\b\b\b\b\b\b\b\r68/68 [==============================] - 1s 17ms/step - loss: 0.2715 - accuracy: 0.8765 - val_loss: 0.4603 - val_accuracy: 0.7833 - lr: 1.0000e-04\n",
            "Epoch 41/100\n",
            "68/68 [==============================] - ETA: 0s - loss: 0.2645 - accuracy: 0.8868"
          ]
        },
        {
          "output_type": "stream",
          "name": "stderr",
          "text": [
            "WARNING:tensorflow:Can save best model only with val_acc available, skipping.\n",
            "WARNING:tensorflow:Learning rate reduction is conditioned on metric `val_acc` which is not available. Available metrics are: loss,accuracy,val_loss,val_accuracy,lr\n"
          ]
        },
        {
          "output_type": "stream",
          "name": "stdout",
          "text": [
            "\b\b\b\b\b\b\b\b\b\b\b\b\b\b\b\b\b\b\b\b\b\b\b\b\b\b\b\b\b\b\b\b\b\b\b\b\b\b\b\b\b\b\b\b\b\b\b\b\b\b\b\b\b\b\b\b\b\b\b\b\b\b\b\b\b\b\b\b\b\b\b\b\b\b\b\b\b\b\b\b\b\b\r68/68 [==============================] - 1s 17ms/step - loss: 0.2645 - accuracy: 0.8868 - val_loss: 0.4341 - val_accuracy: 0.7833 - lr: 1.0000e-04\n",
            "Epoch 42/100\n",
            "67/68 [============================>.] - ETA: 0s - loss: 0.2852 - accuracy: 0.8731"
          ]
        },
        {
          "output_type": "stream",
          "name": "stderr",
          "text": [
            "WARNING:tensorflow:Can save best model only with val_acc available, skipping.\n",
            "WARNING:tensorflow:Learning rate reduction is conditioned on metric `val_acc` which is not available. Available metrics are: loss,accuracy,val_loss,val_accuracy,lr\n"
          ]
        },
        {
          "output_type": "stream",
          "name": "stdout",
          "text": [
            "\b\b\b\b\b\b\b\b\b\b\b\b\b\b\b\b\b\b\b\b\b\b\b\b\b\b\b\b\b\b\b\b\b\b\b\b\b\b\b\b\b\b\b\b\b\b\b\b\b\b\b\b\b\b\b\b\b\b\b\b\b\b\b\b\b\b\b\b\b\b\b\b\b\b\b\b\b\b\b\b\b\b\r68/68 [==============================] - 1s 17ms/step - loss: 0.2850 - accuracy: 0.8735 - val_loss: 0.4418 - val_accuracy: 0.8083 - lr: 1.0000e-04\n",
            "Epoch 43/100\n",
            "65/68 [===========================>..] - ETA: 0s - loss: 0.2437 - accuracy: 0.8877"
          ]
        },
        {
          "output_type": "stream",
          "name": "stderr",
          "text": [
            "WARNING:tensorflow:Can save best model only with val_acc available, skipping.\n",
            "WARNING:tensorflow:Learning rate reduction is conditioned on metric `val_acc` which is not available. Available metrics are: loss,accuracy,val_loss,val_accuracy,lr\n"
          ]
        },
        {
          "output_type": "stream",
          "name": "stdout",
          "text": [
            "\b\b\b\b\b\b\b\b\b\b\b\b\b\b\b\b\b\b\b\b\b\b\b\b\b\b\b\b\b\b\b\b\b\b\b\b\b\b\b\b\b\b\b\b\b\b\b\b\b\b\b\b\b\b\b\b\b\b\b\b\b\b\b\b\b\b\b\b\b\b\b\b\b\b\b\b\b\b\b\b\b\b\r68/68 [==============================] - 1s 17ms/step - loss: 0.2485 - accuracy: 0.8868 - val_loss: 0.4667 - val_accuracy: 0.8167 - lr: 1.0000e-04\n",
            "Epoch 44/100\n",
            "67/68 [============================>.] - ETA: 0s - loss: 0.2800 - accuracy: 0.8701"
          ]
        },
        {
          "output_type": "stream",
          "name": "stderr",
          "text": [
            "WARNING:tensorflow:Can save best model only with val_acc available, skipping.\n",
            "WARNING:tensorflow:Learning rate reduction is conditioned on metric `val_acc` which is not available. Available metrics are: loss,accuracy,val_loss,val_accuracy,lr\n"
          ]
        },
        {
          "output_type": "stream",
          "name": "stdout",
          "text": [
            "\b\b\b\b\b\b\b\b\b\b\b\b\b\b\b\b\b\b\b\b\b\b\b\b\b\b\b\b\b\b\b\b\b\b\b\b\b\b\b\b\b\b\b\b\b\b\b\b\b\b\b\b\b\b\b\b\b\b\b\b\b\b\b\b\b\b\b\b\b\b\b\b\b\b\b\b\b\b\b\b\b\b\r68/68 [==============================] - 1s 17ms/step - loss: 0.2780 - accuracy: 0.8706 - val_loss: 0.4501 - val_accuracy: 0.8167 - lr: 1.0000e-04\n",
            "Epoch 45/100\n",
            "68/68 [==============================] - ETA: 0s - loss: 0.2364 - accuracy: 0.8926"
          ]
        },
        {
          "output_type": "stream",
          "name": "stderr",
          "text": [
            "WARNING:tensorflow:Can save best model only with val_acc available, skipping.\n",
            "WARNING:tensorflow:Learning rate reduction is conditioned on metric `val_acc` which is not available. Available metrics are: loss,accuracy,val_loss,val_accuracy,lr\n"
          ]
        },
        {
          "output_type": "stream",
          "name": "stdout",
          "text": [
            "\b\b\b\b\b\b\b\b\b\b\b\b\b\b\b\b\b\b\b\b\b\b\b\b\b\b\b\b\b\b\b\b\b\b\b\b\b\b\b\b\b\b\b\b\b\b\b\b\b\b\b\b\b\b\b\b\b\b\b\b\b\b\b\b\b\b\b\b\b\b\b\b\b\b\b\b\b\b\b\b\b\b\r68/68 [==============================] - 1s 17ms/step - loss: 0.2364 - accuracy: 0.8926 - val_loss: 0.4871 - val_accuracy: 0.8000 - lr: 1.0000e-04\n",
            "Epoch 46/100\n",
            "66/68 [============================>.] - ETA: 0s - loss: 0.2645 - accuracy: 0.8803"
          ]
        },
        {
          "output_type": "stream",
          "name": "stderr",
          "text": [
            "WARNING:tensorflow:Can save best model only with val_acc available, skipping.\n",
            "WARNING:tensorflow:Learning rate reduction is conditioned on metric `val_acc` which is not available. Available metrics are: loss,accuracy,val_loss,val_accuracy,lr\n"
          ]
        },
        {
          "output_type": "stream",
          "name": "stdout",
          "text": [
            "\b\b\b\b\b\b\b\b\b\b\b\b\b\b\b\b\b\b\b\b\b\b\b\b\b\b\b\b\b\b\b\b\b\b\b\b\b\b\b\b\b\b\b\b\b\b\b\b\b\b\b\b\b\b\b\b\b\b\b\b\b\b\b\b\b\b\b\b\b\b\b\b\b\b\b\b\b\b\b\b\b\b\r68/68 [==============================] - 1s 17ms/step - loss: 0.2605 - accuracy: 0.8809 - val_loss: 0.5384 - val_accuracy: 0.7583 - lr: 1.0000e-04\n",
            "Epoch 47/100\n",
            "65/68 [===========================>..] - ETA: 0s - loss: 0.2511 - accuracy: 0.8892"
          ]
        },
        {
          "output_type": "stream",
          "name": "stderr",
          "text": [
            "WARNING:tensorflow:Can save best model only with val_acc available, skipping.\n",
            "WARNING:tensorflow:Learning rate reduction is conditioned on metric `val_acc` which is not available. Available metrics are: loss,accuracy,val_loss,val_accuracy,lr\n"
          ]
        },
        {
          "output_type": "stream",
          "name": "stdout",
          "text": [
            "\b\b\b\b\b\b\b\b\b\b\b\b\b\b\b\b\b\b\b\b\b\b\b\b\b\b\b\b\b\b\b\b\b\b\b\b\b\b\b\b\b\b\b\b\b\b\b\b\b\b\b\b\b\b\b\b\b\b\b\b\b\b\b\b\b\b\b\b\b\b\b\b\b\b\b\b\b\b\b\b\b\b\r68/68 [==============================] - 1s 17ms/step - loss: 0.2520 - accuracy: 0.8882 - val_loss: 0.5575 - val_accuracy: 0.8000 - lr: 1.0000e-04\n",
            "Epoch 48/100\n",
            "68/68 [==============================] - ETA: 0s - loss: 0.2368 - accuracy: 0.8912"
          ]
        },
        {
          "output_type": "stream",
          "name": "stderr",
          "text": [
            "WARNING:tensorflow:Can save best model only with val_acc available, skipping.\n",
            "WARNING:tensorflow:Learning rate reduction is conditioned on metric `val_acc` which is not available. Available metrics are: loss,accuracy,val_loss,val_accuracy,lr\n"
          ]
        },
        {
          "output_type": "stream",
          "name": "stdout",
          "text": [
            "\b\b\b\b\b\b\b\b\b\b\b\b\b\b\b\b\b\b\b\b\b\b\b\b\b\b\b\b\b\b\b\b\b\b\b\b\b\b\b\b\b\b\b\b\b\b\b\b\b\b\b\b\b\b\b\b\b\b\b\b\b\b\b\b\b\b\b\b\b\b\b\b\b\b\b\b\b\b\b\b\b\b\r68/68 [==============================] - 1s 17ms/step - loss: 0.2368 - accuracy: 0.8912 - val_loss: 0.4468 - val_accuracy: 0.8250 - lr: 1.0000e-04\n",
            "Epoch 49/100\n",
            "66/68 [============================>.] - ETA: 0s - loss: 0.2550 - accuracy: 0.9091"
          ]
        },
        {
          "output_type": "stream",
          "name": "stderr",
          "text": [
            "WARNING:tensorflow:Can save best model only with val_acc available, skipping.\n",
            "WARNING:tensorflow:Learning rate reduction is conditioned on metric `val_acc` which is not available. Available metrics are: loss,accuracy,val_loss,val_accuracy,lr\n"
          ]
        },
        {
          "output_type": "stream",
          "name": "stdout",
          "text": [
            "\b\b\b\b\b\b\b\b\b\b\b\b\b\b\b\b\b\b\b\b\b\b\b\b\b\b\b\b\b\b\b\b\b\b\b\b\b\b\b\b\b\b\b\b\b\b\b\b\b\b\b\b\b\b\b\b\b\b\b\b\b\b\b\b\b\b\b\b\b\b\b\b\b\b\b\b\b\b\b\b\b\b\r68/68 [==============================] - 1s 18ms/step - loss: 0.2556 - accuracy: 0.9059 - val_loss: 0.5484 - val_accuracy: 0.7667 - lr: 1.0000e-04\n",
            "Epoch 50/100\n",
            "68/68 [==============================] - ETA: 0s - loss: 0.2322 - accuracy: 0.9059"
          ]
        },
        {
          "output_type": "stream",
          "name": "stderr",
          "text": [
            "WARNING:tensorflow:Can save best model only with val_acc available, skipping.\n",
            "WARNING:tensorflow:Learning rate reduction is conditioned on metric `val_acc` which is not available. Available metrics are: loss,accuracy,val_loss,val_accuracy,lr\n"
          ]
        },
        {
          "output_type": "stream",
          "name": "stdout",
          "text": [
            "\b\b\b\b\b\b\b\b\b\b\b\b\b\b\b\b\b\b\b\b\b\b\b\b\b\b\b\b\b\b\b\b\b\b\b\b\b\b\b\b\b\b\b\b\b\b\b\b\b\b\b\b\b\b\b\b\b\b\b\b\b\b\b\b\b\b\b\b\b\b\b\b\b\b\b\b\b\b\b\b\b\b\r68/68 [==============================] - 1s 17ms/step - loss: 0.2322 - accuracy: 0.9059 - val_loss: 0.4299 - val_accuracy: 0.8000 - lr: 1.0000e-04\n",
            "Epoch 51/100\n",
            "68/68 [==============================] - ETA: 0s - loss: 0.2658 - accuracy: 0.8794"
          ]
        },
        {
          "output_type": "stream",
          "name": "stderr",
          "text": [
            "WARNING:tensorflow:Can save best model only with val_acc available, skipping.\n",
            "WARNING:tensorflow:Learning rate reduction is conditioned on metric `val_acc` which is not available. Available metrics are: loss,accuracy,val_loss,val_accuracy,lr\n"
          ]
        },
        {
          "output_type": "stream",
          "name": "stdout",
          "text": [
            "\b\b\b\b\b\b\b\b\b\b\b\b\b\b\b\b\b\b\b\b\b\b\b\b\b\b\b\b\b\b\b\b\b\b\b\b\b\b\b\b\b\b\b\b\b\b\b\b\b\b\b\b\b\b\b\b\b\b\b\b\b\b\b\b\b\b\b\b\b\b\b\b\b\b\b\b\b\b\b\b\b\b\r68/68 [==============================] - 1s 17ms/step - loss: 0.2658 - accuracy: 0.8794 - val_loss: 0.5109 - val_accuracy: 0.8000 - lr: 1.0000e-04\n",
            "Epoch 52/100\n",
            "67/68 [============================>.] - ETA: 0s - loss: 0.2780 - accuracy: 0.8821"
          ]
        },
        {
          "output_type": "stream",
          "name": "stderr",
          "text": [
            "WARNING:tensorflow:Can save best model only with val_acc available, skipping.\n",
            "WARNING:tensorflow:Learning rate reduction is conditioned on metric `val_acc` which is not available. Available metrics are: loss,accuracy,val_loss,val_accuracy,lr\n"
          ]
        },
        {
          "output_type": "stream",
          "name": "stdout",
          "text": [
            "\b\b\b\b\b\b\b\b\b\b\b\b\b\b\b\b\b\b\b\b\b\b\b\b\b\b\b\b\b\b\b\b\b\b\b\b\b\b\b\b\b\b\b\b\b\b\b\b\b\b\b\b\b\b\b\b\b\b\b\b\b\b\b\b\b\b\b\b\b\b\b\b\b\b\b\b\b\b\b\b\b\b\r68/68 [==============================] - 1s 17ms/step - loss: 0.2778 - accuracy: 0.8838 - val_loss: 0.4914 - val_accuracy: 0.8083 - lr: 1.0000e-04\n",
            "Epoch 53/100\n",
            "65/68 [===========================>..] - ETA: 0s - loss: 0.2574 - accuracy: 0.8769"
          ]
        },
        {
          "output_type": "stream",
          "name": "stderr",
          "text": [
            "WARNING:tensorflow:Can save best model only with val_acc available, skipping.\n",
            "WARNING:tensorflow:Learning rate reduction is conditioned on metric `val_acc` which is not available. Available metrics are: loss,accuracy,val_loss,val_accuracy,lr\n"
          ]
        },
        {
          "output_type": "stream",
          "name": "stdout",
          "text": [
            "\b\b\b\b\b\b\b\b\b\b\b\b\b\b\b\b\b\b\b\b\b\b\b\b\b\b\b\b\b\b\b\b\b\b\b\b\b\b\b\b\b\b\b\b\b\b\b\b\b\b\b\b\b\b\b\b\b\b\b\b\b\b\b\b\b\b\b\b\b\b\b\b\b\b\b\b\b\b\b\b\b\b\r68/68 [==============================] - 1s 17ms/step - loss: 0.2600 - accuracy: 0.8765 - val_loss: 0.4621 - val_accuracy: 0.7833 - lr: 1.0000e-04\n",
            "Epoch 54/100\n",
            "68/68 [==============================] - ETA: 0s - loss: 0.2472 - accuracy: 0.8941"
          ]
        },
        {
          "output_type": "stream",
          "name": "stderr",
          "text": [
            "WARNING:tensorflow:Can save best model only with val_acc available, skipping.\n",
            "WARNING:tensorflow:Learning rate reduction is conditioned on metric `val_acc` which is not available. Available metrics are: loss,accuracy,val_loss,val_accuracy,lr\n"
          ]
        },
        {
          "output_type": "stream",
          "name": "stdout",
          "text": [
            "\b\b\b\b\b\b\b\b\b\b\b\b\b\b\b\b\b\b\b\b\b\b\b\b\b\b\b\b\b\b\b\b\b\b\b\b\b\b\b\b\b\b\b\b\b\b\b\b\b\b\b\b\b\b\b\b\b\b\b\b\b\b\b\b\b\b\b\b\b\b\b\b\b\b\b\b\b\b\b\b\b\b\r68/68 [==============================] - 1s 17ms/step - loss: 0.2472 - accuracy: 0.8941 - val_loss: 0.5476 - val_accuracy: 0.7917 - lr: 1.0000e-04\n",
            "Epoch 55/100\n",
            "67/68 [============================>.] - ETA: 0s - loss: 0.2024 - accuracy: 0.9164"
          ]
        },
        {
          "output_type": "stream",
          "name": "stderr",
          "text": [
            "WARNING:tensorflow:Can save best model only with val_acc available, skipping.\n",
            "WARNING:tensorflow:Learning rate reduction is conditioned on metric `val_acc` which is not available. Available metrics are: loss,accuracy,val_loss,val_accuracy,lr\n"
          ]
        },
        {
          "output_type": "stream",
          "name": "stdout",
          "text": [
            "\b\b\b\b\b\b\b\b\b\b\b\b\b\b\b\b\b\b\b\b\b\b\b\b\b\b\b\b\b\b\b\b\b\b\b\b\b\b\b\b\b\b\b\b\b\b\b\b\b\b\b\b\b\b\b\b\b\b\b\b\b\b\b\b\b\b\b\b\b\b\b\b\b\b\b\b\b\b\b\b\b\b\r68/68 [==============================] - 1s 17ms/step - loss: 0.2021 - accuracy: 0.9162 - val_loss: 0.4767 - val_accuracy: 0.8167 - lr: 1.0000e-04\n",
            "Epoch 56/100\n",
            "68/68 [==============================] - ETA: 0s - loss: 0.2468 - accuracy: 0.9015"
          ]
        },
        {
          "output_type": "stream",
          "name": "stderr",
          "text": [
            "WARNING:tensorflow:Can save best model only with val_acc available, skipping.\n",
            "WARNING:tensorflow:Learning rate reduction is conditioned on metric `val_acc` which is not available. Available metrics are: loss,accuracy,val_loss,val_accuracy,lr\n"
          ]
        },
        {
          "output_type": "stream",
          "name": "stdout",
          "text": [
            "\b\b\b\b\b\b\b\b\b\b\b\b\b\b\b\b\b\b\b\b\b\b\b\b\b\b\b\b\b\b\b\b\b\b\b\b\b\b\b\b\b\b\b\b\b\b\b\b\b\b\b\b\b\b\b\b\b\b\b\b\b\b\b\b\b\b\b\b\b\b\b\b\b\b\b\b\b\b\b\b\b\b\r68/68 [==============================] - 1s 17ms/step - loss: 0.2468 - accuracy: 0.9015 - val_loss: 0.4972 - val_accuracy: 0.7750 - lr: 1.0000e-04\n",
            "Epoch 57/100\n",
            "68/68 [==============================] - ETA: 0s - loss: 0.2608 - accuracy: 0.8897"
          ]
        },
        {
          "output_type": "stream",
          "name": "stderr",
          "text": [
            "WARNING:tensorflow:Can save best model only with val_acc available, skipping.\n",
            "WARNING:tensorflow:Learning rate reduction is conditioned on metric `val_acc` which is not available. Available metrics are: loss,accuracy,val_loss,val_accuracy,lr\n"
          ]
        },
        {
          "output_type": "stream",
          "name": "stdout",
          "text": [
            "\b\b\b\b\b\b\b\b\b\b\b\b\b\b\b\b\b\b\b\b\b\b\b\b\b\b\b\b\b\b\b\b\b\b\b\b\b\b\b\b\b\b\b\b\b\b\b\b\b\b\b\b\b\b\b\b\b\b\b\b\b\b\b\b\b\b\b\b\b\b\b\b\b\b\b\b\b\b\b\b\b\b\r68/68 [==============================] - 1s 17ms/step - loss: 0.2608 - accuracy: 0.8897 - val_loss: 0.5179 - val_accuracy: 0.7917 - lr: 1.0000e-04\n",
            "Epoch 58/100\n",
            "67/68 [============================>.] - ETA: 0s - loss: 0.2231 - accuracy: 0.9104"
          ]
        },
        {
          "output_type": "stream",
          "name": "stderr",
          "text": [
            "WARNING:tensorflow:Can save best model only with val_acc available, skipping.\n",
            "WARNING:tensorflow:Learning rate reduction is conditioned on metric `val_acc` which is not available. Available metrics are: loss,accuracy,val_loss,val_accuracy,lr\n"
          ]
        },
        {
          "output_type": "stream",
          "name": "stdout",
          "text": [
            "\b\b\b\b\b\b\b\b\b\b\b\b\b\b\b\b\b\b\b\b\b\b\b\b\b\b\b\b\b\b\b\b\b\b\b\b\b\b\b\b\b\b\b\b\b\b\b\b\b\b\b\b\b\b\b\b\b\b\b\b\b\b\b\b\b\b\b\b\b\b\b\b\b\b\b\b\b\b\b\b\b\b\r68/68 [==============================] - 1s 17ms/step - loss: 0.2213 - accuracy: 0.9118 - val_loss: 0.5001 - val_accuracy: 0.7917 - lr: 1.0000e-04\n",
            "Epoch 59/100\n",
            "65/68 [===========================>..] - ETA: 0s - loss: 0.2475 - accuracy: 0.8938"
          ]
        },
        {
          "output_type": "stream",
          "name": "stderr",
          "text": [
            "WARNING:tensorflow:Can save best model only with val_acc available, skipping.\n",
            "WARNING:tensorflow:Learning rate reduction is conditioned on metric `val_acc` which is not available. Available metrics are: loss,accuracy,val_loss,val_accuracy,lr\n"
          ]
        },
        {
          "output_type": "stream",
          "name": "stdout",
          "text": [
            "\b\b\b\b\b\b\b\b\b\b\b\b\b\b\b\b\b\b\b\b\b\b\b\b\b\b\b\b\b\b\b\b\b\b\b\b\b\b\b\b\b\b\b\b\b\b\b\b\b\b\b\b\b\b\b\b\b\b\b\b\b\b\b\b\b\b\b\b\b\b\b\b\b\b\b\b\b\b\b\b\b\b\r68/68 [==============================] - 1s 18ms/step - loss: 0.2456 - accuracy: 0.8941 - val_loss: 0.5110 - val_accuracy: 0.7833 - lr: 1.0000e-04\n",
            "Epoch 60/100\n",
            "68/68 [==============================] - ETA: 0s - loss: 0.2573 - accuracy: 0.8926"
          ]
        },
        {
          "output_type": "stream",
          "name": "stderr",
          "text": [
            "WARNING:tensorflow:Can save best model only with val_acc available, skipping.\n",
            "WARNING:tensorflow:Learning rate reduction is conditioned on metric `val_acc` which is not available. Available metrics are: loss,accuracy,val_loss,val_accuracy,lr\n"
          ]
        },
        {
          "output_type": "stream",
          "name": "stdout",
          "text": [
            "\b\b\b\b\b\b\b\b\b\b\b\b\b\b\b\b\b\b\b\b\b\b\b\b\b\b\b\b\b\b\b\b\b\b\b\b\b\b\b\b\b\b\b\b\b\b\b\b\b\b\b\b\b\b\b\b\b\b\b\b\b\b\b\b\b\b\b\b\b\b\b\b\b\b\b\b\b\b\b\b\b\b\r68/68 [==============================] - 1s 17ms/step - loss: 0.2573 - accuracy: 0.8926 - val_loss: 0.4439 - val_accuracy: 0.7917 - lr: 1.0000e-04\n",
            "Epoch 61/100\n",
            "68/68 [==============================] - ETA: 0s - loss: 0.2316 - accuracy: 0.8912"
          ]
        },
        {
          "output_type": "stream",
          "name": "stderr",
          "text": [
            "WARNING:tensorflow:Can save best model only with val_acc available, skipping.\n",
            "WARNING:tensorflow:Learning rate reduction is conditioned on metric `val_acc` which is not available. Available metrics are: loss,accuracy,val_loss,val_accuracy,lr\n"
          ]
        },
        {
          "output_type": "stream",
          "name": "stdout",
          "text": [
            "\b\b\b\b\b\b\b\b\b\b\b\b\b\b\b\b\b\b\b\b\b\b\b\b\b\b\b\b\b\b\b\b\b\b\b\b\b\b\b\b\b\b\b\b\b\b\b\b\b\b\b\b\b\b\b\b\b\b\b\b\b\b\b\b\b\b\b\b\b\b\b\b\b\b\b\b\b\b\b\b\b\b\r68/68 [==============================] - 1s 17ms/step - loss: 0.2316 - accuracy: 0.8912 - val_loss: 0.5344 - val_accuracy: 0.7833 - lr: 1.0000e-04\n",
            "Epoch 62/100\n",
            "67/68 [============================>.] - ETA: 0s - loss: 0.2236 - accuracy: 0.8910"
          ]
        },
        {
          "output_type": "stream",
          "name": "stderr",
          "text": [
            "WARNING:tensorflow:Can save best model only with val_acc available, skipping.\n",
            "WARNING:tensorflow:Learning rate reduction is conditioned on metric `val_acc` which is not available. Available metrics are: loss,accuracy,val_loss,val_accuracy,lr\n"
          ]
        },
        {
          "output_type": "stream",
          "name": "stdout",
          "text": [
            "\b\b\b\b\b\b\b\b\b\b\b\b\b\b\b\b\b\b\b\b\b\b\b\b\b\b\b\b\b\b\b\b\b\b\b\b\b\b\b\b\b\b\b\b\b\b\b\b\b\b\b\b\b\b\b\b\b\b\b\b\b\b\b\b\b\b\b\b\b\b\b\b\b\b\b\b\b\b\b\b\b\b\r68/68 [==============================] - 1s 17ms/step - loss: 0.2226 - accuracy: 0.8912 - val_loss: 0.5232 - val_accuracy: 0.7667 - lr: 1.0000e-04\n",
            "Epoch 63/100\n",
            "67/68 [============================>.] - ETA: 0s - loss: 0.2200 - accuracy: 0.9104"
          ]
        },
        {
          "output_type": "stream",
          "name": "stderr",
          "text": [
            "WARNING:tensorflow:Can save best model only with val_acc available, skipping.\n",
            "WARNING:tensorflow:Learning rate reduction is conditioned on metric `val_acc` which is not available. Available metrics are: loss,accuracy,val_loss,val_accuracy,lr\n"
          ]
        },
        {
          "output_type": "stream",
          "name": "stdout",
          "text": [
            "\b\b\b\b\b\b\b\b\b\b\b\b\b\b\b\b\b\b\b\b\b\b\b\b\b\b\b\b\b\b\b\b\b\b\b\b\b\b\b\b\b\b\b\b\b\b\b\b\b\b\b\b\b\b\b\b\b\b\b\b\b\b\b\b\b\b\b\b\b\b\b\b\b\b\b\b\b\b\b\b\b\b\r68/68 [==============================] - 1s 17ms/step - loss: 0.2293 - accuracy: 0.9088 - val_loss: 0.7324 - val_accuracy: 0.6917 - lr: 1.0000e-04\n",
            "Epoch 64/100\n",
            "68/68 [==============================] - ETA: 0s - loss: 0.2452 - accuracy: 0.8985"
          ]
        },
        {
          "output_type": "stream",
          "name": "stderr",
          "text": [
            "WARNING:tensorflow:Can save best model only with val_acc available, skipping.\n",
            "WARNING:tensorflow:Learning rate reduction is conditioned on metric `val_acc` which is not available. Available metrics are: loss,accuracy,val_loss,val_accuracy,lr\n"
          ]
        },
        {
          "output_type": "stream",
          "name": "stdout",
          "text": [
            "\b\b\b\b\b\b\b\b\b\b\b\b\b\b\b\b\b\b\b\b\b\b\b\b\b\b\b\b\b\b\b\b\b\b\b\b\b\b\b\b\b\b\b\b\b\b\b\b\b\b\b\b\b\b\b\b\b\b\b\b\b\b\b\b\b\b\b\b\b\b\b\b\b\b\b\b\b\b\b\b\b\b\r68/68 [==============================] - 1s 17ms/step - loss: 0.2452 - accuracy: 0.8985 - val_loss: 0.4560 - val_accuracy: 0.8000 - lr: 1.0000e-04\n",
            "Epoch 65/100\n",
            "67/68 [============================>.] - ETA: 0s - loss: 0.2265 - accuracy: 0.9075"
          ]
        },
        {
          "output_type": "stream",
          "name": "stderr",
          "text": [
            "WARNING:tensorflow:Can save best model only with val_acc available, skipping.\n",
            "WARNING:tensorflow:Learning rate reduction is conditioned on metric `val_acc` which is not available. Available metrics are: loss,accuracy,val_loss,val_accuracy,lr\n"
          ]
        },
        {
          "output_type": "stream",
          "name": "stdout",
          "text": [
            "\b\b\b\b\b\b\b\b\b\b\b\b\b\b\b\b\b\b\b\b\b\b\b\b\b\b\b\b\b\b\b\b\b\b\b\b\b\b\b\b\b\b\b\b\b\b\b\b\b\b\b\b\b\b\b\b\b\b\b\b\b\b\b\b\b\b\b\b\b\b\b\b\b\b\b\b\b\b\b\b\b\b\r68/68 [==============================] - 1s 17ms/step - loss: 0.2284 - accuracy: 0.9074 - val_loss: 0.4229 - val_accuracy: 0.8083 - lr: 1.0000e-04\n",
            "Epoch 66/100\n",
            "67/68 [============================>.] - ETA: 0s - loss: 0.2286 - accuracy: 0.9060"
          ]
        },
        {
          "output_type": "stream",
          "name": "stderr",
          "text": [
            "WARNING:tensorflow:Can save best model only with val_acc available, skipping.\n",
            "WARNING:tensorflow:Learning rate reduction is conditioned on metric `val_acc` which is not available. Available metrics are: loss,accuracy,val_loss,val_accuracy,lr\n"
          ]
        },
        {
          "output_type": "stream",
          "name": "stdout",
          "text": [
            "\b\b\b\b\b\b\b\b\b\b\b\b\b\b\b\b\b\b\b\b\b\b\b\b\b\b\b\b\b\b\b\b\b\b\b\b\b\b\b\b\b\b\b\b\b\b\b\b\b\b\b\b\b\b\b\b\b\b\b\b\b\b\b\b\b\b\b\b\b\b\b\b\b\b\b\b\b\b\b\b\b\b\r68/68 [==============================] - 1s 17ms/step - loss: 0.2297 - accuracy: 0.9044 - val_loss: 0.4364 - val_accuracy: 0.8000 - lr: 1.0000e-04\n",
            "Epoch 67/100\n",
            "65/68 [===========================>..] - ETA: 0s - loss: 0.1894 - accuracy: 0.9262"
          ]
        },
        {
          "output_type": "stream",
          "name": "stderr",
          "text": [
            "WARNING:tensorflow:Can save best model only with val_acc available, skipping.\n",
            "WARNING:tensorflow:Learning rate reduction is conditioned on metric `val_acc` which is not available. Available metrics are: loss,accuracy,val_loss,val_accuracy,lr\n"
          ]
        },
        {
          "output_type": "stream",
          "name": "stdout",
          "text": [
            "\b\b\b\b\b\b\b\b\b\b\b\b\b\b\b\b\b\b\b\b\b\b\b\b\b\b\b\b\b\b\b\b\b\b\b\b\b\b\b\b\b\b\b\b\b\b\b\b\b\b\b\b\b\b\b\b\b\b\b\b\b\b\b\b\b\b\b\b\b\b\b\b\b\b\b\b\b\b\b\b\b\b\r68/68 [==============================] - 1s 17ms/step - loss: 0.1981 - accuracy: 0.9221 - val_loss: 0.5419 - val_accuracy: 0.7833 - lr: 1.0000e-04\n",
            "Epoch 68/100\n",
            "67/68 [============================>.] - ETA: 0s - loss: 0.2693 - accuracy: 0.8896"
          ]
        },
        {
          "output_type": "stream",
          "name": "stderr",
          "text": [
            "WARNING:tensorflow:Can save best model only with val_acc available, skipping.\n",
            "WARNING:tensorflow:Learning rate reduction is conditioned on metric `val_acc` which is not available. Available metrics are: loss,accuracy,val_loss,val_accuracy,lr\n"
          ]
        },
        {
          "output_type": "stream",
          "name": "stdout",
          "text": [
            "\b\b\b\b\b\b\b\b\b\b\b\b\b\b\b\b\b\b\b\b\b\b\b\b\b\b\b\b\b\b\b\b\b\b\b\b\b\b\b\b\b\b\b\b\b\b\b\b\b\b\b\b\b\b\b\b\b\b\b\b\b\b\b\b\b\b\b\b\b\b\b\b\b\b\b\b\b\b\b\b\b\b\r68/68 [==============================] - 1s 17ms/step - loss: 0.2670 - accuracy: 0.8912 - val_loss: 0.4973 - val_accuracy: 0.7833 - lr: 1.0000e-04\n",
            "Epoch 69/100\n",
            "67/68 [============================>.] - ETA: 0s - loss: 0.2326 - accuracy: 0.8985"
          ]
        },
        {
          "output_type": "stream",
          "name": "stderr",
          "text": [
            "WARNING:tensorflow:Can save best model only with val_acc available, skipping.\n",
            "WARNING:tensorflow:Learning rate reduction is conditioned on metric `val_acc` which is not available. Available metrics are: loss,accuracy,val_loss,val_accuracy,lr\n"
          ]
        },
        {
          "output_type": "stream",
          "name": "stdout",
          "text": [
            "\b\b\b\b\b\b\b\b\b\b\b\b\b\b\b\b\b\b\b\b\b\b\b\b\b\b\b\b\b\b\b\b\b\b\b\b\b\b\b\b\b\b\b\b\b\b\b\b\b\b\b\b\b\b\b\b\b\b\b\b\b\b\b\b\b\b\b\b\b\b\b\b\b\b\b\b\b\b\b\b\b\b\r68/68 [==============================] - 1s 18ms/step - loss: 0.2314 - accuracy: 0.8985 - val_loss: 0.4886 - val_accuracy: 0.7750 - lr: 1.0000e-04\n",
            "Epoch 70/100\n",
            "67/68 [============================>.] - ETA: 0s - loss: 0.2416 - accuracy: 0.9075"
          ]
        },
        {
          "output_type": "stream",
          "name": "stderr",
          "text": [
            "WARNING:tensorflow:Can save best model only with val_acc available, skipping.\n",
            "WARNING:tensorflow:Learning rate reduction is conditioned on metric `val_acc` which is not available. Available metrics are: loss,accuracy,val_loss,val_accuracy,lr\n"
          ]
        },
        {
          "output_type": "stream",
          "name": "stdout",
          "text": [
            "\b\b\b\b\b\b\b\b\b\b\b\b\b\b\b\b\b\b\b\b\b\b\b\b\b\b\b\b\b\b\b\b\b\b\b\b\b\b\b\b\b\b\b\b\b\b\b\b\b\b\b\b\b\b\b\b\b\b\b\b\b\b\b\b\b\b\b\b\b\b\b\b\b\b\b\b\b\b\b\b\b\b\r68/68 [==============================] - 1s 17ms/step - loss: 0.2412 - accuracy: 0.9074 - val_loss: 0.4752 - val_accuracy: 0.8000 - lr: 1.0000e-04\n",
            "Epoch 71/100\n",
            "67/68 [============================>.] - ETA: 0s - loss: 0.2502 - accuracy: 0.8955"
          ]
        },
        {
          "output_type": "stream",
          "name": "stderr",
          "text": [
            "WARNING:tensorflow:Can save best model only with val_acc available, skipping.\n",
            "WARNING:tensorflow:Learning rate reduction is conditioned on metric `val_acc` which is not available. Available metrics are: loss,accuracy,val_loss,val_accuracy,lr\n"
          ]
        },
        {
          "output_type": "stream",
          "name": "stdout",
          "text": [
            "\b\b\b\b\b\b\b\b\b\b\b\b\b\b\b\b\b\b\b\b\b\b\b\b\b\b\b\b\b\b\b\b\b\b\b\b\b\b\b\b\b\b\b\b\b\b\b\b\b\b\b\b\b\b\b\b\b\b\b\b\b\b\b\b\b\b\b\b\b\b\b\b\b\b\b\b\b\b\b\b\b\b\r68/68 [==============================] - 1s 17ms/step - loss: 0.2474 - accuracy: 0.8971 - val_loss: 0.4972 - val_accuracy: 0.7917 - lr: 1.0000e-04\n",
            "Epoch 72/100\n",
            "65/68 [===========================>..] - ETA: 0s - loss: 0.2329 - accuracy: 0.8923"
          ]
        },
        {
          "output_type": "stream",
          "name": "stderr",
          "text": [
            "WARNING:tensorflow:Can save best model only with val_acc available, skipping.\n",
            "WARNING:tensorflow:Learning rate reduction is conditioned on metric `val_acc` which is not available. Available metrics are: loss,accuracy,val_loss,val_accuracy,lr\n"
          ]
        },
        {
          "output_type": "stream",
          "name": "stdout",
          "text": [
            "\b\b\b\b\b\b\b\b\b\b\b\b\b\b\b\b\b\b\b\b\b\b\b\b\b\b\b\b\b\b\b\b\b\b\b\b\b\b\b\b\b\b\b\b\b\b\b\b\b\b\b\b\b\b\b\b\b\b\b\b\b\b\b\b\b\b\b\b\b\b\b\b\b\b\b\b\b\b\b\b\b\b\r68/68 [==============================] - 1s 17ms/step - loss: 0.2305 - accuracy: 0.8956 - val_loss: 0.7312 - val_accuracy: 0.7500 - lr: 1.0000e-04\n",
            "Epoch 73/100\n",
            "67/68 [============================>.] - ETA: 0s - loss: 0.2183 - accuracy: 0.9119"
          ]
        },
        {
          "output_type": "stream",
          "name": "stderr",
          "text": [
            "WARNING:tensorflow:Can save best model only with val_acc available, skipping.\n",
            "WARNING:tensorflow:Learning rate reduction is conditioned on metric `val_acc` which is not available. Available metrics are: loss,accuracy,val_loss,val_accuracy,lr\n"
          ]
        },
        {
          "output_type": "stream",
          "name": "stdout",
          "text": [
            "\b\b\b\b\b\b\b\b\b\b\b\b\b\b\b\b\b\b\b\b\b\b\b\b\b\b\b\b\b\b\b\b\b\b\b\b\b\b\b\b\b\b\b\b\b\b\b\b\b\b\b\b\b\b\b\b\b\b\b\b\b\b\b\b\b\b\b\b\b\b\b\b\b\b\b\b\b\b\b\b\b\b\r68/68 [==============================] - 1s 18ms/step - loss: 0.2154 - accuracy: 0.9132 - val_loss: 0.6063 - val_accuracy: 0.8000 - lr: 1.0000e-04\n",
            "Epoch 74/100\n",
            "67/68 [============================>.] - ETA: 0s - loss: 0.2030 - accuracy: 0.9060"
          ]
        },
        {
          "output_type": "stream",
          "name": "stderr",
          "text": [
            "WARNING:tensorflow:Can save best model only with val_acc available, skipping.\n",
            "WARNING:tensorflow:Learning rate reduction is conditioned on metric `val_acc` which is not available. Available metrics are: loss,accuracy,val_loss,val_accuracy,lr\n"
          ]
        },
        {
          "output_type": "stream",
          "name": "stdout",
          "text": [
            "\b\b\b\b\b\b\b\b\b\b\b\b\b\b\b\b\b\b\b\b\b\b\b\b\b\b\b\b\b\b\b\b\b\b\b\b\b\b\b\b\b\b\b\b\b\b\b\b\b\b\b\b\b\b\b\b\b\b\b\b\b\b\b\b\b\b\b\b\b\b\b\b\b\b\b\b\b\b\b\b\b\b\r68/68 [==============================] - 1s 17ms/step - loss: 0.2014 - accuracy: 0.9059 - val_loss: 0.5634 - val_accuracy: 0.7500 - lr: 1.0000e-04\n",
            "Epoch 75/100\n",
            "67/68 [============================>.] - ETA: 0s - loss: 0.1786 - accuracy: 0.9269"
          ]
        },
        {
          "output_type": "stream",
          "name": "stderr",
          "text": [
            "WARNING:tensorflow:Can save best model only with val_acc available, skipping.\n",
            "WARNING:tensorflow:Learning rate reduction is conditioned on metric `val_acc` which is not available. Available metrics are: loss,accuracy,val_loss,val_accuracy,lr\n"
          ]
        },
        {
          "output_type": "stream",
          "name": "stdout",
          "text": [
            "\b\b\b\b\b\b\b\b\b\b\b\b\b\b\b\b\b\b\b\b\b\b\b\b\b\b\b\b\b\b\b\b\b\b\b\b\b\b\b\b\b\b\b\b\b\b\b\b\b\b\b\b\b\b\b\b\b\b\b\b\b\b\b\b\b\b\b\b\b\b\b\b\b\b\b\b\b\b\b\b\b\b\r68/68 [==============================] - 1s 17ms/step - loss: 0.1782 - accuracy: 0.9265 - val_loss: 0.4933 - val_accuracy: 0.8167 - lr: 1.0000e-04\n",
            "Epoch 76/100\n",
            "68/68 [==============================] - ETA: 0s - loss: 0.1801 - accuracy: 0.9250"
          ]
        },
        {
          "output_type": "stream",
          "name": "stderr",
          "text": [
            "WARNING:tensorflow:Can save best model only with val_acc available, skipping.\n",
            "WARNING:tensorflow:Learning rate reduction is conditioned on metric `val_acc` which is not available. Available metrics are: loss,accuracy,val_loss,val_accuracy,lr\n"
          ]
        },
        {
          "output_type": "stream",
          "name": "stdout",
          "text": [
            "\b\b\b\b\b\b\b\b\b\b\b\b\b\b\b\b\b\b\b\b\b\b\b\b\b\b\b\b\b\b\b\b\b\b\b\b\b\b\b\b\b\b\b\b\b\b\b\b\b\b\b\b\b\b\b\b\b\b\b\b\b\b\b\b\b\b\b\b\b\b\b\b\b\b\b\b\b\b\b\b\b\b\r68/68 [==============================] - 1s 17ms/step - loss: 0.1801 - accuracy: 0.9250 - val_loss: 0.5851 - val_accuracy: 0.8417 - lr: 1.0000e-04\n",
            "Epoch 77/100\n",
            "67/68 [============================>.] - ETA: 0s - loss: 0.1973 - accuracy: 0.9179"
          ]
        },
        {
          "output_type": "stream",
          "name": "stderr",
          "text": [
            "WARNING:tensorflow:Can save best model only with val_acc available, skipping.\n",
            "WARNING:tensorflow:Learning rate reduction is conditioned on metric `val_acc` which is not available. Available metrics are: loss,accuracy,val_loss,val_accuracy,lr\n"
          ]
        },
        {
          "output_type": "stream",
          "name": "stdout",
          "text": [
            "\b\b\b\b\b\b\b\b\b\b\b\b\b\b\b\b\b\b\b\b\b\b\b\b\b\b\b\b\b\b\b\b\b\b\b\b\b\b\b\b\b\b\b\b\b\b\b\b\b\b\b\b\b\b\b\b\b\b\b\b\b\b\b\b\b\b\b\b\b\b\b\b\b\b\b\b\b\b\b\b\b\b\r68/68 [==============================] - 1s 17ms/step - loss: 0.1954 - accuracy: 0.9191 - val_loss: 0.7502 - val_accuracy: 0.7583 - lr: 1.0000e-04\n",
            "Epoch 78/100\n",
            "68/68 [==============================] - ETA: 0s - loss: 0.1840 - accuracy: 0.9176"
          ]
        },
        {
          "output_type": "stream",
          "name": "stderr",
          "text": [
            "WARNING:tensorflow:Can save best model only with val_acc available, skipping.\n",
            "WARNING:tensorflow:Learning rate reduction is conditioned on metric `val_acc` which is not available. Available metrics are: loss,accuracy,val_loss,val_accuracy,lr\n"
          ]
        },
        {
          "output_type": "stream",
          "name": "stdout",
          "text": [
            "\b\b\b\b\b\b\b\b\b\b\b\b\b\b\b\b\b\b\b\b\b\b\b\b\b\b\b\b\b\b\b\b\b\b\b\b\b\b\b\b\b\b\b\b\b\b\b\b\b\b\b\b\b\b\b\b\b\b\b\b\b\b\b\b\b\b\b\b\b\b\b\b\b\b\b\b\b\b\b\b\b\b\r68/68 [==============================] - 1s 17ms/step - loss: 0.1840 - accuracy: 0.9176 - val_loss: 0.5772 - val_accuracy: 0.8000 - lr: 1.0000e-04\n",
            "Epoch 79/100\n",
            "66/68 [============================>.] - ETA: 0s - loss: 0.1513 - accuracy: 0.9288"
          ]
        },
        {
          "output_type": "stream",
          "name": "stderr",
          "text": [
            "WARNING:tensorflow:Can save best model only with val_acc available, skipping.\n",
            "WARNING:tensorflow:Learning rate reduction is conditioned on metric `val_acc` which is not available. Available metrics are: loss,accuracy,val_loss,val_accuracy,lr\n"
          ]
        },
        {
          "output_type": "stream",
          "name": "stdout",
          "text": [
            "\b\b\b\b\b\b\b\b\b\b\b\b\b\b\b\b\b\b\b\b\b\b\b\b\b\b\b\b\b\b\b\b\b\b\b\b\b\b\b\b\b\b\b\b\b\b\b\b\b\b\b\b\b\b\b\b\b\b\b\b\b\b\b\b\b\b\b\b\b\b\b\b\b\b\b\b\b\b\b\b\b\b\r68/68 [==============================] - 1s 17ms/step - loss: 0.1518 - accuracy: 0.9279 - val_loss: 0.6078 - val_accuracy: 0.7833 - lr: 1.0000e-04\n",
            "Epoch 80/100\n",
            "68/68 [==============================] - ETA: 0s - loss: 0.2193 - accuracy: 0.8971"
          ]
        },
        {
          "output_type": "stream",
          "name": "stderr",
          "text": [
            "WARNING:tensorflow:Can save best model only with val_acc available, skipping.\n",
            "WARNING:tensorflow:Learning rate reduction is conditioned on metric `val_acc` which is not available. Available metrics are: loss,accuracy,val_loss,val_accuracy,lr\n"
          ]
        },
        {
          "output_type": "stream",
          "name": "stdout",
          "text": [
            "\b\b\b\b\b\b\b\b\b\b\b\b\b\b\b\b\b\b\b\b\b\b\b\b\b\b\b\b\b\b\b\b\b\b\b\b\b\b\b\b\b\b\b\b\b\b\b\b\b\b\b\b\b\b\b\b\b\b\b\b\b\b\b\b\b\b\b\b\b\b\b\b\b\b\b\b\b\b\b\b\b\b\r68/68 [==============================] - 1s 17ms/step - loss: 0.2193 - accuracy: 0.8971 - val_loss: 0.7116 - val_accuracy: 0.7667 - lr: 1.0000e-04\n",
            "Epoch 81/100\n",
            "68/68 [==============================] - ETA: 0s - loss: 0.2069 - accuracy: 0.9206"
          ]
        },
        {
          "output_type": "stream",
          "name": "stderr",
          "text": [
            "WARNING:tensorflow:Can save best model only with val_acc available, skipping.\n",
            "WARNING:tensorflow:Learning rate reduction is conditioned on metric `val_acc` which is not available. Available metrics are: loss,accuracy,val_loss,val_accuracy,lr\n"
          ]
        },
        {
          "output_type": "stream",
          "name": "stdout",
          "text": [
            "\b\b\b\b\b\b\b\b\b\b\b\b\b\b\b\b\b\b\b\b\b\b\b\b\b\b\b\b\b\b\b\b\b\b\b\b\b\b\b\b\b\b\b\b\b\b\b\b\b\b\b\b\b\b\b\b\b\b\b\b\b\b\b\b\b\b\b\b\b\b\b\b\b\b\b\b\b\b\b\b\b\b\r68/68 [==============================] - 1s 17ms/step - loss: 0.2069 - accuracy: 0.9206 - val_loss: 0.5237 - val_accuracy: 0.7750 - lr: 1.0000e-04\n",
            "Epoch 82/100\n",
            "68/68 [==============================] - ETA: 0s - loss: 0.1643 - accuracy: 0.9221"
          ]
        },
        {
          "output_type": "stream",
          "name": "stderr",
          "text": [
            "WARNING:tensorflow:Can save best model only with val_acc available, skipping.\n",
            "WARNING:tensorflow:Learning rate reduction is conditioned on metric `val_acc` which is not available. Available metrics are: loss,accuracy,val_loss,val_accuracy,lr\n"
          ]
        },
        {
          "output_type": "stream",
          "name": "stdout",
          "text": [
            "\b\b\b\b\b\b\b\b\b\b\b\b\b\b\b\b\b\b\b\b\b\b\b\b\b\b\b\b\b\b\b\b\b\b\b\b\b\b\b\b\b\b\b\b\b\b\b\b\b\b\b\b\b\b\b\b\b\b\b\b\b\b\b\b\b\b\b\b\b\b\b\b\b\b\b\b\b\b\b\b\b\b\r68/68 [==============================] - 1s 17ms/step - loss: 0.1643 - accuracy: 0.9221 - val_loss: 0.4836 - val_accuracy: 0.7750 - lr: 1.0000e-04\n",
            "Epoch 83/100\n",
            "65/68 [===========================>..] - ETA: 0s - loss: 0.2083 - accuracy: 0.9046"
          ]
        },
        {
          "output_type": "stream",
          "name": "stderr",
          "text": [
            "WARNING:tensorflow:Can save best model only with val_acc available, skipping.\n",
            "WARNING:tensorflow:Learning rate reduction is conditioned on metric `val_acc` which is not available. Available metrics are: loss,accuracy,val_loss,val_accuracy,lr\n"
          ]
        },
        {
          "output_type": "stream",
          "name": "stdout",
          "text": [
            "\b\b\b\b\b\b\b\b\b\b\b\b\b\b\b\b\b\b\b\b\b\b\b\b\b\b\b\b\b\b\b\b\b\b\b\b\b\b\b\b\b\b\b\b\b\b\b\b\b\b\b\b\b\b\b\b\b\b\b\b\b\b\b\b\b\b\b\b\b\b\b\b\b\b\b\b\b\b\b\b\b\b\r68/68 [==============================] - 1s 18ms/step - loss: 0.2109 - accuracy: 0.9015 - val_loss: 0.6374 - val_accuracy: 0.8000 - lr: 1.0000e-04\n",
            "Epoch 84/100\n",
            "67/68 [============================>.] - ETA: 0s - loss: 0.1976 - accuracy: 0.9149"
          ]
        },
        {
          "output_type": "stream",
          "name": "stderr",
          "text": [
            "WARNING:tensorflow:Can save best model only with val_acc available, skipping.\n",
            "WARNING:tensorflow:Learning rate reduction is conditioned on metric `val_acc` which is not available. Available metrics are: loss,accuracy,val_loss,val_accuracy,lr\n"
          ]
        },
        {
          "output_type": "stream",
          "name": "stdout",
          "text": [
            "\b\b\b\b\b\b\b\b\b\b\b\b\b\b\b\b\b\b\b\b\b\b\b\b\b\b\b\b\b\b\b\b\b\b\b\b\b\b\b\b\b\b\b\b\b\b\b\b\b\b\b\b\b\b\b\b\b\b\b\b\b\b\b\b\b\b\b\b\b\b\b\b\b\b\b\b\b\b\b\b\b\b\r68/68 [==============================] - 1s 17ms/step - loss: 0.1977 - accuracy: 0.9147 - val_loss: 0.5207 - val_accuracy: 0.7833 - lr: 1.0000e-04\n",
            "Epoch 85/100\n",
            "68/68 [==============================] - ETA: 0s - loss: 0.1635 - accuracy: 0.9338"
          ]
        },
        {
          "output_type": "stream",
          "name": "stderr",
          "text": [
            "WARNING:tensorflow:Can save best model only with val_acc available, skipping.\n",
            "WARNING:tensorflow:Learning rate reduction is conditioned on metric `val_acc` which is not available. Available metrics are: loss,accuracy,val_loss,val_accuracy,lr\n"
          ]
        },
        {
          "output_type": "stream",
          "name": "stdout",
          "text": [
            "\b\b\b\b\b\b\b\b\b\b\b\b\b\b\b\b\b\b\b\b\b\b\b\b\b\b\b\b\b\b\b\b\b\b\b\b\b\b\b\b\b\b\b\b\b\b\b\b\b\b\b\b\b\b\b\b\b\b\b\b\b\b\b\b\b\b\b\b\b\b\b\b\b\b\b\b\b\b\b\b\b\b\r68/68 [==============================] - 1s 17ms/step - loss: 0.1635 - accuracy: 0.9338 - val_loss: 0.5631 - val_accuracy: 0.7917 - lr: 1.0000e-04\n",
            "Epoch 86/100\n",
            "66/68 [============================>.] - ETA: 0s - loss: 0.1774 - accuracy: 0.9167"
          ]
        },
        {
          "output_type": "stream",
          "name": "stderr",
          "text": [
            "WARNING:tensorflow:Can save best model only with val_acc available, skipping.\n",
            "WARNING:tensorflow:Learning rate reduction is conditioned on metric `val_acc` which is not available. Available metrics are: loss,accuracy,val_loss,val_accuracy,lr\n"
          ]
        },
        {
          "output_type": "stream",
          "name": "stdout",
          "text": [
            "\b\b\b\b\b\b\b\b\b\b\b\b\b\b\b\b\b\b\b\b\b\b\b\b\b\b\b\b\b\b\b\b\b\b\b\b\b\b\b\b\b\b\b\b\b\b\b\b\b\b\b\b\b\b\b\b\b\b\b\b\b\b\b\b\b\b\b\b\b\b\b\b\b\b\b\b\b\b\b\b\b\b\r68/68 [==============================] - 1s 17ms/step - loss: 0.1783 - accuracy: 0.9162 - val_loss: 0.6251 - val_accuracy: 0.8000 - lr: 1.0000e-04\n",
            "Epoch 87/100\n",
            "67/68 [============================>.] - ETA: 0s - loss: 0.1853 - accuracy: 0.9269"
          ]
        },
        {
          "output_type": "stream",
          "name": "stderr",
          "text": [
            "WARNING:tensorflow:Can save best model only with val_acc available, skipping.\n",
            "WARNING:tensorflow:Learning rate reduction is conditioned on metric `val_acc` which is not available. Available metrics are: loss,accuracy,val_loss,val_accuracy,lr\n"
          ]
        },
        {
          "output_type": "stream",
          "name": "stdout",
          "text": [
            "\b\b\b\b\b\b\b\b\b\b\b\b\b\b\b\b\b\b\b\b\b\b\b\b\b\b\b\b\b\b\b\b\b\b\b\b\b\b\b\b\b\b\b\b\b\b\b\b\b\b\b\b\b\b\b\b\b\b\b\b\b\b\b\b\b\b\b\b\b\b\b\b\b\b\b\b\b\b\b\b\b\b\r68/68 [==============================] - 1s 17ms/step - loss: 0.1913 - accuracy: 0.9235 - val_loss: 0.5879 - val_accuracy: 0.7750 - lr: 1.0000e-04\n",
            "Epoch 88/100\n",
            "67/68 [============================>.] - ETA: 0s - loss: 0.1817 - accuracy: 0.9328"
          ]
        },
        {
          "output_type": "stream",
          "name": "stderr",
          "text": [
            "WARNING:tensorflow:Can save best model only with val_acc available, skipping.\n",
            "WARNING:tensorflow:Learning rate reduction is conditioned on metric `val_acc` which is not available. Available metrics are: loss,accuracy,val_loss,val_accuracy,lr\n"
          ]
        },
        {
          "output_type": "stream",
          "name": "stdout",
          "text": [
            "\b\b\b\b\b\b\b\b\b\b\b\b\b\b\b\b\b\b\b\b\b\b\b\b\b\b\b\b\b\b\b\b\b\b\b\b\b\b\b\b\b\b\b\b\b\b\b\b\b\b\b\b\b\b\b\b\b\b\b\b\b\b\b\b\b\b\b\b\b\b\b\b\b\b\b\b\b\b\b\b\b\b\r68/68 [==============================] - 1s 17ms/step - loss: 0.1798 - accuracy: 0.9338 - val_loss: 0.5807 - val_accuracy: 0.7750 - lr: 1.0000e-04\n",
            "Epoch 89/100\n",
            "68/68 [==============================] - ETA: 0s - loss: 0.1878 - accuracy: 0.9250"
          ]
        },
        {
          "output_type": "stream",
          "name": "stderr",
          "text": [
            "WARNING:tensorflow:Can save best model only with val_acc available, skipping.\n",
            "WARNING:tensorflow:Learning rate reduction is conditioned on metric `val_acc` which is not available. Available metrics are: loss,accuracy,val_loss,val_accuracy,lr\n"
          ]
        },
        {
          "output_type": "stream",
          "name": "stdout",
          "text": [
            "\b\b\b\b\b\b\b\b\b\b\b\b\b\b\b\b\b\b\b\b\b\b\b\b\b\b\b\b\b\b\b\b\b\b\b\b\b\b\b\b\b\b\b\b\b\b\b\b\b\b\b\b\b\b\b\b\b\b\b\b\b\b\b\b\b\b\b\b\b\b\b\b\b\b\b\b\b\b\b\b\b\b\r68/68 [==============================] - 1s 17ms/step - loss: 0.1878 - accuracy: 0.9250 - val_loss: 0.6010 - val_accuracy: 0.7750 - lr: 1.0000e-04\n",
            "Epoch 90/100\n",
            "67/68 [============================>.] - ETA: 0s - loss: 0.1667 - accuracy: 0.9328"
          ]
        },
        {
          "output_type": "stream",
          "name": "stderr",
          "text": [
            "WARNING:tensorflow:Can save best model only with val_acc available, skipping.\n",
            "WARNING:tensorflow:Learning rate reduction is conditioned on metric `val_acc` which is not available. Available metrics are: loss,accuracy,val_loss,val_accuracy,lr\n"
          ]
        },
        {
          "output_type": "stream",
          "name": "stdout",
          "text": [
            "\b\b\b\b\b\b\b\b\b\b\b\b\b\b\b\b\b\b\b\b\b\b\b\b\b\b\b\b\b\b\b\b\b\b\b\b\b\b\b\b\b\b\b\b\b\b\b\b\b\b\b\b\b\b\b\b\b\b\b\b\b\b\b\b\b\b\b\b\b\b\b\b\b\b\b\b\b\b\b\b\b\b\r68/68 [==============================] - 1s 17ms/step - loss: 0.1689 - accuracy: 0.9324 - val_loss: 0.6107 - val_accuracy: 0.8083 - lr: 1.0000e-04\n",
            "Epoch 91/100\n",
            "68/68 [==============================] - ETA: 0s - loss: 0.1569 - accuracy: 0.9265"
          ]
        },
        {
          "output_type": "stream",
          "name": "stderr",
          "text": [
            "WARNING:tensorflow:Can save best model only with val_acc available, skipping.\n",
            "WARNING:tensorflow:Learning rate reduction is conditioned on metric `val_acc` which is not available. Available metrics are: loss,accuracy,val_loss,val_accuracy,lr\n"
          ]
        },
        {
          "output_type": "stream",
          "name": "stdout",
          "text": [
            "\b\b\b\b\b\b\b\b\b\b\b\b\b\b\b\b\b\b\b\b\b\b\b\b\b\b\b\b\b\b\b\b\b\b\b\b\b\b\b\b\b\b\b\b\b\b\b\b\b\b\b\b\b\b\b\b\b\b\b\b\b\b\b\b\b\b\b\b\b\b\b\b\b\b\b\b\b\b\b\b\b\b\r68/68 [==============================] - 1s 17ms/step - loss: 0.1569 - accuracy: 0.9265 - val_loss: 0.5208 - val_accuracy: 0.7667 - lr: 1.0000e-04\n",
            "Epoch 92/100\n",
            "68/68 [==============================] - ETA: 0s - loss: 0.1513 - accuracy: 0.9382"
          ]
        },
        {
          "output_type": "stream",
          "name": "stderr",
          "text": [
            "WARNING:tensorflow:Can save best model only with val_acc available, skipping.\n",
            "WARNING:tensorflow:Learning rate reduction is conditioned on metric `val_acc` which is not available. Available metrics are: loss,accuracy,val_loss,val_accuracy,lr\n"
          ]
        },
        {
          "output_type": "stream",
          "name": "stdout",
          "text": [
            "\b\b\b\b\b\b\b\b\b\b\b\b\b\b\b\b\b\b\b\b\b\b\b\b\b\b\b\b\b\b\b\b\b\b\b\b\b\b\b\b\b\b\b\b\b\b\b\b\b\b\b\b\b\b\b\b\b\b\b\b\b\b\b\b\b\b\b\b\b\b\b\b\b\b\b\b\b\b\b\b\b\b\r68/68 [==============================] - 1s 17ms/step - loss: 0.1513 - accuracy: 0.9382 - val_loss: 0.5421 - val_accuracy: 0.7667 - lr: 1.0000e-04\n",
            "Epoch 93/100\n",
            "68/68 [==============================] - ETA: 0s - loss: 0.1829 - accuracy: 0.9206"
          ]
        },
        {
          "output_type": "stream",
          "name": "stderr",
          "text": [
            "WARNING:tensorflow:Can save best model only with val_acc available, skipping.\n",
            "WARNING:tensorflow:Learning rate reduction is conditioned on metric `val_acc` which is not available. Available metrics are: loss,accuracy,val_loss,val_accuracy,lr\n"
          ]
        },
        {
          "output_type": "stream",
          "name": "stdout",
          "text": [
            "\b\b\b\b\b\b\b\b\b\b\b\b\b\b\b\b\b\b\b\b\b\b\b\b\b\b\b\b\b\b\b\b\b\b\b\b\b\b\b\b\b\b\b\b\b\b\b\b\b\b\b\b\b\b\b\b\b\b\b\b\b\b\b\b\b\b\b\b\b\b\b\b\b\b\b\b\b\b\b\b\b\b\r68/68 [==============================] - 1s 17ms/step - loss: 0.1829 - accuracy: 0.9206 - val_loss: 0.5356 - val_accuracy: 0.7667 - lr: 1.0000e-04\n",
            "Epoch 94/100\n",
            "68/68 [==============================] - ETA: 0s - loss: 0.2089 - accuracy: 0.8956"
          ]
        },
        {
          "output_type": "stream",
          "name": "stderr",
          "text": [
            "WARNING:tensorflow:Can save best model only with val_acc available, skipping.\n",
            "WARNING:tensorflow:Learning rate reduction is conditioned on metric `val_acc` which is not available. Available metrics are: loss,accuracy,val_loss,val_accuracy,lr\n"
          ]
        },
        {
          "output_type": "stream",
          "name": "stdout",
          "text": [
            "\b\b\b\b\b\b\b\b\b\b\b\b\b\b\b\b\b\b\b\b\b\b\b\b\b\b\b\b\b\b\b\b\b\b\b\b\b\b\b\b\b\b\b\b\b\b\b\b\b\b\b\b\b\b\b\b\b\b\b\b\b\b\b\b\b\b\b\b\b\b\b\b\b\b\b\b\b\b\b\b\b\b\r68/68 [==============================] - 1s 17ms/step - loss: 0.2089 - accuracy: 0.8956 - val_loss: 0.6743 - val_accuracy: 0.7583 - lr: 1.0000e-04\n",
            "Epoch 95/100\n",
            "67/68 [============================>.] - ETA: 0s - loss: 0.1740 - accuracy: 0.9149"
          ]
        },
        {
          "output_type": "stream",
          "name": "stderr",
          "text": [
            "WARNING:tensorflow:Can save best model only with val_acc available, skipping.\n",
            "WARNING:tensorflow:Learning rate reduction is conditioned on metric `val_acc` which is not available. Available metrics are: loss,accuracy,val_loss,val_accuracy,lr\n"
          ]
        },
        {
          "output_type": "stream",
          "name": "stdout",
          "text": [
            "\b\b\b\b\b\b\b\b\b\b\b\b\b\b\b\b\b\b\b\b\b\b\b\b\b\b\b\b\b\b\b\b\b\b\b\b\b\b\b\b\b\b\b\b\b\b\b\b\b\b\b\b\b\b\b\b\b\b\b\b\b\b\b\b\b\b\b\b\b\b\b\b\b\b\b\b\b\b\b\b\b\b\r68/68 [==============================] - 1s 17ms/step - loss: 0.1735 - accuracy: 0.9147 - val_loss: 0.7081 - val_accuracy: 0.7750 - lr: 1.0000e-04\n",
            "Epoch 96/100\n",
            "67/68 [============================>.] - ETA: 0s - loss: 0.1673 - accuracy: 0.9299"
          ]
        },
        {
          "output_type": "stream",
          "name": "stderr",
          "text": [
            "WARNING:tensorflow:Can save best model only with val_acc available, skipping.\n",
            "WARNING:tensorflow:Learning rate reduction is conditioned on metric `val_acc` which is not available. Available metrics are: loss,accuracy,val_loss,val_accuracy,lr\n"
          ]
        },
        {
          "output_type": "stream",
          "name": "stdout",
          "text": [
            "\b\b\b\b\b\b\b\b\b\b\b\b\b\b\b\b\b\b\b\b\b\b\b\b\b\b\b\b\b\b\b\b\b\b\b\b\b\b\b\b\b\b\b\b\b\b\b\b\b\b\b\b\b\b\b\b\b\b\b\b\b\b\b\b\b\b\b\b\b\b\b\b\b\b\b\b\b\b\b\b\b\b\r68/68 [==============================] - 1s 17ms/step - loss: 0.1663 - accuracy: 0.9309 - val_loss: 0.5872 - val_accuracy: 0.8000 - lr: 1.0000e-04\n",
            "Epoch 97/100\n",
            "68/68 [==============================] - ETA: 0s - loss: 0.1691 - accuracy: 0.9338"
          ]
        },
        {
          "output_type": "stream",
          "name": "stderr",
          "text": [
            "WARNING:tensorflow:Can save best model only with val_acc available, skipping.\n",
            "WARNING:tensorflow:Learning rate reduction is conditioned on metric `val_acc` which is not available. Available metrics are: loss,accuracy,val_loss,val_accuracy,lr\n"
          ]
        },
        {
          "output_type": "stream",
          "name": "stdout",
          "text": [
            "\b\b\b\b\b\b\b\b\b\b\b\b\b\b\b\b\b\b\b\b\b\b\b\b\b\b\b\b\b\b\b\b\b\b\b\b\b\b\b\b\b\b\b\b\b\b\b\b\b\b\b\b\b\b\b\b\b\b\b\b\b\b\b\b\b\b\b\b\b\b\b\b\b\b\b\b\b\b\b\b\b\b\r68/68 [==============================] - 1s 17ms/step - loss: 0.1691 - accuracy: 0.9338 - val_loss: 0.5255 - val_accuracy: 0.8250 - lr: 1.0000e-04\n",
            "Epoch 98/100\n",
            "67/68 [============================>.] - ETA: 0s - loss: 0.1720 - accuracy: 0.9328"
          ]
        },
        {
          "output_type": "stream",
          "name": "stderr",
          "text": [
            "WARNING:tensorflow:Can save best model only with val_acc available, skipping.\n",
            "WARNING:tensorflow:Learning rate reduction is conditioned on metric `val_acc` which is not available. Available metrics are: loss,accuracy,val_loss,val_accuracy,lr\n"
          ]
        },
        {
          "output_type": "stream",
          "name": "stdout",
          "text": [
            "\b\b\b\b\b\b\b\b\b\b\b\b\b\b\b\b\b\b\b\b\b\b\b\b\b\b\b\b\b\b\b\b\b\b\b\b\b\b\b\b\b\b\b\b\b\b\b\b\b\b\b\b\b\b\b\b\b\b\b\b\b\b\b\b\b\b\b\b\b\b\b\b\b\b\b\b\b\b\b\b\b\b\r68/68 [==============================] - 1s 17ms/step - loss: 0.1732 - accuracy: 0.9324 - val_loss: 0.5256 - val_accuracy: 0.7833 - lr: 1.0000e-04\n",
            "Epoch 99/100\n",
            "68/68 [==============================] - ETA: 0s - loss: 0.1541 - accuracy: 0.9382"
          ]
        },
        {
          "output_type": "stream",
          "name": "stderr",
          "text": [
            "WARNING:tensorflow:Can save best model only with val_acc available, skipping.\n",
            "WARNING:tensorflow:Learning rate reduction is conditioned on metric `val_acc` which is not available. Available metrics are: loss,accuracy,val_loss,val_accuracy,lr\n"
          ]
        },
        {
          "output_type": "stream",
          "name": "stdout",
          "text": [
            "\b\b\b\b\b\b\b\b\b\b\b\b\b\b\b\b\b\b\b\b\b\b\b\b\b\b\b\b\b\b\b\b\b\b\b\b\b\b\b\b\b\b\b\b\b\b\b\b\b\b\b\b\b\b\b\b\b\b\b\b\b\b\b\b\b\b\b\b\b\b\b\b\b\b\b\b\b\b\b\b\b\b\r68/68 [==============================] - 1s 17ms/step - loss: 0.1541 - accuracy: 0.9382 - val_loss: 0.8252 - val_accuracy: 0.7750 - lr: 1.0000e-04\n",
            "Epoch 100/100\n",
            "66/68 [============================>.] - ETA: 0s - loss: 0.1862 - accuracy: 0.9242"
          ]
        },
        {
          "output_type": "stream",
          "name": "stderr",
          "text": [
            "WARNING:tensorflow:Can save best model only with val_acc available, skipping.\n",
            "WARNING:tensorflow:Learning rate reduction is conditioned on metric `val_acc` which is not available. Available metrics are: loss,accuracy,val_loss,val_accuracy,lr\n"
          ]
        },
        {
          "output_type": "stream",
          "name": "stdout",
          "text": [
            "\b\b\b\b\b\b\b\b\b\b\b\b\b\b\b\b\b\b\b\b\b\b\b\b\b\b\b\b\b\b\b\b\b\b\b\b\b\b\b\b\b\b\b\b\b\b\b\b\b\b\b\b\b\b\b\b\b\b\b\b\b\b\b\b\b\b\b\b\b\b\b\b\b\b\b\b\b\b\b\b\b\b\r68/68 [==============================] - 1s 17ms/step - loss: 0.1870 - accuracy: 0.9235 - val_loss: 0.6431 - val_accuracy: 0.8000 - lr: 1.0000e-04\n"
          ]
        }
      ]
    },
    {
      "cell_type": "markdown",
      "source": [],
      "metadata": {
        "id": "MnOTxxznA08N"
      }
    },
    {
      "cell_type": "code",
      "source": [
        "model.save(\"/content/drive/MyDrive/viit_hackathon/model_TB2\")"
      ],
      "metadata": {
        "id": "BeKMza9d_3Di"
      },
      "execution_count": 64,
      "outputs": []
    },
    {
      "cell_type": "code",
      "source": [
        "/content/drive/MyDrive/viit_hackathon/model_TB2"
      ],
      "metadata": {
        "id": "Ni2Rkr4aDNBr"
      },
      "execution_count": null,
      "outputs": []
    }
  ]
}